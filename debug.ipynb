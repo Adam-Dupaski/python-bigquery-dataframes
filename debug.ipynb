{
 "cells": [
  {
   "cell_type": "code",
   "execution_count": null,
   "metadata": {},
   "outputs": [
    {
     "ename": "",
     "evalue": "",
     "output_type": "error",
     "traceback": [
      "\u001b[1;31mThe kernel failed to start as the Python Environment 'Python 3.12.1' is no longer available. Consider selecting another kernel or refreshing the list of Python Environments."
     ]
    }
   ],
   "source": [
    "%reload_ext autoreload\n",
    "%autoreload 2\n",
    "\n",
    "import bigframes.pandas as bpd\n",
    "import bigframes.bigquery as bbq\n",
    "import numpy as np\n",
    "import pyarrow as pa\n",
    "\n",
    "s = bpd.Series([\n",
    "    {\"version\": 1, \"project\": \"pandas\"},\n",
    "    {\"version\": 2, \"project\": \"pandas\"},\n",
    "    {\"version\": 1, \"project\": \"numpy\"},\n",
    "    ],\n",
    "    dtype=bpd.ArrowDtype(pa.struct(\n",
    "        [(\"version\", pa.int64()), (\"project\", pa.string())]\n",
    "    ))\n",
    ")\n",
    "s = s.struct.explode()"
   ]
  },
  {
   "cell_type": "code",
   "execution_count": null,
   "metadata": {},
   "outputs": [
    {
     "data": {
      "text/plain": [
       "js    string[pyarrow]\n",
       "dtype: object"
      ]
     },
     "execution_count": 3,
     "metadata": {},
     "output_type": "execute_result"
    }
   ],
   "source": []
  },
  {
   "cell_type": "code",
   "execution_count": 1,
   "metadata": {},
   "outputs": [],
   "source": [
    "%reload_ext autoreload\n",
    "%autoreload 2\n",
    "\n",
    "import bigframes.pandas as bpd\n",
    "\n",
    "s = bpd.Series([1, 2, 2])\n",
    "s.agg('min')"
   ]
  }
 ],
 "metadata": {
  "kernelspec": {
   "display_name": "venv",
   "language": "python",
   "name": "python3"
  },
  "language_info": {
   "codemirror_mode": {
    "name": "ipython",
    "version": 3
   },
   "file_extension": ".py",
   "mimetype": "text/x-python",
   "name": "python",
   "nbconvert_exporter": "python",
   "pygments_lexer": "ipython3",
   "version": "3.12.1"
  }
 },
 "nbformat": 4,
 "nbformat_minor": 2
}
