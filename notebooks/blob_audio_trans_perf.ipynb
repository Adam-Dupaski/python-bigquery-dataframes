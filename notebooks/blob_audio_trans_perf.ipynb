{
 "cells": [
  {
   "cell_type": "code",
   "execution_count": 7,
   "metadata": {},
   "outputs": [
    {
     "data": {
      "text/html": [
       "Query job 06e11166-d72b-4c8c-9f2f-27fcb9fe08f2 is DONE. 0 Bytes processed. <a target=\"_blank\" href=\"https://console.cloud.google.com/bigquery?project=bigframes-dev&j=bq:US:06e11166-d72b-4c8c-9f2f-27fcb9fe08f2&page=queryresults\">Open Job</a>"
      ],
      "text/plain": [
       "<IPython.core.display.HTML object>"
      ]
     },
     "metadata": {},
     "output_type": "display_data"
    },
    {
     "data": {
      "text/html": [
       "<div>\n",
       "<style scoped>\n",
       "    .dataframe tbody tr th:only-of-type {\n",
       "        vertical-align: middle;\n",
       "    }\n",
       "\n",
       "    .dataframe tbody tr th {\n",
       "        vertical-align: top;\n",
       "    }\n",
       "\n",
       "    .dataframe thead th {\n",
       "        text-align: right;\n",
       "    }\n",
       "</style>\n",
       "<table border=\"1\" class=\"dataframe\">\n",
       "  <thead>\n",
       "    <tr style=\"text-align: right;\">\n",
       "      <th></th>\n",
       "      <th>uri</th>\n",
       "    </tr>\n",
       "  </thead>\n",
       "  <tbody>\n",
       "    <tr>\n",
       "      <th>0</th>\n",
       "      <td>gs://garrettwu_bucket/wavs/LJ008-0166.wav</td>\n",
       "    </tr>\n",
       "    <tr>\n",
       "      <th>1</th>\n",
       "      <td>gs://garrettwu_bucket/wavs/LJ045-0135.wav</td>\n",
       "    </tr>\n",
       "  </tbody>\n",
       "</table>\n",
       "<p>2 rows × 1 columns</p>\n",
       "</div>[2 rows x 1 columns in total]"
      ],
      "text/plain": [
       "                                         uri\n",
       "0  gs://garrettwu_bucket/wavs/LJ008-0166.wav\n",
       "1  gs://garrettwu_bucket/wavs/LJ045-0135.wav\n",
       "\n",
       "[2 rows x 1 columns]"
      ]
     },
     "execution_count": 7,
     "metadata": {},
     "output_type": "execute_result"
    }
   ],
   "source": [
    "import bigframes.pandas as bpd\n",
    "\n",
    "df = bpd.DataFrame({\"uri\": [\"gs://garrettwu_bucket/wavs/LJ008-0166.wav\", \"gs://garrettwu_bucket/wavs/LJ045-0135.wav\"]})\n",
    "df"
   ]
  },
  {
   "cell_type": "code",
   "execution_count": 3,
   "metadata": {},
   "outputs": [
    {
     "data": {
      "text/plain": [
       "[                                         uri\n",
       " 0  gs://garrettwu_bucket/wavs/LJ008-0166.wav\n",
       " 1  gs://garrettwu_bucket/wavs/LJ045-0135.wav\n",
       " \n",
       " [2 rows x 1 columns],\n",
       "                                          uri\n",
       " 0  gs://garrettwu_bucket/wavs/LJ008-0166.wav\n",
       " 1  gs://garrettwu_bucket/wavs/LJ045-0135.wav\n",
       " \n",
       " [2 rows x 1 columns],\n",
       "                                          uri\n",
       " 0  gs://garrettwu_bucket/wavs/LJ008-0166.wav\n",
       " 1  gs://garrettwu_bucket/wavs/LJ045-0135.wav\n",
       " \n",
       " [2 rows x 1 columns],\n",
       "                                          uri\n",
       " 0  gs://garrettwu_bucket/wavs/LJ008-0166.wav\n",
       " 1  gs://garrettwu_bucket/wavs/LJ045-0135.wav\n",
       " \n",
       " [2 rows x 1 columns]]"
      ]
     },
     "execution_count": 3,
     "metadata": {},
     "output_type": "execute_result"
    }
   ],
   "source": [
    "[df] * 4"
   ]
  },
  {
   "cell_type": "code",
   "execution_count": 8,
   "metadata": {},
   "outputs": [
    {
     "data": {
      "text/html": [
       "Query job 6730e559-18eb-4833-b1d0-3b1c98ffd3a7 is DONE. 0 Bytes processed. <a target=\"_blank\" href=\"https://console.cloud.google.com/bigquery?project=bigframes-dev&j=bq:US:6730e559-18eb-4833-b1d0-3b1c98ffd3a7&page=queryresults\">Open Job</a>"
      ],
      "text/plain": [
       "<IPython.core.display.HTML object>"
      ]
     },
     "metadata": {},
     "output_type": "display_data"
    },
    {
     "data": {
      "text/html": [
       "<div>\n",
       "<style scoped>\n",
       "    .dataframe tbody tr th:only-of-type {\n",
       "        vertical-align: middle;\n",
       "    }\n",
       "\n",
       "    .dataframe tbody tr th {\n",
       "        vertical-align: top;\n",
       "    }\n",
       "\n",
       "    .dataframe thead th {\n",
       "        text-align: right;\n",
       "    }\n",
       "</style>\n",
       "<table border=\"1\" class=\"dataframe\">\n",
       "  <thead>\n",
       "    <tr style=\"text-align: right;\">\n",
       "      <th></th>\n",
       "      <th>uri</th>\n",
       "    </tr>\n",
       "  </thead>\n",
       "  <tbody>\n",
       "    <tr>\n",
       "      <th>0</th>\n",
       "      <td>gs://garrettwu_bucket/wavs/LJ008-0166.wav</td>\n",
       "    </tr>\n",
       "    <tr>\n",
       "      <th>1</th>\n",
       "      <td>gs://garrettwu_bucket/wavs/LJ045-0135.wav</td>\n",
       "    </tr>\n",
       "    <tr>\n",
       "      <th>0</th>\n",
       "      <td>gs://garrettwu_bucket/wavs/LJ008-0166.wav</td>\n",
       "    </tr>\n",
       "    <tr>\n",
       "      <th>1</th>\n",
       "      <td>gs://garrettwu_bucket/wavs/LJ045-0135.wav</td>\n",
       "    </tr>\n",
       "    <tr>\n",
       "      <th>0</th>\n",
       "      <td>gs://garrettwu_bucket/wavs/LJ008-0166.wav</td>\n",
       "    </tr>\n",
       "    <tr>\n",
       "      <th>1</th>\n",
       "      <td>gs://garrettwu_bucket/wavs/LJ045-0135.wav</td>\n",
       "    </tr>\n",
       "    <tr>\n",
       "      <th>0</th>\n",
       "      <td>gs://garrettwu_bucket/wavs/LJ008-0166.wav</td>\n",
       "    </tr>\n",
       "    <tr>\n",
       "      <th>1</th>\n",
       "      <td>gs://garrettwu_bucket/wavs/LJ045-0135.wav</td>\n",
       "    </tr>\n",
       "  </tbody>\n",
       "</table>\n",
       "<p>8 rows × 1 columns</p>\n",
       "</div>[8 rows x 1 columns in total]"
      ],
      "text/plain": [
       "                                         uri\n",
       "0  gs://garrettwu_bucket/wavs/LJ008-0166.wav\n",
       "1  gs://garrettwu_bucket/wavs/LJ045-0135.wav\n",
       "0  gs://garrettwu_bucket/wavs/LJ008-0166.wav\n",
       "1  gs://garrettwu_bucket/wavs/LJ045-0135.wav\n",
       "0  gs://garrettwu_bucket/wavs/LJ008-0166.wav\n",
       "1  gs://garrettwu_bucket/wavs/LJ045-0135.wav\n",
       "0  gs://garrettwu_bucket/wavs/LJ008-0166.wav\n",
       "1  gs://garrettwu_bucket/wavs/LJ045-0135.wav\n",
       "\n",
       "[8 rows x 1 columns]"
      ]
     },
     "execution_count": 8,
     "metadata": {},
     "output_type": "execute_result"
    }
   ],
   "source": [
    "df = bpd.concat([df] * 4)\n",
    "df"
   ]
  },
  {
   "cell_type": "code",
   "execution_count": 9,
   "metadata": {},
   "outputs": [
    {
     "data": {
      "text/html": [
       "Query job 20bb9a1e-395c-4850-87bc-547b4b47591f is DONE. 0 Bytes processed. <a target=\"_blank\" href=\"https://console.cloud.google.com/bigquery?project=bigframes-dev&j=bq:US:20bb9a1e-395c-4850-87bc-547b4b47591f&page=queryresults\">Open Job</a>"
      ],
      "text/plain": [
       "<IPython.core.display.HTML object>"
      ]
     },
     "metadata": {},
     "output_type": "display_data"
    }
   ],
   "source": [
    "df[\"text\"] = df[\"uri\"].blob.audio_transcribe()"
   ]
  },
  {
   "cell_type": "code",
   "execution_count": 10,
   "metadata": {},
   "outputs": [
    {
     "data": {
      "text/html": [
       "Query job d11be90e-87f6-4178-84ab-3a1c335687b8 is DONE. 0 Bytes processed. <a target=\"_blank\" href=\"https://console.cloud.google.com/bigquery?project=bigframes-dev&j=bq:US:d11be90e-87f6-4178-84ab-3a1c335687b8&page=queryresults\">Open Job</a>"
      ],
      "text/plain": [
       "<IPython.core.display.HTML object>"
      ]
     },
     "metadata": {},
     "output_type": "display_data"
    },
    {
     "data": {
      "text/html": [
       "<div>\n",
       "<style scoped>\n",
       "    .dataframe tbody tr th:only-of-type {\n",
       "        vertical-align: middle;\n",
       "    }\n",
       "\n",
       "    .dataframe tbody tr th {\n",
       "        vertical-align: top;\n",
       "    }\n",
       "\n",
       "    .dataframe thead th {\n",
       "        text-align: right;\n",
       "    }\n",
       "</style>\n",
       "<table border=\"1\" class=\"dataframe\">\n",
       "  <thead>\n",
       "    <tr style=\"text-align: right;\">\n",
       "      <th></th>\n",
       "      <th>uri</th>\n",
       "      <th>text</th>\n",
       "    </tr>\n",
       "  </thead>\n",
       "  <tbody>\n",
       "    <tr>\n",
       "      <th>0</th>\n",
       "      <td>gs://garrettwu_bucket/wavs/LJ008-0166.wav</td>\n",
       "      <td>The pie man stooped down to pick up his scatt...</td>\n",
       "    </tr>\n",
       "    <tr>\n",
       "      <th>1</th>\n",
       "      <td>gs://garrettwu_bucket/wavs/LJ045-0135.wav</td>\n",
       "      <td>but did not issue any such warning or suggest...</td>\n",
       "    </tr>\n",
       "    <tr>\n",
       "      <th>0</th>\n",
       "      <td>gs://garrettwu_bucket/wavs/LJ008-0166.wav</td>\n",
       "      <td>The pie man stooped down to pick up his scatt...</td>\n",
       "    </tr>\n",
       "    <tr>\n",
       "      <th>1</th>\n",
       "      <td>gs://garrettwu_bucket/wavs/LJ045-0135.wav</td>\n",
       "      <td>but did not issue any such warning or suggest...</td>\n",
       "    </tr>\n",
       "    <tr>\n",
       "      <th>0</th>\n",
       "      <td>gs://garrettwu_bucket/wavs/LJ008-0166.wav</td>\n",
       "      <td>The pie man stooped down to pick up his scatt...</td>\n",
       "    </tr>\n",
       "    <tr>\n",
       "      <th>1</th>\n",
       "      <td>gs://garrettwu_bucket/wavs/LJ045-0135.wav</td>\n",
       "      <td>but did not issue any such warning or suggest...</td>\n",
       "    </tr>\n",
       "    <tr>\n",
       "      <th>0</th>\n",
       "      <td>gs://garrettwu_bucket/wavs/LJ008-0166.wav</td>\n",
       "      <td>The pie man stooped down to pick up his scatt...</td>\n",
       "    </tr>\n",
       "    <tr>\n",
       "      <th>1</th>\n",
       "      <td>gs://garrettwu_bucket/wavs/LJ045-0135.wav</td>\n",
       "      <td>but did not issue any such warning or suggest...</td>\n",
       "    </tr>\n",
       "  </tbody>\n",
       "</table>\n",
       "<p>8 rows × 2 columns</p>\n",
       "</div>[8 rows x 2 columns in total]"
      ],
      "text/plain": [
       "                                         uri  \\\n",
       "0  gs://garrettwu_bucket/wavs/LJ008-0166.wav   \n",
       "1  gs://garrettwu_bucket/wavs/LJ045-0135.wav   \n",
       "0  gs://garrettwu_bucket/wavs/LJ008-0166.wav   \n",
       "1  gs://garrettwu_bucket/wavs/LJ045-0135.wav   \n",
       "0  gs://garrettwu_bucket/wavs/LJ008-0166.wav   \n",
       "1  gs://garrettwu_bucket/wavs/LJ045-0135.wav   \n",
       "0  gs://garrettwu_bucket/wavs/LJ008-0166.wav   \n",
       "1  gs://garrettwu_bucket/wavs/LJ045-0135.wav   \n",
       "\n",
       "                                                text  \n",
       "0   The pie man stooped down to pick up his scatt...  \n",
       "1   but did not issue any such warning or suggest...  \n",
       "0   The pie man stooped down to pick up his scatt...  \n",
       "1   but did not issue any such warning or suggest...  \n",
       "0   The pie man stooped down to pick up his scatt...  \n",
       "1   but did not issue any such warning or suggest...  \n",
       "0   The pie man stooped down to pick up his scatt...  \n",
       "1   but did not issue any such warning or suggest...  \n",
       "\n",
       "[8 rows x 2 columns]"
      ]
     },
     "execution_count": 10,
     "metadata": {},
     "output_type": "execute_result"
    }
   ],
   "source": [
    "df"
   ]
  },
  {
   "cell_type": "code",
   "execution_count": 1,
   "metadata": {},
   "outputs": [
    {
     "name": "stderr",
     "output_type": "stream",
     "text": [
      "/usr/local/google/home/garrettwu/src/bigframes/bigframes/core/global_session.py:113: DefaultLocationWarning: No explicit location is set, so using location US for the session.\n",
      "  return func(get_global_session(), *args, **kwargs)\n"
     ]
    },
    {
     "data": {
      "text/html": [
       "Query job e11c1c91-3758-496b-a1a6-6138dfea73eb is DONE. 0 Bytes processed. <a target=\"_blank\" href=\"https://console.cloud.google.com/bigquery?project=bigframes-dev&j=bq:US:e11c1c91-3758-496b-a1a6-6138dfea73eb&page=queryresults\">Open Job</a>"
      ],
      "text/plain": [
       "<IPython.core.display.HTML object>"
      ]
     },
     "metadata": {},
     "output_type": "display_data"
    },
    {
     "data": {
      "text/html": [
       "Query job b0fae0a8-75e7-4bfd-9f63-80e6c28d4c79 is DONE. 109.0 kB processed. <a target=\"_blank\" href=\"https://console.cloud.google.com/bigquery?project=bigframes-dev&j=bq:US:b0fae0a8-75e7-4bfd-9f63-80e6c28d4c79&page=queryresults\">Open Job</a>"
      ],
      "text/plain": [
       "<IPython.core.display.HTML object>"
      ]
     },
     "metadata": {},
     "output_type": "display_data"
    },
    {
     "data": {
      "text/html": [
       "Query job 74243808-b832-4366-9d09-c567154729f2 is DONE. 109.0 kB processed. <a target=\"_blank\" href=\"https://console.cloud.google.com/bigquery?project=bigframes-dev&j=bq:US:74243808-b832-4366-9d09-c567154729f2&page=queryresults\">Open Job</a>"
      ],
      "text/plain": [
       "<IPython.core.display.HTML object>"
      ]
     },
     "metadata": {},
     "output_type": "display_data"
    },
    {
     "data": {
      "text/html": [
       "Query job 9a20cf15-fba9-408b-8e7b-8bf79024a8a5 is DONE. 109.0 kB processed. <a target=\"_blank\" href=\"https://console.cloud.google.com/bigquery?project=bigframes-dev&j=bq:US:9a20cf15-fba9-408b-8e7b-8bf79024a8a5&page=queryresults\">Open Job</a>"
      ],
      "text/plain": [
       "<IPython.core.display.HTML object>"
      ]
     },
     "metadata": {},
     "output_type": "display_data"
    },
    {
     "data": {
      "text/html": [
       "<div>\n",
       "<style scoped>\n",
       "    .dataframe tbody tr th:only-of-type {\n",
       "        vertical-align: middle;\n",
       "    }\n",
       "\n",
       "    .dataframe tbody tr th {\n",
       "        vertical-align: top;\n",
       "    }\n",
       "\n",
       "    .dataframe thead th {\n",
       "        text-align: right;\n",
       "    }\n",
       "</style>\n",
       "<table border=\"1\" class=\"dataframe\">\n",
       "  <thead>\n",
       "    <tr style=\"text-align: right;\">\n",
       "      <th></th>\n",
       "      <th>uri</th>\n",
       "    </tr>\n",
       "  </thead>\n",
       "  <tbody>\n",
       "    <tr>\n",
       "      <th>0</th>\n",
       "      <td>gs://qiangh/speech2text_55s_1000row/speech-55s...</td>\n",
       "    </tr>\n",
       "    <tr>\n",
       "      <th>1</th>\n",
       "      <td>gs://qiangh/speech2text_55s_1000row/speech-55s...</td>\n",
       "    </tr>\n",
       "    <tr>\n",
       "      <th>2</th>\n",
       "      <td>gs://qiangh/speech2text_55s_1000row/speech-55s...</td>\n",
       "    </tr>\n",
       "    <tr>\n",
       "      <th>3</th>\n",
       "      <td>gs://qiangh/speech2text_55s_1000row/speech-55s...</td>\n",
       "    </tr>\n",
       "    <tr>\n",
       "      <th>4</th>\n",
       "      <td>gs://qiangh/speech2text_55s_1000row/speech-55s...</td>\n",
       "    </tr>\n",
       "    <tr>\n",
       "      <th>...</th>\n",
       "      <td>...</td>\n",
       "    </tr>\n",
       "    <tr>\n",
       "      <th>815</th>\n",
       "      <td>gs://qiangh/speech2text_55s_1000row/speech-55s...</td>\n",
       "    </tr>\n",
       "    <tr>\n",
       "      <th>816</th>\n",
       "      <td>gs://qiangh/speech2text_55s_1000row/speech-55s...</td>\n",
       "    </tr>\n",
       "    <tr>\n",
       "      <th>817</th>\n",
       "      <td>gs://qiangh/speech2text_55s_1000row/speech-55s...</td>\n",
       "    </tr>\n",
       "    <tr>\n",
       "      <th>818</th>\n",
       "      <td>gs://qiangh/speech2text_55s_1000row/speech-55s...</td>\n",
       "    </tr>\n",
       "    <tr>\n",
       "      <th>819</th>\n",
       "      <td>gs://qiangh/speech2text_55s_1000row/speech-55s...</td>\n",
       "    </tr>\n",
       "  </tbody>\n",
       "</table>\n",
       "<p>820 rows × 1 columns</p>\n",
       "</div>[0 rows x 1 columns in total]"
      ],
      "text/plain": [
       "                                                   uri\n",
       "0    gs://qiangh/speech2text_55s_1000row/speech-55s...\n",
       "1    gs://qiangh/speech2text_55s_1000row/speech-55s...\n",
       "2    gs://qiangh/speech2text_55s_1000row/speech-55s...\n",
       "3    gs://qiangh/speech2text_55s_1000row/speech-55s...\n",
       "4    gs://qiangh/speech2text_55s_1000row/speech-55s...\n",
       "..                                                 ...\n",
       "815  gs://qiangh/speech2text_55s_1000row/speech-55s...\n",
       "816  gs://qiangh/speech2text_55s_1000row/speech-55s...\n",
       "817  gs://qiangh/speech2text_55s_1000row/speech-55s...\n",
       "818  gs://qiangh/speech2text_55s_1000row/speech-55s...\n",
       "819  gs://qiangh/speech2text_55s_1000row/speech-55s...\n",
       "\n",
       "[0 rows x 1 columns]"
      ]
     },
     "execution_count": 1,
     "metadata": {},
     "output_type": "execute_result"
    }
   ],
   "source": [
    "import bigframes.pandas as bpd\n",
    "\n",
    "df1 = bpd.from_glob_path(\"gs://qiangh/speech2text_55s_1000row/*\")\n",
    "df1"
   ]
  },
  {
   "cell_type": "code",
   "execution_count": 2,
   "metadata": {},
   "outputs": [
    {
     "data": {
      "text/html": [
       "Query job 8c66325d-0a3b-4264-8295-0c6c8c786471 is DONE. 60.6 kB processed. <a target=\"_blank\" href=\"https://console.cloud.google.com/bigquery?project=bigframes-dev&j=bq:US:8c66325d-0a3b-4264-8295-0c6c8c786471&page=queryresults\">Open Job</a>"
      ],
      "text/plain": [
       "<IPython.core.display.HTML object>"
      ]
     },
     "metadata": {},
     "output_type": "display_data"
    },
    {
     "data": {
      "text/html": [
       "Query job 1f049b81-b6e4-489b-95b8-5bab668c21d0 is DONE. 818.7 kB processed. <a target=\"_blank\" href=\"https://console.cloud.google.com/bigquery?project=bigframes-dev&j=bq:US:1f049b81-b6e4-489b-95b8-5bab668c21d0&page=queryresults\">Open Job</a>"
      ],
      "text/plain": [
       "<IPython.core.display.HTML object>"
      ]
     },
     "metadata": {},
     "output_type": "display_data"
    },
    {
     "data": {
      "text/html": [
       "Query job 01e70de7-4950-40b4-84ff-386f3fb543e8 is DONE. 818.7 kB processed. <a target=\"_blank\" href=\"https://console.cloud.google.com/bigquery?project=bigframes-dev&j=bq:US:01e70de7-4950-40b4-84ff-386f3fb543e8&page=queryresults\">Open Job</a>"
      ],
      "text/plain": [
       "<IPython.core.display.HTML object>"
      ]
     },
     "metadata": {},
     "output_type": "display_data"
    },
    {
     "data": {
      "text/html": [
       "Query job d7c0175c-3e87-41ad-b1d0-bf6334bb7868 is DONE. 818.7 kB processed. <a target=\"_blank\" href=\"https://console.cloud.google.com/bigquery?project=bigframes-dev&j=bq:US:d7c0175c-3e87-41ad-b1d0-bf6334bb7868&page=queryresults\">Open Job</a>"
      ],
      "text/plain": [
       "<IPython.core.display.HTML object>"
      ]
     },
     "metadata": {},
     "output_type": "display_data"
    },
    {
     "data": {
      "text/html": [
       "<div>\n",
       "<style scoped>\n",
       "    .dataframe tbody tr th:only-of-type {\n",
       "        vertical-align: middle;\n",
       "    }\n",
       "\n",
       "    .dataframe tbody tr th {\n",
       "        vertical-align: top;\n",
       "    }\n",
       "\n",
       "    .dataframe thead th {\n",
       "        text-align: right;\n",
       "    }\n",
       "</style>\n",
       "<table border=\"1\" class=\"dataframe\">\n",
       "  <thead>\n",
       "    <tr style=\"text-align: right;\">\n",
       "      <th></th>\n",
       "      <th>uri</th>\n",
       "    </tr>\n",
       "  </thead>\n",
       "  <tbody>\n",
       "    <tr>\n",
       "      <th>0</th>\n",
       "      <td>gs://qiangh/speech2text_55s_1000row/speech-55s...</td>\n",
       "    </tr>\n",
       "    <tr>\n",
       "      <th>1</th>\n",
       "      <td>gs://qiangh/speech2text_55s_1000row/speech-55s...</td>\n",
       "    </tr>\n",
       "    <tr>\n",
       "      <th>2</th>\n",
       "      <td>gs://qiangh/speech2text_55s_1000row/speech-55s...</td>\n",
       "    </tr>\n",
       "    <tr>\n",
       "      <th>3</th>\n",
       "      <td>gs://qiangh/speech2text_55s_1000row/speech-55s...</td>\n",
       "    </tr>\n",
       "    <tr>\n",
       "      <th>4</th>\n",
       "      <td>gs://qiangh/speech2text_55s_1000row/speech-55s...</td>\n",
       "    </tr>\n",
       "    <tr>\n",
       "      <th>...</th>\n",
       "      <td>...</td>\n",
       "    </tr>\n",
       "    <tr>\n",
       "      <th>155</th>\n",
       "      <td>gs://qiangh/speech2text_55s_1000row/speech-55s...</td>\n",
       "    </tr>\n",
       "    <tr>\n",
       "      <th>156</th>\n",
       "      <td>gs://qiangh/speech2text_55s_1000row/speech-55s...</td>\n",
       "    </tr>\n",
       "    <tr>\n",
       "      <th>157</th>\n",
       "      <td>gs://qiangh/speech2text_55s_1000row/speech-55s...</td>\n",
       "    </tr>\n",
       "    <tr>\n",
       "      <th>158</th>\n",
       "      <td>gs://qiangh/speech2text_55s_1000row/speech-55s...</td>\n",
       "    </tr>\n",
       "    <tr>\n",
       "      <th>159</th>\n",
       "      <td>gs://qiangh/speech2text_55s_1000row/speech-55s...</td>\n",
       "    </tr>\n",
       "  </tbody>\n",
       "</table>\n",
       "<p>10000 rows × 1 columns</p>\n",
       "</div>[10000 rows x 1 columns in total]"
      ],
      "text/plain": [
       "                                                   uri\n",
       "0    gs://qiangh/speech2text_55s_1000row/speech-55s...\n",
       "1    gs://qiangh/speech2text_55s_1000row/speech-55s...\n",
       "2    gs://qiangh/speech2text_55s_1000row/speech-55s...\n",
       "3    gs://qiangh/speech2text_55s_1000row/speech-55s...\n",
       "4    gs://qiangh/speech2text_55s_1000row/speech-55s...\n",
       "..                                                 ...\n",
       "155  gs://qiangh/speech2text_55s_1000row/speech-55s...\n",
       "156  gs://qiangh/speech2text_55s_1000row/speech-55s...\n",
       "157  gs://qiangh/speech2text_55s_1000row/speech-55s...\n",
       "158  gs://qiangh/speech2text_55s_1000row/speech-55s...\n",
       "159  gs://qiangh/speech2text_55s_1000row/speech-55s...\n",
       "...\n",
       "\n",
       "[10000 rows x 1 columns]"
      ]
     },
     "execution_count": 2,
     "metadata": {},
     "output_type": "execute_result"
    }
   ],
   "source": [
    "df1 = bpd.concat([df1] * 13).head(10000)\n",
    "df1.cache()"
   ]
  },
  {
   "cell_type": "code",
   "execution_count": 3,
   "metadata": {},
   "outputs": [
    {
     "data": {
      "text/html": [
       "Query job 11a643c6-0706-4798-96e1-af47191abe68 is DONE. 0 Bytes processed. <a target=\"_blank\" href=\"https://console.cloud.google.com/bigquery?project=bigframes-dev&j=bq:US:11a643c6-0706-4798-96e1-af47191abe68&page=queryresults\">Open Job</a>"
      ],
      "text/plain": [
       "<IPython.core.display.HTML object>"
      ]
     },
     "metadata": {},
     "output_type": "display_data"
    }
   ],
   "source": [
    "df1[\"text\"] = df1[\"uri\"].blob.audio_transcribe()"
   ]
  },
  {
   "cell_type": "code",
   "execution_count": 4,
   "metadata": {},
   "outputs": [
    {
     "data": {
      "text/html": [
       "Query job e7ceb4da-772b-4cdd-80a4-4e2c24ea73e5 is RUNNING. <a target=\"_blank\" href=\"https://console.cloud.google.com/bigquery?project=bigframes-dev&j=bq:US:e7ceb4da-772b-4cdd-80a4-4e2c24ea73e5&page=queryresults\">Open Job</a>"
      ],
      "text/plain": [
       "<IPython.core.display.HTML object>"
      ]
     },
     "metadata": {},
     "output_type": "display_data"
    },
    {
     "data": {
      "text/html": [
       "Query job 3d347a4b-1c0f-4a53-9a16-f0034ca40949 is DONE. 818.7 kB processed. <a target=\"_blank\" href=\"https://console.cloud.google.com/bigquery?project=bigframes-dev&j=bq:US:3d347a4b-1c0f-4a53-9a16-f0034ca40949&page=queryresults\">Open Job</a>"
      ],
      "text/plain": [
       "<IPython.core.display.HTML object>"
      ]
     },
     "metadata": {},
     "output_type": "display_data"
    },
    {
     "data": {
      "text/html": [
       "<div>\n",
       "<style scoped>\n",
       "    .dataframe tbody tr th:only-of-type {\n",
       "        vertical-align: middle;\n",
       "    }\n",
       "\n",
       "    .dataframe tbody tr th {\n",
       "        vertical-align: top;\n",
       "    }\n",
       "\n",
       "    .dataframe thead th {\n",
       "        text-align: right;\n",
       "    }\n",
       "</style>\n",
       "<table border=\"1\" class=\"dataframe\">\n",
       "  <thead>\n",
       "    <tr style=\"text-align: right;\">\n",
       "      <th></th>\n",
       "      <th>uri</th>\n",
       "      <th>text</th>\n",
       "    </tr>\n",
       "  </thead>\n",
       "  <tbody>\n",
       "    <tr>\n",
       "      <th>0</th>\n",
       "      <td>gs://qiangh/speech2text_55s_1000row/speech-55s...</td>\n",
       "      <td>Okay Google, stream stranger things from Netf...</td>\n",
       "    </tr>\n",
       "    <tr>\n",
       "      <th>1</th>\n",
       "      <td>gs://qiangh/speech2text_55s_1000row/speech-55s...</td>\n",
       "      <td>Okay Google, stream stranger things from Netf...</td>\n",
       "    </tr>\n",
       "    <tr>\n",
       "      <th>2</th>\n",
       "      <td>gs://qiangh/speech2text_55s_1000row/speech-55s...</td>\n",
       "      <td>Okay Google, stream stranger things from Netf...</td>\n",
       "    </tr>\n",
       "    <tr>\n",
       "      <th>3</th>\n",
       "      <td>gs://qiangh/speech2text_55s_1000row/speech-55s...</td>\n",
       "      <td>Okay Google, stream stranger things from Netf...</td>\n",
       "    </tr>\n",
       "    <tr>\n",
       "      <th>4</th>\n",
       "      <td>gs://qiangh/speech2text_55s_1000row/speech-55s...</td>\n",
       "      <td>Okay Google, stream stranger things from Netf...</td>\n",
       "    </tr>\n",
       "    <tr>\n",
       "      <th>...</th>\n",
       "      <td>...</td>\n",
       "      <td>...</td>\n",
       "    </tr>\n",
       "    <tr>\n",
       "      <th>155</th>\n",
       "      <td>gs://qiangh/speech2text_55s_1000row/speech-55s...</td>\n",
       "      <td>Okay Google, stream stranger things from Netf...</td>\n",
       "    </tr>\n",
       "    <tr>\n",
       "      <th>156</th>\n",
       "      <td>gs://qiangh/speech2text_55s_1000row/speech-55s...</td>\n",
       "      <td>Okay Google, stream stranger things from Netf...</td>\n",
       "    </tr>\n",
       "    <tr>\n",
       "      <th>157</th>\n",
       "      <td>gs://qiangh/speech2text_55s_1000row/speech-55s...</td>\n",
       "      <td>Okay Google, stream stranger things from Netf...</td>\n",
       "    </tr>\n",
       "    <tr>\n",
       "      <th>158</th>\n",
       "      <td>gs://qiangh/speech2text_55s_1000row/speech-55s...</td>\n",
       "      <td>Okay Google, stream stranger things from Netf...</td>\n",
       "    </tr>\n",
       "    <tr>\n",
       "      <th>159</th>\n",
       "      <td>gs://qiangh/speech2text_55s_1000row/speech-55s...</td>\n",
       "      <td>Okay Google, stream stranger things from Netf...</td>\n",
       "    </tr>\n",
       "  </tbody>\n",
       "</table>\n",
       "<p>10000 rows × 2 columns</p>\n",
       "</div>[10000 rows x 2 columns in total]"
      ],
      "text/plain": [
       "                                                   uri  \\\n",
       "0    gs://qiangh/speech2text_55s_1000row/speech-55s...   \n",
       "1    gs://qiangh/speech2text_55s_1000row/speech-55s...   \n",
       "2    gs://qiangh/speech2text_55s_1000row/speech-55s...   \n",
       "3    gs://qiangh/speech2text_55s_1000row/speech-55s...   \n",
       "4    gs://qiangh/speech2text_55s_1000row/speech-55s...   \n",
       "..                                                 ...   \n",
       "155  gs://qiangh/speech2text_55s_1000row/speech-55s...   \n",
       "156  gs://qiangh/speech2text_55s_1000row/speech-55s...   \n",
       "157  gs://qiangh/speech2text_55s_1000row/speech-55s...   \n",
       "158  gs://qiangh/speech2text_55s_1000row/speech-55s...   \n",
       "159  gs://qiangh/speech2text_55s_1000row/speech-55s...   \n",
       "\n",
       "                                                  text  \n",
       "0     Okay Google, stream stranger things from Netf...  \n",
       "1     Okay Google, stream stranger things from Netf...  \n",
       "2     Okay Google, stream stranger things from Netf...  \n",
       "3     Okay Google, stream stranger things from Netf...  \n",
       "4     Okay Google, stream stranger things from Netf...  \n",
       "..                                                 ...  \n",
       "155   Okay Google, stream stranger things from Netf...  \n",
       "156   Okay Google, stream stranger things from Netf...  \n",
       "157   Okay Google, stream stranger things from Netf...  \n",
       "158   Okay Google, stream stranger things from Netf...  \n",
       "159   Okay Google, stream stranger things from Netf...  \n",
       "...\n",
       "\n",
       "[10000 rows x 2 columns]"
      ]
     },
     "execution_count": 4,
     "metadata": {},
     "output_type": "execute_result"
    }
   ],
   "source": [
    "df1"
   ]
  },
  {
   "cell_type": "code",
   "execution_count": null,
   "metadata": {},
   "outputs": [],
   "source": []
  }
 ],
 "metadata": {
  "kernelspec": {
   "display_name": "venv",
   "language": "python",
   "name": "python3"
  },
  "language_info": {
   "codemirror_mode": {
    "name": "ipython",
    "version": 3
   },
   "file_extension": ".py",
   "mimetype": "text/x-python",
   "name": "python",
   "nbconvert_exporter": "python",
   "pygments_lexer": "ipython3",
   "version": "3.10.14"
  }
 },
 "nbformat": 4,
 "nbformat_minor": 2
}
