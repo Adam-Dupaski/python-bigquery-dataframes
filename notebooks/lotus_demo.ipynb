{
 "cells": [
  {
   "cell_type": "markdown",
   "metadata": {},
   "source": [
    "# LOTUS demo"
   ]
  },
  {
   "cell_type": "markdown",
   "metadata": {},
   "source": [
    "## APIs"
   ]
  },
  {
   "cell_type": "code",
   "execution_count": 4,
   "metadata": {},
   "outputs": [
    {
     "data": {
      "text/html": [
       "Query job ea14980d-c970-42a6-85db-598c19a56f8e is DONE. 0 Bytes processed. <a target=\"_blank\" href=\"https://console.cloud.google.com/bigquery?project=bigframes-dev&j=bq:US:ea14980d-c970-42a6-85db-598c19a56f8e&page=queryresults\">Open Job</a>"
      ],
      "text/plain": [
       "<IPython.core.display.HTML object>"
      ]
     },
     "metadata": {},
     "output_type": "display_data"
    }
   ],
   "source": [
    "import bigframes.pandas as bpd\n",
    "from bigframes.ml.llm import GeminiTextGenerator\n",
    "\n",
    "data = {\n",
    "    \"Course Name\": [\n",
    "        \"Probability and Random Processes\",\n",
    "        \"Optimization Methods in Engineering\",\n",
    "        \"Digital Design and Integrated Circuits\",\n",
    "        \"Computer Security\",\n",
    "        \"Operating Systems and Systems Programming\",\n",
    "        \"Compilers\",\n",
    "        \"Computer Networks\",\n",
    "        \"Deep Learning\",\n",
    "        \"Graphics\",\n",
    "        \"Databases\",\n",
    "        \"Art History\",\n",
    "    ]\n",
    "}\n",
    "df = bpd.DataFrame(data)\n",
    " \n",
    "model = GeminiTextGenerator(model_name=\"gemini-1.5-flash-001\")"
   ]
  },
  {
   "cell_type": "markdown",
   "metadata": {},
   "source": [
    "### 1. `sem_filter`"
   ]
  },
  {
   "cell_type": "code",
   "execution_count": 5,
   "metadata": {},
   "outputs": [
    {
     "data": {
      "text/html": [
       "Query job c5b19afc-69c7-486b-a282-bebc2b2176ae is DONE. 0 Bytes processed. <a target=\"_blank\" href=\"https://console.cloud.google.com/bigquery?project=bigframes-dev&j=bq:US:c5b19afc-69c7-486b-a282-bebc2b2176ae&page=queryresults\">Open Job</a>"
      ],
      "text/plain": [
       "<IPython.core.display.HTML object>"
      ]
     },
     "metadata": {},
     "output_type": "display_data"
    },
    {
     "name": "stderr",
     "output_type": "stream",
     "text": [
      "/usr/local/google/home/chelsealin/src/bigframes/bigframes/core/__init__.py:92: PreviewWarning: Interpreting JSON column(s) as StringDtype. This behavior may change in future versions.\n",
      "  warnings.warn(\n"
     ]
    },
    {
     "data": {
      "text/html": [
       "Query job 1671fdb6-da59-45f1-b666-c498bffbbce4 is DONE. 22 Bytes processed. <a target=\"_blank\" href=\"https://console.cloud.google.com/bigquery?project=bigframes-dev&j=bq:US:1671fdb6-da59-45f1-b666-c498bffbbce4&page=queryresults\">Open Job</a>"
      ],
      "text/plain": [
       "<IPython.core.display.HTML object>"
      ]
     },
     "metadata": {},
     "output_type": "display_data"
    },
    {
     "data": {
      "text/html": [
       "Query job 86fd4031-942d-4fd6-9484-d652a8f42b45 is DONE. 0 Bytes processed. <a target=\"_blank\" href=\"https://console.cloud.google.com/bigquery?project=bigframes-dev&j=bq:US:86fd4031-942d-4fd6-9484-d652a8f42b45&page=queryresults\">Open Job</a>"
      ],
      "text/plain": [
       "<IPython.core.display.HTML object>"
      ]
     },
     "metadata": {},
     "output_type": "display_data"
    },
    {
     "data": {
      "text/html": [
       "Query job 129b800e-8034-406b-8aae-0b28b8488846 is DONE. 9.3 kB processed. <a target=\"_blank\" href=\"https://console.cloud.google.com/bigquery?project=bigframes-dev&j=bq:US:129b800e-8034-406b-8aae-0b28b8488846&page=queryresults\">Open Job</a>"
      ],
      "text/plain": [
       "<IPython.core.display.HTML object>"
      ]
     },
     "metadata": {},
     "output_type": "display_data"
    },
    {
     "data": {
      "text/html": [
       "Query job debf19cc-3254-44b4-a0c4-1ced0c2ab1f6 is DONE. 0 Bytes processed. <a target=\"_blank\" href=\"https://console.cloud.google.com/bigquery?project=bigframes-dev&j=bq:US:debf19cc-3254-44b4-a0c4-1ced0c2ab1f6&page=queryresults\">Open Job</a>"
      ],
      "text/plain": [
       "<IPython.core.display.HTML object>"
      ]
     },
     "metadata": {},
     "output_type": "display_data"
    },
    {
     "data": {
      "text/html": [
       "<div>\n",
       "<style scoped>\n",
       "    .dataframe tbody tr th:only-of-type {\n",
       "        vertical-align: middle;\n",
       "    }\n",
       "\n",
       "    .dataframe tbody tr th {\n",
       "        vertical-align: top;\n",
       "    }\n",
       "\n",
       "    .dataframe thead th {\n",
       "        text-align: right;\n",
       "    }\n",
       "</style>\n",
       "<table border=\"1\" class=\"dataframe\">\n",
       "  <thead>\n",
       "    <tr style=\"text-align: right;\">\n",
       "      <th></th>\n",
       "      <th>ml_generate_text_llm_result</th>\n",
       "      <th>ml_generate_text_rai_result</th>\n",
       "      <th>ml_generate_text_status</th>\n",
       "      <th>prompt</th>\n",
       "    </tr>\n",
       "  </thead>\n",
       "  <tbody>\n",
       "    <tr>\n",
       "      <th>0</th>\n",
       "      <td>True 0.95</td>\n",
       "      <td>[{\"category\":1,\"probability\":1,\"probability_sc...</td>\n",
       "      <td></td>\n",
       "      <td>System Instruction: The user will povide a cla...</td>\n",
       "    </tr>\n",
       "    <tr>\n",
       "      <th>1</th>\n",
       "      <td>True 0.95</td>\n",
       "      <td>[{\"category\":1,\"probability\":1,\"probability_sc...</td>\n",
       "      <td></td>\n",
       "      <td>System Instruction: The user will povide a cla...</td>\n",
       "    </tr>\n",
       "    <tr>\n",
       "      <th>2</th>\n",
       "      <td>True 0.95</td>\n",
       "      <td>[{\"category\":1,\"probability\":1,\"probability_sc...</td>\n",
       "      <td></td>\n",
       "      <td>System Instruction: The user will povide a cla...</td>\n",
       "    </tr>\n",
       "    <tr>\n",
       "      <th>3</th>\n",
       "      <td>False 0.85</td>\n",
       "      <td>[{\"category\":1,\"probability\":1,\"probability_sc...</td>\n",
       "      <td></td>\n",
       "      <td>System Instruction: The user will povide a cla...</td>\n",
       "    </tr>\n",
       "    <tr>\n",
       "      <th>4</th>\n",
       "      <td>False 0.90</td>\n",
       "      <td>[{\"category\":1,\"probability\":1,\"probability_sc...</td>\n",
       "      <td></td>\n",
       "      <td>System Instruction: The user will povide a cla...</td>\n",
       "    </tr>\n",
       "    <tr>\n",
       "      <th>5</th>\n",
       "      <td>True 0.85</td>\n",
       "      <td>[{\"category\":1,\"probability\":1,\"probability_sc...</td>\n",
       "      <td></td>\n",
       "      <td>System Instruction: The user will povide a cla...</td>\n",
       "    </tr>\n",
       "    <tr>\n",
       "      <th>6</th>\n",
       "      <td>False 0.85</td>\n",
       "      <td>[{\"category\":1,\"probability\":1,\"probability_sc...</td>\n",
       "      <td></td>\n",
       "      <td>System Instruction: The user will povide a cla...</td>\n",
       "    </tr>\n",
       "    <tr>\n",
       "      <th>7</th>\n",
       "      <td>True 0.95</td>\n",
       "      <td>[{\"category\":1,\"probability\":1,\"probability_sc...</td>\n",
       "      <td></td>\n",
       "      <td>System Instruction: The user will povide a cla...</td>\n",
       "    </tr>\n",
       "    <tr>\n",
       "      <th>8</th>\n",
       "      <td>True 0.80</td>\n",
       "      <td>[{\"category\":1,\"probability\":1,\"probability_sc...</td>\n",
       "      <td></td>\n",
       "      <td>System Instruction: The user will povide a cla...</td>\n",
       "    </tr>\n",
       "    <tr>\n",
       "      <th>9</th>\n",
       "      <td>False 0.95</td>\n",
       "      <td>[{\"category\":1,\"probability\":1,\"probability_sc...</td>\n",
       "      <td></td>\n",
       "      <td>System Instruction: The user will povide a cla...</td>\n",
       "    </tr>\n",
       "    <tr>\n",
       "      <th>10</th>\n",
       "      <td>False 0.99</td>\n",
       "      <td>[{\"category\":1,\"probability\":1,\"probability_sc...</td>\n",
       "      <td></td>\n",
       "      <td>System Instruction: The user will povide a cla...</td>\n",
       "    </tr>\n",
       "  </tbody>\n",
       "</table>\n",
       "<p>11 rows × 4 columns</p>\n",
       "</div>[11 rows x 4 columns in total]"
      ],
      "text/plain": [
       "   ml_generate_text_llm_result  \\\n",
       "0                  True 0.95 \n",
       "   \n",
       "1                  True 0.95 \n",
       "   \n",
       "2                  True 0.95 \n",
       "   \n",
       "3                 False 0.85 \n",
       "   \n",
       "4                 False 0.90 \n",
       "   \n",
       "5                  True 0.85 \n",
       "   \n",
       "6                 False 0.85 \n",
       "   \n",
       "7                  True 0.95 \n",
       "   \n",
       "8                  True 0.80 \n",
       "   \n",
       "9                 False 0.95 \n",
       "   \n",
       "10                False 0.99 \n",
       "   \n",
       "\n",
       "                          ml_generate_text_rai_result ml_generate_text_status  \\\n",
       "0   [{\"category\":1,\"probability\":1,\"probability_sc...                           \n",
       "1   [{\"category\":1,\"probability\":1,\"probability_sc...                           \n",
       "2   [{\"category\":1,\"probability\":1,\"probability_sc...                           \n",
       "3   [{\"category\":1,\"probability\":1,\"probability_sc...                           \n",
       "4   [{\"category\":1,\"probability\":1,\"probability_sc...                           \n",
       "5   [{\"category\":1,\"probability\":1,\"probability_sc...                           \n",
       "6   [{\"category\":1,\"probability\":1,\"probability_sc...                           \n",
       "7   [{\"category\":1,\"probability\":1,\"probability_sc...                           \n",
       "8   [{\"category\":1,\"probability\":1,\"probability_sc...                           \n",
       "9   [{\"category\":1,\"probability\":1,\"probability_sc...                           \n",
       "10  [{\"category\":1,\"probability\":1,\"probability_sc...                           \n",
       "\n",
       "                                               prompt  \n",
       "0   System Instruction: The user will povide a cla...  \n",
       "1   System Instruction: The user will povide a cla...  \n",
       "2   System Instruction: The user will povide a cla...  \n",
       "3   System Instruction: The user will povide a cla...  \n",
       "4   System Instruction: The user will povide a cla...  \n",
       "5   System Instruction: The user will povide a cla...  \n",
       "6   System Instruction: The user will povide a cla...  \n",
       "7   System Instruction: The user will povide a cla...  \n",
       "8   System Instruction: The user will povide a cla...  \n",
       "9   System Instruction: The user will povide a cla...  \n",
       "10  System Instruction: The user will povide a cla...  \n",
       "\n",
       "[11 rows x 4 columns]"
      ]
     },
     "execution_count": 5,
     "metadata": {},
     "output_type": "execute_result"
    }
   ],
   "source": [
    "predict_df = df.sem_filter(\"{Course Name} requires a lot of math\", model)\n",
    "predict_df"
   ]
  },
  {
   "cell_type": "markdown",
   "metadata": {},
   "source": [
    "### 2. `sem_join`"
   ]
  },
  {
   "cell_type": "code",
   "execution_count": 1,
   "metadata": {},
   "outputs": [
    {
     "name": "stderr",
     "output_type": "stream",
     "text": [
      "/usr/local/google/home/chelsealin/src/bigframes/bigframes/core/global_session.py:113: DefaultLocationWarning: No explicit location is set, so using location US for the session.\n",
      "  return func(get_global_session(), *args, **kwargs)\n"
     ]
    },
    {
     "data": {
      "text/html": [
       "Query job fdc2fb46-0399-4960-a644-0c4ea5dcec71 is DONE. 0 Bytes processed. <a target=\"_blank\" href=\"https://console.cloud.google.com/bigquery?project=bigframes-dev&j=bq:US:fdc2fb46-0399-4960-a644-0c4ea5dcec71&page=queryresults\">Open Job</a>"
      ],
      "text/plain": [
       "<IPython.core.display.HTML object>"
      ]
     },
     "metadata": {},
     "output_type": "display_data"
    },
    {
     "data": {
      "text/html": [
       "Query job c0d8855e-a05c-468f-b6b9-ed1b523345c2 is DONE. 0 Bytes processed. <a target=\"_blank\" href=\"https://console.cloud.google.com/bigquery?project=bigframes-dev&j=bq:US:c0d8855e-a05c-468f-b6b9-ed1b523345c2&page=queryresults\">Open Job</a>"
      ],
      "text/plain": [
       "<IPython.core.display.HTML object>"
      ]
     },
     "metadata": {},
     "output_type": "display_data"
    },
    {
     "name": "stderr",
     "output_type": "stream",
     "text": [
      "/usr/local/google/home/chelsealin/src/bigframes/bigframes/core/__init__.py:92: PreviewWarning: Interpreting JSON column(s) as StringDtype. This behavior may change in future versions.\n",
      "  warnings.warn(\n"
     ]
    },
    {
     "data": {
      "text/html": [
       "Query job bec775ce-66a0-4261-aacd-95f5bf67e9aa is DONE. 66 Bytes processed. <a target=\"_blank\" href=\"https://console.cloud.google.com/bigquery?project=bigframes-dev&j=bq:US:bec775ce-66a0-4261-aacd-95f5bf67e9aa&page=queryresults\">Open Job</a>"
      ],
      "text/plain": [
       "<IPython.core.display.HTML object>"
      ]
     },
     "metadata": {},
     "output_type": "display_data"
    },
    {
     "data": {
      "text/html": [
       "Query job 076032f5-bdcf-498c-9532-8e7104896ee8 is DONE. 0 Bytes processed. <a target=\"_blank\" href=\"https://console.cloud.google.com/bigquery?project=bigframes-dev&j=bq:US:076032f5-bdcf-498c-9532-8e7104896ee8&page=queryresults\">Open Job</a>"
      ],
      "text/plain": [
       "<IPython.core.display.HTML object>"
      ]
     },
     "metadata": {},
     "output_type": "display_data"
    },
    {
     "data": {
      "text/html": [
       "Query job b68fd062-f8dc-4d1e-b3d6-0e5e3248daaf is DONE. 28.9 kB processed. <a target=\"_blank\" href=\"https://console.cloud.google.com/bigquery?project=bigframes-dev&j=bq:US:b68fd062-f8dc-4d1e-b3d6-0e5e3248daaf&page=queryresults\">Open Job</a>"
      ],
      "text/plain": [
       "<IPython.core.display.HTML object>"
      ]
     },
     "metadata": {},
     "output_type": "display_data"
    },
    {
     "data": {
      "text/html": [
       "Query job 4f104383-eaf8-4252-9e36-378a87715e6c is DONE. 29.1 kB processed. <a target=\"_blank\" href=\"https://console.cloud.google.com/bigquery?project=bigframes-dev&j=bq:US:4f104383-eaf8-4252-9e36-378a87715e6c&page=queryresults\">Open Job</a>"
      ],
      "text/plain": [
       "<IPython.core.display.HTML object>"
      ]
     },
     "metadata": {},
     "output_type": "display_data"
    },
    {
     "data": {
      "text/html": [
       "Query job e69442ba-6869-4dce-9a27-1548c8f397c5 is DONE. 29.1 kB processed. <a target=\"_blank\" href=\"https://console.cloud.google.com/bigquery?project=bigframes-dev&j=bq:US:e69442ba-6869-4dce-9a27-1548c8f397c5&page=queryresults\">Open Job</a>"
      ],
      "text/plain": [
       "<IPython.core.display.HTML object>"
      ]
     },
     "metadata": {},
     "output_type": "display_data"
    },
    {
     "data": {
      "text/html": [
       "<div>\n",
       "<style scoped>\n",
       "    .dataframe tbody tr th:only-of-type {\n",
       "        vertical-align: middle;\n",
       "    }\n",
       "\n",
       "    .dataframe tbody tr th {\n",
       "        vertical-align: top;\n",
       "    }\n",
       "\n",
       "    .dataframe thead th {\n",
       "        text-align: right;\n",
       "    }\n",
       "</style>\n",
       "<table border=\"1\" class=\"dataframe\">\n",
       "  <thead>\n",
       "    <tr style=\"text-align: right;\">\n",
       "      <th></th>\n",
       "      <th>ml_generate_text_llm_result</th>\n",
       "      <th>ml_generate_text_rai_result</th>\n",
       "      <th>ml_generate_text_status</th>\n",
       "      <th>prompt</th>\n",
       "    </tr>\n",
       "  </thead>\n",
       "  <tbody>\n",
       "    <tr>\n",
       "      <th>0</th>\n",
       "      <td>False 0.99</td>\n",
       "      <td>[{\"category\":1,\"probability\":1,\"probability_sc...</td>\n",
       "      <td></td>\n",
       "      <td>System Instruction: The user will povide a cla...</td>\n",
       "    </tr>\n",
       "    <tr>\n",
       "      <th>1</th>\n",
       "      <td>False 0.95</td>\n",
       "      <td>[{\"category\":1,\"probability\":1,\"probability_sc...</td>\n",
       "      <td></td>\n",
       "      <td>System Instruction: The user will povide a cla...</td>\n",
       "    </tr>\n",
       "    <tr>\n",
       "      <th>2</th>\n",
       "      <td>False 0.99</td>\n",
       "      <td>[{\"category\":1,\"probability\":1,\"probability_sc...</td>\n",
       "      <td></td>\n",
       "      <td>System Instruction: The user will povide a cla...</td>\n",
       "    </tr>\n",
       "    <tr>\n",
       "      <th>3</th>\n",
       "      <td>False 0.99</td>\n",
       "      <td>[{\"category\":1,\"probability\":1,\"probability_sc...</td>\n",
       "      <td></td>\n",
       "      <td>System Instruction: The user will povide a cla...</td>\n",
       "    </tr>\n",
       "    <tr>\n",
       "      <th>4</th>\n",
       "      <td>False 0.85</td>\n",
       "      <td>[{\"category\":1,\"probability\":1,\"probability_sc...</td>\n",
       "      <td></td>\n",
       "      <td>System Instruction: The user will povide a cla...</td>\n",
       "    </tr>\n",
       "    <tr>\n",
       "      <th>...</th>\n",
       "      <td>...</td>\n",
       "      <td>...</td>\n",
       "      <td>...</td>\n",
       "      <td>...</td>\n",
       "    </tr>\n",
       "    <tr>\n",
       "      <th>28</th>\n",
       "      <td>False 0.80</td>\n",
       "      <td>[{\"category\":1,\"probability\":1,\"probability_sc...</td>\n",
       "      <td></td>\n",
       "      <td>System Instruction: The user will povide a cla...</td>\n",
       "    </tr>\n",
       "    <tr>\n",
       "      <th>29</th>\n",
       "      <td>False 0.99</td>\n",
       "      <td>[{\"category\":1,\"probability\":1,\"probability_sc...</td>\n",
       "      <td></td>\n",
       "      <td>System Instruction: The user will povide a cla...</td>\n",
       "    </tr>\n",
       "    <tr>\n",
       "      <th>30</th>\n",
       "      <td>True 0.80</td>\n",
       "      <td>[{\"category\":1,\"probability\":1,\"probability_sc...</td>\n",
       "      <td></td>\n",
       "      <td>System Instruction: The user will povide a cla...</td>\n",
       "    </tr>\n",
       "    <tr>\n",
       "      <th>31</th>\n",
       "      <td>False 0.99</td>\n",
       "      <td>[{\"category\":1,\"probability\":1,\"probability_sc...</td>\n",
       "      <td></td>\n",
       "      <td>System Instruction: The user will povide a cla...</td>\n",
       "    </tr>\n",
       "    <tr>\n",
       "      <th>32</th>\n",
       "      <td>False 0.99</td>\n",
       "      <td>[{\"category\":1,\"probability\":1,\"probability_sc...</td>\n",
       "      <td></td>\n",
       "      <td>System Instruction: The user will povide a cla...</td>\n",
       "    </tr>\n",
       "  </tbody>\n",
       "</table>\n",
       "<p>33 rows × 4 columns</p>\n",
       "</div>[33 rows x 4 columns in total]"
      ],
      "text/plain": [
       "   ml_generate_text_llm_result  \\\n",
       "0                 False 0.99 \n",
       "   \n",
       "1                 False 0.95 \n",
       "   \n",
       "2                 False 0.99 \n",
       "   \n",
       "3                 False 0.99 \n",
       "   \n",
       "4                 False 0.85 \n",
       "   \n",
       "..                         ...   \n",
       "28                False 0.80 \n",
       "   \n",
       "29                False 0.99 \n",
       "   \n",
       "30                 True 0.80 \n",
       "   \n",
       "31                False 0.99 \n",
       "   \n",
       "32                False 0.99 \n",
       "   \n",
       "\n",
       "                          ml_generate_text_rai_result ml_generate_text_status  \\\n",
       "0   [{\"category\":1,\"probability\":1,\"probability_sc...                           \n",
       "1   [{\"category\":1,\"probability\":1,\"probability_sc...                           \n",
       "2   [{\"category\":1,\"probability\":1,\"probability_sc...                           \n",
       "3   [{\"category\":1,\"probability\":1,\"probability_sc...                           \n",
       "4   [{\"category\":1,\"probability\":1,\"probability_sc...                           \n",
       "..                                                ...                     ...   \n",
       "28  [{\"category\":1,\"probability\":1,\"probability_sc...                           \n",
       "29  [{\"category\":1,\"probability\":1,\"probability_sc...                           \n",
       "30  [{\"category\":1,\"probability\":1,\"probability_sc...                           \n",
       "31  [{\"category\":1,\"probability\":1,\"probability_sc...                           \n",
       "32  [{\"category\":1,\"probability\":1,\"probability_sc...                           \n",
       "\n",
       "                                               prompt  \n",
       "0   System Instruction: The user will povide a cla...  \n",
       "1   System Instruction: The user will povide a cla...  \n",
       "2   System Instruction: The user will povide a cla...  \n",
       "3   System Instruction: The user will povide a cla...  \n",
       "4   System Instruction: The user will povide a cla...  \n",
       "..                                                ...  \n",
       "28  System Instruction: The user will povide a cla...  \n",
       "29  System Instruction: The user will povide a cla...  \n",
       "30  System Instruction: The user will povide a cla...  \n",
       "31  System Instruction: The user will povide a cla...  \n",
       "32  System Instruction: The user will povide a cla...  \n",
       "\n",
       "[33 rows x 4 columns]"
      ]
     },
     "execution_count": 1,
     "metadata": {},
     "output_type": "execute_result"
    }
   ],
   "source": [
    "import bigframes.pandas as bpd\n",
    "from bigframes.ml.llm import GeminiTextGenerator\n",
    "\n",
    "data = {\n",
    "    \"Course Name\": [\n",
    "        \"Probability and Random Processes\",\n",
    "        \"Optimization Methods in Engineering\",\n",
    "        \"Digital Design and Integrated Circuits\",\n",
    "        \"Computer Security\",\n",
    "        \"Operating Systems and Systems Programming\",\n",
    "        \"Compilers\",\n",
    "        \"Computer Networks\",\n",
    "        \"Deep Learning\",\n",
    "        \"Graphics\",\n",
    "        \"Databases\",\n",
    "        \"Art History\",\n",
    "    ]\n",
    "}\n",
    "df = bpd.DataFrame(data)\n",
    " \n",
    "model = GeminiTextGenerator(model_name=\"gemini-1.5-flash-001\")\n",
    "\n",
    "# predict_df = df.sem_filter(\"Taking {Course Name} will make me better at {Skill}\", model)\n",
    "# predict_df\n",
    "skills_df = bpd.DataFrame({\"Skill\": [\"Art\", \"Cryptography\", \"Baking\"]})\n",
    "\n",
    "join_df = df.sem_join(skills_df, \"Taking {Course Name} will make me better at {Skill}\", primary_model=model)\n",
    "join_df"
   ]
  },
  {
   "cell_type": "code",
   "execution_count": 4,
   "metadata": {},
   "outputs": [
    {
     "data": {
      "text/html": [
       "Query job 382ddcc9-4adf-40b0-8a5d-ee46d679ede0 is DONE. 29.1 kB processed. <a target=\"_blank\" href=\"https://console.cloud.google.com/bigquery?project=bigframes-dev&j=bq:US:382ddcc9-4adf-40b0-8a5d-ee46d679ede0&page=queryresults\">Open Job</a>"
      ],
      "text/plain": [
       "<IPython.core.display.HTML object>"
      ]
     },
     "metadata": {},
     "output_type": "display_data"
    },
    {
     "data": {
      "text/html": [
       "Query job 6bb1ec44-fdf5-4074-a35d-7fe027f91e9d is DONE. 3.5 kB processed. <a target=\"_blank\" href=\"https://console.cloud.google.com/bigquery?project=bigframes-dev&j=bq:US:6bb1ec44-fdf5-4074-a35d-7fe027f91e9d&page=queryresults\">Open Job</a>"
      ],
      "text/plain": [
       "<IPython.core.display.HTML object>"
      ]
     },
     "metadata": {},
     "output_type": "display_data"
    },
    {
     "data": {
      "text/html": [
       "Query job b18e2692-b28e-4910-ae8f-0e18f71b3194 is DONE. 3.5 kB processed. <a target=\"_blank\" href=\"https://console.cloud.google.com/bigquery?project=bigframes-dev&j=bq:US:b18e2692-b28e-4910-ae8f-0e18f71b3194&page=queryresults\">Open Job</a>"
      ],
      "text/plain": [
       "<IPython.core.display.HTML object>"
      ]
     },
     "metadata": {},
     "output_type": "display_data"
    },
    {
     "data": {
      "text/html": [
       "<div>\n",
       "<style scoped>\n",
       "    .dataframe tbody tr th:only-of-type {\n",
       "        vertical-align: middle;\n",
       "    }\n",
       "\n",
       "    .dataframe tbody tr th {\n",
       "        vertical-align: top;\n",
       "    }\n",
       "\n",
       "    .dataframe thead th {\n",
       "        text-align: right;\n",
       "    }\n",
       "</style>\n",
       "<table border=\"1\" class=\"dataframe\">\n",
       "  <thead>\n",
       "    <tr style=\"text-align: right;\">\n",
       "      <th></th>\n",
       "      <th>ml_generate_text_llm_result</th>\n",
       "      <th>ml_generate_text_rai_result</th>\n",
       "      <th>ml_generate_text_status</th>\n",
       "      <th>prompt</th>\n",
       "    </tr>\n",
       "  </thead>\n",
       "  <tbody>\n",
       "    <tr>\n",
       "      <th>10</th>\n",
       "      <td>True 0.85</td>\n",
       "      <td>[{\"category\":1,\"probability\":1,\"probability_sc...</td>\n",
       "      <td></td>\n",
       "      <td>System Instruction: The user will povide a cla...</td>\n",
       "    </tr>\n",
       "    <tr>\n",
       "      <th>19</th>\n",
       "      <td>True 0.75</td>\n",
       "      <td>[{\"category\":1,\"probability\":1,\"probability_sc...</td>\n",
       "      <td></td>\n",
       "      <td>System Instruction: The user will povide a cla...</td>\n",
       "    </tr>\n",
       "    <tr>\n",
       "      <th>24</th>\n",
       "      <td>True 0.60</td>\n",
       "      <td>[{\"category\":1,\"probability\":1,\"probability_sc...</td>\n",
       "      <td></td>\n",
       "      <td>System Instruction: The user will povide a cla...</td>\n",
       "    </tr>\n",
       "    <tr>\n",
       "      <th>30</th>\n",
       "      <td>True 0.80</td>\n",
       "      <td>[{\"category\":1,\"probability\":1,\"probability_sc...</td>\n",
       "      <td></td>\n",
       "      <td>System Instruction: The user will povide a cla...</td>\n",
       "    </tr>\n",
       "  </tbody>\n",
       "</table>\n",
       "<p>4 rows × 4 columns</p>\n",
       "</div>[4 rows x 4 columns in total]"
      ],
      "text/plain": [
       "   ml_generate_text_llm_result  \\\n",
       "10                 True 0.85 \n",
       "   \n",
       "19                 True 0.75 \n",
       "   \n",
       "24                 True 0.60 \n",
       "   \n",
       "30                 True 0.80 \n",
       "   \n",
       "\n",
       "                          ml_generate_text_rai_result ml_generate_text_status  \\\n",
       "10  [{\"category\":1,\"probability\":1,\"probability_sc...                           \n",
       "19  [{\"category\":1,\"probability\":1,\"probability_sc...                           \n",
       "24  [{\"category\":1,\"probability\":1,\"probability_sc...                           \n",
       "30  [{\"category\":1,\"probability\":1,\"probability_sc...                           \n",
       "\n",
       "                                               prompt  \n",
       "10  System Instruction: The user will povide a cla...  \n",
       "19  System Instruction: The user will povide a cla...  \n",
       "24  System Instruction: The user will povide a cla...  \n",
       "30  System Instruction: The user will povide a cla...  \n",
       "\n",
       "[4 rows x 4 columns]"
      ]
     },
     "execution_count": 4,
     "metadata": {},
     "output_type": "execute_result"
    }
   ],
   "source": [
    "join_df[join_df[\"ml_generate_text_llm_result\"].str.lower().str.contains(\"true\")]"
   ]
  },
  {
   "cell_type": "markdown",
   "metadata": {},
   "source": [
    "## Optimizations"
   ]
  },
  {
   "cell_type": "markdown",
   "metadata": {},
   "source": [
    "### Cascade Models"
   ]
  },
  {
   "cell_type": "code",
   "execution_count": 2,
   "metadata": {},
   "outputs": [],
   "source": [
    "# TODO"
   ]
  }
 ],
 "metadata": {
  "kernelspec": {
   "display_name": "venv",
   "language": "python",
   "name": "python3"
  },
  "language_info": {
   "codemirror_mode": {
    "name": "ipython",
    "version": 3
   },
   "file_extension": ".py",
   "mimetype": "text/x-python",
   "name": "python",
   "nbconvert_exporter": "python",
   "pygments_lexer": "ipython3",
   "version": "3.12.1"
  }
 },
 "nbformat": 4,
 "nbformat_minor": 2
}
