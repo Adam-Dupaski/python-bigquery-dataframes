{
 "cells": [
  {
   "cell_type": "markdown",
   "metadata": {},
   "source": [
    "# LOTUS demo"
   ]
  },
  {
   "cell_type": "markdown",
   "metadata": {},
   "source": [
    "## APIs"
   ]
  },
  {
   "cell_type": "code",
   "execution_count": 1,
   "metadata": {},
   "outputs": [],
   "source": [
    "import bigframes.pandas as bpd\n",
    "from bigframes.ml.llm import GeminiTextGenerator, _GEMINI_1P5_FLASH_001_ENDPOINT, _GEMINI_1P5_PRO_001_ENDPOINT\n",
    "\n",
    "bpd.options.display.progress_bar = None"
   ]
  },
  {
   "cell_type": "code",
   "execution_count": 2,
   "metadata": {},
   "outputs": [
    {
     "name": "stderr",
     "output_type": "stream",
     "text": [
      "/usr/local/google/home/chelsealin/src/bigframes/bigframes/core/global_session.py:113: DefaultLocationWarning: No explicit location is set, so using location US for the session.\n",
      "  return func(get_global_session(), *args, **kwargs)\n"
     ]
    }
   ],
   "source": [
    "# First let's initialize the dataframe we will use to perform semantic operations on\n",
    "data = {\n",
    "    \"Course Name\": [\n",
    "        \"Probability and Random Processes\",\n",
    "        \"Optimization Methods in Engineering\",\n",
    "        \"Digital Design and Integrated Circuits\",\n",
    "        \"Computer Security\",\n",
    "        \"Operating Systems and Systems Programming\",\n",
    "        \"Compilers\",\n",
    "        \"Computer Networks\",\n",
    "        \"Deep Learning\",\n",
    "        \"Graphics\",\n",
    "        \"Databases\",\n",
    "        \"Art History\",\n",
    "    ]\n",
    "}\n",
    "df = bpd.DataFrame(data)\n",
    " \n",
    "model = GeminiTextGenerator(model_name=_GEMINI_1P5_FLASH_001_ENDPOINT)"
   ]
  },
  {
   "cell_type": "markdown",
   "metadata": {},
   "source": [
    "### 1. `sem_filter`"
   ]
  },
  {
   "cell_type": "code",
   "execution_count": 3,
   "metadata": {},
   "outputs": [
    {
     "name": "stderr",
     "output_type": "stream",
     "text": [
      "/usr/local/google/home/chelsealin/src/bigframes/bigframes/core/__init__.py:92: PreviewWarning: Interpreting JSON column(s) as StringDtype. This behavior may change in future versions.\n",
      "  warnings.warn(\n"
     ]
    },
    {
     "data": {
      "text/html": [
       "<div>\n",
       "<style scoped>\n",
       "    .dataframe tbody tr th:only-of-type {\n",
       "        vertical-align: middle;\n",
       "    }\n",
       "\n",
       "    .dataframe tbody tr th {\n",
       "        vertical-align: top;\n",
       "    }\n",
       "\n",
       "    .dataframe thead th {\n",
       "        text-align: right;\n",
       "    }\n",
       "</style>\n",
       "<table border=\"1\" class=\"dataframe\">\n",
       "  <thead>\n",
       "    <tr style=\"text-align: right;\">\n",
       "      <th></th>\n",
       "      <th>Course Name</th>\n",
       "      <th>confidence_scores</th>\n",
       "    </tr>\n",
       "  </thead>\n",
       "  <tbody>\n",
       "    <tr>\n",
       "      <th>0</th>\n",
       "      <td>Probability and Random Processes</td>\n",
       "      <td>0.95</td>\n",
       "    </tr>\n",
       "    <tr>\n",
       "      <th>1</th>\n",
       "      <td>Optimization Methods in Engineering</td>\n",
       "      <td>0.95</td>\n",
       "    </tr>\n",
       "    <tr>\n",
       "      <th>2</th>\n",
       "      <td>Digital Design and Integrated Circuits</td>\n",
       "      <td>0.95</td>\n",
       "    </tr>\n",
       "    <tr>\n",
       "      <th>5</th>\n",
       "      <td>Compilers</td>\n",
       "      <td>0.8</td>\n",
       "    </tr>\n",
       "    <tr>\n",
       "      <th>7</th>\n",
       "      <td>Deep Learning</td>\n",
       "      <td>0.95</td>\n",
       "    </tr>\n",
       "    <tr>\n",
       "      <th>8</th>\n",
       "      <td>Graphics</td>\n",
       "      <td>0.8</td>\n",
       "    </tr>\n",
       "  </tbody>\n",
       "</table>\n",
       "<p>6 rows × 2 columns</p>\n",
       "</div>[6 rows x 2 columns in total]"
      ],
      "text/plain": [
       "                              Course Name  confidence_scores\n",
       "0        Probability and Random Processes               0.95\n",
       "1     Optimization Methods in Engineering               0.95\n",
       "2  Digital Design and Integrated Circuits               0.95\n",
       "5                               Compilers                0.8\n",
       "7                           Deep Learning               0.95\n",
       "8                                Graphics                0.8\n",
       "\n",
       "[6 rows x 2 columns]"
      ]
     },
     "execution_count": 3,
     "metadata": {},
     "output_type": "execute_result"
    }
   ],
   "source": [
    "predict_df = df.sem_filter(\"{Course Name} requires a lot of math\", model, logprobs=True)\n",
    "predict_df"
   ]
  },
  {
   "cell_type": "markdown",
   "metadata": {},
   "source": [
    "### 2. `sem_join`"
   ]
  },
  {
   "cell_type": "code",
   "execution_count": 4,
   "metadata": {},
   "outputs": [
    {
     "name": "stderr",
     "output_type": "stream",
     "text": [
      "/usr/local/google/home/chelsealin/src/bigframes/bigframes/core/__init__.py:92: PreviewWarning: Interpreting JSON column(s) as StringDtype. This behavior may change in future versions.\n",
      "  warnings.warn(\n"
     ]
    },
    {
     "data": {
      "text/html": [
       "<div>\n",
       "<style scoped>\n",
       "    .dataframe tbody tr th:only-of-type {\n",
       "        vertical-align: middle;\n",
       "    }\n",
       "\n",
       "    .dataframe tbody tr th {\n",
       "        vertical-align: top;\n",
       "    }\n",
       "\n",
       "    .dataframe thead th {\n",
       "        text-align: right;\n",
       "    }\n",
       "</style>\n",
       "<table border=\"1\" class=\"dataframe\">\n",
       "  <thead>\n",
       "    <tr style=\"text-align: right;\">\n",
       "      <th></th>\n",
       "      <th>Course Name</th>\n",
       "      <th>Skill</th>\n",
       "      <th>confidence_scores</th>\n",
       "    </tr>\n",
       "  </thead>\n",
       "  <tbody>\n",
       "    <tr>\n",
       "      <th>10</th>\n",
       "      <td>Computer Security</td>\n",
       "      <td>Cryptography</td>\n",
       "      <td>0.85</td>\n",
       "    </tr>\n",
       "    <tr>\n",
       "      <th>19</th>\n",
       "      <td>Computer Networks</td>\n",
       "      <td>Cryptography</td>\n",
       "      <td>0.8</td>\n",
       "    </tr>\n",
       "    <tr>\n",
       "      <th>24</th>\n",
       "      <td>Graphics</td>\n",
       "      <td>Art</td>\n",
       "      <td>0.85</td>\n",
       "    </tr>\n",
       "  </tbody>\n",
       "</table>\n",
       "<p>3 rows × 3 columns</p>\n",
       "</div>[3 rows x 3 columns in total]"
      ],
      "text/plain": [
       "          Course Name         Skill  confidence_scores\n",
       "10  Computer Security  Cryptography               0.85\n",
       "19  Computer Networks  Cryptography                0.8\n",
       "24           Graphics           Art               0.85\n",
       "\n",
       "[3 rows x 3 columns]"
      ]
     },
     "execution_count": 4,
     "metadata": {},
     "output_type": "execute_result"
    }
   ],
   "source": [
    "skills_df = bpd.DataFrame({\"Skill\": [\"Art\", \"Cryptography\", \"Baking\"]})\n",
    "\n",
    "join_df = df.sem_join(skills_df, \"Taking {Course Name} will make me better at {Skill}\", model=model, logprobs=True)\n",
    "join_df"
   ]
  },
  {
   "cell_type": "markdown",
   "metadata": {},
   "source": [
    "### 3. `sem_map`"
   ]
  },
  {
   "cell_type": "code",
   "execution_count": 5,
   "metadata": {},
   "outputs": [
    {
     "name": "stderr",
     "output_type": "stream",
     "text": [
      "/usr/local/google/home/chelsealin/src/bigframes/bigframes/core/__init__.py:92: PreviewWarning: Interpreting JSON column(s) as StringDtype. This behavior may change in future versions.\n",
      "  warnings.warn(\n"
     ]
    },
    {
     "data": {
      "text/html": [
       "<div>\n",
       "<style scoped>\n",
       "    .dataframe tbody tr th:only-of-type {\n",
       "        vertical-align: middle;\n",
       "    }\n",
       "\n",
       "    .dataframe tbody tr th {\n",
       "        vertical-align: top;\n",
       "    }\n",
       "\n",
       "    .dataframe thead th {\n",
       "        text-align: right;\n",
       "    }\n",
       "</style>\n",
       "<table border=\"1\" class=\"dataframe\">\n",
       "  <thead>\n",
       "    <tr style=\"text-align: right;\">\n",
       "      <th></th>\n",
       "      <th>Course Name</th>\n",
       "      <th>_map</th>\n",
       "    </tr>\n",
       "  </thead>\n",
       "  <tbody>\n",
       "    <tr>\n",
       "      <th>0</th>\n",
       "      <td>Probability and Random Processes</td>\n",
       "      <td>## Study Plan for Probability and Random Proce...</td>\n",
       "    </tr>\n",
       "    <tr>\n",
       "      <th>1</th>\n",
       "      <td>Optimization Methods in Engineering</td>\n",
       "      <td>## Study Plan for Optimization Methods in Engi...</td>\n",
       "    </tr>\n",
       "    <tr>\n",
       "      <th>2</th>\n",
       "      <td>Digital Design and Integrated Circuits</td>\n",
       "      <td>## Study Plan for Digital Design and Integrate...</td>\n",
       "    </tr>\n",
       "    <tr>\n",
       "      <th>3</th>\n",
       "      <td>Computer Security</td>\n",
       "      <td>##  Computer Security Study Plan\n",
       "\n",
       "**Goal:** Ac...</td>\n",
       "    </tr>\n",
       "    <tr>\n",
       "      <th>4</th>\n",
       "      <td>Operating Systems and Systems Programming</td>\n",
       "      <td>##  Study Plan for Operating Systems and Syste...</td>\n",
       "    </tr>\n",
       "    <tr>\n",
       "      <th>5</th>\n",
       "      <td>Compilers</td>\n",
       "      <td>## Short Study Plan for Compilers:\n",
       "\n",
       "**1. Funda...</td>\n",
       "    </tr>\n",
       "    <tr>\n",
       "      <th>6</th>\n",
       "      <td>Computer Networks</td>\n",
       "      <td>## Short Study Plan for Computer Networks\n",
       "\n",
       "**G...</td>\n",
       "    </tr>\n",
       "    <tr>\n",
       "      <th>7</th>\n",
       "      <td>Deep Learning</td>\n",
       "      <td>## Short Study Plan for Deep Learning:\n",
       "\n",
       "**Focu...</td>\n",
       "    </tr>\n",
       "    <tr>\n",
       "      <th>8</th>\n",
       "      <td>Graphics</td>\n",
       "      <td>## Graphics Course Study Plan:\n",
       "\n",
       "**Goal:** Achi...</td>\n",
       "    </tr>\n",
       "    <tr>\n",
       "      <th>9</th>\n",
       "      <td>Databases</td>\n",
       "      <td>## Short Study Plan for Databases:\n",
       "\n",
       "**1.  Acti...</td>\n",
       "    </tr>\n",
       "    <tr>\n",
       "      <th>10</th>\n",
       "      <td>Art History</td>\n",
       "      <td>## Art History Study Plan \n",
       "\n",
       "**Goal:** Achieve ...</td>\n",
       "    </tr>\n",
       "  </tbody>\n",
       "</table>\n",
       "<p>11 rows × 2 columns</p>\n",
       "</div>[11 rows x 2 columns in total]"
      ],
      "text/plain": [
       "                                  Course Name  \\\n",
       "0            Probability and Random Processes   \n",
       "1         Optimization Methods in Engineering   \n",
       "2      Digital Design and Integrated Circuits   \n",
       "3                           Computer Security   \n",
       "4   Operating Systems and Systems Programming   \n",
       "5                                   Compilers   \n",
       "6                           Computer Networks   \n",
       "7                               Deep Learning   \n",
       "8                                    Graphics   \n",
       "9                                   Databases   \n",
       "10                                Art History   \n",
       "\n",
       "                                                 _map  \n",
       "0   ## Study Plan for Probability and Random Proce...  \n",
       "1   ## Study Plan for Optimization Methods in Engi...  \n",
       "2   ## Study Plan for Digital Design and Integrate...  \n",
       "3   ##  Computer Security Study Plan\n",
       "\n",
       "**Goal:** Ac...  \n",
       "4   ##  Study Plan for Operating Systems and Syste...  \n",
       "5   ## Short Study Plan for Compilers:\n",
       "\n",
       "**1. Funda...  \n",
       "6   ## Short Study Plan for Computer Networks\n",
       "\n",
       "**G...  \n",
       "7   ## Short Study Plan for Deep Learning:\n",
       "\n",
       "**Focu...  \n",
       "8   ## Graphics Course Study Plan:\n",
       "\n",
       "**Goal:** Achi...  \n",
       "9   ## Short Study Plan for Databases:\n",
       "\n",
       "**1.  Acti...  \n",
       "10  ## Art History Study Plan \n",
       "\n",
       "**Goal:** Achieve ...  \n",
       "\n",
       "[11 rows x 2 columns]"
      ]
     },
     "execution_count": 5,
     "metadata": {},
     "output_type": "execute_result"
    }
   ],
   "source": [
    "map_df = df.sem_map(\"Generate a short study plan to succeed in {Course Name}\", model=model)\n",
    "map_df"
   ]
  },
  {
   "cell_type": "code",
   "execution_count": 6,
   "metadata": {},
   "outputs": [
    {
     "data": {
      "text/plain": [
       "\"## Study Plan for Probability and Random Processes\\n\\n**Goal:**  Master the core concepts and build strong problem-solving skills in Probability and Random Processes.\\n\\n**Strategy:** \\n\\n1. **Understand the Fundamentals:**\\n    * **Week 1-2:** Focus on probability basics: events, axioms, probability distributions, conditional probability, Bayes' Theorem.  \\n    * **Week 3-4:** Dive deeper into random variables, expected value, variance, common distributions (Bernoulli, Binomial, Poisson, Normal). \\n    * **Week 5-6:**  Explore fundamental concepts of random processes: stochastic processes, Markov Chains, Poisson process. \\n\\n2. **Practice Regularly:**\\n    * **Daily:** Solve at least 5-10 problems from the textbook or previous exams. \\n    * **Weekly:**  Review class notes, work on challenging problems, and try to explain concepts to yourself or a study partner.\\n\\n3. **Seek Help and Resources:**\\n    * **Office Hours:**  Utilize your professor's office hours to clarify concepts and ask questions. \\n    * **Study Groups:**  Form a study group with classmates to discuss concepts and solve problems together. \\n    * **Online Resources:** Explore online resources like Khan Academy, Coursera, and EdX for additional explanations and practice exercises.\\n\\n4. **Prioritize Understanding:**\\n    * Focus on understanding the underlying principles, not just memorizing formulas.\\n    * Break down complex problems into smaller, manageable steps. \\n    * Visualize concepts using diagrams and graphs whenever possible.\\n\\n5. **Stay Organized:**\\n    * Keep track of all assignments, deadlines, and important concepts. \\n    * Create a dedicated study space and avoid distractions.\\n\\n**Remember:**  Success in Probability and Random Processes requires consistent effort and a deep understanding of the core concepts. By following this study plan and seeking help when needed, you will be well on your way to mastering this challenging but rewarding subject.\\n\""
      ]
     },
     "execution_count": 6,
     "metadata": {},
     "output_type": "execute_result"
    }
   ],
   "source": [
    "map_df.iloc[0, 1]"
   ]
  },
  {
   "cell_type": "markdown",
   "metadata": {},
   "source": [
    "## Optimizations"
   ]
  },
  {
   "cell_type": "markdown",
   "metadata": {},
   "source": [
    "### Cascade Models"
   ]
  },
  {
   "cell_type": "code",
   "execution_count": 7,
   "metadata": {},
   "outputs": [],
   "source": [
    "# Cascade models, where the smaller model running first to save cost.\n",
    "large_model = GeminiTextGenerator(model_name=_GEMINI_1P5_PRO_001_ENDPOINT)\n",
    "helper_model = GeminiTextGenerator(model_name=_GEMINI_1P5_FLASH_001_ENDPOINT)\n"
   ]
  },
  {
   "cell_type": "code",
   "execution_count": 8,
   "metadata": {},
   "outputs": [
    {
     "name": "stderr",
     "output_type": "stream",
     "text": [
      "/usr/local/google/home/chelsealin/src/bigframes/bigframes/core/__init__.py:92: PreviewWarning: Interpreting JSON column(s) as StringDtype. This behavior may change in future versions.\n",
      "  warnings.warn(\n",
      "/usr/local/google/home/chelsealin/src/bigframes/bigframes/core/__init__.py:92: PreviewWarning: Interpreting JSON column(s) as StringDtype. This behavior may change in future versions.\n",
      "  warnings.warn(\n"
     ]
    },
    {
     "name": "stdout",
     "output_type": "stream",
     "text": [
      "Debug:\n",
      "5 rows resolved by helper model.\n",
      "6 rows resolved by large model\n"
     ]
    },
    {
     "data": {
      "text/html": [
       "<div>\n",
       "<style scoped>\n",
       "    .dataframe tbody tr th:only-of-type {\n",
       "        vertical-align: middle;\n",
       "    }\n",
       "\n",
       "    .dataframe tbody tr th {\n",
       "        vertical-align: top;\n",
       "    }\n",
       "\n",
       "    .dataframe thead th {\n",
       "        text-align: right;\n",
       "    }\n",
       "</style>\n",
       "<table border=\"1\" class=\"dataframe\">\n",
       "  <thead>\n",
       "    <tr style=\"text-align: right;\">\n",
       "      <th></th>\n",
       "      <th>Course Name</th>\n",
       "      <th>helper_lm_results</th>\n",
       "      <th>helper_lm_confidence_scores</th>\n",
       "      <th>large_lm_results</th>\n",
       "      <th>large_lm_confidence_scores</th>\n",
       "    </tr>\n",
       "  </thead>\n",
       "  <tbody>\n",
       "    <tr>\n",
       "      <th>0</th>\n",
       "      <td>Probability and Random Processes</td>\n",
       "      <td>True</td>\n",
       "      <td>0.95</td>\n",
       "      <td>&lt;NA&gt;</td>\n",
       "      <td>&lt;NA&gt;</td>\n",
       "    </tr>\n",
       "    <tr>\n",
       "      <th>1</th>\n",
       "      <td>Optimization Methods in Engineering</td>\n",
       "      <td>True</td>\n",
       "      <td>0.99</td>\n",
       "      <td>&lt;NA&gt;</td>\n",
       "      <td>&lt;NA&gt;</td>\n",
       "    </tr>\n",
       "    <tr>\n",
       "      <th>2</th>\n",
       "      <td>Digital Design and Integrated Circuits</td>\n",
       "      <td>True</td>\n",
       "      <td>0.95</td>\n",
       "      <td>&lt;NA&gt;</td>\n",
       "      <td>&lt;NA&gt;</td>\n",
       "    </tr>\n",
       "    <tr>\n",
       "      <th>7</th>\n",
       "      <td>Deep Learning</td>\n",
       "      <td>True</td>\n",
       "      <td>0.95</td>\n",
       "      <td>&lt;NA&gt;</td>\n",
       "      <td>&lt;NA&gt;</td>\n",
       "    </tr>\n",
       "  </tbody>\n",
       "</table>\n",
       "<p>4 rows × 5 columns</p>\n",
       "</div>[4 rows x 5 columns in total]"
      ],
      "text/plain": [
       "                              Course Name  helper_lm_results  \\\n",
       "0        Probability and Random Processes               True   \n",
       "1     Optimization Methods in Engineering               True   \n",
       "2  Digital Design and Integrated Circuits               True   \n",
       "7                           Deep Learning               True   \n",
       "\n",
       "   helper_lm_confidence_scores  large_lm_results  large_lm_confidence_scores  \n",
       "0                         0.95              <NA>                        <NA>  \n",
       "1                         0.99              <NA>                        <NA>  \n",
       "2                         0.95              <NA>                        <NA>  \n",
       "7                         0.95              <NA>                        <NA>  \n",
       "\n",
       "[4 rows x 5 columns]"
      ]
     },
     "execution_count": 8,
     "metadata": {},
     "output_type": "execute_result"
    }
   ],
   "source": [
    "predict_df = df.sem_filter(\n",
    "    \"{Course Name} requires a lot of math\", \n",
    "    model=large_model, \n",
    "    helper_model=helper_model,\n",
    "    confidence_threshold=0.9, \n",
    "    logprobs=True\n",
    ")\n",
    "predict_df"
   ]
  }
 ],
 "metadata": {
  "kernelspec": {
   "display_name": "venv",
   "language": "python",
   "name": "python3"
  },
  "language_info": {
   "codemirror_mode": {
    "name": "ipython",
    "version": 3
   },
   "file_extension": ".py",
   "mimetype": "text/x-python",
   "name": "python",
   "nbconvert_exporter": "python",
   "pygments_lexer": "ipython3",
   "version": "3.12.1"
  }
 },
 "nbformat": 4,
 "nbformat_minor": 2
}
