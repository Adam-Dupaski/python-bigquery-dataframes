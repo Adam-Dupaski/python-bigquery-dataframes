{
 "cells": [
  {
   "cell_type": "markdown",
   "metadata": {},
   "source": [
    "# LOTUS demo"
   ]
  },
  {
   "cell_type": "markdown",
   "metadata": {},
   "source": [
    "## APIs"
   ]
  },
  {
   "cell_type": "code",
   "execution_count": 2,
   "metadata": {},
   "outputs": [],
   "source": [
    "import bigframes.pandas as bpd\n",
    "from bigframes.ml.llm import GeminiTextGenerator, _GEMINI_1P5_FLASH_001_ENDPOINT, _GEMINI_1P5_PRO_001_ENDPOINT\n",
    "\n",
    "bpd.options.display.progress_bar = None"
   ]
  },
  {
   "cell_type": "code",
   "execution_count": 3,
   "metadata": {},
   "outputs": [
    {
     "name": "stderr",
     "output_type": "stream",
     "text": [
      "/usr/local/google/home/chelsealin/src/bigframes/bigframes/core/global_session.py:113: DefaultLocationWarning: No explicit location is set, so using location US for the session.\n",
      "  return func(get_global_session(), *args, **kwargs)\n"
     ]
    }
   ],
   "source": [
    "# First let's initialize the dataframe we will use to perform semantic operations on\n",
    "data = {\n",
    "    \"Course Name\": [\n",
    "        \"Probability and Random Processes\",\n",
    "        \"Optimization Methods in Engineering\",\n",
    "        \"Digital Design and Integrated Circuits\",\n",
    "        \"Computer Security\",\n",
    "        \"Operating Systems and Systems Programming\",\n",
    "        \"Compilers\",\n",
    "        \"Computer Networks\",\n",
    "        \"Deep Learning\",\n",
    "        \"Graphics\",\n",
    "        \"Databases\",\n",
    "        \"Art History\",\n",
    "    ]\n",
    "}\n",
    "df = bpd.DataFrame(data)\n",
    " \n",
    "model = GeminiTextGenerator(model_name=_GEMINI_1P5_FLASH_001_ENDPOINT)"
   ]
  },
  {
   "cell_type": "markdown",
   "metadata": {},
   "source": [
    "### 1. `sem_filter`"
   ]
  },
  {
   "cell_type": "code",
   "execution_count": 3,
   "metadata": {},
   "outputs": [
    {
     "name": "stderr",
     "output_type": "stream",
     "text": [
      "/usr/local/google/home/chelsealin/src/bigframes/bigframes/core/__init__.py:92: PreviewWarning: Interpreting JSON column(s) as StringDtype. This behavior may change in future versions.\n",
      "  warnings.warn(\n"
     ]
    },
    {
     "data": {
      "text/html": [
       "<div>\n",
       "<style scoped>\n",
       "    .dataframe tbody tr th:only-of-type {\n",
       "        vertical-align: middle;\n",
       "    }\n",
       "\n",
       "    .dataframe tbody tr th {\n",
       "        vertical-align: top;\n",
       "    }\n",
       "\n",
       "    .dataframe thead th {\n",
       "        text-align: right;\n",
       "    }\n",
       "</style>\n",
       "<table border=\"1\" class=\"dataframe\">\n",
       "  <thead>\n",
       "    <tr style=\"text-align: right;\">\n",
       "      <th></th>\n",
       "      <th>Course Name</th>\n",
       "      <th>confidence_scores</th>\n",
       "    </tr>\n",
       "  </thead>\n",
       "  <tbody>\n",
       "    <tr>\n",
       "      <th>0</th>\n",
       "      <td>Probability and Random Processes</td>\n",
       "      <td>0.95</td>\n",
       "    </tr>\n",
       "    <tr>\n",
       "      <th>1</th>\n",
       "      <td>Optimization Methods in Engineering</td>\n",
       "      <td>0.95</td>\n",
       "    </tr>\n",
       "    <tr>\n",
       "      <th>2</th>\n",
       "      <td>Digital Design and Integrated Circuits</td>\n",
       "      <td>0.95</td>\n",
       "    </tr>\n",
       "    <tr>\n",
       "      <th>5</th>\n",
       "      <td>Compilers</td>\n",
       "      <td>0.8</td>\n",
       "    </tr>\n",
       "    <tr>\n",
       "      <th>7</th>\n",
       "      <td>Deep Learning</td>\n",
       "      <td>0.95</td>\n",
       "    </tr>\n",
       "    <tr>\n",
       "      <th>8</th>\n",
       "      <td>Graphics</td>\n",
       "      <td>0.8</td>\n",
       "    </tr>\n",
       "  </tbody>\n",
       "</table>\n",
       "<p>6 rows × 2 columns</p>\n",
       "</div>[6 rows x 2 columns in total]"
      ],
      "text/plain": [
       "                              Course Name  confidence_scores\n",
       "0        Probability and Random Processes               0.95\n",
       "1     Optimization Methods in Engineering               0.95\n",
       "2  Digital Design and Integrated Circuits               0.95\n",
       "5                               Compilers                0.8\n",
       "7                           Deep Learning               0.95\n",
       "8                                Graphics                0.8\n",
       "\n",
       "[6 rows x 2 columns]"
      ]
     },
     "execution_count": 3,
     "metadata": {},
     "output_type": "execute_result"
    }
   ],
   "source": [
    "predict_df = df.sem_filter(\"{Course Name} requires a lot of math\", model, logprobs=True)\n",
    "predict_df"
   ]
  },
  {
   "cell_type": "markdown",
   "metadata": {},
   "source": [
    "### 2. `sem_join`"
   ]
  },
  {
   "cell_type": "code",
   "execution_count": 4,
   "metadata": {},
   "outputs": [
    {
     "name": "stderr",
     "output_type": "stream",
     "text": [
      "/usr/local/google/home/chelsealin/src/bigframes/bigframes/core/__init__.py:92: PreviewWarning: Interpreting JSON column(s) as StringDtype. This behavior may change in future versions.\n",
      "  warnings.warn(\n"
     ]
    },
    {
     "data": {
      "text/html": [
       "<div>\n",
       "<style scoped>\n",
       "    .dataframe tbody tr th:only-of-type {\n",
       "        vertical-align: middle;\n",
       "    }\n",
       "\n",
       "    .dataframe tbody tr th {\n",
       "        vertical-align: top;\n",
       "    }\n",
       "\n",
       "    .dataframe thead th {\n",
       "        text-align: right;\n",
       "    }\n",
       "</style>\n",
       "<table border=\"1\" class=\"dataframe\">\n",
       "  <thead>\n",
       "    <tr style=\"text-align: right;\">\n",
       "      <th></th>\n",
       "      <th>Course Name</th>\n",
       "      <th>Skill</th>\n",
       "      <th>confidence_scores</th>\n",
       "    </tr>\n",
       "  </thead>\n",
       "  <tbody>\n",
       "    <tr>\n",
       "      <th>10</th>\n",
       "      <td>Computer Security</td>\n",
       "      <td>Cryptography</td>\n",
       "      <td>0.85</td>\n",
       "    </tr>\n",
       "    <tr>\n",
       "      <th>19</th>\n",
       "      <td>Computer Networks</td>\n",
       "      <td>Cryptography</td>\n",
       "      <td>0.8</td>\n",
       "    </tr>\n",
       "    <tr>\n",
       "      <th>24</th>\n",
       "      <td>Graphics</td>\n",
       "      <td>Art</td>\n",
       "      <td>0.85</td>\n",
       "    </tr>\n",
       "  </tbody>\n",
       "</table>\n",
       "<p>3 rows × 3 columns</p>\n",
       "</div>[3 rows x 3 columns in total]"
      ],
      "text/plain": [
       "          Course Name         Skill  confidence_scores\n",
       "10  Computer Security  Cryptography               0.85\n",
       "19  Computer Networks  Cryptography                0.8\n",
       "24           Graphics           Art               0.85\n",
       "\n",
       "[3 rows x 3 columns]"
      ]
     },
     "execution_count": 4,
     "metadata": {},
     "output_type": "execute_result"
    }
   ],
   "source": [
    "skills_df = bpd.DataFrame({\"Skill\": [\"Art\", \"Cryptography\", \"Baking\"]})\n",
    "\n",
    "join_df = df.sem_join(skills_df, \"Taking {Course Name} will make me better at {Skill}\", model=model, logprobs=True)\n",
    "join_df"
   ]
  },
  {
   "cell_type": "markdown",
   "metadata": {},
   "source": [
    "### 3. `sem_map`"
   ]
  },
  {
   "cell_type": "code",
   "execution_count": 5,
   "metadata": {},
   "outputs": [
    {
     "name": "stderr",
     "output_type": "stream",
     "text": [
      "/usr/local/google/home/chelsealin/src/bigframes/bigframes/core/__init__.py:92: PreviewWarning: Interpreting JSON column(s) as StringDtype. This behavior may change in future versions.\n",
      "  warnings.warn(\n"
     ]
    },
    {
     "data": {
      "text/html": [
       "<div>\n",
       "<style scoped>\n",
       "    .dataframe tbody tr th:only-of-type {\n",
       "        vertical-align: middle;\n",
       "    }\n",
       "\n",
       "    .dataframe tbody tr th {\n",
       "        vertical-align: top;\n",
       "    }\n",
       "\n",
       "    .dataframe thead th {\n",
       "        text-align: right;\n",
       "    }\n",
       "</style>\n",
       "<table border=\"1\" class=\"dataframe\">\n",
       "  <thead>\n",
       "    <tr style=\"text-align: right;\">\n",
       "      <th></th>\n",
       "      <th>Course Name</th>\n",
       "      <th>_map</th>\n",
       "    </tr>\n",
       "  </thead>\n",
       "  <tbody>\n",
       "    <tr>\n",
       "      <th>0</th>\n",
       "      <td>Probability and Random Processes</td>\n",
       "      <td>## Study Plan for Probability and Random Proce...</td>\n",
       "    </tr>\n",
       "    <tr>\n",
       "      <th>1</th>\n",
       "      <td>Optimization Methods in Engineering</td>\n",
       "      <td>## Study Plan for Optimization Methods in Engi...</td>\n",
       "    </tr>\n",
       "    <tr>\n",
       "      <th>2</th>\n",
       "      <td>Digital Design and Integrated Circuits</td>\n",
       "      <td>## Study Plan for Digital Design and Integrate...</td>\n",
       "    </tr>\n",
       "    <tr>\n",
       "      <th>3</th>\n",
       "      <td>Computer Security</td>\n",
       "      <td>##  Computer Security Study Plan\n",
       "\n",
       "**Goal:** Ac...</td>\n",
       "    </tr>\n",
       "    <tr>\n",
       "      <th>4</th>\n",
       "      <td>Operating Systems and Systems Programming</td>\n",
       "      <td>##  Study Plan for Operating Systems and Syste...</td>\n",
       "    </tr>\n",
       "    <tr>\n",
       "      <th>5</th>\n",
       "      <td>Compilers</td>\n",
       "      <td>## Short Study Plan for Compilers:\n",
       "\n",
       "**1. Funda...</td>\n",
       "    </tr>\n",
       "    <tr>\n",
       "      <th>6</th>\n",
       "      <td>Computer Networks</td>\n",
       "      <td>## Short Study Plan for Computer Networks\n",
       "\n",
       "**G...</td>\n",
       "    </tr>\n",
       "    <tr>\n",
       "      <th>7</th>\n",
       "      <td>Deep Learning</td>\n",
       "      <td>## Short Study Plan for Deep Learning:\n",
       "\n",
       "**Focu...</td>\n",
       "    </tr>\n",
       "    <tr>\n",
       "      <th>8</th>\n",
       "      <td>Graphics</td>\n",
       "      <td>## Graphics Course Study Plan:\n",
       "\n",
       "**Goal:** Achi...</td>\n",
       "    </tr>\n",
       "    <tr>\n",
       "      <th>9</th>\n",
       "      <td>Databases</td>\n",
       "      <td>## Short Study Plan for Databases:\n",
       "\n",
       "**1.  Acti...</td>\n",
       "    </tr>\n",
       "    <tr>\n",
       "      <th>10</th>\n",
       "      <td>Art History</td>\n",
       "      <td>## Art History Study Plan \n",
       "\n",
       "**Goal:** Achieve ...</td>\n",
       "    </tr>\n",
       "  </tbody>\n",
       "</table>\n",
       "<p>11 rows × 2 columns</p>\n",
       "</div>[11 rows x 2 columns in total]"
      ],
      "text/plain": [
       "                                  Course Name  \\\n",
       "0            Probability and Random Processes   \n",
       "1         Optimization Methods in Engineering   \n",
       "2      Digital Design and Integrated Circuits   \n",
       "3                           Computer Security   \n",
       "4   Operating Systems and Systems Programming   \n",
       "5                                   Compilers   \n",
       "6                           Computer Networks   \n",
       "7                               Deep Learning   \n",
       "8                                    Graphics   \n",
       "9                                   Databases   \n",
       "10                                Art History   \n",
       "\n",
       "                                                 _map  \n",
       "0   ## Study Plan for Probability and Random Proce...  \n",
       "1   ## Study Plan for Optimization Methods in Engi...  \n",
       "2   ## Study Plan for Digital Design and Integrate...  \n",
       "3   ##  Computer Security Study Plan\n",
       "\n",
       "**Goal:** Ac...  \n",
       "4   ##  Study Plan for Operating Systems and Syste...  \n",
       "5   ## Short Study Plan for Compilers:\n",
       "\n",
       "**1. Funda...  \n",
       "6   ## Short Study Plan for Computer Networks\n",
       "\n",
       "**G...  \n",
       "7   ## Short Study Plan for Deep Learning:\n",
       "\n",
       "**Focu...  \n",
       "8   ## Graphics Course Study Plan:\n",
       "\n",
       "**Goal:** Achi...  \n",
       "9   ## Short Study Plan for Databases:\n",
       "\n",
       "**1.  Acti...  \n",
       "10  ## Art History Study Plan \n",
       "\n",
       "**Goal:** Achieve ...  \n",
       "\n",
       "[11 rows x 2 columns]"
      ]
     },
     "execution_count": 5,
     "metadata": {},
     "output_type": "execute_result"
    }
   ],
   "source": [
    "map_df = df.sem_map(\"Generate a short study plan to succeed in {Course Name}\", model=model)\n",
    "map_df"
   ]
  },
  {
   "cell_type": "code",
   "execution_count": 6,
   "metadata": {},
   "outputs": [
    {
     "data": {
      "text/plain": [
       "\"## Study Plan for Probability and Random Processes\\n\\n**Goal:**  Master the core concepts and build strong problem-solving skills in Probability and Random Processes.\\n\\n**Strategy:** \\n\\n1. **Understand the Fundamentals:**\\n    * **Week 1-2:** Focus on probability basics: events, axioms, probability distributions, conditional probability, Bayes' Theorem.  \\n    * **Week 3-4:** Dive deeper into random variables, expected value, variance, common distributions (Bernoulli, Binomial, Poisson, Normal). \\n    * **Week 5-6:**  Explore fundamental concepts of random processes: stochastic processes, Markov Chains, Poisson process. \\n\\n2. **Practice Regularly:**\\n    * **Daily:** Solve at least 5-10 problems from the textbook or previous exams. \\n    * **Weekly:**  Review class notes, work on challenging problems, and try to explain concepts to yourself or a study partner.\\n\\n3. **Seek Help and Resources:**\\n    * **Office Hours:**  Utilize your professor's office hours to clarify concepts and ask questions. \\n    * **Study Groups:**  Form a study group with classmates to discuss concepts and solve problems together. \\n    * **Online Resources:** Explore online resources like Khan Academy, Coursera, and EdX for additional explanations and practice exercises.\\n\\n4. **Prioritize Understanding:**\\n    * Focus on understanding the underlying principles, not just memorizing formulas.\\n    * Break down complex problems into smaller, manageable steps. \\n    * Visualize concepts using diagrams and graphs whenever possible.\\n\\n5. **Stay Organized:**\\n    * Keep track of all assignments, deadlines, and important concepts. \\n    * Create a dedicated study space and avoid distractions.\\n\\n**Remember:**  Success in Probability and Random Processes requires consistent effort and a deep understanding of the core concepts. By following this study plan and seeking help when needed, you will be well on your way to mastering this challenging but rewarding subject.\\n\""
      ]
     },
     "execution_count": 6,
     "metadata": {},
     "output_type": "execute_result"
    }
   ],
   "source": [
    "map_df.iloc[0, 1]"
   ]
  },
  {
   "cell_type": "markdown",
   "metadata": {},
   "source": [
    "### 4. `sem_agg`"
   ]
  },
  {
   "cell_type": "markdown",
   "metadata": {},
   "source": [
    "#### No optimizations"
   ]
  },
  {
   "cell_type": "code",
   "execution_count": 6,
   "metadata": {},
   "outputs": [
    {
     "name": "stdout",
     "output_type": "stream",
     "text": [
      "Loop 0: aggregate 11 rows\n"
     ]
    },
    {
     "name": "stderr",
     "output_type": "stream",
     "text": [
      "/usr/local/google/home/chelsealin/src/bigframes/bigframes/core/__init__.py:92: PreviewWarning: Interpreting JSON column(s) as StringDtype. This behavior may change in future versions.\n",
      "  warnings.warn(\n"
     ]
    },
    {
     "name": "stdout",
     "output_type": "stream",
     "text": [
      "Loop 1: aggregate 3 rows\n"
     ]
    },
    {
     "name": "stderr",
     "output_type": "stream",
     "text": [
      "/usr/local/google/home/chelsealin/src/bigframes/bigframes/core/__init__.py:92: PreviewWarning: Interpreting JSON column(s) as StringDtype. This behavior may change in future versions.\n",
      "  warnings.warn(\n"
     ]
    },
    {
     "data": {
      "text/plain": [
       "0    Answer: \n",
       "Here's a comprehensive study plan enc...\n",
       "Name: _lotus_doc, dtype: string"
      ]
     },
     "execution_count": 6,
     "metadata": {},
     "output_type": "execute_result"
    }
   ],
   "source": [
    "agg_df = df.sem_agg(\"Generate a study plan for all {Course Name}s\", model=model, target_level = None)\n",
    "agg_df"
   ]
  },
  {
   "cell_type": "code",
   "execution_count": 8,
   "metadata": {},
   "outputs": [
    {
     "data": {
      "text/plain": [
       "\"Answer: \\nHere's a comprehensive study plan encompassing all the listed courses:\\n\\n**Fundamentals:**\\n\\n* **Probability and Random Processes:**  Understand probability concepts, random variables, and stochastic processes.\\n* **Optimization Methods in Engineering:**  Explore optimization techniques and algorithms used in engineering applications.\\n* **Digital Design and Integrated Circuits:**  Learn about digital circuit design, logic gates, and integrated circuit fabrication.\\n* **Computer Security:**  Study security principles, vulnerabilities, and methods for protecting computer systems.\\n* **Operating Systems and Systems Programming:** Gain knowledge of operating system concepts, system programming, and resource management.\\n\\n**Computer Science Core:**\\n\\n* **Computer Networks:** Understand network protocols, topology, routing, and security.\\n* **Compilers:** Learn about programming languages, syntax analysis, semantic analysis, code generation, and optimization.\\n* **Databases:** Study database design, SQL, database management systems, and transaction processing.\\n\\n**Specializations:**\\n\\n* **Graphics:** Explore computer graphics algorithms, image processing, rendering techniques, and 3D modeling.\\n* **Deep Learning:** Dive into neural networks, machine learning concepts, deep learning frameworks, and applications. \\n\""
      ]
     },
     "execution_count": 8,
     "metadata": {},
     "output_type": "execute_result"
    }
   ],
   "source": [
    "agg_df.iloc[0]"
   ]
  },
  {
   "cell_type": "markdown",
   "metadata": {},
   "source": [
    "#### Optimization with given cluster ID"
   ]
  },
  {
   "cell_type": "code",
   "execution_count": 1,
   "metadata": {},
   "outputs": [
    {
     "name": "stderr",
     "output_type": "stream",
     "text": [
      "/usr/local/google/home/chelsealin/src/bigframes/bigframes/core/global_session.py:113: DefaultLocationWarning: No explicit location is set, so using location US for the session.\n",
      "  return func(get_global_session(), *args, **kwargs)\n"
     ]
    },
    {
     "name": "stdout",
     "output_type": "stream",
     "text": [
      "Loop 0: aggregate 11 rows\n"
     ]
    },
    {
     "name": "stderr",
     "output_type": "stream",
     "text": [
      "/usr/local/google/home/chelsealin/src/bigframes/bigframes/core/__init__.py:92: PreviewWarning: Interpreting JSON column(s) as StringDtype. This behavior may change in future versions.\n",
      "  warnings.warn(\n"
     ]
    },
    {
     "name": "stdout",
     "output_type": "stream",
     "text": [
      "Loop 1: aggregate 5 rows\n"
     ]
    },
    {
     "name": "stderr",
     "output_type": "stream",
     "text": [
      "/usr/local/google/home/chelsealin/src/bigframes/bigframes/core/__init__.py:92: PreviewWarning: Interpreting JSON column(s) as StringDtype. This behavior may change in future versions.\n",
      "  warnings.warn(\n"
     ]
    },
    {
     "name": "stdout",
     "output_type": "stream",
     "text": [
      "Loop 2: aggregate 4 rows\n",
      "Starting aggregation cross groups.\n"
     ]
    },
    {
     "name": "stderr",
     "output_type": "stream",
     "text": [
      "/usr/local/google/home/chelsealin/src/bigframes/bigframes/core/__init__.py:92: PreviewWarning: Interpreting JSON column(s) as StringDtype. This behavior may change in future versions.\n",
      "  warnings.warn(\n"
     ]
    },
    {
     "data": {
      "text/plain": [
       "0    Here's a study plan incorporating all the cour...\n",
       "Name: _lotus_doc, dtype: string"
      ]
     },
     "execution_count": 1,
     "metadata": {},
     "output_type": "execute_result"
    }
   ],
   "source": [
    "import numpy as np\n",
    "# TODO: generate cluster ID through embedding model.\n",
    "df['_lotus_partition_id'] = np.random.randint(0, 4, size=len(df))\n",
    "agg_df = df.sem_agg(\"Generate a study plan for all {Course Name}s\", model=model, num_batch = 5)\n",
    "agg_df"
   ]
  },
  {
   "cell_type": "code",
   "execution_count": 2,
   "metadata": {},
   "outputs": [
    {
     "data": {
      "text/plain": [
       "\"Here's a study plan incorporating all the courses provided:\\n\\n**Optimization Methods in Engineering:**\\n\\n1. **Master foundational math:**  Review calculus, linear algebra, and optimization principles.\\n2. **Explore optimization techniques:**  Grasp gradient descent, Lagrange multipliers, and other methods.\\n3. **Apply to engineering problems:**  Work through examples related to design, control, and resource allocation.\\n4. **Use software tools:**  Familiarize yourself with optimization libraries and software packages.\\n\\n**Digital Design and Integrated Circuits:**\\n\\n1. **Understand Boolean Algebra:**  Learn the basics of logic gates and Boolean operations.\\n2. **Master digital circuit design:** Design circuits with AND, OR, NOT gates, flip-flops, and memory elements.\\n3. **Explore circuit implementation:**  Learn about different types of memory, registers, and digital hardware.\\n4. **Practice with hardware description languages:**  Use VHDL or Verilog to design and simulate digital circuits.\\n\\n**Operating Systems and Systems Programming:**\\n\\n1. **Explore OS concepts:** Learn about processes, memory management, file systems, and scheduling.\\n2. **Understand system calls:** Familiarize yourself with how programs interact with the OS.\\n3. **Learn about concurrency:**  Study techniques for managing multiple processes and threads.\\n4. **Practice with programming:**  Write programs that interact with the operating system.\\n\\n**Graphics:**\\n\\n1. **Master 2D graphics concepts:**  Learn about transformations, color models, and rasterization.\\n2. **Explore 3D rendering:**  Understand 3D models, lighting, shading, and rendering techniques.\\n3. **Dive into animation:**  Learn principles of animation, keyframing, and motion design.\\n4. **Experiment with graphics software:** Use tools like Blender, Maya, or Unity to create graphics and animations.\\n\\n**Art History:**\\n\\n1. **Understand chronological periods:** Learn about major eras and styles in art history.\\n2. **Study influential artists:** Analyze the work of significant artists throughout history.\\n3. **Explore artistic movements:**  Learn about key artistic movements like Renaissance, Baroque, Impressionism, and Modernism.\\n4. **Engage with visual analysis:**  Develop skills to interpret and discuss artwork critically.\\n\\n**General Tips:**\\n\\n* **Set realistic goals:**  Break down large tasks into smaller, manageable chunks.\\n* **Use a variety of resources:** Utilize textbooks, online courses, lecture recordings, and practice problems.\\n* **Seek feedback and collaborate:**  Discuss concepts with classmates or seek help from instructors. \\n* **Review regularly:**  Consistent practice helps you retain information better. \\n\""
      ]
     },
     "execution_count": 2,
     "metadata": {},
     "output_type": "execute_result"
    }
   ],
   "source": [
    "agg_df.iloc[0]"
   ]
  },
  {
   "cell_type": "markdown",
   "metadata": {},
   "source": [
    "## Optimizations"
   ]
  },
  {
   "cell_type": "markdown",
   "metadata": {},
   "source": [
    "### Cascade Models"
   ]
  },
  {
   "cell_type": "code",
   "execution_count": 7,
   "metadata": {},
   "outputs": [],
   "source": [
    "# Cascade models, where the smaller model running first to save cost.\n",
    "large_model = GeminiTextGenerator(model_name=_GEMINI_1P5_PRO_001_ENDPOINT)\n",
    "small_model = GeminiTextGenerator(model_name=_GEMINI_1P5_FLASH_001_ENDPOINT)\n"
   ]
  },
  {
   "cell_type": "code",
   "execution_count": 8,
   "metadata": {},
   "outputs": [
    {
     "name": "stderr",
     "output_type": "stream",
     "text": [
      "/usr/local/google/home/chelsealin/src/bigframes/bigframes/core/__init__.py:92: PreviewWarning: Interpreting JSON column(s) as StringDtype. This behavior may change in future versions.\n",
      "  warnings.warn(\n",
      "/usr/local/google/home/chelsealin/src/bigframes/bigframes/core/__init__.py:92: PreviewWarning: Interpreting JSON column(s) as StringDtype. This behavior may change in future versions.\n",
      "  warnings.warn(\n"
     ]
    },
    {
     "name": "stdout",
     "output_type": "stream",
     "text": [
      "Debug:\n",
      "5 rows resolved by helper model.\n",
      "6 rows resolved by large model\n"
     ]
    },
    {
     "data": {
      "text/html": [
       "<div>\n",
       "<style scoped>\n",
       "    .dataframe tbody tr th:only-of-type {\n",
       "        vertical-align: middle;\n",
       "    }\n",
       "\n",
       "    .dataframe tbody tr th {\n",
       "        vertical-align: top;\n",
       "    }\n",
       "\n",
       "    .dataframe thead th {\n",
       "        text-align: right;\n",
       "    }\n",
       "</style>\n",
       "<table border=\"1\" class=\"dataframe\">\n",
       "  <thead>\n",
       "    <tr style=\"text-align: right;\">\n",
       "      <th></th>\n",
       "      <th>Course Name</th>\n",
       "      <th>helper_lm_results</th>\n",
       "      <th>helper_lm_confidence_scores</th>\n",
       "      <th>large_lm_results</th>\n",
       "      <th>large_lm_confidence_scores</th>\n",
       "    </tr>\n",
       "  </thead>\n",
       "  <tbody>\n",
       "    <tr>\n",
       "      <th>0</th>\n",
       "      <td>Probability and Random Processes</td>\n",
       "      <td>True</td>\n",
       "      <td>0.95</td>\n",
       "      <td>&lt;NA&gt;</td>\n",
       "      <td>&lt;NA&gt;</td>\n",
       "    </tr>\n",
       "    <tr>\n",
       "      <th>1</th>\n",
       "      <td>Optimization Methods in Engineering</td>\n",
       "      <td>True</td>\n",
       "      <td>0.99</td>\n",
       "      <td>&lt;NA&gt;</td>\n",
       "      <td>&lt;NA&gt;</td>\n",
       "    </tr>\n",
       "    <tr>\n",
       "      <th>2</th>\n",
       "      <td>Digital Design and Integrated Circuits</td>\n",
       "      <td>True</td>\n",
       "      <td>0.95</td>\n",
       "      <td>&lt;NA&gt;</td>\n",
       "      <td>&lt;NA&gt;</td>\n",
       "    </tr>\n",
       "    <tr>\n",
       "      <th>7</th>\n",
       "      <td>Deep Learning</td>\n",
       "      <td>True</td>\n",
       "      <td>0.95</td>\n",
       "      <td>&lt;NA&gt;</td>\n",
       "      <td>&lt;NA&gt;</td>\n",
       "    </tr>\n",
       "  </tbody>\n",
       "</table>\n",
       "<p>4 rows × 5 columns</p>\n",
       "</div>[4 rows x 5 columns in total]"
      ],
      "text/plain": [
       "                              Course Name  helper_lm_results  \\\n",
       "0        Probability and Random Processes               True   \n",
       "1     Optimization Methods in Engineering               True   \n",
       "2  Digital Design and Integrated Circuits               True   \n",
       "7                           Deep Learning               True   \n",
       "\n",
       "   helper_lm_confidence_scores  large_lm_results  large_lm_confidence_scores  \n",
       "0                         0.95              <NA>                        <NA>  \n",
       "1                         0.99              <NA>                        <NA>  \n",
       "2                         0.95              <NA>                        <NA>  \n",
       "7                         0.95              <NA>                        <NA>  \n",
       "\n",
       "[4 rows x 5 columns]"
      ]
     },
     "execution_count": 8,
     "metadata": {},
     "output_type": "execute_result"
    }
   ],
   "source": [
    "predict_df = df.sem_filter(\n",
    "    \"{Course Name} requires a lot of math\", \n",
    "    model=large_model, \n",
    "    small_model=small_model,\n",
    "    confidence_threshold=0.9, \n",
    "    logprobs=True\n",
    ")\n",
    "predict_df"
   ]
  },
  {
   "cell_type": "markdown",
   "metadata": {},
   "source": [
    "## Apply to the `bigquery-public-data.hacker_news.full` dataset"
   ]
  },
  {
   "cell_type": "markdown",
   "metadata": {},
   "source": [
    "### 1. Import required packages"
   ]
  },
  {
   "cell_type": "code",
   "execution_count": 12,
   "metadata": {},
   "outputs": [
    {
     "data": {
      "text/html": [
       "Query job ad58e4cf-38d6-4cfe-aa27-64a5125a1dff is DONE. 0 Bytes processed. <a target=\"_blank\" href=\"https://console.cloud.google.com/bigquery?project=bigframes-dev&j=bq:US:ad58e4cf-38d6-4cfe-aa27-64a5125a1dff&page=queryresults\">Open Job</a>"
      ],
      "text/plain": [
       "<IPython.core.display.HTML object>"
      ]
     },
     "metadata": {},
     "output_type": "display_data"
    },
    {
     "data": {
      "text/html": [
       "Query job a976d318-bd0a-409a-a722-13964433ef8c is DONE. 0 Bytes processed. <a target=\"_blank\" href=\"https://console.cloud.google.com/bigquery?project=bigframes-dev&j=bq:US:a976d318-bd0a-409a-a722-13964433ef8c&page=queryresults\">Open Job</a>"
      ],
      "text/plain": [
       "<IPython.core.display.HTML object>"
      ]
     },
     "metadata": {},
     "output_type": "display_data"
    }
   ],
   "source": [
    "import bigframes.pandas as bpd\n",
    "from bigframes.ml.llm import GeminiTextGenerator, _GEMINI_1P5_FLASH_001_ENDPOINT, _GEMINI_1P5_PRO_001_ENDPOINT\n",
    "\n",
    "large_model = GeminiTextGenerator(model_name=_GEMINI_1P5_PRO_001_ENDPOINT)\n",
    "small_model = GeminiTextGenerator(model_name=_GEMINI_1P5_FLASH_001_ENDPOINT)\n",
    "# Run 6s"
   ]
  },
  {
   "cell_type": "markdown",
   "metadata": {},
   "source": [
    "### 2. Read table and select columns\n",
    "\n",
    "- This dataset contains information on Hacker News stories and comments.\n",
    "- The dataset includes 41M rows in total"
   ]
  },
  {
   "cell_type": "code",
   "execution_count": 13,
   "metadata": {},
   "outputs": [
    {
     "name": "stderr",
     "output_type": "stream",
     "text": [
      "/usr/local/google/home/chelsealin/src/bigframes/venv/lib/python3.12/site-packages/IPython/core/interactiveshell.py:3577: UserWarning: Reading cached table from 2024-09-30 18:28:10.804889+00:00 to avoid incompatibilies with previous reads of this table. To read the latest version, set `use_cache=False` or close the current session with Session.close() or bigframes.pandas.close_session().\n",
      "  exec(code_obj, self.user_global_ns, self.user_ns)\n"
     ]
    },
    {
     "data": {
      "text/html": [
       "Query job f501ee38-0232-4fb2-8741-93e9f26356e3 is DONE. 0 Bytes processed. <a target=\"_blank\" href=\"https://console.cloud.google.com/bigquery?project=bigframes-dev&j=bq:US:f501ee38-0232-4fb2-8741-93e9f26356e3&page=queryresults\">Open Job</a>"
      ],
      "text/plain": [
       "<IPython.core.display.HTML object>"
      ]
     },
     "metadata": {},
     "output_type": "display_data"
    },
    {
     "data": {
      "text/html": [
       "Query job f89d7190-bfb0-41c0-99ae-da65eb65d234 is DONE. 0 Bytes processed. <a target=\"_blank\" href=\"https://console.cloud.google.com/bigquery?project=bigframes-dev&j=bq:US:f89d7190-bfb0-41c0-99ae-da65eb65d234&page=queryresults\">Open Job</a>"
      ],
      "text/plain": [
       "<IPython.core.display.HTML object>"
      ]
     },
     "metadata": {},
     "output_type": "display_data"
    },
    {
     "data": {
      "text/html": [
       "<div>\n",
       "<style scoped>\n",
       "    .dataframe tbody tr th:only-of-type {\n",
       "        vertical-align: middle;\n",
       "    }\n",
       "\n",
       "    .dataframe tbody tr th {\n",
       "        vertical-align: top;\n",
       "    }\n",
       "\n",
       "    .dataframe thead th {\n",
       "        text-align: right;\n",
       "    }\n",
       "</style>\n",
       "<table border=\"1\" class=\"dataframe\">\n",
       "  <thead>\n",
       "    <tr style=\"text-align: right;\">\n",
       "      <th></th>\n",
       "      <th>title</th>\n",
       "      <th>text</th>\n",
       "      <th>by</th>\n",
       "      <th>score</th>\n",
       "      <th>time</th>\n",
       "    </tr>\n",
       "  </thead>\n",
       "  <tbody>\n",
       "    <tr>\n",
       "      <th>0</th>\n",
       "      <td>&lt;NA&gt;</td>\n",
       "      <td>Well, most people aren&amp;#x27;t alcoholics, so I...</td>\n",
       "      <td>slipframe</td>\n",
       "      <td>&lt;NA&gt;</td>\n",
       "      <td>1624675076</td>\n",
       "    </tr>\n",
       "    <tr>\n",
       "      <th>1</th>\n",
       "      <td>&lt;NA&gt;</td>\n",
       "      <td>No, you don&amp;#x27;t really &lt;i&gt;need&lt;/i&gt; a smartp...</td>\n",
       "      <td>vetinari</td>\n",
       "      <td>&lt;NA&gt;</td>\n",
       "      <td>1681919794</td>\n",
       "    </tr>\n",
       "    <tr>\n",
       "      <th>2</th>\n",
       "      <td>&lt;NA&gt;</td>\n",
       "      <td>It&amp;#x27;s for the late Paul Allen RIP. Should&amp;...</td>\n",
       "      <td>lsr_ssri</td>\n",
       "      <td>&lt;NA&gt;</td>\n",
       "      <td>1539652075</td>\n",
       "    </tr>\n",
       "    <tr>\n",
       "      <th>3</th>\n",
       "      <td>&lt;NA&gt;</td>\n",
       "      <td>Yup they are dangerous. Be careful Donald Trump.</td>\n",
       "      <td>Sven7</td>\n",
       "      <td>&lt;NA&gt;</td>\n",
       "      <td>1439222754</td>\n",
       "    </tr>\n",
       "    <tr>\n",
       "      <th>4</th>\n",
       "      <td>&lt;NA&gt;</td>\n",
       "      <td>Sure, it&amp;#x27;s totally reasonable. Just point...</td>\n",
       "      <td>nicoburns</td>\n",
       "      <td>&lt;NA&gt;</td>\n",
       "      <td>1601896851</td>\n",
       "    </tr>\n",
       "    <tr>\n",
       "      <th>...</th>\n",
       "      <td>...</td>\n",
       "      <td>...</td>\n",
       "      <td>...</td>\n",
       "      <td>...</td>\n",
       "      <td>...</td>\n",
       "    </tr>\n",
       "    <tr>\n",
       "      <th>9995</th>\n",
       "      <td>LinkedIn rival Viadeo acquires French startup ...</td>\n",
       "      <td>&lt;NA&gt;</td>\n",
       "      <td>jmfork</td>\n",
       "      <td>2</td>\n",
       "      <td>1358159590</td>\n",
       "    </tr>\n",
       "    <tr>\n",
       "      <th>9996</th>\n",
       "      <td>&lt;NA&gt;</td>\n",
       "      <td>I think it&amp;#x27;s true, as the blog author not...</td>\n",
       "      <td>borepop</td>\n",
       "      <td>&lt;NA&gt;</td>\n",
       "      <td>1608045566</td>\n",
       "    </tr>\n",
       "    <tr>\n",
       "      <th>9997</th>\n",
       "      <td>Nvidia to Android: We're Just Not That Into You</td>\n",
       "      <td>&lt;NA&gt;</td>\n",
       "      <td>kungfudoi</td>\n",
       "      <td>1</td>\n",
       "      <td>1245950208</td>\n",
       "    </tr>\n",
       "    <tr>\n",
       "      <th>9998</th>\n",
       "      <td>&lt;NA&gt;</td>\n",
       "      <td>How do you propose I&amp;#x27;d be caught? This is...</td>\n",
       "      <td>TangoTrotFox</td>\n",
       "      <td>&lt;NA&gt;</td>\n",
       "      <td>1541520331</td>\n",
       "    </tr>\n",
       "    <tr>\n",
       "      <th>9999</th>\n",
       "      <td>&lt;NA&gt;</td>\n",
       "      <td>My gut refuses to believe it, but my brain und...</td>\n",
       "      <td>jrootabega</td>\n",
       "      <td>&lt;NA&gt;</td>\n",
       "      <td>1680096116</td>\n",
       "    </tr>\n",
       "  </tbody>\n",
       "</table>\n",
       "<p>10000 rows × 5 columns</p>\n",
       "</div>[10000 rows x 5 columns in total]"
      ],
      "text/plain": [
       "                                                  title  \\\n",
       "0                                                  <NA>   \n",
       "1                                                  <NA>   \n",
       "2                                                  <NA>   \n",
       "3                                                  <NA>   \n",
       "4                                                  <NA>   \n",
       "...                                                 ...   \n",
       "9995  LinkedIn rival Viadeo acquires French startup ...   \n",
       "9996                                               <NA>   \n",
       "9997    Nvidia to Android: We're Just Not That Into You   \n",
       "9998                                               <NA>   \n",
       "9999                                               <NA>   \n",
       "\n",
       "                                                   text            by  score  \\\n",
       "0     Well, most people aren&#x27;t alcoholics, so I...     slipframe   <NA>   \n",
       "1     No, you don&#x27;t really <i>need</i> a smartp...      vetinari   <NA>   \n",
       "2     It&#x27;s for the late Paul Allen RIP. Should&...      lsr_ssri   <NA>   \n",
       "3      Yup they are dangerous. Be careful Donald Trump.         Sven7   <NA>   \n",
       "4     Sure, it&#x27;s totally reasonable. Just point...     nicoburns   <NA>   \n",
       "...                                                 ...           ...    ...   \n",
       "9995                                               <NA>        jmfork      2   \n",
       "9996  I think it&#x27;s true, as the blog author not...       borepop   <NA>   \n",
       "9997                                               <NA>     kungfudoi      1   \n",
       "9998  How do you propose I&#x27;d be caught? This is...  TangoTrotFox   <NA>   \n",
       "9999  My gut refuses to believe it, but my brain und...    jrootabega   <NA>   \n",
       "\n",
       "            time  \n",
       "0     1624675076  \n",
       "1     1681919794  \n",
       "2     1539652075  \n",
       "3     1439222754  \n",
       "4     1601896851  \n",
       "...          ...  \n",
       "9995  1358159590  \n",
       "9996  1608045566  \n",
       "9997  1245950208  \n",
       "9998  1541520331  \n",
       "9999  1680096116  \n",
       "...\n",
       "\n",
       "[10000 rows x 5 columns]"
      ]
     },
     "execution_count": 13,
     "metadata": {},
     "output_type": "execute_result"
    }
   ],
   "source": [
    "hacker_news = bpd.read_gbq(\"bigquery-public-data.hacker_news.full\")\n",
    "hacker_news = hacker_news[[\"title\", \"text\", \"by\", \"score\", \"time\"]].head(10000)\n",
    "hacker_news\n",
    "# Run 4s"
   ]
  },
  {
   "cell_type": "markdown",
   "metadata": {},
   "source": [
    "### 3. Filter titles related to \"Art\""
   ]
  },
  {
   "cell_type": "code",
   "execution_count": 14,
   "metadata": {},
   "outputs": [
    {
     "data": {
      "text/html": [
       "Query job a372e64a-afc3-439a-b0d4-cdf7ac853a36 is DONE. 3.8 MB processed. <a target=\"_blank\" href=\"https://console.cloud.google.com/bigquery?project=bigframes-dev&j=bq:US:a372e64a-afc3-439a-b0d4-cdf7ac853a36&page=queryresults\">Open Job</a>"
      ],
      "text/plain": [
       "<IPython.core.display.HTML object>"
      ]
     },
     "metadata": {},
     "output_type": "display_data"
    },
    {
     "data": {
      "text/html": [
       "Query job fea1e1fb-3467-4ebb-893d-13636ec09338 is DONE. 164.0 kB processed. <a target=\"_blank\" href=\"https://console.cloud.google.com/bigquery?project=bigframes-dev&j=bq:US:fea1e1fb-3467-4ebb-893d-13636ec09338&page=queryresults\">Open Job</a>"
      ],
      "text/plain": [
       "<IPython.core.display.HTML object>"
      ]
     },
     "metadata": {},
     "output_type": "display_data"
    },
    {
     "data": {
      "text/html": [
       "Query job 5b5a65db-dcf0-4a0c-a18c-5fb7f7a619a9 is DONE. 164.0 kB processed. <a target=\"_blank\" href=\"https://console.cloud.google.com/bigquery?project=bigframes-dev&j=bq:US:5b5a65db-dcf0-4a0c-a18c-5fb7f7a619a9&page=queryresults\">Open Job</a>"
      ],
      "text/plain": [
       "<IPython.core.display.HTML object>"
      ]
     },
     "metadata": {},
     "output_type": "display_data"
    },
    {
     "data": {
      "text/html": [
       "<div>\n",
       "<style scoped>\n",
       "    .dataframe tbody tr th:only-of-type {\n",
       "        vertical-align: middle;\n",
       "    }\n",
       "\n",
       "    .dataframe tbody tr th {\n",
       "        vertical-align: top;\n",
       "    }\n",
       "\n",
       "    .dataframe thead th {\n",
       "        text-align: right;\n",
       "    }\n",
       "</style>\n",
       "<table border=\"1\" class=\"dataframe\">\n",
       "  <thead>\n",
       "    <tr style=\"text-align: right;\">\n",
       "      <th></th>\n",
       "      <th>title</th>\n",
       "      <th>text</th>\n",
       "      <th>by</th>\n",
       "      <th>score</th>\n",
       "      <th>time</th>\n",
       "    </tr>\n",
       "  </thead>\n",
       "  <tbody>\n",
       "    <tr>\n",
       "      <th>6</th>\n",
       "      <td>The Impending NY Tech Apocalypse: Here's What ...</td>\n",
       "      <td>&lt;NA&gt;</td>\n",
       "      <td>gaoprea</td>\n",
       "      <td>3</td>\n",
       "      <td>1317163407</td>\n",
       "    </tr>\n",
       "    <tr>\n",
       "      <th>8</th>\n",
       "      <td>Eureca beta is live. A place for your business...</td>\n",
       "      <td>&lt;NA&gt;</td>\n",
       "      <td>ricardos</td>\n",
       "      <td>1</td>\n",
       "      <td>1350306572</td>\n",
       "    </tr>\n",
       "    <tr>\n",
       "      <th>15</th>\n",
       "      <td>Discord vs. IRC Rough Notes</td>\n",
       "      <td>&lt;NA&gt;</td>\n",
       "      <td>todsacerdoti</td>\n",
       "      <td>48</td>\n",
       "      <td>1720809592</td>\n",
       "    </tr>\n",
       "    <tr>\n",
       "      <th>21</th>\n",
       "      <td>Oh dear: new Yahoo anti-spoofing measures brea...</td>\n",
       "      <td>&lt;NA&gt;</td>\n",
       "      <td>joshreads</td>\n",
       "      <td>1</td>\n",
       "      <td>1396963790</td>\n",
       "    </tr>\n",
       "    <tr>\n",
       "      <th>22</th>\n",
       "      <td>How Much Warmer Was Your City in 2016?</td>\n",
       "      <td>&lt;NA&gt;</td>\n",
       "      <td>smb06</td>\n",
       "      <td>1</td>\n",
       "      <td>1487287594</td>\n",
       "    </tr>\n",
       "    <tr>\n",
       "      <th>...</th>\n",
       "      <td>...</td>\n",
       "      <td>...</td>\n",
       "      <td>...</td>\n",
       "      <td>...</td>\n",
       "      <td>...</td>\n",
       "    </tr>\n",
       "    <tr>\n",
       "      <th>9977</th>\n",
       "      <td>Ask HN: Sharing a dedicated server</td>\n",
       "      <td>Had an idea that I would like some feedback on...</td>\n",
       "      <td>idiet</td>\n",
       "      <td>2</td>\n",
       "      <td>1401901111</td>\n",
       "    </tr>\n",
       "    <tr>\n",
       "      <th>9986</th>\n",
       "      <td>How to Launch on Product Hunt</td>\n",
       "      <td>&lt;NA&gt;</td>\n",
       "      <td>debdutmukherjee</td>\n",
       "      <td>3</td>\n",
       "      <td>1554441805</td>\n",
       "    </tr>\n",
       "    <tr>\n",
       "      <th>9993</th>\n",
       "      <td>Show HN: Free, open source JavaScript and mong...</td>\n",
       "      <td>&lt;NA&gt;</td>\n",
       "      <td>jdawg77</td>\n",
       "      <td>3</td>\n",
       "      <td>1422419156</td>\n",
       "    </tr>\n",
       "    <tr>\n",
       "      <th>9995</th>\n",
       "      <td>LinkedIn rival Viadeo acquires French startup ...</td>\n",
       "      <td>&lt;NA&gt;</td>\n",
       "      <td>jmfork</td>\n",
       "      <td>2</td>\n",
       "      <td>1358159590</td>\n",
       "    </tr>\n",
       "    <tr>\n",
       "      <th>9997</th>\n",
       "      <td>Nvidia to Android: We're Just Not That Into You</td>\n",
       "      <td>&lt;NA&gt;</td>\n",
       "      <td>kungfudoi</td>\n",
       "      <td>1</td>\n",
       "      <td>1245950208</td>\n",
       "    </tr>\n",
       "  </tbody>\n",
       "</table>\n",
       "<p>1201 rows × 5 columns</p>\n",
       "</div>[1201 rows x 5 columns in total]"
      ],
      "text/plain": [
       "                                                  title  \\\n",
       "6     The Impending NY Tech Apocalypse: Here's What ...   \n",
       "8     Eureca beta is live. A place for your business...   \n",
       "15                          Discord vs. IRC Rough Notes   \n",
       "21    Oh dear: new Yahoo anti-spoofing measures brea...   \n",
       "22               How Much Warmer Was Your City in 2016?   \n",
       "...                                                 ...   \n",
       "9977                 Ask HN: Sharing a dedicated server   \n",
       "9986                      How to Launch on Product Hunt   \n",
       "9993  Show HN: Free, open source JavaScript and mong...   \n",
       "9995  LinkedIn rival Viadeo acquires French startup ...   \n",
       "9997    Nvidia to Android: We're Just Not That Into You   \n",
       "\n",
       "                                                   text               by  \\\n",
       "6                                                  <NA>          gaoprea   \n",
       "8                                                  <NA>         ricardos   \n",
       "15                                                 <NA>     todsacerdoti   \n",
       "21                                                 <NA>        joshreads   \n",
       "22                                                 <NA>            smb06   \n",
       "...                                                 ...              ...   \n",
       "9977  Had an idea that I would like some feedback on...            idiet   \n",
       "9986                                               <NA>  debdutmukherjee   \n",
       "9993                                               <NA>          jdawg77   \n",
       "9995                                               <NA>           jmfork   \n",
       "9997                                               <NA>        kungfudoi   \n",
       "\n",
       "      score        time  \n",
       "6         3  1317163407  \n",
       "8         1  1350306572  \n",
       "15       48  1720809592  \n",
       "21        1  1396963790  \n",
       "22        1  1487287594  \n",
       "...     ...         ...  \n",
       "9977      2  1401901111  \n",
       "9986      3  1554441805  \n",
       "9993      3  1422419156  \n",
       "9995      2  1358159590  \n",
       "9997      1  1245950208  \n",
       "...\n",
       "\n",
       "[1201 rows x 5 columns]"
      ]
     },
     "execution_count": 14,
     "metadata": {},
     "output_type": "execute_result"
    }
   ],
   "source": [
    "hacker_news_w_title = hacker_news[hacker_news[\"title\"].isnull() == False]\n",
    "hacker_news_w_title\n",
    "# Run 6s"
   ]
  },
  {
   "cell_type": "code",
   "execution_count": 15,
   "metadata": {},
   "outputs": [
    {
     "data": {
      "text/html": [
       "Query job bcbbd152-afe7-4848-b108-fdd3edd09f2a is RUNNING. <a target=\"_blank\" href=\"https://console.cloud.google.com/bigquery?project=bigframes-dev&j=bq:US:bcbbd152-afe7-4848-b108-fdd3edd09f2a&page=queryresults\">Open Job</a>"
      ],
      "text/plain": [
       "<IPython.core.display.HTML object>"
      ]
     },
     "metadata": {},
     "output_type": "display_data"
    }
   ],
   "source": [
    "art_hacker_news = hacker_news_w_title.sem_filter(\"{title} is related to Art\", model=large_model)\n",
    "art_hacker_news\n",
    "# Run TODO"
   ]
  },
  {
   "cell_type": "markdown",
   "metadata": {},
   "source": [
    "### 4. Cascade model performance"
   ]
  },
  {
   "cell_type": "code",
   "execution_count": null,
   "metadata": {},
   "outputs": [],
   "source": [
    "art_hacker_news = hacker_news_w_title.sem_filter(\"Is {title} related to Art\", model=large_model, helper_model=small_model)\n",
    "art_hacker_news"
   ]
  },
  {
   "cell_type": "markdown",
   "metadata": {},
   "source": [
    "### 5. Automatically refill the missed title"
   ]
  },
  {
   "cell_type": "code",
   "execution_count": null,
   "metadata": {},
   "outputs": [],
   "source": [
    "hacker_news_wo_title = hacker_news[hacker_news[\"title\"].isnull()].head(100)\n",
    "hacker_news_gai_title = hacker_news_wo_title.sem_map(\"Generate a short title for the given context: {text}\", model=large_model)\n",
    "hacker_news_gai_title = hacker_news_gai_title[hacker_news_gai_title[\"title\"].isnull()]\n",
    "hacker_news_gai_title"
   ]
  }
 ],
 "metadata": {
  "kernelspec": {
   "display_name": "venv",
   "language": "python",
   "name": "python3"
  },
  "language_info": {
   "codemirror_mode": {
    "name": "ipython",
    "version": 3
   },
   "file_extension": ".py",
   "mimetype": "text/x-python",
   "name": "python",
   "nbconvert_exporter": "python",
   "pygments_lexer": "ipython3",
   "version": "3.12.1"
  }
 },
 "nbformat": 4,
 "nbformat_minor": 2
}
