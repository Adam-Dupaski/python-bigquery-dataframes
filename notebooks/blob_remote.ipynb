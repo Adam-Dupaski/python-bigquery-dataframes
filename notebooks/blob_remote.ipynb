{
 "cells": [
  {
   "cell_type": "code",
   "execution_count": 2,
   "metadata": {},
   "outputs": [],
   "source": [
    "import bigframes.pandas as bpd"
   ]
  },
  {
   "cell_type": "code",
   "execution_count": 3,
   "metadata": {},
   "outputs": [
    {
     "name": "stderr",
     "output_type": "stream",
     "text": [
      "/usr/local/google/home/garrettwu/src/bigframes/bigframes/session/__init__.py:2033: UserWarning: No explicit location is set, so using location US for the session.\n",
      "  return Session(context)\n"
     ]
    },
    {
     "data": {
      "text/html": [
       "Query job 2346d4cb-6d0e-4f60-b626-41cca051e0bf is DONE. 0 Bytes processed. <a target=\"_blank\" href=\"https://console.cloud.google.com/bigquery?project=bigframes-dev&j=bq:US:2346d4cb-6d0e-4f60-b626-41cca051e0bf&page=queryresults\">Open Job</a>"
      ],
      "text/plain": [
       "<IPython.core.display.HTML object>"
      ]
     },
     "metadata": {},
     "output_type": "display_data"
    },
    {
     "data": {
      "text/html": [
       "Query job 151f03ba-7b4d-4372-beea-f67f6f518886 is DONE. 0 Bytes processed. <a target=\"_blank\" href=\"https://console.cloud.google.com/bigquery?project=bigframes-dev&j=bq:US:151f03ba-7b4d-4372-beea-f67f6f518886&page=queryresults\">Open Job</a>"
      ],
      "text/plain": [
       "<IPython.core.display.HTML object>"
      ]
     },
     "metadata": {},
     "output_type": "display_data"
    }
   ],
   "source": [
    "df = bpd.from_glob_path(\"gs://garrettwu_bucket/images_kaggle/cats/*\")"
   ]
  },
  {
   "cell_type": "code",
   "execution_count": null,
   "metadata": {},
   "outputs": [],
   "source": [
    "df"
   ]
  },
  {
   "cell_type": "code",
   "execution_count": null,
   "metadata": {},
   "outputs": [],
   "source": [
    "df[\"blurred_remote\"] = df[\"uri\"].blob.img_blur((8, 8), \"images_kaggle/cats/images_blurred_remote\", mode=\"remote\")"
   ]
  },
  {
   "cell_type": "code",
   "execution_count": null,
   "metadata": {},
   "outputs": [],
   "source": [
    "df[\"blurred_local\"] = df[\"uri\"].blob.img_blur((8, 8), \"images_kaggle/cats/images_blurred_local\", mode=\"local\")"
   ]
  },
  {
   "cell_type": "code",
   "execution_count": null,
   "metadata": {},
   "outputs": [],
   "source": [
    "df[\"blurred_remote\"] = df[\"uri\"].blob.img_blur((8, 8), \"images_kaggle/cats/images_blurred_remote\", mode=\"remote\")"
   ]
  },
  {
   "cell_type": "code",
   "execution_count": null,
   "metadata": {},
   "outputs": [],
   "source": [
    "df[\"blurred_remote\"].head().blob.display()"
   ]
  },
  {
   "cell_type": "code",
   "execution_count": null,
   "metadata": {},
   "outputs": [],
   "source": [
    "df1 = bpd.DataFrame({\"uri\": [\"gs://garrettwu_bucket/images_kaggle/cars/carsgraz_001.bmp\"]})"
   ]
  },
  {
   "cell_type": "code",
   "execution_count": null,
   "metadata": {},
   "outputs": [],
   "source": [
    "df1[\"blurred_local\"] = df1[\"uri\"].blob.img_blur((8, 8), \"images_kaggle/cars/images_blurred_local\", mode=\"local\")"
   ]
  },
  {
   "cell_type": "code",
   "execution_count": null,
   "metadata": {},
   "outputs": [],
   "source": [
    "df1[\"uri\"].blob.display()"
   ]
  },
  {
   "cell_type": "code",
   "execution_count": null,
   "metadata": {},
   "outputs": [],
   "source": [
    "df1[\"blurred_local\"].blob.display()"
   ]
  },
  {
   "cell_type": "code",
   "execution_count": 4,
   "metadata": {},
   "outputs": [
    {
     "data": {
      "text/html": [
       "Query job 5e48fd1c-628d-4278-8abe-e24a755b2062 is DONE. 0 Bytes processed. <a target=\"_blank\" href=\"https://console.cloud.google.com/bigquery?project=bigframes-dev&j=bq:US:5e48fd1c-628d-4278-8abe-e24a755b2062&page=queryresults\">Open Job</a>"
      ],
      "text/plain": [
       "<IPython.core.display.HTML object>"
      ]
     },
     "metadata": {},
     "output_type": "display_data"
    },
    {
     "data": {
      "text/html": [
       "Query job e5816b8d-feb0-4f9a-b34a-402aa9bc16c1 is DONE. 0 Bytes processed. <a target=\"_blank\" href=\"https://console.cloud.google.com/bigquery?project=bigframes-dev&j=bq:US:e5816b8d-feb0-4f9a-b34a-402aa9bc16c1&page=queryresults\">Open Job</a>"
      ],
      "text/plain": [
       "<IPython.core.display.HTML object>"
      ]
     },
     "metadata": {},
     "output_type": "display_data"
    }
   ],
   "source": [
    "df2 = bpd.from_glob_path(\"gs://garrettwu_bucket/images_kaggle/*\")"
   ]
  },
  {
   "cell_type": "code",
   "execution_count": 5,
   "metadata": {},
   "outputs": [
    {
     "data": {
      "text/html": [
       "Query job 6f78c268-15c9-449c-a53f-640773f1ae3b is DONE. 222.1 kB processed. <a target=\"_blank\" href=\"https://console.cloud.google.com/bigquery?project=bigframes-dev&j=bq:US:6f78c268-15c9-449c-a53f-640773f1ae3b&page=queryresults\">Open Job</a>"
      ],
      "text/plain": [
       "<IPython.core.display.HTML object>"
      ]
     },
     "metadata": {},
     "output_type": "display_data"
    },
    {
     "data": {
      "text/html": [
       "Query job 7b4916e4-fdd7-411a-b526-a4a45beabe37 is DONE. 0 Bytes processed. <a target=\"_blank\" href=\"https://console.cloud.google.com/bigquery?project=bigframes-dev&j=bq:US:7b4916e4-fdd7-411a-b526-a4a45beabe37&page=queryresults\">Open Job</a>"
      ],
      "text/plain": [
       "<IPython.core.display.HTML object>"
      ]
     },
     "metadata": {},
     "output_type": "display_data"
    },
    {
     "data": {
      "text/html": [
       "Query job b64ba8e0-3e95-4655-b1d5-9c4614418d8f is DONE. 129.7 kB processed. <a target=\"_blank\" href=\"https://console.cloud.google.com/bigquery?project=bigframes-dev&j=bq:US:b64ba8e0-3e95-4655-b1d5-9c4614418d8f&page=queryresults\">Open Job</a>"
      ],
      "text/plain": [
       "<IPython.core.display.HTML object>"
      ]
     },
     "metadata": {},
     "output_type": "display_data"
    },
    {
     "data": {
      "text/html": [
       "<div>\n",
       "<style scoped>\n",
       "    .dataframe tbody tr th:only-of-type {\n",
       "        vertical-align: middle;\n",
       "    }\n",
       "\n",
       "    .dataframe tbody tr th {\n",
       "        vertical-align: top;\n",
       "    }\n",
       "\n",
       "    .dataframe thead th {\n",
       "        text-align: right;\n",
       "    }\n",
       "</style>\n",
       "<table border=\"1\" class=\"dataframe\">\n",
       "  <thead>\n",
       "    <tr style=\"text-align: right;\">\n",
       "      <th></th>\n",
       "      <th>uri</th>\n",
       "    </tr>\n",
       "  </thead>\n",
       "  <tbody>\n",
       "    <tr>\n",
       "      <th>0</th>\n",
       "      <td>gs://garrettwu_bucket/images_kaggle/cars/carsg...</td>\n",
       "    </tr>\n",
       "    <tr>\n",
       "      <th>1</th>\n",
       "      <td>gs://garrettwu_bucket/images_kaggle/cars/carsg...</td>\n",
       "    </tr>\n",
       "    <tr>\n",
       "      <th>2</th>\n",
       "      <td>gs://garrettwu_bucket/images_kaggle/cats/cat.4...</td>\n",
       "    </tr>\n",
       "    <tr>\n",
       "      <th>3</th>\n",
       "      <td>gs://garrettwu_bucket/images_kaggle/cats/cat.1...</td>\n",
       "    </tr>\n",
       "    <tr>\n",
       "      <th>4</th>\n",
       "      <td>gs://garrettwu_bucket/images_kaggle/human/ride...</td>\n",
       "    </tr>\n",
       "    <tr>\n",
       "      <th>5</th>\n",
       "      <td>gs://garrettwu_bucket/images_kaggle/horses/hor...</td>\n",
       "    </tr>\n",
       "    <tr>\n",
       "      <th>6</th>\n",
       "      <td>gs://garrettwu_bucket/images_kaggle/cars/carsg...</td>\n",
       "    </tr>\n",
       "    <tr>\n",
       "      <th>7</th>\n",
       "      <td>gs://garrettwu_bucket/images_kaggle/human/ride...</td>\n",
       "    </tr>\n",
       "    <tr>\n",
       "      <th>8</th>\n",
       "      <td>gs://garrettwu_bucket/images_kaggle/bike/bike_...</td>\n",
       "    </tr>\n",
       "    <tr>\n",
       "      <th>9</th>\n",
       "      <td>gs://garrettwu_bucket/images_kaggle/human/ride...</td>\n",
       "    </tr>\n",
       "    <tr>\n",
       "      <th>10</th>\n",
       "      <td>gs://garrettwu_bucket/images_kaggle/bike/bike_...</td>\n",
       "    </tr>\n",
       "    <tr>\n",
       "      <th>11</th>\n",
       "      <td>gs://garrettwu_bucket/images_kaggle/bike/bike_...</td>\n",
       "    </tr>\n",
       "    <tr>\n",
       "      <th>12</th>\n",
       "      <td>gs://garrettwu_bucket/images_kaggle/human/ride...</td>\n",
       "    </tr>\n",
       "    <tr>\n",
       "      <th>13</th>\n",
       "      <td>gs://garrettwu_bucket/images_kaggle/flowers/00...</td>\n",
       "    </tr>\n",
       "    <tr>\n",
       "      <th>14</th>\n",
       "      <td>gs://garrettwu_bucket/images_kaggle/cars/carsg...</td>\n",
       "    </tr>\n",
       "    <tr>\n",
       "      <th>15</th>\n",
       "      <td>gs://garrettwu_bucket/images_kaggle/bike/bike_...</td>\n",
       "    </tr>\n",
       "    <tr>\n",
       "      <th>16</th>\n",
       "      <td>gs://garrettwu_bucket/images_kaggle/cars/carsg...</td>\n",
       "    </tr>\n",
       "    <tr>\n",
       "      <th>17</th>\n",
       "      <td>gs://garrettwu_bucket/images_kaggle/bike/bike_...</td>\n",
       "    </tr>\n",
       "    <tr>\n",
       "      <th>18</th>\n",
       "      <td>gs://garrettwu_bucket/images_kaggle/cats/cat.5...</td>\n",
       "    </tr>\n",
       "    <tr>\n",
       "      <th>19</th>\n",
       "      <td>gs://garrettwu_bucket/images_kaggle/bike/bike_...</td>\n",
       "    </tr>\n",
       "    <tr>\n",
       "      <th>20</th>\n",
       "      <td>gs://garrettwu_bucket/images_kaggle/human/ride...</td>\n",
       "    </tr>\n",
       "    <tr>\n",
       "      <th>21</th>\n",
       "      <td>gs://garrettwu_bucket/images_kaggle/bike/bike_...</td>\n",
       "    </tr>\n",
       "    <tr>\n",
       "      <th>22</th>\n",
       "      <td>gs://garrettwu_bucket/images_kaggle/bike/bike_...</td>\n",
       "    </tr>\n",
       "    <tr>\n",
       "      <th>23</th>\n",
       "      <td>gs://garrettwu_bucket/images_kaggle/cats/cat.7...</td>\n",
       "    </tr>\n",
       "    <tr>\n",
       "      <th>24</th>\n",
       "      <td>gs://garrettwu_bucket/images_kaggle/cars/carsg...</td>\n",
       "    </tr>\n",
       "  </tbody>\n",
       "</table>\n",
       "<p>25 rows × 1 columns</p>\n",
       "</div>[1803 rows x 1 columns in total]"
      ],
      "text/plain": [
       "                                                  uri\n",
       "0   gs://garrettwu_bucket/images_kaggle/cars/carsg...\n",
       "1   gs://garrettwu_bucket/images_kaggle/cars/carsg...\n",
       "2   gs://garrettwu_bucket/images_kaggle/cats/cat.4...\n",
       "3   gs://garrettwu_bucket/images_kaggle/cats/cat.1...\n",
       "4   gs://garrettwu_bucket/images_kaggle/human/ride...\n",
       "5   gs://garrettwu_bucket/images_kaggle/horses/hor...\n",
       "6   gs://garrettwu_bucket/images_kaggle/cars/carsg...\n",
       "7   gs://garrettwu_bucket/images_kaggle/human/ride...\n",
       "8   gs://garrettwu_bucket/images_kaggle/bike/bike_...\n",
       "9   gs://garrettwu_bucket/images_kaggle/human/ride...\n",
       "10  gs://garrettwu_bucket/images_kaggle/bike/bike_...\n",
       "11  gs://garrettwu_bucket/images_kaggle/bike/bike_...\n",
       "12  gs://garrettwu_bucket/images_kaggle/human/ride...\n",
       "13  gs://garrettwu_bucket/images_kaggle/flowers/00...\n",
       "14  gs://garrettwu_bucket/images_kaggle/cars/carsg...\n",
       "15  gs://garrettwu_bucket/images_kaggle/bike/bike_...\n",
       "16  gs://garrettwu_bucket/images_kaggle/cars/carsg...\n",
       "17  gs://garrettwu_bucket/images_kaggle/bike/bike_...\n",
       "18  gs://garrettwu_bucket/images_kaggle/cats/cat.5...\n",
       "19  gs://garrettwu_bucket/images_kaggle/bike/bike_...\n",
       "20  gs://garrettwu_bucket/images_kaggle/human/ride...\n",
       "21  gs://garrettwu_bucket/images_kaggle/bike/bike_...\n",
       "22  gs://garrettwu_bucket/images_kaggle/bike/bike_...\n",
       "23  gs://garrettwu_bucket/images_kaggle/cats/cat.7...\n",
       "24  gs://garrettwu_bucket/images_kaggle/cars/carsg...\n",
       "...\n",
       "\n",
       "[1803 rows x 1 columns]"
      ]
     },
     "execution_count": 5,
     "metadata": {},
     "output_type": "execute_result"
    }
   ],
   "source": [
    "df2"
   ]
  },
  {
   "cell_type": "code",
   "execution_count": 7,
   "metadata": {},
   "outputs": [
    {
     "data": {
      "text/html": [
       "Query job fb85a378-d130-4f13-9373-b39d06a8f45d is DONE. 158.5 kB processed. <a target=\"_blank\" href=\"https://console.cloud.google.com/bigquery?project=bigframes-dev&j=bq:US:fb85a378-d130-4f13-9373-b39d06a8f45d&page=queryresults\">Open Job</a>"
      ],
      "text/plain": [
       "<IPython.core.display.HTML object>"
      ]
     },
     "metadata": {},
     "output_type": "display_data"
    }
   ],
   "source": [
    "df2[\"blurred_remote\"] = df2[\"uri\"].blob.img_blur((9, 9), \"images_kaggle_trans/images_blurred_remote\", mode=\"remote\")"
   ]
  },
  {
   "cell_type": "markdown",
   "metadata": {},
   "source": []
  },
  {
   "cell_type": "code",
   "execution_count": null,
   "metadata": {},
   "outputs": [],
   "source": [
    "df2[\"blurred_remote\"] = df2[\"uri\"].blob.img_blur((9, 9), \"images_kaggle_trans/images_blurred_remote\", mode=\"remote\")"
   ]
  },
  {
   "cell_type": "code",
   "execution_count": null,
   "metadata": {},
   "outputs": [],
   "source": [
    "df2[\"blurred_local\"] = df2[\"uri\"].blob.img_blur((9, 9), \"images_kaggle_trans/images_blurred_local\", mode=\"local\")"
   ]
  },
  {
   "cell_type": "code",
   "execution_count": null,
   "metadata": {},
   "outputs": [],
   "source": []
  }
 ],
 "metadata": {
  "kernelspec": {
   "display_name": "venv",
   "language": "python",
   "name": "python3"
  },
  "language_info": {
   "codemirror_mode": {
    "name": "ipython",
    "version": 3
   },
   "file_extension": ".py",
   "mimetype": "text/x-python",
   "name": "python",
   "nbconvert_exporter": "python",
   "pygments_lexer": "ipython3",
   "version": "3.10.9"
  }
 },
 "nbformat": 4,
 "nbformat_minor": 2
}
