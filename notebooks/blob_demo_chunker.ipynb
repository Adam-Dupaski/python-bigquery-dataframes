{
 "cells": [
  {
   "cell_type": "markdown",
   "metadata": {},
   "source": [
    "### Llama-index Chunker\n",
    "* Read pdfs from GCS\n",
    "* Chunk in Python Remote Function\n",
    "* Output to BQ string array"
   ]
  },
  {
   "cell_type": "code",
   "execution_count": 11,
   "metadata": {},
   "outputs": [],
   "source": [
    "import bigframes.pandas as bpd"
   ]
  },
  {
   "cell_type": "markdown",
   "metadata": {},
   "source": [
    "### Read from wildcard path"
   ]
  },
  {
   "cell_type": "code",
   "execution_count": 12,
   "metadata": {},
   "outputs": [
    {
     "data": {
      "text/html": [
       "Query job 7a0a6213-e017-468a-b80d-2baa9c4045ba is DONE. 0 Bytes processed. <a target=\"_blank\" href=\"https://console.cloud.google.com/bigquery?project=bigframes-dev&j=bq:US:7a0a6213-e017-468a-b80d-2baa9c4045ba&page=queryresults\">Open Job</a>"
      ],
      "text/plain": [
       "<IPython.core.display.HTML object>"
      ]
     },
     "metadata": {},
     "output_type": "display_data"
    }
   ],
   "source": [
    "df = bpd.from_glob_path(\"gs://garrettwu_bucket/pdfs/*\")"
   ]
  },
  {
   "cell_type": "code",
   "execution_count": 13,
   "metadata": {},
   "outputs": [
    {
     "data": {
      "text/html": [
       "Query job b859c834-47bf-4599-b99f-2b4149f1a588 is DONE. 232.7 kB processed. <a target=\"_blank\" href=\"https://console.cloud.google.com/bigquery?project=bigframes-dev&j=bq:US:b859c834-47bf-4599-b99f-2b4149f1a588&page=queryresults\">Open Job</a>"
      ],
      "text/plain": [
       "<IPython.core.display.HTML object>"
      ]
     },
     "metadata": {},
     "output_type": "display_data"
    },
    {
     "data": {
      "text/html": [
       "Query job f46d1b60-3f36-451f-8c6c-16d0512d49ff is DONE. 0 Bytes processed. <a target=\"_blank\" href=\"https://console.cloud.google.com/bigquery?project=bigframes-dev&j=bq:US:f46d1b60-3f36-451f-8c6c-16d0512d49ff&page=queryresults\">Open Job</a>"
      ],
      "text/plain": [
       "<IPython.core.display.HTML object>"
      ]
     },
     "metadata": {},
     "output_type": "display_data"
    },
    {
     "data": {
      "text/html": [
       "Query job 4609f56b-e75e-45e2-b9de-324615ecf028 is DONE. 155.7 kB processed. <a target=\"_blank\" href=\"https://console.cloud.google.com/bigquery?project=bigframes-dev&j=bq:US:4609f56b-e75e-45e2-b9de-324615ecf028&page=queryresults\">Open Job</a>"
      ],
      "text/plain": [
       "<IPython.core.display.HTML object>"
      ]
     },
     "metadata": {},
     "output_type": "display_data"
    },
    {
     "data": {
      "text/html": [
       "<div>\n",
       "<style scoped>\n",
       "    .dataframe tbody tr th:only-of-type {\n",
       "        vertical-align: middle;\n",
       "    }\n",
       "\n",
       "    .dataframe tbody tr th {\n",
       "        vertical-align: top;\n",
       "    }\n",
       "\n",
       "    .dataframe thead th {\n",
       "        text-align: right;\n",
       "    }\n",
       "</style>\n",
       "<table border=\"1\" class=\"dataframe\">\n",
       "  <thead>\n",
       "    <tr style=\"text-align: right;\">\n",
       "      <th></th>\n",
       "      <th>uri</th>\n",
       "    </tr>\n",
       "  </thead>\n",
       "  <tbody>\n",
       "    <tr>\n",
       "      <th>0</th>\n",
       "      <td>gs://garrettwu_bucket/pdfs/Training of CC4 Neu...</td>\n",
       "    </tr>\n",
       "    <tr>\n",
       "      <th>1</th>\n",
       "      <td>gs://garrettwu_bucket/pdfs/MegaPipe - A New Pr...</td>\n",
       "    </tr>\n",
       "    <tr>\n",
       "      <th>2</th>\n",
       "      <td>gs://garrettwu_bucket/pdfs/The Cache Performan...</td>\n",
       "    </tr>\n",
       "    <tr>\n",
       "      <th>3</th>\n",
       "      <td>gs://garrettwu_bucket/pdfs/Battle of SKM and I...</td>\n",
       "    </tr>\n",
       "    <tr>\n",
       "      <th>4</th>\n",
       "      <td>gs://garrettwu_bucket/pdfs/Using CUDA in Pract...</td>\n",
       "    </tr>\n",
       "    <tr>\n",
       "      <th>5</th>\n",
       "      <td>gs://garrettwu_bucket/pdfs/Fast Packed String ...</td>\n",
       "    </tr>\n",
       "    <tr>\n",
       "      <th>6</th>\n",
       "      <td>gs://garrettwu_bucket/pdfs/NTFS System Crash -...</td>\n",
       "    </tr>\n",
       "    <tr>\n",
       "      <th>7</th>\n",
       "      <td>gs://garrettwu_bucket/pdfs/Using Memory Manage...</td>\n",
       "    </tr>\n",
       "    <tr>\n",
       "      <th>8</th>\n",
       "      <td>gs://garrettwu_bucket/pdfs/Random Number Gener...</td>\n",
       "    </tr>\n",
       "    <tr>\n",
       "      <th>9</th>\n",
       "      <td>gs://garrettwu_bucket/pdfs/Thermometer Encodin...</td>\n",
       "    </tr>\n",
       "    <tr>\n",
       "      <th>10</th>\n",
       "      <td>gs://garrettwu_bucket/pdfs/Asynchronous Teams ...</td>\n",
       "    </tr>\n",
       "    <tr>\n",
       "      <th>11</th>\n",
       "      <td>gs://garrettwu_bucket/pdfs/An Elegant Algorith...</td>\n",
       "    </tr>\n",
       "    <tr>\n",
       "      <th>12</th>\n",
       "      <td>gs://garrettwu_bucket/pdfs/Parallel Depth-Firs...</td>\n",
       "    </tr>\n",
       "    <tr>\n",
       "      <th>13</th>\n",
       "      <td>gs://garrettwu_bucket/pdfs/Writing a Simple Op...</td>\n",
       "    </tr>\n",
       "    <tr>\n",
       "      <th>14</th>\n",
       "      <td>gs://garrettwu_bucket/pdfs/Oral History of Dav...</td>\n",
       "    </tr>\n",
       "    <tr>\n",
       "      <th>15</th>\n",
       "      <td>gs://garrettwu_bucket/pdfs/Windows 8 Registere...</td>\n",
       "    </tr>\n",
       "    <tr>\n",
       "      <th>16</th>\n",
       "      <td>gs://garrettwu_bucket/pdfs/Hashcash - A Denial...</td>\n",
       "    </tr>\n",
       "    <tr>\n",
       "      <th>17</th>\n",
       "      <td>gs://garrettwu_bucket/pdfs/DEC - The Mistakes ...</td>\n",
       "    </tr>\n",
       "    <tr>\n",
       "      <th>18</th>\n",
       "      <td>gs://garrettwu_bucket/pdfs/Object-Oriented Pro...</td>\n",
       "    </tr>\n",
       "    <tr>\n",
       "      <th>19</th>\n",
       "      <td>gs://garrettwu_bucket/pdfs/Implementing Sortin...</td>\n",
       "    </tr>\n",
       "    <tr>\n",
       "      <th>20</th>\n",
       "      <td>gs://garrettwu_bucket/pdfs/Rich vs King - The ...</td>\n",
       "    </tr>\n",
       "    <tr>\n",
       "      <th>21</th>\n",
       "      <td>gs://garrettwu_bucket/pdfs/How to Write Fast C...</td>\n",
       "    </tr>\n",
       "    <tr>\n",
       "      <th>22</th>\n",
       "      <td>gs://garrettwu_bucket/pdfs/CASEVision - ClearC...</td>\n",
       "    </tr>\n",
       "    <tr>\n",
       "      <th>23</th>\n",
       "      <td>gs://garrettwu_bucket/pdfs/Database System Imp...</td>\n",
       "    </tr>\n",
       "    <tr>\n",
       "      <th>24</th>\n",
       "      <td>gs://garrettwu_bucket/pdfs/Convex Optimization...</td>\n",
       "    </tr>\n",
       "  </tbody>\n",
       "</table>\n",
       "<p>25 rows × 1 columns</p>\n",
       "</div>[1346 rows x 1 columns in total]"
      ],
      "text/plain": [
       "                                                  uri\n",
       "0   gs://garrettwu_bucket/pdfs/Training of CC4 Neu...\n",
       "1   gs://garrettwu_bucket/pdfs/MegaPipe - A New Pr...\n",
       "2   gs://garrettwu_bucket/pdfs/The Cache Performan...\n",
       "3   gs://garrettwu_bucket/pdfs/Battle of SKM and I...\n",
       "4   gs://garrettwu_bucket/pdfs/Using CUDA in Pract...\n",
       "5   gs://garrettwu_bucket/pdfs/Fast Packed String ...\n",
       "6   gs://garrettwu_bucket/pdfs/NTFS System Crash -...\n",
       "7   gs://garrettwu_bucket/pdfs/Using Memory Manage...\n",
       "8   gs://garrettwu_bucket/pdfs/Random Number Gener...\n",
       "9   gs://garrettwu_bucket/pdfs/Thermometer Encodin...\n",
       "10  gs://garrettwu_bucket/pdfs/Asynchronous Teams ...\n",
       "11  gs://garrettwu_bucket/pdfs/An Elegant Algorith...\n",
       "12  gs://garrettwu_bucket/pdfs/Parallel Depth-Firs...\n",
       "13  gs://garrettwu_bucket/pdfs/Writing a Simple Op...\n",
       "14  gs://garrettwu_bucket/pdfs/Oral History of Dav...\n",
       "15  gs://garrettwu_bucket/pdfs/Windows 8 Registere...\n",
       "16  gs://garrettwu_bucket/pdfs/Hashcash - A Denial...\n",
       "17  gs://garrettwu_bucket/pdfs/DEC - The Mistakes ...\n",
       "18  gs://garrettwu_bucket/pdfs/Object-Oriented Pro...\n",
       "19  gs://garrettwu_bucket/pdfs/Implementing Sortin...\n",
       "20  gs://garrettwu_bucket/pdfs/Rich vs King - The ...\n",
       "21  gs://garrettwu_bucket/pdfs/How to Write Fast C...\n",
       "22  gs://garrettwu_bucket/pdfs/CASEVision - ClearC...\n",
       "23  gs://garrettwu_bucket/pdfs/Database System Imp...\n",
       "24  gs://garrettwu_bucket/pdfs/Convex Optimization...\n",
       "...\n",
       "\n",
       "[1346 rows x 1 columns]"
      ]
     },
     "execution_count": 13,
     "metadata": {},
     "output_type": "execute_result"
    }
   ],
   "source": [
    "df"
   ]
  },
  {
   "cell_type": "code",
   "execution_count": 14,
   "metadata": {},
   "outputs": [],
   "source": [
    "df = df.head()"
   ]
  },
  {
   "cell_type": "markdown",
   "metadata": {},
   "source": [
    "### Chunk the pdfs and save to BQ as array of strings"
   ]
  },
  {
   "cell_type": "code",
   "execution_count": 15,
   "metadata": {},
   "outputs": [
    {
     "data": {
      "text/html": [
       "Query job 2dca02cc-8c88-4547-b4e4-6703eb9a4521 is DONE. 155.7 kB processed. <a target=\"_blank\" href=\"https://console.cloud.google.com/bigquery?project=bigframes-dev&j=bq:US:2dca02cc-8c88-4547-b4e4-6703eb9a4521&page=queryresults\">Open Job</a>"
      ],
      "text/plain": [
       "<IPython.core.display.HTML object>"
      ]
     },
     "metadata": {},
     "output_type": "display_data"
    },
    {
     "data": {
      "text/html": [
       "Query job d8c61e51-894d-430e-83e2-13b5b088638f is DONE. 285.2 kB processed. <a target=\"_blank\" href=\"https://console.cloud.google.com/bigquery?project=bigframes-dev&j=bq:US:d8c61e51-894d-430e-83e2-13b5b088638f&page=queryresults\">Open Job</a>"
      ],
      "text/plain": [
       "<IPython.core.display.HTML object>"
      ]
     },
     "metadata": {},
     "output_type": "display_data"
    },
    {
     "data": {
      "text/html": [
       "Query job 43b929da-62ff-415b-9314-f0e035a0c7df is DONE. 285.1 kB processed. <a target=\"_blank\" href=\"https://console.cloud.google.com/bigquery?project=bigframes-dev&j=bq:US:43b929da-62ff-415b-9314-f0e035a0c7df&page=queryresults\">Open Job</a>"
      ],
      "text/plain": [
       "<IPython.core.display.HTML object>"
      ]
     },
     "metadata": {},
     "output_type": "display_data"
    },
    {
     "data": {
      "text/html": [
       "Query job a6e220b9-96c3-4436-9c47-e182cd2d31a2 is DONE. 40 Bytes processed. <a target=\"_blank\" href=\"https://console.cloud.google.com/bigquery?project=bigframes-dev&j=bq:US:a6e220b9-96c3-4436-9c47-e182cd2d31a2&page=queryresults\">Open Job</a>"
      ],
      "text/plain": [
       "<IPython.core.display.HTML object>"
      ]
     },
     "metadata": {},
     "output_type": "display_data"
    }
   ],
   "source": [
    "df[\"chunked\"] = df[\"uri\"].blob.llama_index_chunk(mode=\"remote\")"
   ]
  },
  {
   "cell_type": "code",
   "execution_count": 16,
   "metadata": {},
   "outputs": [
    {
     "data": {
      "text/html": [
       "Query job 51f23020-b186-423e-8fae-57e1b87f1136 is DONE. 301.3 kB processed. <a target=\"_blank\" href=\"https://console.cloud.google.com/bigquery?project=bigframes-dev&j=bq:US:51f23020-b186-423e-8fae-57e1b87f1136&page=queryresults\">Open Job</a>"
      ],
      "text/plain": [
       "<IPython.core.display.HTML object>"
      ]
     },
     "metadata": {},
     "output_type": "display_data"
    },
    {
     "data": {
      "text/html": [
       "Query job ea6b563b-88e8-48ad-9418-f793be156451 is DONE. 0 Bytes processed. <a target=\"_blank\" href=\"https://console.cloud.google.com/bigquery?project=bigframes-dev&j=bq:US:ea6b563b-88e8-48ad-9418-f793be156451&page=queryresults\">Open Job</a>"
      ],
      "text/plain": [
       "<IPython.core.display.HTML object>"
      ]
     },
     "metadata": {},
     "output_type": "display_data"
    },
    {
     "data": {
      "text/html": [
       "Query job ca54a2ab-c315-4251-935e-306137045461 is DONE. 279.8 kB processed. <a target=\"_blank\" href=\"https://console.cloud.google.com/bigquery?project=bigframes-dev&j=bq:US:ca54a2ab-c315-4251-935e-306137045461&page=queryresults\">Open Job</a>"
      ],
      "text/plain": [
       "<IPython.core.display.HTML object>"
      ]
     },
     "metadata": {},
     "output_type": "display_data"
    },
    {
     "data": {
      "text/plain": [
       "0    ['\"TRAINING OF CC4 NEU RAL NET WORK USING \\\\nU...\n",
       "1    ['\"MegaPipe: A New Programming Interface for S...\n",
       "2    ['\"TheCachePerformance andOptimization\\\\nofBlo...\n",
       "3    ['\"BATTLE OF SKM AND IUM\\\\nHOW WINDOWS 10 REWR...\n",
       "4    ['\"CSE 591: GPU Programming  \\\\n \\\\n Using CUD...\n",
       "Name: chunked, dtype: list<item: string>[pyarrow]"
      ]
     },
     "execution_count": 16,
     "metadata": {},
     "output_type": "execute_result"
    }
   ],
   "source": [
    "df[\"chunked\"]"
   ]
  },
  {
   "cell_type": "code",
   "execution_count": 17,
   "metadata": {},
   "outputs": [
    {
     "data": {
      "text/html": [
       "Query job 6a885a4e-8e9e-4ca8-9918-5aebda135bd7 is DONE. 301.3 kB processed. <a target=\"_blank\" href=\"https://console.cloud.google.com/bigquery?project=bigframes-dev&j=bq:US:6a885a4e-8e9e-4ca8-9918-5aebda135bd7&page=queryresults\">Open Job</a>"
      ],
      "text/plain": [
       "<IPython.core.display.HTML object>"
      ]
     },
     "metadata": {},
     "output_type": "display_data"
    },
    {
     "data": {
      "text/html": [
       "Query job 60cfb73b-a56f-4aa3-b136-60fb7c897a43 is DONE. 0 Bytes processed. <a target=\"_blank\" href=\"https://console.cloud.google.com/bigquery?project=bigframes-dev&j=bq:US:60cfb73b-a56f-4aa3-b136-60fb7c897a43&page=queryresults\">Open Job</a>"
      ],
      "text/plain": [
       "<IPython.core.display.HTML object>"
      ]
     },
     "metadata": {},
     "output_type": "display_data"
    },
    {
     "data": {
      "text/html": [
       "Query job 93c518c0-e08a-4942-8891-44dd9f2e757c is DONE. 160 Bytes processed. <a target=\"_blank\" href=\"https://console.cloud.google.com/bigquery?project=bigframes-dev&j=bq:US:93c518c0-e08a-4942-8891-44dd9f2e757c&page=queryresults\">Open Job</a>"
      ],
      "text/plain": [
       "<IPython.core.display.HTML object>"
      ]
     },
     "metadata": {},
     "output_type": "display_data"
    },
    {
     "data": {
      "text/plain": [
       "0    59\n",
       "1    62\n",
       "2    49\n",
       "3    65\n",
       "4    20\n",
       "Name: chunked, dtype: Int64"
      ]
     },
     "execution_count": 17,
     "metadata": {},
     "output_type": "execute_result"
    }
   ],
   "source": [
    "df[\"chunked\"].str.len()"
   ]
  },
  {
   "cell_type": "markdown",
   "metadata": {},
   "source": [
    "### Expand the arrays"
   ]
  },
  {
   "cell_type": "code",
   "execution_count": 18,
   "metadata": {},
   "outputs": [],
   "source": [
    "exp = df[\"chunked\"].explode()"
   ]
  },
  {
   "cell_type": "code",
   "execution_count": 19,
   "metadata": {},
   "outputs": [
    {
     "data": {
      "text/html": [
       "Query job ca71b458-9807-4c17-885e-9d85dc73b3dc is DONE. 301.3 kB processed. <a target=\"_blank\" href=\"https://console.cloud.google.com/bigquery?project=bigframes-dev&j=bq:US:ca71b458-9807-4c17-885e-9d85dc73b3dc&page=queryresults\">Open Job</a>"
      ],
      "text/plain": [
       "<IPython.core.display.HTML object>"
      ]
     },
     "metadata": {},
     "output_type": "display_data"
    },
    {
     "data": {
      "text/plain": [
       "(255,)"
      ]
     },
     "execution_count": 19,
     "metadata": {},
     "output_type": "execute_result"
    }
   ],
   "source": [
    "exp.shape"
   ]
  },
  {
   "cell_type": "code",
   "execution_count": 20,
   "metadata": {},
   "outputs": [
    {
     "data": {
      "text/html": [
       "Query job 949ee80a-2a35-4a24-abbe-f438f1ead117 is DONE. 301.3 kB processed. <a target=\"_blank\" href=\"https://console.cloud.google.com/bigquery?project=bigframes-dev&j=bq:US:949ee80a-2a35-4a24-abbe-f438f1ead117&page=queryresults\">Open Job</a>"
      ],
      "text/plain": [
       "<IPython.core.display.HTML object>"
      ]
     },
     "metadata": {},
     "output_type": "display_data"
    },
    {
     "data": {
      "text/html": [
       "Query job 3d633c40-085a-4139-91fd-4259c80d1ee5 is DONE. 0 Bytes processed. <a target=\"_blank\" href=\"https://console.cloud.google.com/bigquery?project=bigframes-dev&j=bq:US:3d633c40-085a-4139-91fd-4259c80d1ee5&page=queryresults\">Open Job</a>"
      ],
      "text/plain": [
       "<IPython.core.display.HTML object>"
      ]
     },
     "metadata": {},
     "output_type": "display_data"
    },
    {
     "data": {
      "text/html": [
       "Query job 7e6f3402-0016-4439-b88d-dd40d82ce4f9 is DONE. 287.8 kB processed. <a target=\"_blank\" href=\"https://console.cloud.google.com/bigquery?project=bigframes-dev&j=bq:US:7e6f3402-0016-4439-b88d-dd40d82ce4f9&page=queryresults\">Open Job</a>"
      ],
      "text/plain": [
       "<IPython.core.display.HTML object>"
      ]
     },
     "metadata": {},
     "output_type": "display_data"
    },
    {
     "data": {
      "text/plain": [
       "0    \"TRAINING OF CC4 NEU RAL NET WORK USING \\nUNAR...\n",
       "0    \"ii \\n  \\n \\n \\n \\n \\n \\n \\nTRAINING OF CC4 NE...\n",
       "0    \"iii \\n  \\n \\n \\n \\n \\n \\n \\n \\n \\nACKNO WLEDG...\n",
       "0    \"iv \\n  \\n \\nName: PUSHPA SREE POTLURI    \\n \\...\n",
       "0    \"v \\n  \\n \\n \\n \\nLIST  OF CONT ENTS  \\n \\nCha...\n",
       "0    \"vi \\n VII. CONCLUSION...........................\n",
       "0    \"vii \\n  \\n \\n \\n \\n \\n \\nLIST OF FIGURES \\n \\...\n",
       "0    \"viii \\n  \\n \\n \\n \\n \\n \\n \\nLIST OF TABLES \\...\n",
       "0    \"1 \\n  \\n \\n \\n \\n  \\nCHAPTER I  \\n           ...\n",
       "0    \"2 \\n  \\n \\n  Figure 1: Biological Neuron (Cou...\n",
       "0    \"3 \\n  \\nNeural network s model the human brai...\n",
       "0    \"4 \\n  \\n \\nCHAPTER II  \\nCC4 APPROACH FOR NEU...\n",
       "0    \"5 \\n weights. These advantages are of signifi...\n",
       "0    \"6 \\n  \\n    Figure 2 : General network archit...\n",
       "0    \"7 \\n output of that  input vector. Consequent...\n",
       "0    \"8 \\n the input to the hidden neuron from the ...\n",
       "0    \"9 \\n the bias bit 1. Hence we get the weight ...\n",
       "0    \"10 \\n The standard  CC4 network uses unary co...\n",
       "0    \"11 \\n  \\n \\nCHAPTER III  \\n \\n               ...\n",
       "0    \"12 \\n     \\n    Figure 4 . Space representati...\n",
       "0    \"13 \\n training. Thus the network used for thi...\n",
       "0    \"14 \\n                        \\n(a). Original ...\n",
       "0    \"15 \\n The original  plane  pattern to s how t...\n",
       "0    \"16 \\n     \\n(a). Original Plane  Pattern     ...\n",
       "0    \"17 \\n                   \\n(a). Original Cross...\n",
       "Name: chunked, dtype: string"
      ]
     },
     "execution_count": 20,
     "metadata": {},
     "output_type": "execute_result"
    }
   ],
   "source": [
    "exp"
   ]
  },
  {
   "cell_type": "code",
   "execution_count": null,
   "metadata": {},
   "outputs": [],
   "source": []
  }
 ],
 "metadata": {
  "kernelspec": {
   "display_name": "venv",
   "language": "python",
   "name": "python3"
  },
  "language_info": {
   "codemirror_mode": {
    "name": "ipython",
    "version": 3
   },
   "file_extension": ".py",
   "mimetype": "text/x-python",
   "name": "python",
   "nbconvert_exporter": "python",
   "pygments_lexer": "ipython3",
   "version": "3.10.9"
  }
 },
 "nbformat": 4,
 "nbformat_minor": 2
}
