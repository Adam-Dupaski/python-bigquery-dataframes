{
 "cells": [
  {
   "cell_type": "markdown",
   "metadata": {},
   "source": [
    "### Llama-index Chunker"
   ]
  },
  {
   "cell_type": "code",
   "execution_count": 1,
   "metadata": {},
   "outputs": [],
   "source": [
    "import bigframes.pandas as bpd"
   ]
  },
  {
   "cell_type": "code",
   "execution_count": 2,
   "metadata": {},
   "outputs": [
    {
     "name": "stderr",
     "output_type": "stream",
     "text": [
      "/usr/local/google/home/garrettwu/src/bigframes/bigframes/session/__init__.py:2043: UserWarning: No explicit location is set, so using location US for the session.\n",
      "  return Session(context)\n"
     ]
    },
    {
     "data": {
      "text/html": [
       "Query job 9177305f-17c5-4ed3-88a6-ccf24776ccc0 is DONE. 0 Bytes processed. <a target=\"_blank\" href=\"https://console.cloud.google.com/bigquery?project=bigframes-dev&j=bq:US:9177305f-17c5-4ed3-88a6-ccf24776ccc0&page=queryresults\">Open Job</a>"
      ],
      "text/plain": [
       "<IPython.core.display.HTML object>"
      ]
     },
     "metadata": {},
     "output_type": "display_data"
    }
   ],
   "source": [
    "df = bpd.from_glob_path(\"gs://garrettwu_bucket/pdfs/*\")"
   ]
  },
  {
   "cell_type": "code",
   "execution_count": 3,
   "metadata": {},
   "outputs": [
    {
     "data": {
      "text/html": [
       "Query job 425b03a0-ee8b-4ea4-980e-4b3733b569e5 is DONE. 232.7 kB processed. <a target=\"_blank\" href=\"https://console.cloud.google.com/bigquery?project=bigframes-dev&j=bq:US:425b03a0-ee8b-4ea4-980e-4b3733b569e5&page=queryresults\">Open Job</a>"
      ],
      "text/plain": [
       "<IPython.core.display.HTML object>"
      ]
     },
     "metadata": {},
     "output_type": "display_data"
    },
    {
     "data": {
      "text/html": [
       "Query job 21613386-b572-49ed-92ad-73fd819a54c2 is DONE. 0 Bytes processed. <a target=\"_blank\" href=\"https://console.cloud.google.com/bigquery?project=bigframes-dev&j=bq:US:21613386-b572-49ed-92ad-73fd819a54c2&page=queryresults\">Open Job</a>"
      ],
      "text/plain": [
       "<IPython.core.display.HTML object>"
      ]
     },
     "metadata": {},
     "output_type": "display_data"
    },
    {
     "data": {
      "text/html": [
       "Query job 66289887-e309-43d5-a0af-aab982b950fc is DONE. 155.7 kB processed. <a target=\"_blank\" href=\"https://console.cloud.google.com/bigquery?project=bigframes-dev&j=bq:US:66289887-e309-43d5-a0af-aab982b950fc&page=queryresults\">Open Job</a>"
      ],
      "text/plain": [
       "<IPython.core.display.HTML object>"
      ]
     },
     "metadata": {},
     "output_type": "display_data"
    },
    {
     "data": {
      "text/html": [
       "<div>\n",
       "<style scoped>\n",
       "    .dataframe tbody tr th:only-of-type {\n",
       "        vertical-align: middle;\n",
       "    }\n",
       "\n",
       "    .dataframe tbody tr th {\n",
       "        vertical-align: top;\n",
       "    }\n",
       "\n",
       "    .dataframe thead th {\n",
       "        text-align: right;\n",
       "    }\n",
       "</style>\n",
       "<table border=\"1\" class=\"dataframe\">\n",
       "  <thead>\n",
       "    <tr style=\"text-align: right;\">\n",
       "      <th></th>\n",
       "      <th>uri</th>\n",
       "    </tr>\n",
       "  </thead>\n",
       "  <tbody>\n",
       "    <tr>\n",
       "      <th>0</th>\n",
       "      <td>gs://garrettwu_bucket/pdfs/Training of CC4 Neu...</td>\n",
       "    </tr>\n",
       "    <tr>\n",
       "      <th>1</th>\n",
       "      <td>gs://garrettwu_bucket/pdfs/MegaPipe - A New Pr...</td>\n",
       "    </tr>\n",
       "    <tr>\n",
       "      <th>2</th>\n",
       "      <td>gs://garrettwu_bucket/pdfs/The Cache Performan...</td>\n",
       "    </tr>\n",
       "    <tr>\n",
       "      <th>3</th>\n",
       "      <td>gs://garrettwu_bucket/pdfs/Battle of SKM and I...</td>\n",
       "    </tr>\n",
       "    <tr>\n",
       "      <th>4</th>\n",
       "      <td>gs://garrettwu_bucket/pdfs/Using CUDA in Pract...</td>\n",
       "    </tr>\n",
       "    <tr>\n",
       "      <th>5</th>\n",
       "      <td>gs://garrettwu_bucket/pdfs/Fast Packed String ...</td>\n",
       "    </tr>\n",
       "    <tr>\n",
       "      <th>6</th>\n",
       "      <td>gs://garrettwu_bucket/pdfs/NTFS System Crash -...</td>\n",
       "    </tr>\n",
       "    <tr>\n",
       "      <th>7</th>\n",
       "      <td>gs://garrettwu_bucket/pdfs/Using Memory Manage...</td>\n",
       "    </tr>\n",
       "    <tr>\n",
       "      <th>8</th>\n",
       "      <td>gs://garrettwu_bucket/pdfs/Random Number Gener...</td>\n",
       "    </tr>\n",
       "    <tr>\n",
       "      <th>9</th>\n",
       "      <td>gs://garrettwu_bucket/pdfs/Thermometer Encodin...</td>\n",
       "    </tr>\n",
       "    <tr>\n",
       "      <th>10</th>\n",
       "      <td>gs://garrettwu_bucket/pdfs/Asynchronous Teams ...</td>\n",
       "    </tr>\n",
       "    <tr>\n",
       "      <th>11</th>\n",
       "      <td>gs://garrettwu_bucket/pdfs/An Elegant Algorith...</td>\n",
       "    </tr>\n",
       "    <tr>\n",
       "      <th>12</th>\n",
       "      <td>gs://garrettwu_bucket/pdfs/Parallel Depth-Firs...</td>\n",
       "    </tr>\n",
       "    <tr>\n",
       "      <th>13</th>\n",
       "      <td>gs://garrettwu_bucket/pdfs/Writing a Simple Op...</td>\n",
       "    </tr>\n",
       "    <tr>\n",
       "      <th>14</th>\n",
       "      <td>gs://garrettwu_bucket/pdfs/Oral History of Dav...</td>\n",
       "    </tr>\n",
       "    <tr>\n",
       "      <th>15</th>\n",
       "      <td>gs://garrettwu_bucket/pdfs/Windows 8 Registere...</td>\n",
       "    </tr>\n",
       "    <tr>\n",
       "      <th>16</th>\n",
       "      <td>gs://garrettwu_bucket/pdfs/Hashcash - A Denial...</td>\n",
       "    </tr>\n",
       "    <tr>\n",
       "      <th>17</th>\n",
       "      <td>gs://garrettwu_bucket/pdfs/DEC - The Mistakes ...</td>\n",
       "    </tr>\n",
       "    <tr>\n",
       "      <th>18</th>\n",
       "      <td>gs://garrettwu_bucket/pdfs/Object-Oriented Pro...</td>\n",
       "    </tr>\n",
       "    <tr>\n",
       "      <th>19</th>\n",
       "      <td>gs://garrettwu_bucket/pdfs/Implementing Sortin...</td>\n",
       "    </tr>\n",
       "    <tr>\n",
       "      <th>20</th>\n",
       "      <td>gs://garrettwu_bucket/pdfs/Rich vs King - The ...</td>\n",
       "    </tr>\n",
       "    <tr>\n",
       "      <th>21</th>\n",
       "      <td>gs://garrettwu_bucket/pdfs/How to Write Fast C...</td>\n",
       "    </tr>\n",
       "    <tr>\n",
       "      <th>22</th>\n",
       "      <td>gs://garrettwu_bucket/pdfs/CASEVision - ClearC...</td>\n",
       "    </tr>\n",
       "    <tr>\n",
       "      <th>23</th>\n",
       "      <td>gs://garrettwu_bucket/pdfs/Database System Imp...</td>\n",
       "    </tr>\n",
       "    <tr>\n",
       "      <th>24</th>\n",
       "      <td>gs://garrettwu_bucket/pdfs/Convex Optimization...</td>\n",
       "    </tr>\n",
       "  </tbody>\n",
       "</table>\n",
       "<p>25 rows × 1 columns</p>\n",
       "</div>[1346 rows x 1 columns in total]"
      ],
      "text/plain": [
       "                                                  uri\n",
       "0   gs://garrettwu_bucket/pdfs/Training of CC4 Neu...\n",
       "1   gs://garrettwu_bucket/pdfs/MegaPipe - A New Pr...\n",
       "2   gs://garrettwu_bucket/pdfs/The Cache Performan...\n",
       "3   gs://garrettwu_bucket/pdfs/Battle of SKM and I...\n",
       "4   gs://garrettwu_bucket/pdfs/Using CUDA in Pract...\n",
       "5   gs://garrettwu_bucket/pdfs/Fast Packed String ...\n",
       "6   gs://garrettwu_bucket/pdfs/NTFS System Crash -...\n",
       "7   gs://garrettwu_bucket/pdfs/Using Memory Manage...\n",
       "8   gs://garrettwu_bucket/pdfs/Random Number Gener...\n",
       "9   gs://garrettwu_bucket/pdfs/Thermometer Encodin...\n",
       "10  gs://garrettwu_bucket/pdfs/Asynchronous Teams ...\n",
       "11  gs://garrettwu_bucket/pdfs/An Elegant Algorith...\n",
       "12  gs://garrettwu_bucket/pdfs/Parallel Depth-Firs...\n",
       "13  gs://garrettwu_bucket/pdfs/Writing a Simple Op...\n",
       "14  gs://garrettwu_bucket/pdfs/Oral History of Dav...\n",
       "15  gs://garrettwu_bucket/pdfs/Windows 8 Registere...\n",
       "16  gs://garrettwu_bucket/pdfs/Hashcash - A Denial...\n",
       "17  gs://garrettwu_bucket/pdfs/DEC - The Mistakes ...\n",
       "18  gs://garrettwu_bucket/pdfs/Object-Oriented Pro...\n",
       "19  gs://garrettwu_bucket/pdfs/Implementing Sortin...\n",
       "20  gs://garrettwu_bucket/pdfs/Rich vs King - The ...\n",
       "21  gs://garrettwu_bucket/pdfs/How to Write Fast C...\n",
       "22  gs://garrettwu_bucket/pdfs/CASEVision - ClearC...\n",
       "23  gs://garrettwu_bucket/pdfs/Database System Imp...\n",
       "24  gs://garrettwu_bucket/pdfs/Convex Optimization...\n",
       "...\n",
       "\n",
       "[1346 rows x 1 columns]"
      ]
     },
     "execution_count": 3,
     "metadata": {},
     "output_type": "execute_result"
    }
   ],
   "source": [
    "df"
   ]
  },
  {
   "cell_type": "code",
   "execution_count": 4,
   "metadata": {},
   "outputs": [],
   "source": [
    "df = df.head()"
   ]
  },
  {
   "cell_type": "code",
   "execution_count": 5,
   "metadata": {},
   "outputs": [
    {
     "data": {
      "text/html": [
       "Query job 58bf031e-fa16-4c21-8182-b22fd4558060 is DONE. 155.7 kB processed. <a target=\"_blank\" href=\"https://console.cloud.google.com/bigquery?project=bigframes-dev&j=bq:US:58bf031e-fa16-4c21-8182-b22fd4558060&page=queryresults\">Open Job</a>"
      ],
      "text/plain": [
       "<IPython.core.display.HTML object>"
      ]
     },
     "metadata": {},
     "output_type": "display_data"
    },
    {
     "data": {
      "text/html": [
       "Query job 624bea79-733e-4054-8f84-8ae72da81681 is DONE. 285.2 kB processed. <a target=\"_blank\" href=\"https://console.cloud.google.com/bigquery?project=bigframes-dev&j=bq:US:624bea79-733e-4054-8f84-8ae72da81681&page=queryresults\">Open Job</a>"
      ],
      "text/plain": [
       "<IPython.core.display.HTML object>"
      ]
     },
     "metadata": {},
     "output_type": "display_data"
    },
    {
     "data": {
      "text/html": [
       "Query job 9856bf57-fffb-436b-a399-0927c81ec0ab is DONE. 285.1 kB processed. <a target=\"_blank\" href=\"https://console.cloud.google.com/bigquery?project=bigframes-dev&j=bq:US:9856bf57-fffb-436b-a399-0927c81ec0ab&page=queryresults\">Open Job</a>"
      ],
      "text/plain": [
       "<IPython.core.display.HTML object>"
      ]
     },
     "metadata": {},
     "output_type": "display_data"
    },
    {
     "data": {
      "text/html": [
       "Query job de6a8300-85c2-4729-8556-12af624022e8 is DONE. 40 Bytes processed. <a target=\"_blank\" href=\"https://console.cloud.google.com/bigquery?project=bigframes-dev&j=bq:US:de6a8300-85c2-4729-8556-12af624022e8&page=queryresults\">Open Job</a>"
      ],
      "text/plain": [
       "<IPython.core.display.HTML object>"
      ]
     },
     "metadata": {},
     "output_type": "display_data"
    }
   ],
   "source": [
    "df[\"chunked\"] = df[\"uri\"].blob.llama_index_chunk(mode=\"remote\")"
   ]
  },
  {
   "cell_type": "code",
   "execution_count": 6,
   "metadata": {},
   "outputs": [
    {
     "data": {
      "text/html": [
       "Query job 649262ab-98f8-4314-9827-697b13381025 is DONE. 301.3 kB processed. <a target=\"_blank\" href=\"https://console.cloud.google.com/bigquery?project=bigframes-dev&j=bq:US:649262ab-98f8-4314-9827-697b13381025&page=queryresults\">Open Job</a>"
      ],
      "text/plain": [
       "<IPython.core.display.HTML object>"
      ]
     },
     "metadata": {},
     "output_type": "display_data"
    },
    {
     "data": {
      "text/html": [
       "Query job 577090f0-d975-44dc-b2a8-b85b07cd35f6 is DONE. 0 Bytes processed. <a target=\"_blank\" href=\"https://console.cloud.google.com/bigquery?project=bigframes-dev&j=bq:US:577090f0-d975-44dc-b2a8-b85b07cd35f6&page=queryresults\">Open Job</a>"
      ],
      "text/plain": [
       "<IPython.core.display.HTML object>"
      ]
     },
     "metadata": {},
     "output_type": "display_data"
    },
    {
     "data": {
      "text/html": [
       "Query job b54205b0-b2aa-4f0a-a290-ab686fb1e023 is DONE. 279.8 kB processed. <a target=\"_blank\" href=\"https://console.cloud.google.com/bigquery?project=bigframes-dev&j=bq:US:b54205b0-b2aa-4f0a-a290-ab686fb1e023&page=queryresults\">Open Job</a>"
      ],
      "text/plain": [
       "<IPython.core.display.HTML object>"
      ]
     },
     "metadata": {},
     "output_type": "display_data"
    },
    {
     "data": {
      "text/plain": [
       "0    ['\"TRAINING OF CC4 NEU RAL NET WORK USING \\\\nU...\n",
       "1    ['\"MegaPipe: A New Programming Interface for S...\n",
       "2    ['\"TheCachePerformance andOptimization\\\\nofBlo...\n",
       "3    ['\"BATTLE OF SKM AND IUM\\\\nHOW WINDOWS 10 REWR...\n",
       "4    ['\"CSE 591: GPU Programming  \\\\n \\\\n Using CUD...\n",
       "Name: chunked, dtype: list<item: string>[pyarrow]"
      ]
     },
     "execution_count": 6,
     "metadata": {},
     "output_type": "execute_result"
    }
   ],
   "source": [
    "df[\"chunked\"]"
   ]
  },
  {
   "cell_type": "code",
   "execution_count": 7,
   "metadata": {},
   "outputs": [
    {
     "data": {
      "text/html": [
       "Query job 9d05e8e8-c483-45c6-9b7f-a8379af9223b is DONE. 301.3 kB processed. <a target=\"_blank\" href=\"https://console.cloud.google.com/bigquery?project=bigframes-dev&j=bq:US:9d05e8e8-c483-45c6-9b7f-a8379af9223b&page=queryresults\">Open Job</a>"
      ],
      "text/plain": [
       "<IPython.core.display.HTML object>"
      ]
     },
     "metadata": {},
     "output_type": "display_data"
    },
    {
     "data": {
      "text/html": [
       "Query job 667f364c-e7f8-4ebf-9db9-cc6dc708333b is DONE. 0 Bytes processed. <a target=\"_blank\" href=\"https://console.cloud.google.com/bigquery?project=bigframes-dev&j=bq:US:667f364c-e7f8-4ebf-9db9-cc6dc708333b&page=queryresults\">Open Job</a>"
      ],
      "text/plain": [
       "<IPython.core.display.HTML object>"
      ]
     },
     "metadata": {},
     "output_type": "display_data"
    },
    {
     "data": {
      "text/html": [
       "Query job cf014c98-aaf7-41c8-abaa-95db826635da is DONE. 160 Bytes processed. <a target=\"_blank\" href=\"https://console.cloud.google.com/bigquery?project=bigframes-dev&j=bq:US:cf014c98-aaf7-41c8-abaa-95db826635da&page=queryresults\">Open Job</a>"
      ],
      "text/plain": [
       "<IPython.core.display.HTML object>"
      ]
     },
     "metadata": {},
     "output_type": "display_data"
    },
    {
     "data": {
      "text/plain": [
       "0    59\n",
       "1    62\n",
       "2    49\n",
       "3    65\n",
       "4    20\n",
       "Name: chunked, dtype: Int64"
      ]
     },
     "execution_count": 7,
     "metadata": {},
     "output_type": "execute_result"
    }
   ],
   "source": [
    "df[\"chunked\"].str.len()"
   ]
  },
  {
   "cell_type": "code",
   "execution_count": 8,
   "metadata": {},
   "outputs": [],
   "source": [
    "exp = df[\"chunked\"].explode()"
   ]
  },
  {
   "cell_type": "code",
   "execution_count": 9,
   "metadata": {},
   "outputs": [
    {
     "data": {
      "text/html": [
       "Query job 792306fc-2280-4c0b-8b48-9a1641206a4c is DONE. 301.3 kB processed. <a target=\"_blank\" href=\"https://console.cloud.google.com/bigquery?project=bigframes-dev&j=bq:US:792306fc-2280-4c0b-8b48-9a1641206a4c&page=queryresults\">Open Job</a>"
      ],
      "text/plain": [
       "<IPython.core.display.HTML object>"
      ]
     },
     "metadata": {},
     "output_type": "display_data"
    },
    {
     "data": {
      "text/plain": [
       "(255,)"
      ]
     },
     "execution_count": 9,
     "metadata": {},
     "output_type": "execute_result"
    }
   ],
   "source": [
    "exp.shape"
   ]
  }
 ],
 "metadata": {
  "kernelspec": {
   "display_name": "venv",
   "language": "python",
   "name": "python3"
  },
  "language_info": {
   "codemirror_mode": {
    "name": "ipython",
    "version": 3
   },
   "file_extension": ".py",
   "mimetype": "text/x-python",
   "name": "python",
   "nbconvert_exporter": "python",
   "pygments_lexer": "ipython3",
   "version": "3.10.9"
  }
 },
 "nbformat": 4,
 "nbformat_minor": 2
}
