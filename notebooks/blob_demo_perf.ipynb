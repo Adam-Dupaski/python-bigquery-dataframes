{
 "cells": [
  {
   "cell_type": "markdown",
   "metadata": {},
   "source": [
    "### Image"
   ]
  },
  {
   "cell_type": "code",
   "execution_count": 1,
   "metadata": {},
   "outputs": [],
   "source": [
    "import bigframes.pandas as bpd"
   ]
  },
  {
   "cell_type": "code",
   "execution_count": 2,
   "metadata": {},
   "outputs": [
    {
     "name": "stderr",
     "output_type": "stream",
     "text": [
      "/usr/local/google/home/garrettwu/src/bigframes/bigframes/session/__init__.py:2044: UserWarning: No explicit location is set, so using location US for the session.\n",
      "  return Session(context)\n"
     ]
    },
    {
     "data": {
      "text/html": [
       "Query job 79f21054-d368-49c8-97f2-5a9f8e069f2b is DONE. 0 Bytes processed. <a target=\"_blank\" href=\"https://console.cloud.google.com/bigquery?project=bigframes-dev&j=bq:US:79f21054-d368-49c8-97f2-5a9f8e069f2b&page=queryresults\">Open Job</a>"
      ],
      "text/plain": [
       "<IPython.core.display.HTML object>"
      ]
     },
     "metadata": {},
     "output_type": "display_data"
    },
    {
     "data": {
      "text/html": [
       "Query job d78ec2a2-ee69-44cc-95a8-e0a7c6aef006 is DONE. 0 Bytes processed. <a target=\"_blank\" href=\"https://console.cloud.google.com/bigquery?project=bigframes-dev&j=bq:US:d78ec2a2-ee69-44cc-95a8-e0a7c6aef006&page=queryresults\">Open Job</a>"
      ],
      "text/plain": [
       "<IPython.core.display.HTML object>"
      ]
     },
     "metadata": {},
     "output_type": "display_data"
    },
    {
     "data": {
      "text/html": [
       "Query job 3b8b91ca-f81a-4b69-881a-205f00bde046 is DONE. 2.2 MB processed. <a target=\"_blank\" href=\"https://console.cloud.google.com/bigquery?project=bigframes-dev&j=bq:US:3b8b91ca-f81a-4b69-881a-205f00bde046&page=queryresults\">Open Job</a>"
      ],
      "text/plain": [
       "<IPython.core.display.HTML object>"
      ]
     },
     "metadata": {},
     "output_type": "display_data"
    },
    {
     "data": {
      "text/html": [
       "Query job be4ff7f0-9b43-4c0f-85bb-3a557d707896 is DONE. 0 Bytes processed. <a target=\"_blank\" href=\"https://console.cloud.google.com/bigquery?project=bigframes-dev&j=bq:US:be4ff7f0-9b43-4c0f-85bb-3a557d707896&page=queryresults\">Open Job</a>"
      ],
      "text/plain": [
       "<IPython.core.display.HTML object>"
      ]
     },
     "metadata": {},
     "output_type": "display_data"
    },
    {
     "data": {
      "text/html": [
       "Query job 92b997f8-830f-4e36-88a5-1cfd729d5910 is DONE. 1.5 MB processed. <a target=\"_blank\" href=\"https://console.cloud.google.com/bigquery?project=bigframes-dev&j=bq:US:92b997f8-830f-4e36-88a5-1cfd729d5910&page=queryresults\">Open Job</a>"
      ],
      "text/plain": [
       "<IPython.core.display.HTML object>"
      ]
     },
     "metadata": {},
     "output_type": "display_data"
    },
    {
     "data": {
      "text/html": [
       "<div>\n",
       "<style scoped>\n",
       "    .dataframe tbody tr th:only-of-type {\n",
       "        vertical-align: middle;\n",
       "    }\n",
       "\n",
       "    .dataframe tbody tr th {\n",
       "        vertical-align: top;\n",
       "    }\n",
       "\n",
       "    .dataframe thead th {\n",
       "        text-align: right;\n",
       "    }\n",
       "</style>\n",
       "<table border=\"1\" class=\"dataframe\">\n",
       "  <thead>\n",
       "    <tr style=\"text-align: right;\">\n",
       "      <th></th>\n",
       "      <th>uri</th>\n",
       "    </tr>\n",
       "  </thead>\n",
       "  <tbody>\n",
       "    <tr>\n",
       "      <th>0</th>\n",
       "      <td>gs://garrettwu_bucket/images_kaggle/cars/carsg...</td>\n",
       "    </tr>\n",
       "    <tr>\n",
       "      <th>1</th>\n",
       "      <td>gs://garrettwu_bucket/images_kaggle/cars/carsg...</td>\n",
       "    </tr>\n",
       "    <tr>\n",
       "      <th>2</th>\n",
       "      <td>gs://garrettwu_bucket/images_kaggle/cats/cat.4...</td>\n",
       "    </tr>\n",
       "    <tr>\n",
       "      <th>3</th>\n",
       "      <td>gs://garrettwu_bucket/images_kaggle/cats/cat.1...</td>\n",
       "    </tr>\n",
       "    <tr>\n",
       "      <th>4</th>\n",
       "      <td>gs://garrettwu_bucket/images_kaggle/human/ride...</td>\n",
       "    </tr>\n",
       "    <tr>\n",
       "      <th>5</th>\n",
       "      <td>gs://garrettwu_bucket/images_kaggle/horses/hor...</td>\n",
       "    </tr>\n",
       "    <tr>\n",
       "      <th>6</th>\n",
       "      <td>gs://garrettwu_bucket/images_kaggle/cars/carsg...</td>\n",
       "    </tr>\n",
       "    <tr>\n",
       "      <th>7</th>\n",
       "      <td>gs://garrettwu_bucket/images_kaggle/human/ride...</td>\n",
       "    </tr>\n",
       "    <tr>\n",
       "      <th>8</th>\n",
       "      <td>gs://garrettwu_bucket/images_kaggle/bike/bike_...</td>\n",
       "    </tr>\n",
       "    <tr>\n",
       "      <th>9</th>\n",
       "      <td>gs://garrettwu_bucket/images_kaggle/human/ride...</td>\n",
       "    </tr>\n",
       "    <tr>\n",
       "      <th>10</th>\n",
       "      <td>gs://garrettwu_bucket/images_kaggle/bike/bike_...</td>\n",
       "    </tr>\n",
       "    <tr>\n",
       "      <th>11</th>\n",
       "      <td>gs://garrettwu_bucket/images_kaggle/bike/bike_...</td>\n",
       "    </tr>\n",
       "    <tr>\n",
       "      <th>12</th>\n",
       "      <td>gs://garrettwu_bucket/images_kaggle/human/ride...</td>\n",
       "    </tr>\n",
       "    <tr>\n",
       "      <th>13</th>\n",
       "      <td>gs://garrettwu_bucket/images_kaggle/flowers/00...</td>\n",
       "    </tr>\n",
       "    <tr>\n",
       "      <th>14</th>\n",
       "      <td>gs://garrettwu_bucket/images_kaggle/cars/carsg...</td>\n",
       "    </tr>\n",
       "    <tr>\n",
       "      <th>15</th>\n",
       "      <td>gs://garrettwu_bucket/images_kaggle/bike/bike_...</td>\n",
       "    </tr>\n",
       "    <tr>\n",
       "      <th>16</th>\n",
       "      <td>gs://garrettwu_bucket/images_kaggle/cars/carsg...</td>\n",
       "    </tr>\n",
       "    <tr>\n",
       "      <th>17</th>\n",
       "      <td>gs://garrettwu_bucket/images_kaggle/bike/bike_...</td>\n",
       "    </tr>\n",
       "    <tr>\n",
       "      <th>18</th>\n",
       "      <td>gs://garrettwu_bucket/images_kaggle/cats/cat.5...</td>\n",
       "    </tr>\n",
       "    <tr>\n",
       "      <th>19</th>\n",
       "      <td>gs://garrettwu_bucket/images_kaggle/bike/bike_...</td>\n",
       "    </tr>\n",
       "    <tr>\n",
       "      <th>20</th>\n",
       "      <td>gs://garrettwu_bucket/images_kaggle/human/ride...</td>\n",
       "    </tr>\n",
       "    <tr>\n",
       "      <th>21</th>\n",
       "      <td>gs://garrettwu_bucket/images_kaggle/bike/bike_...</td>\n",
       "    </tr>\n",
       "    <tr>\n",
       "      <th>22</th>\n",
       "      <td>gs://garrettwu_bucket/images_kaggle/bike/bike_...</td>\n",
       "    </tr>\n",
       "    <tr>\n",
       "      <th>23</th>\n",
       "      <td>gs://garrettwu_bucket/images_kaggle/cats/cat.7...</td>\n",
       "    </tr>\n",
       "    <tr>\n",
       "      <th>24</th>\n",
       "      <td>gs://garrettwu_bucket/images_kaggle/cars/carsg...</td>\n",
       "    </tr>\n",
       "  </tbody>\n",
       "</table>\n",
       "<p>25 rows × 1 columns</p>\n",
       "</div>[18030 rows x 1 columns in total]"
      ],
      "text/plain": [
       "                                                  uri\n",
       "0   gs://garrettwu_bucket/images_kaggle/cars/carsg...\n",
       "1   gs://garrettwu_bucket/images_kaggle/cars/carsg...\n",
       "2   gs://garrettwu_bucket/images_kaggle/cats/cat.4...\n",
       "3   gs://garrettwu_bucket/images_kaggle/cats/cat.1...\n",
       "4   gs://garrettwu_bucket/images_kaggle/human/ride...\n",
       "5   gs://garrettwu_bucket/images_kaggle/horses/hor...\n",
       "6   gs://garrettwu_bucket/images_kaggle/cars/carsg...\n",
       "7   gs://garrettwu_bucket/images_kaggle/human/ride...\n",
       "8   gs://garrettwu_bucket/images_kaggle/bike/bike_...\n",
       "9   gs://garrettwu_bucket/images_kaggle/human/ride...\n",
       "10  gs://garrettwu_bucket/images_kaggle/bike/bike_...\n",
       "11  gs://garrettwu_bucket/images_kaggle/bike/bike_...\n",
       "12  gs://garrettwu_bucket/images_kaggle/human/ride...\n",
       "13  gs://garrettwu_bucket/images_kaggle/flowers/00...\n",
       "14  gs://garrettwu_bucket/images_kaggle/cars/carsg...\n",
       "15  gs://garrettwu_bucket/images_kaggle/bike/bike_...\n",
       "16  gs://garrettwu_bucket/images_kaggle/cars/carsg...\n",
       "17  gs://garrettwu_bucket/images_kaggle/bike/bike_...\n",
       "18  gs://garrettwu_bucket/images_kaggle/cats/cat.5...\n",
       "19  gs://garrettwu_bucket/images_kaggle/bike/bike_...\n",
       "20  gs://garrettwu_bucket/images_kaggle/human/ride...\n",
       "21  gs://garrettwu_bucket/images_kaggle/bike/bike_...\n",
       "22  gs://garrettwu_bucket/images_kaggle/bike/bike_...\n",
       "23  gs://garrettwu_bucket/images_kaggle/cats/cat.7...\n",
       "24  gs://garrettwu_bucket/images_kaggle/cars/carsg...\n",
       "...\n",
       "\n",
       "[18030 rows x 1 columns]"
      ]
     },
     "execution_count": 2,
     "metadata": {},
     "output_type": "execute_result"
    }
   ],
   "source": [
    "df = bpd.from_glob_path(\"gs://garrettwu_bucket/images_kaggle/*\")\n",
    "df = bpd.concat([df] * 10)\n",
    "df\n",
    "# 18030 images"
   ]
  },
  {
   "cell_type": "code",
   "execution_count": null,
   "metadata": {},
   "outputs": [],
   "source": [
    "# 89m20s\n",
    "df[\"blurred_local\"] = df[\"uri\"].blob.img_blur((8, 8), \"images_kaggle_trans/images_blurred_local\", mode=\"local\")"
   ]
  },
  {
   "cell_type": "code",
   "execution_count": 3,
   "metadata": {},
   "outputs": [
    {
     "data": {
      "text/html": [
       "Query job 971f8a83-e3d0-47ce-ac5c-a7af3c6f5cd4 is RUNNING. <a target=\"_blank\" href=\"https://console.cloud.google.com/bigquery?project=bigframes-dev&j=bq:US:971f8a83-e3d0-47ce-ac5c-a7af3c6f5cd4&page=queryresults\">Open Job</a>"
      ],
      "text/plain": [
       "<IPython.core.display.HTML object>"
      ]
     },
     "metadata": {},
     "output_type": "display_data"
    },
    {
     "data": {
      "text/html": [
       "Query job dcd98aa0-81c2-4db3-a785-fb74bb586cd5 is DONE. 1.5 MB processed. <a target=\"_blank\" href=\"https://console.cloud.google.com/bigquery?project=bigframes-dev&j=bq:US:dcd98aa0-81c2-4db3-a785-fb74bb586cd5&page=queryresults\">Open Job</a>"
      ],
      "text/plain": [
       "<IPython.core.display.HTML object>"
      ]
     },
     "metadata": {},
     "output_type": "display_data"
    }
   ],
   "source": [
    "# 6m50s 44 instances\n",
    "df[\"blurred_remote\"] = df[\"uri\"].blob.img_blur((8, 8), \"images_kaggle_trans/images_blurred_remote\", mode=\"remote\")"
   ]
  },
  {
   "cell_type": "markdown",
   "metadata": {},
   "source": [
    "### Chunker"
   ]
  },
  {
   "cell_type": "code",
   "execution_count": null,
   "metadata": {},
   "outputs": [],
   "source": [
    "df = bpd.from_glob_path(\"gs://garrettwu_bucket/pdfs/*\")\n",
    "df\n",
    "# 1346 pdfs"
   ]
  },
  {
   "cell_type": "code",
   "execution_count": null,
   "metadata": {},
   "outputs": [],
   "source": [
    "# 13m42s 30 instances\n",
    "df[\"chunked_remote\"] = df[\"uri\"].blob.llama_index_chunk(mode=\"remote\")"
   ]
  },
  {
   "cell_type": "code",
   "execution_count": null,
   "metadata": {},
   "outputs": [],
   "source": [
    "# 89m10s\n",
    "df[\"chunked_local\"] = df[\"uri\"].blob.llama_index_chunk(mode=\"local\")"
   ]
  }
 ],
 "metadata": {
  "kernelspec": {
   "display_name": "venv",
   "language": "python",
   "name": "python3"
  },
  "language_info": {
   "codemirror_mode": {
    "name": "ipython",
    "version": 3
   },
   "file_extension": ".py",
   "mimetype": "text/x-python",
   "name": "python",
   "nbconvert_exporter": "python",
   "pygments_lexer": "ipython3",
   "version": "3.10.9"
  }
 },
 "nbformat": 4,
 "nbformat_minor": 2
}
