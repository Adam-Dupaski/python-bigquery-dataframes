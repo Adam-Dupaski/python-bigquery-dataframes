{
 "cells": [
  {
   "cell_type": "markdown",
   "metadata": {},
   "source": [
    "### Image Perf\n",
    "* 18,030 Images\n",
    "* Local: 89m20s\n",
    "* Remote: 6m50s\n"
   ]
  },
  {
   "cell_type": "code",
   "execution_count": null,
   "metadata": {},
   "outputs": [],
   "source": [
    "import bigframes.pandas as bpd"
   ]
  },
  {
   "cell_type": "code",
   "execution_count": null,
   "metadata": {},
   "outputs": [],
   "source": [
    "df = bpd.from_glob_path(\"gs://garrettwu_bucket/images_kaggle/*\")\n",
    "df = bpd.concat([df] * 10)\n",
    "df\n",
    "# 18030 images"
   ]
  },
  {
   "cell_type": "code",
   "execution_count": null,
   "metadata": {},
   "outputs": [],
   "source": [
    "# 89m20s\n",
    "df[\"blurred_local\"] = df[\"uri\"].blob.img_blur((8, 8), \"images_kaggle_trans/images_blurred_local\", mode=\"local\")"
   ]
  },
  {
   "cell_type": "code",
   "execution_count": null,
   "metadata": {},
   "outputs": [],
   "source": [
    "# 6m50s 44 instances\n",
    "df[\"blurred_remote\"] = df[\"uri\"].blob.img_blur((8, 8), \"images_kaggle_trans/images_blurred_remote\", mode=\"remote\")"
   ]
  },
  {
   "cell_type": "markdown",
   "metadata": {},
   "source": [
    "### Chunker Perf\n",
    "* 1,346 pdfs -> 128,903 chunks\n",
    "* Local: 89m10s\n",
    "* Remote: 13m42s"
   ]
  },
  {
   "cell_type": "code",
   "execution_count": null,
   "metadata": {},
   "outputs": [],
   "source": [
    "df = bpd.from_glob_path(\"gs://garrettwu_bucket/pdfs/*\")\n",
    "df\n",
    "# 1346 pdfs -> 128,903 chunks"
   ]
  },
  {
   "cell_type": "code",
   "execution_count": null,
   "metadata": {},
   "outputs": [],
   "source": [
    "# 13m42s 30 instances\n",
    "df[\"chunked_remote\"] = df[\"uri\"].blob.llama_index_chunk(mode=\"remote\")"
   ]
  },
  {
   "cell_type": "code",
   "execution_count": null,
   "metadata": {},
   "outputs": [],
   "source": [
    "# 89m10s\n",
    "df[\"chunked_local\"] = df[\"uri\"].blob.llama_index_chunk(mode=\"local\")"
   ]
  }
 ],
 "metadata": {
  "kernelspec": {
   "display_name": "venv",
   "language": "python",
   "name": "python3"
  },
  "language_info": {
   "codemirror_mode": {
    "name": "ipython",
    "version": 3
   },
   "file_extension": ".py",
   "mimetype": "text/x-python",
   "name": "python",
   "nbconvert_exporter": "python",
   "pygments_lexer": "ipython3",
   "version": "3.10.9"
  }
 },
 "nbformat": 4,
 "nbformat_minor": 2
}
