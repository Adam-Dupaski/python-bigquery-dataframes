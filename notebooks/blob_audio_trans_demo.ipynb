{
 "cells": [
  {
   "cell_type": "markdown",
   "metadata": {},
   "source": [
    "### BigFrames Audio Transcribe Demo\n",
    "\n",
    "1. Read audios from GCS path\n",
    "2. Get structured metadata from the audios, and join into a single DataFrame\n",
    "3. Generaate transcribe texts\n",
    "4. Performance numbers"
   ]
  },
  {
   "cell_type": "markdown",
   "metadata": {},
   "source": [
    "### 1. Read audios from GCS path\n"
   ]
  },
  {
   "cell_type": "code",
   "execution_count": 2,
   "metadata": {},
   "outputs": [
    {
     "data": {
      "text/html": [
       "Query job 459f482f-8dba-49e1-bffe-77d29c452bde is DONE. 0 Bytes processed. <a target=\"_blank\" href=\"https://console.cloud.google.com/bigquery?project=bigframes-dev&j=bq:US:459f482f-8dba-49e1-bffe-77d29c452bde&page=queryresults\">Open Job</a>"
      ],
      "text/plain": [
       "<IPython.core.display.HTML object>"
      ]
     },
     "metadata": {},
     "output_type": "display_data"
    },
    {
     "data": {
      "text/html": [
       "Query job ec180c31-4810-4628-9e7e-d160d4a23b2b is DONE. 1.4 MB processed. <a target=\"_blank\" href=\"https://console.cloud.google.com/bigquery?project=bigframes-dev&j=bq:US:ec180c31-4810-4628-9e7e-d160d4a23b2b&page=queryresults\">Open Job</a>"
      ],
      "text/plain": [
       "<IPython.core.display.HTML object>"
      ]
     },
     "metadata": {},
     "output_type": "display_data"
    },
    {
     "data": {
      "text/html": [
       "Query job 16986db3-621a-4f96-b1d0-ec56e6d0217e is DONE. 590 Bytes processed. <a target=\"_blank\" href=\"https://console.cloud.google.com/bigquery?project=bigframes-dev&j=bq:US:16986db3-621a-4f96-b1d0-ec56e6d0217e&page=queryresults\">Open Job</a>"
      ],
      "text/plain": [
       "<IPython.core.display.HTML object>"
      ]
     },
     "metadata": {},
     "output_type": "display_data"
    },
    {
     "data": {
      "text/html": [
       "Query job 7e121fc4-b3dc-439e-9e29-4df103569dc4 is DONE. 590 Bytes processed. <a target=\"_blank\" href=\"https://console.cloud.google.com/bigquery?project=bigframes-dev&j=bq:US:7e121fc4-b3dc-439e-9e29-4df103569dc4&page=queryresults\">Open Job</a>"
      ],
      "text/plain": [
       "<IPython.core.display.HTML object>"
      ]
     },
     "metadata": {},
     "output_type": "display_data"
    },
    {
     "data": {
      "text/html": [
       "<div>\n",
       "<style scoped>\n",
       "    .dataframe tbody tr th:only-of-type {\n",
       "        vertical-align: middle;\n",
       "    }\n",
       "\n",
       "    .dataframe tbody tr th {\n",
       "        vertical-align: top;\n",
       "    }\n",
       "\n",
       "    .dataframe thead th {\n",
       "        text-align: right;\n",
       "    }\n",
       "</style>\n",
       "<table border=\"1\" class=\"dataframe\">\n",
       "  <thead>\n",
       "    <tr style=\"text-align: right;\">\n",
       "      <th></th>\n",
       "      <th>uri</th>\n",
       "    </tr>\n",
       "  </thead>\n",
       "  <tbody>\n",
       "    <tr>\n",
       "      <th>0</th>\n",
       "      <td>gs://garrettwu_bucket/wavs/LJ008-0166.wav</td>\n",
       "    </tr>\n",
       "    <tr>\n",
       "      <th>1</th>\n",
       "      <td>gs://garrettwu_bucket/wavs/LJ045-0135.wav</td>\n",
       "    </tr>\n",
       "    <tr>\n",
       "      <th>2</th>\n",
       "      <td>gs://garrettwu_bucket/wavs/LJ016-0094.wav</td>\n",
       "    </tr>\n",
       "    <tr>\n",
       "      <th>3</th>\n",
       "      <td>gs://garrettwu_bucket/wavs/LJ017-0224.wav</td>\n",
       "    </tr>\n",
       "    <tr>\n",
       "      <th>4</th>\n",
       "      <td>gs://garrettwu_bucket/wavs/LJ005-0064.wav</td>\n",
       "    </tr>\n",
       "    <tr>\n",
       "      <th>5</th>\n",
       "      <td>gs://garrettwu_bucket/wavs/LJ048-0286.wav</td>\n",
       "    </tr>\n",
       "    <tr>\n",
       "      <th>6</th>\n",
       "      <td>gs://garrettwu_bucket/wavs/LJ016-0221.wav</td>\n",
       "    </tr>\n",
       "    <tr>\n",
       "      <th>7</th>\n",
       "      <td>gs://garrettwu_bucket/wavs/LJ018-0080.wav</td>\n",
       "    </tr>\n",
       "    <tr>\n",
       "      <th>8</th>\n",
       "      <td>gs://garrettwu_bucket/wavs/LJ028-0419.wav</td>\n",
       "    </tr>\n",
       "    <tr>\n",
       "      <th>9</th>\n",
       "      <td>gs://garrettwu_bucket/wavs/LJ047-0205.wav</td>\n",
       "    </tr>\n",
       "  </tbody>\n",
       "</table>\n",
       "<p>10 rows × 1 columns</p>\n",
       "</div>[10 rows x 1 columns in total]"
      ],
      "text/plain": [
       "                                         uri\n",
       "0  gs://garrettwu_bucket/wavs/LJ008-0166.wav\n",
       "1  gs://garrettwu_bucket/wavs/LJ045-0135.wav\n",
       "2  gs://garrettwu_bucket/wavs/LJ016-0094.wav\n",
       "3  gs://garrettwu_bucket/wavs/LJ017-0224.wav\n",
       "4  gs://garrettwu_bucket/wavs/LJ005-0064.wav\n",
       "5  gs://garrettwu_bucket/wavs/LJ048-0286.wav\n",
       "6  gs://garrettwu_bucket/wavs/LJ016-0221.wav\n",
       "7  gs://garrettwu_bucket/wavs/LJ018-0080.wav\n",
       "8  gs://garrettwu_bucket/wavs/LJ028-0419.wav\n",
       "9  gs://garrettwu_bucket/wavs/LJ047-0205.wav\n",
       "\n",
       "[10 rows x 1 columns]"
      ]
     },
     "execution_count": 2,
     "metadata": {},
     "output_type": "execute_result"
    }
   ],
   "source": [
    "import bigframes.pandas as bpd\n",
    "\n",
    "df = bpd.from_glob_path(\"gs://garrettwu_bucket/wavs/*\").head(10)\n",
    "df"
   ]
  },
  {
   "cell_type": "markdown",
   "metadata": {},
   "source": [
    "### 2. Get structured metadata from the audios, and join into a single DataFrame\n"
   ]
  },
  {
   "cell_type": "code",
   "execution_count": 3,
   "metadata": {},
   "outputs": [
    {
     "name": "stderr",
     "output_type": "stream",
     "text": [
      "/usr/local/google/home/garrettwu/src/bigframes/venv/lib/python3.10/site-packages/IPython/core/interactiveshell.py:3577: UserWarning: Reading cached table from 2024-10-03 21:57:14.798802+00:00 to avoid incompatibilies with previous reads of this table. To read the latest version, set `use_cache=False` or close the current session with Session.close() or bigframes.pandas.close_session().\n",
      "  exec(code_obj, self.user_global_ns, self.user_ns)\n"
     ]
    },
    {
     "data": {
      "text/html": [
       "Query job c9cc5c0a-a6ae-4465-97c5-3544853e2758 is DONE. 1.4 MB processed. <a target=\"_blank\" href=\"https://console.cloud.google.com/bigquery?project=bigframes-dev&j=bq:US:c9cc5c0a-a6ae-4465-97c5-3544853e2758&page=queryresults\">Open Job</a>"
      ],
      "text/plain": [
       "<IPython.core.display.HTML object>"
      ]
     },
     "metadata": {},
     "output_type": "display_data"
    },
    {
     "data": {
      "text/html": [
       "Query job db5b7b5d-febe-40ea-8b12-a56135e81ce2 is DONE. 1.4 MB processed. <a target=\"_blank\" href=\"https://console.cloud.google.com/bigquery?project=bigframes-dev&j=bq:US:db5b7b5d-febe-40ea-8b12-a56135e81ce2&page=queryresults\">Open Job</a>"
      ],
      "text/plain": [
       "<IPython.core.display.HTML object>"
      ]
     },
     "metadata": {},
     "output_type": "display_data"
    },
    {
     "data": {
      "text/html": [
       "Query job 28acf97a-2e52-4e00-9670-d2c9d51760f4 is DONE. 740 Bytes processed. <a target=\"_blank\" href=\"https://console.cloud.google.com/bigquery?project=bigframes-dev&j=bq:US:28acf97a-2e52-4e00-9670-d2c9d51760f4&page=queryresults\">Open Job</a>"
      ],
      "text/plain": [
       "<IPython.core.display.HTML object>"
      ]
     },
     "metadata": {},
     "output_type": "display_data"
    },
    {
     "data": {
      "text/html": [
       "Query job 84d218ef-7658-47bf-b8ca-6acb2ae86a4f is DONE. 740 Bytes processed. <a target=\"_blank\" href=\"https://console.cloud.google.com/bigquery?project=bigframes-dev&j=bq:US:84d218ef-7658-47bf-b8ca-6acb2ae86a4f&page=queryresults\">Open Job</a>"
      ],
      "text/plain": [
       "<IPython.core.display.HTML object>"
      ]
     },
     "metadata": {},
     "output_type": "display_data"
    },
    {
     "data": {
      "text/html": [
       "<div>\n",
       "<style scoped>\n",
       "    .dataframe tbody tr th:only-of-type {\n",
       "        vertical-align: middle;\n",
       "    }\n",
       "\n",
       "    .dataframe tbody tr th {\n",
       "        vertical-align: top;\n",
       "    }\n",
       "\n",
       "    .dataframe thead th {\n",
       "        text-align: right;\n",
       "    }\n",
       "</style>\n",
       "<table border=\"1\" class=\"dataframe\">\n",
       "  <thead>\n",
       "    <tr style=\"text-align: right;\">\n",
       "      <th></th>\n",
       "      <th>uri</th>\n",
       "      <th>size</th>\n",
       "      <th>author</th>\n",
       "    </tr>\n",
       "  </thead>\n",
       "  <tbody>\n",
       "    <tr>\n",
       "      <th>0</th>\n",
       "      <td>gs://garrettwu_bucket/wavs/LJ008-0166.wav</td>\n",
       "      <td>345958</td>\n",
       "      <td>alice</td>\n",
       "    </tr>\n",
       "    <tr>\n",
       "      <th>1</th>\n",
       "      <td>gs://garrettwu_bucket/wavs/LJ045-0135.wav</td>\n",
       "      <td>435558</td>\n",
       "      <td>bob</td>\n",
       "    </tr>\n",
       "    <tr>\n",
       "      <th>2</th>\n",
       "      <td>gs://garrettwu_bucket/wavs/LJ016-0094.wav</td>\n",
       "      <td>408934</td>\n",
       "      <td>charlie</td>\n",
       "    </tr>\n",
       "    <tr>\n",
       "      <th>3</th>\n",
       "      <td>gs://garrettwu_bucket/wavs/LJ017-0224.wav</td>\n",
       "      <td>185190</td>\n",
       "      <td>alice</td>\n",
       "    </tr>\n",
       "    <tr>\n",
       "      <th>4</th>\n",
       "      <td>gs://garrettwu_bucket/wavs/LJ005-0064.wav</td>\n",
       "      <td>316262</td>\n",
       "      <td>bob</td>\n",
       "    </tr>\n",
       "    <tr>\n",
       "      <th>5</th>\n",
       "      <td>gs://garrettwu_bucket/wavs/LJ048-0286.wav</td>\n",
       "      <td>403814</td>\n",
       "      <td>charlie</td>\n",
       "    </tr>\n",
       "    <tr>\n",
       "      <th>6</th>\n",
       "      <td>gs://garrettwu_bucket/wavs/LJ016-0221.wav</td>\n",
       "      <td>382822</td>\n",
       "      <td>alice</td>\n",
       "    </tr>\n",
       "    <tr>\n",
       "      <th>7</th>\n",
       "      <td>gs://garrettwu_bucket/wavs/LJ018-0080.wav</td>\n",
       "      <td>135014</td>\n",
       "      <td>bob</td>\n",
       "    </tr>\n",
       "    <tr>\n",
       "      <th>8</th>\n",
       "      <td>gs://garrettwu_bucket/wavs/LJ028-0419.wav</td>\n",
       "      <td>341862</td>\n",
       "      <td>charlie</td>\n",
       "    </tr>\n",
       "    <tr>\n",
       "      <th>9</th>\n",
       "      <td>gs://garrettwu_bucket/wavs/LJ047-0205.wav</td>\n",
       "      <td>105830</td>\n",
       "      <td>alice</td>\n",
       "    </tr>\n",
       "  </tbody>\n",
       "</table>\n",
       "<p>10 rows × 3 columns</p>\n",
       "</div>[10 rows x 3 columns in total]"
      ],
      "text/plain": [
       "                                         uri    size   author\n",
       "0  gs://garrettwu_bucket/wavs/LJ008-0166.wav  345958    alice\n",
       "1  gs://garrettwu_bucket/wavs/LJ045-0135.wav  435558      bob\n",
       "2  gs://garrettwu_bucket/wavs/LJ016-0094.wav  408934  charlie\n",
       "3  gs://garrettwu_bucket/wavs/LJ017-0224.wav  185190    alice\n",
       "4  gs://garrettwu_bucket/wavs/LJ005-0064.wav  316262      bob\n",
       "5  gs://garrettwu_bucket/wavs/LJ048-0286.wav  403814  charlie\n",
       "6  gs://garrettwu_bucket/wavs/LJ016-0221.wav  382822    alice\n",
       "7  gs://garrettwu_bucket/wavs/LJ018-0080.wav  135014      bob\n",
       "8  gs://garrettwu_bucket/wavs/LJ028-0419.wav  341862  charlie\n",
       "9  gs://garrettwu_bucket/wavs/LJ047-0205.wav  105830    alice\n",
       "\n",
       "[10 rows x 3 columns]"
      ]
     },
     "execution_count": 3,
     "metadata": {},
     "output_type": "execute_result"
    }
   ],
   "source": [
    "df[\"size\"] = df[\"uri\"].blob.size()\n",
    "df[\"author\"] = [\"alice\", \"bob\", \"charlie\", \"alice\", \"bob\", \"charlie\", \"alice\", \"bob\", \"charlie\", \"alice\"]\n",
    "df"
   ]
  },
  {
   "cell_type": "markdown",
   "metadata": {},
   "source": [
    "### 3. Generaate transcribe texts\n"
   ]
  },
  {
   "cell_type": "code",
   "execution_count": 4,
   "metadata": {},
   "outputs": [],
   "source": [
    "df[\"text\"] = df[\"uri\"].blob.audio_transcribe()"
   ]
  },
  {
   "cell_type": "code",
   "execution_count": null,
   "metadata": {},
   "outputs": [
    {
     "data": {
      "text/html": [
       "Query job 35afd7f6-8661-469d-ac3e-bf6a8ab100ec is DONE. 670 Bytes processed. <a target=\"_blank\" href=\"https://console.cloud.google.com/bigquery?project=bigframes-dev&j=bq:US:35afd7f6-8661-469d-ac3e-bf6a8ab100ec&page=queryresults\">Open Job</a>"
      ],
      "text/plain": [
       "<IPython.core.display.HTML object>"
      ]
     },
     "metadata": {},
     "output_type": "display_data"
    },
    {
     "data": {
      "text/html": [
       "Query job 97f897a2-7e7b-4648-8e9e-71e069f943fc is DONE. 670 Bytes processed. <a target=\"_blank\" href=\"https://console.cloud.google.com/bigquery?project=bigframes-dev&j=bq:US:97f897a2-7e7b-4648-8e9e-71e069f943fc&page=queryresults\">Open Job</a>"
      ],
      "text/plain": [
       "<IPython.core.display.HTML object>"
      ]
     },
     "metadata": {},
     "output_type": "display_data"
    },
    {
     "data": {
      "text/html": [
       "<div>\n",
       "<style scoped>\n",
       "    .dataframe tbody tr th:only-of-type {\n",
       "        vertical-align: middle;\n",
       "    }\n",
       "\n",
       "    .dataframe tbody tr th {\n",
       "        vertical-align: top;\n",
       "    }\n",
       "\n",
       "    .dataframe thead th {\n",
       "        text-align: right;\n",
       "    }\n",
       "</style>\n",
       "<table border=\"1\" class=\"dataframe\">\n",
       "  <thead>\n",
       "    <tr style=\"text-align: right;\">\n",
       "      <th></th>\n",
       "      <th>uri</th>\n",
       "      <th>size</th>\n",
       "      <th>text</th>\n",
       "    </tr>\n",
       "  </thead>\n",
       "  <tbody>\n",
       "    <tr>\n",
       "      <th>0</th>\n",
       "      <td>gs://garrettwu_bucket/wavs/LJ008-0166.wav</td>\n",
       "      <td>345958</td>\n",
       "      <td>The pie man stooped down to pick up his scatt...</td>\n",
       "    </tr>\n",
       "    <tr>\n",
       "      <th>1</th>\n",
       "      <td>gs://garrettwu_bucket/wavs/LJ045-0135.wav</td>\n",
       "      <td>435558</td>\n",
       "      <td>but did not issue any such warning or suggest...</td>\n",
       "    </tr>\n",
       "    <tr>\n",
       "      <th>2</th>\n",
       "      <td>gs://garrettwu_bucket/wavs/LJ016-0094.wav</td>\n",
       "      <td>408934</td>\n",
       "      <td>No further notice was taken of him. No one se...</td>\n",
       "    </tr>\n",
       "    <tr>\n",
       "      <th>3</th>\n",
       "      <td>gs://garrettwu_bucket/wavs/LJ017-0224.wav</td>\n",
       "      <td>185190</td>\n",
       "      <td>A simultaneous attack was made upon the capta...</td>\n",
       "    </tr>\n",
       "    <tr>\n",
       "      <th>4</th>\n",
       "      <td>gs://garrettwu_bucket/wavs/LJ005-0064.wav</td>\n",
       "      <td>316262</td>\n",
       "      <td>is found nowadays to be really efficacious. T...</td>\n",
       "    </tr>\n",
       "    <tr>\n",
       "      <th>5</th>\n",
       "      <td>gs://garrettwu_bucket/wavs/LJ048-0286.wav</td>\n",
       "      <td>403814</td>\n",
       "      <td>Nor is this goal served when agents remain ou...</td>\n",
       "    </tr>\n",
       "    <tr>\n",
       "      <th>6</th>\n",
       "      <td>gs://garrettwu_bucket/wavs/LJ016-0221.wav</td>\n",
       "      <td>382822</td>\n",
       "      <td>Calcraft consented, got and bestowed the clot...</td>\n",
       "    </tr>\n",
       "    <tr>\n",
       "      <th>7</th>\n",
       "      <td>gs://garrettwu_bucket/wavs/LJ018-0080.wav</td>\n",
       "      <td>135014</td>\n",
       "      <td>Sadler was tried for murder and convicted.</td>\n",
       "    </tr>\n",
       "    <tr>\n",
       "      <th>8</th>\n",
       "      <td>gs://garrettwu_bucket/wavs/LJ028-0419.wav</td>\n",
       "      <td>341862</td>\n",
       "      <td>And digging from the wall and inscribed squar...</td>\n",
       "    </tr>\n",
       "    <tr>\n",
       "      <th>9</th>\n",
       "      <td>gs://garrettwu_bucket/wavs/LJ047-0205.wav</td>\n",
       "      <td>105830</td>\n",
       "      <td>to potential danger.\"</td>\n",
       "    </tr>\n",
       "  </tbody>\n",
       "</table>\n",
       "<p>10 rows × 3 columns</p>\n",
       "</div>[10 rows x 3 columns in total]"
      ],
      "text/plain": [
       "                                         uri    size  \\\n",
       "0  gs://garrettwu_bucket/wavs/LJ008-0166.wav  345958   \n",
       "1  gs://garrettwu_bucket/wavs/LJ045-0135.wav  435558   \n",
       "2  gs://garrettwu_bucket/wavs/LJ016-0094.wav  408934   \n",
       "3  gs://garrettwu_bucket/wavs/LJ017-0224.wav  185190   \n",
       "4  gs://garrettwu_bucket/wavs/LJ005-0064.wav  316262   \n",
       "5  gs://garrettwu_bucket/wavs/LJ048-0286.wav  403814   \n",
       "6  gs://garrettwu_bucket/wavs/LJ016-0221.wav  382822   \n",
       "7  gs://garrettwu_bucket/wavs/LJ018-0080.wav  135014   \n",
       "8  gs://garrettwu_bucket/wavs/LJ028-0419.wav  341862   \n",
       "9  gs://garrettwu_bucket/wavs/LJ047-0205.wav  105830   \n",
       "\n",
       "                                                text  \n",
       "0   The pie man stooped down to pick up his scatt...  \n",
       "1   but did not issue any such warning or suggest...  \n",
       "2   No further notice was taken of him. No one se...  \n",
       "3   A simultaneous attack was made upon the capta...  \n",
       "4   is found nowadays to be really efficacious. T...  \n",
       "5   Nor is this goal served when agents remain ou...  \n",
       "6   Calcraft consented, got and bestowed the clot...  \n",
       "7         Sadler was tried for murder and convicted.  \n",
       "8   And digging from the wall and inscribed squar...  \n",
       "9                              to potential danger.\"  \n",
       "\n",
       "[10 rows x 3 columns]"
      ]
     },
     "execution_count": 5,
     "metadata": {},
     "output_type": "execute_result"
    }
   ],
   "source": [
    "df"
   ]
  },
  {
   "cell_type": "markdown",
   "metadata": {},
   "source": [
    "### 4. Performance numbers"
   ]
  },
  {
   "cell_type": "markdown",
   "metadata": {},
   "source": [
    "Using BQML's 55s audio benchmark files. \n",
    "\n",
    "Summary of 10k images:\n",
    "* max_batching_rows=50: timeout\n",
    "* max_batching_rows=20: finish in 122 minutes\n",
    "* max_batching_rows=1: finish in 81 minutes"
   ]
  },
  {
   "cell_type": "markdown",
   "metadata": {},
   "source": [
    "Sample code: (Be caution, it will take long time to run.)"
   ]
  },
  {
   "cell_type": "code",
   "execution_count": null,
   "metadata": {},
   "outputs": [],
   "source": [
    "# import bigframes.pandas as bpd\n",
    "\n",
    "# df1 = bpd.from_glob_path(\"gs://qiangh/speech2text_55s_1000row/*\")\n",
    "# df1"
   ]
  },
  {
   "cell_type": "code",
   "execution_count": null,
   "metadata": {},
   "outputs": [],
   "source": [
    "# df1 = bpd.concat([df1] * 13).head(10000)\n",
    "# df1.cache()"
   ]
  },
  {
   "cell_type": "code",
   "execution_count": null,
   "metadata": {},
   "outputs": [],
   "source": [
    "# df1[\"text\"] = df1[\"uri\"].blob.audio_transcribe(max_batching_rows=20)\n",
    "# df1"
   ]
  }
 ],
 "metadata": {
  "kernelspec": {
   "display_name": "venv",
   "language": "python",
   "name": "python3"
  },
  "language_info": {
   "codemirror_mode": {
    "name": "ipython",
    "version": 3
   },
   "file_extension": ".py",
   "mimetype": "text/x-python",
   "name": "python",
   "nbconvert_exporter": "python",
   "pygments_lexer": "ipython3",
   "version": "3.10.14"
  }
 },
 "nbformat": 4,
 "nbformat_minor": 2
}
