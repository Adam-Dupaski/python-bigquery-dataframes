{
 "cells": [
  {
   "cell_type": "markdown",
   "metadata": {},
   "source": [
    "### Image\n",
    "Using BQ table, Object Table and Remote Functions\n",
    "* Read from GCS\n",
    "* Combine with structured data and display\n",
    "* Blur in Python Remote Function\n",
    "* Output write to GCS"
   ]
  },
  {
   "cell_type": "code",
   "execution_count": 1,
   "metadata": {},
   "outputs": [],
   "source": [
    "import bigframes.pandas as bpd\n",
    "from bigframes.ml import vision"
   ]
  },
  {
   "cell_type": "markdown",
   "metadata": {},
   "source": [
    "### Read from wildcard GCS path"
   ]
  },
  {
   "cell_type": "code",
   "execution_count": 2,
   "metadata": {},
   "outputs": [
    {
     "name": "stderr",
     "output_type": "stream",
     "text": [
      "/usr/local/google/home/garrettwu/src/bigframes/bigframes/session/__init__.py:2047: UserWarning: No explicit location is set, so using location US for the session.\n",
      "  return Session(context)\n"
     ]
    },
    {
     "data": {
      "text/html": [
       "Query job 780f1fdc-ae83-4eb6-bf6e-fbb02039ad50 is DONE. 333 Bytes processed. <a target=\"_blank\" href=\"https://console.cloud.google.com/bigquery?project=bigframes-dev&j=bq:US:780f1fdc-ae83-4eb6-bf6e-fbb02039ad50&page=queryresults\">Open Job</a>"
      ],
      "text/plain": [
       "<IPython.core.display.HTML object>"
      ]
     },
     "metadata": {},
     "output_type": "display_data"
    },
    {
     "data": {
      "text/html": [
       "Query job 94b7d7d3-4767-48fd-8349-1f43208fa114 is DONE. 0 Bytes processed. <a target=\"_blank\" href=\"https://console.cloud.google.com/bigquery?project=bigframes-dev&j=bq:US:94b7d7d3-4767-48fd-8349-1f43208fa114&page=queryresults\">Open Job</a>"
      ],
      "text/plain": [
       "<IPython.core.display.HTML object>"
      ]
     },
     "metadata": {},
     "output_type": "display_data"
    },
    {
     "data": {
      "text/html": [
       "Query job 9473b690-8113-470d-935e-60894e4cc8a8 is DONE. 180 Bytes processed. <a target=\"_blank\" href=\"https://console.cloud.google.com/bigquery?project=bigframes-dev&j=bq:US:9473b690-8113-470d-935e-60894e4cc8a8&page=queryresults\">Open Job</a>"
      ],
      "text/plain": [
       "<IPython.core.display.HTML object>"
      ]
     },
     "metadata": {},
     "output_type": "display_data"
    },
    {
     "data": {
      "text/html": [
       "<div>\n",
       "<style scoped>\n",
       "    .dataframe tbody tr th:only-of-type {\n",
       "        vertical-align: middle;\n",
       "    }\n",
       "\n",
       "    .dataframe tbody tr th {\n",
       "        vertical-align: top;\n",
       "    }\n",
       "\n",
       "    .dataframe thead th {\n",
       "        text-align: right;\n",
       "    }\n",
       "</style>\n",
       "<table border=\"1\" class=\"dataframe\">\n",
       "  <thead>\n",
       "    <tr style=\"text-align: right;\">\n",
       "      <th></th>\n",
       "      <th>uri</th>\n",
       "    </tr>\n",
       "  </thead>\n",
       "  <tbody>\n",
       "    <tr>\n",
       "      <th>0</th>\n",
       "      <td>gs://garrettwu_bucket/images/images.jpeg</td>\n",
       "    </tr>\n",
       "    <tr>\n",
       "      <th>1</th>\n",
       "      <td>gs://garrettwu_bucket/images/images (1).jpeg</td>\n",
       "    </tr>\n",
       "    <tr>\n",
       "      <th>2</th>\n",
       "      <td>gs://garrettwu_bucket/images/download.jpeg</td>\n",
       "    </tr>\n",
       "  </tbody>\n",
       "</table>\n",
       "<p>3 rows × 1 columns</p>\n",
       "</div>[3 rows x 1 columns in total]"
      ],
      "text/plain": [
       "                                            uri\n",
       "0      gs://garrettwu_bucket/images/images.jpeg\n",
       "1  gs://garrettwu_bucket/images/images (1).jpeg\n",
       "2    gs://garrettwu_bucket/images/download.jpeg\n",
       "\n",
       "[3 rows x 1 columns]"
      ]
     },
     "execution_count": 2,
     "metadata": {},
     "output_type": "execute_result"
    }
   ],
   "source": [
    "df = bpd.from_glob_path(\"gs://garrettwu_bucket/images/*\")\n",
    "df\n"
   ]
  },
  {
   "cell_type": "markdown",
   "metadata": {},
   "source": [
    "### Or Read from an existing Object Table"
   ]
  },
  {
   "cell_type": "code",
   "execution_count": null,
   "metadata": {},
   "outputs": [],
   "source": [
    "df = bpd.read_gbq_object_table(\"bigframes-dev.garrettwu.img_obj_table\")\n",
    "df"
   ]
  },
  {
   "cell_type": "markdown",
   "metadata": {},
   "source": [
    "### Combine with structured data"
   ]
  },
  {
   "cell_type": "code",
   "execution_count": 3,
   "metadata": {},
   "outputs": [
    {
     "data": {
      "text/html": [
       "Query job 0a74c22a-c567-4dc6-9e2d-3c75d647d206 is DONE. 24 Bytes processed. <a target=\"_blank\" href=\"https://console.cloud.google.com/bigquery?project=bigframes-dev&j=bq:US:0a74c22a-c567-4dc6-9e2d-3c75d647d206&page=queryresults\">Open Job</a>"
      ],
      "text/plain": [
       "<IPython.core.display.HTML object>"
      ]
     },
     "metadata": {},
     "output_type": "display_data"
    }
   ],
   "source": [
    "df[\"number\"] = [0, 1, 2]\n",
    "df[\"author\"] = [\"Alice\", \"Bob\", \"Alice\"]"
   ]
  },
  {
   "cell_type": "code",
   "execution_count": 4,
   "metadata": {},
   "outputs": [
    {
     "name": "stderr",
     "output_type": "stream",
     "text": [
      "/tmp/ipykernel_1678536/1080281581.py:1: UserWarning: Reading cached table from 2024-06-26 01:37:19.039148+00:00 to avoid incompatibilies with previous reads of this table. To read the latest version, set `use_cache=False` or close the current session with Session.close() or bigframes.pandas.close_session().\n",
      "  df[\"version\"] = df[\"uri\"].blob.version()\n",
      "/tmp/ipykernel_1678536/1080281581.py:2: UserWarning: Reading cached table from 2024-06-26 01:37:19.039148+00:00 to avoid incompatibilies with previous reads of this table. To read the latest version, set `use_cache=False` or close the current session with Session.close() or bigframes.pandas.close_session().\n",
      "  df[\"content_type\"] = df[\"uri\"].blob.content_type()\n"
     ]
    },
    {
     "data": {
      "text/html": [
       "Query job be7c3a0a-9edb-4a02-a3a2-cd436cf685a4 is DONE. 1.2 kB processed. <a target=\"_blank\" href=\"https://console.cloud.google.com/bigquery?project=bigframes-dev&j=bq:US:be7c3a0a-9edb-4a02-a3a2-cd436cf685a4&page=queryresults\">Open Job</a>"
      ],
      "text/plain": [
       "<IPython.core.display.HTML object>"
      ]
     },
     "metadata": {},
     "output_type": "display_data"
    },
    {
     "data": {
      "text/html": [
       "Query job 7f2bf829-f55a-4368-9cf1-108b095e754d is DONE. 0 Bytes processed. <a target=\"_blank\" href=\"https://console.cloud.google.com/bigquery?project=bigframes-dev&j=bq:US:7f2bf829-f55a-4368-9cf1-108b095e754d&page=queryresults\">Open Job</a>"
      ],
      "text/plain": [
       "<IPython.core.display.HTML object>"
      ]
     },
     "metadata": {},
     "output_type": "display_data"
    },
    {
     "data": {
      "text/html": [
       "Query job 1c194e69-be6e-4fdc-bf6b-202506db28ed is DONE. 355 Bytes processed. <a target=\"_blank\" href=\"https://console.cloud.google.com/bigquery?project=bigframes-dev&j=bq:US:1c194e69-be6e-4fdc-bf6b-202506db28ed&page=queryresults\">Open Job</a>"
      ],
      "text/plain": [
       "<IPython.core.display.HTML object>"
      ]
     },
     "metadata": {},
     "output_type": "display_data"
    },
    {
     "data": {
      "text/html": [
       "<div>\n",
       "<style scoped>\n",
       "    .dataframe tbody tr th:only-of-type {\n",
       "        vertical-align: middle;\n",
       "    }\n",
       "\n",
       "    .dataframe tbody tr th {\n",
       "        vertical-align: top;\n",
       "    }\n",
       "\n",
       "    .dataframe thead th {\n",
       "        text-align: right;\n",
       "    }\n",
       "</style>\n",
       "<table border=\"1\" class=\"dataframe\">\n",
       "  <thead>\n",
       "    <tr style=\"text-align: right;\">\n",
       "      <th></th>\n",
       "      <th>uri</th>\n",
       "      <th>number</th>\n",
       "      <th>author</th>\n",
       "      <th>version</th>\n",
       "      <th>content_type</th>\n",
       "    </tr>\n",
       "  </thead>\n",
       "  <tbody>\n",
       "    <tr>\n",
       "      <th>0</th>\n",
       "      <td>gs://garrettwu_bucket/images/images.jpeg</td>\n",
       "      <td>0</td>\n",
       "      <td>Alice</td>\n",
       "      <td>1708566948182921</td>\n",
       "      <td>image/jpeg</td>\n",
       "    </tr>\n",
       "    <tr>\n",
       "      <th>1</th>\n",
       "      <td>gs://garrettwu_bucket/images/images (1).jpeg</td>\n",
       "      <td>1</td>\n",
       "      <td>Bob</td>\n",
       "      <td>1708566948192241</td>\n",
       "      <td>image/jpeg</td>\n",
       "    </tr>\n",
       "    <tr>\n",
       "      <th>2</th>\n",
       "      <td>gs://garrettwu_bucket/images/download.jpeg</td>\n",
       "      <td>2</td>\n",
       "      <td>Alice</td>\n",
       "      <td>1708566948168122</td>\n",
       "      <td>image/jpeg</td>\n",
       "    </tr>\n",
       "  </tbody>\n",
       "</table>\n",
       "<p>3 rows × 5 columns</p>\n",
       "</div>[3 rows x 5 columns in total]"
      ],
      "text/plain": [
       "                                            uri  number author  \\\n",
       "0      gs://garrettwu_bucket/images/images.jpeg       0  Alice   \n",
       "1  gs://garrettwu_bucket/images/images (1).jpeg       1    Bob   \n",
       "2    gs://garrettwu_bucket/images/download.jpeg       2  Alice   \n",
       "\n",
       "            version content_type  \n",
       "0  1708566948182921   image/jpeg  \n",
       "1  1708566948192241   image/jpeg  \n",
       "2  1708566948168122   image/jpeg  \n",
       "\n",
       "[3 rows x 5 columns]"
      ]
     },
     "execution_count": 4,
     "metadata": {},
     "output_type": "execute_result"
    }
   ],
   "source": [
    "df[\"version\"] = df[\"uri\"].blob.version()\n",
    "df[\"content_type\"] = df[\"uri\"].blob.content_type()\n",
    "df"
   ]
  },
  {
   "cell_type": "markdown",
   "metadata": {},
   "source": [
    "### Display images"
   ]
  },
  {
   "cell_type": "code",
   "execution_count": 5,
   "metadata": {},
   "outputs": [
    {
     "data": {
      "text/html": [
       "Query job 884eebfa-fb37-44ba-8a5d-a1e508a02c44 is DONE. 252 Bytes processed. <a target=\"_blank\" href=\"https://console.cloud.google.com/bigquery?project=bigframes-dev&j=bq:US:884eebfa-fb37-44ba-8a5d-a1e508a02c44&page=queryresults\">Open Job</a>"
      ],
      "text/plain": [
       "<IPython.core.display.HTML object>"
      ]
     },
     "metadata": {},
     "output_type": "display_data"
    },
    {
     "data": {
      "image/jpeg": "[encoded data removed]",
      "text/plain": [
       "<IPython.core.display.Image object>"
      ]
     },
     "metadata": {},
     "output_type": "display_data"
    },
    {
     "data": {
      "image/jpeg": "[encoded data removed]",
      "text/plain": [
       "<IPython.core.display.Image object>"
      ]
     },
     "metadata": {},
     "output_type": "display_data"
    },
    {
     "data": {
      "image/jpeg": "[encoded data removed]",
      "text/plain": [
       "<IPython.core.display.Image object>"
      ]
     },
     "metadata": {},
     "output_type": "display_data"
    }
   ],
   "source": [
    "df[\"uri\"].blob.display()"
   ]
  },
  {
   "cell_type": "markdown",
   "metadata": {},
   "source": [
    "### Blur images"
   ]
  },
  {
   "cell_type": "code",
   "execution_count": 6,
   "metadata": {},
   "outputs": [
    {
     "data": {
      "text/html": [
       "Query job 853b04e7-5b9a-4ba3-9b2e-1eabae773245 is DONE. 252 Bytes processed. <a target=\"_blank\" href=\"https://console.cloud.google.com/bigquery?project=bigframes-dev&j=bq:US:853b04e7-5b9a-4ba3-9b2e-1eabae773245&page=queryresults\">Open Job</a>"
      ],
      "text/plain": [
       "<IPython.core.display.HTML object>"
      ]
     },
     "metadata": {},
     "output_type": "display_data"
    },
    {
     "data": {
      "text/html": [
       "Query job 4b598a6d-6159-4265-abf7-dcd2c49aff05 is DONE. 631 Bytes processed. <a target=\"_blank\" href=\"https://console.cloud.google.com/bigquery?project=bigframes-dev&j=bq:US:4b598a6d-6159-4265-abf7-dcd2c49aff05&page=queryresults\">Open Job</a>"
      ],
      "text/plain": [
       "<IPython.core.display.HTML object>"
      ]
     },
     "metadata": {},
     "output_type": "display_data"
    },
    {
     "data": {
      "text/html": [
       "Query job 5f28f04a-1024-4520-8242-3109300888c3 is DONE. 0 Bytes processed. <a target=\"_blank\" href=\"https://console.cloud.google.com/bigquery?project=bigframes-dev&j=bq:US:5f28f04a-1024-4520-8242-3109300888c3&page=queryresults\">Open Job</a>"
      ],
      "text/plain": [
       "<IPython.core.display.HTML object>"
      ]
     },
     "metadata": {},
     "output_type": "display_data"
    },
    {
     "data": {
      "text/html": [
       "Query job 560032ca-0a79-4d8e-8796-0ce4806dbe2d is DONE. 607 Bytes processed. <a target=\"_blank\" href=\"https://console.cloud.google.com/bigquery?project=bigframes-dev&j=bq:US:560032ca-0a79-4d8e-8796-0ce4806dbe2d&page=queryresults\">Open Job</a>"
      ],
      "text/plain": [
       "<IPython.core.display.HTML object>"
      ]
     },
     "metadata": {},
     "output_type": "display_data"
    },
    {
     "data": {
      "text/html": [
       "<div>\n",
       "<style scoped>\n",
       "    .dataframe tbody tr th:only-of-type {\n",
       "        vertical-align: middle;\n",
       "    }\n",
       "\n",
       "    .dataframe tbody tr th {\n",
       "        vertical-align: top;\n",
       "    }\n",
       "\n",
       "    .dataframe thead th {\n",
       "        text-align: right;\n",
       "    }\n",
       "</style>\n",
       "<table border=\"1\" class=\"dataframe\">\n",
       "  <thead>\n",
       "    <tr style=\"text-align: right;\">\n",
       "      <th></th>\n",
       "      <th>uri</th>\n",
       "      <th>number</th>\n",
       "      <th>author</th>\n",
       "      <th>version</th>\n",
       "      <th>content_type</th>\n",
       "      <th>blurred</th>\n",
       "    </tr>\n",
       "  </thead>\n",
       "  <tbody>\n",
       "    <tr>\n",
       "      <th>0</th>\n",
       "      <td>gs://garrettwu_bucket/images/images.jpeg</td>\n",
       "      <td>0</td>\n",
       "      <td>Alice</td>\n",
       "      <td>1708566948182921</td>\n",
       "      <td>image/jpeg</td>\n",
       "      <td>gs://garrettwu_bucket/images_blurred/images.jpeg</td>\n",
       "    </tr>\n",
       "    <tr>\n",
       "      <th>1</th>\n",
       "      <td>gs://garrettwu_bucket/images/images (1).jpeg</td>\n",
       "      <td>1</td>\n",
       "      <td>Bob</td>\n",
       "      <td>1708566948192241</td>\n",
       "      <td>image/jpeg</td>\n",
       "      <td>gs://garrettwu_bucket/images_blurred/images (1...</td>\n",
       "    </tr>\n",
       "    <tr>\n",
       "      <th>2</th>\n",
       "      <td>gs://garrettwu_bucket/images/download.jpeg</td>\n",
       "      <td>2</td>\n",
       "      <td>Alice</td>\n",
       "      <td>1708566948168122</td>\n",
       "      <td>image/jpeg</td>\n",
       "      <td>gs://garrettwu_bucket/images_blurred/download....</td>\n",
       "    </tr>\n",
       "  </tbody>\n",
       "</table>\n",
       "<p>3 rows × 6 columns</p>\n",
       "</div>[3 rows x 6 columns in total]"
      ],
      "text/plain": [
       "                                            uri  number author  \\\n",
       "0      gs://garrettwu_bucket/images/images.jpeg       0  Alice   \n",
       "1  gs://garrettwu_bucket/images/images (1).jpeg       1    Bob   \n",
       "2    gs://garrettwu_bucket/images/download.jpeg       2  Alice   \n",
       "\n",
       "            version content_type  \\\n",
       "0  1708566948182921   image/jpeg   \n",
       "1  1708566948192241   image/jpeg   \n",
       "2  1708566948168122   image/jpeg   \n",
       "\n",
       "                                             blurred  \n",
       "0   gs://garrettwu_bucket/images_blurred/images.jpeg  \n",
       "1  gs://garrettwu_bucket/images_blurred/images (1...  \n",
       "2  gs://garrettwu_bucket/images_blurred/download....  \n",
       "\n",
       "[3 rows x 6 columns]"
      ]
     },
     "execution_count": 6,
     "metadata": {},
     "output_type": "execute_result"
    }
   ],
   "source": [
    "df[\"blurred\"] = df[\"uri\"].blob.img_blur((10, 10), \"images_blurred\", mode=\"remote\")\n",
    "df"
   ]
  },
  {
   "cell_type": "code",
   "execution_count": 7,
   "metadata": {},
   "outputs": [
    {
     "data": {
      "text/html": [
       "Query job 6f82f25f-f13d-426c-9011-c48fced91753 is DONE. 372 Bytes processed. <a target=\"_blank\" href=\"https://console.cloud.google.com/bigquery?project=bigframes-dev&j=bq:US:6f82f25f-f13d-426c-9011-c48fced91753&page=queryresults\">Open Job</a>"
      ],
      "text/plain": [
       "<IPython.core.display.HTML object>"
      ]
     },
     "metadata": {},
     "output_type": "display_data"
    },
    {
     "data": {
      "image/jpeg": "[encoded data removed]",
      "text/plain": [
       "<IPython.core.display.Image object>"
      ]
     },
     "metadata": {},
     "output_type": "display_data"
    },
    {
     "data": {
      "image/jpeg": "[encoded data removed]",
      "text/plain": [
       "<IPython.core.display.Image object>"
      ]
     },
     "metadata": {},
     "output_type": "display_data"
    },
    {
     "data": {
      "image/jpeg": "[encoded data removed]",
      "text/plain": [
       "<IPython.core.display.Image object>"
      ]
     },
     "metadata": {},
     "output_type": "display_data"
    }
   ],
   "source": [
    "df[\"blurred\"].blob.display()"
   ]
  },
  {
   "cell_type": "markdown",
   "metadata": {},
   "source": [
    "### Vertex Multi-modal model (Local show case)"
   ]
  },
  {
   "cell_type": "code",
   "execution_count": 8,
   "metadata": {},
   "outputs": [],
   "source": [
    "df = df[[\"uri\"]]"
   ]
  },
  {
   "cell_type": "code",
   "execution_count": 9,
   "metadata": {},
   "outputs": [
    {
     "data": {
      "text/html": [
       "Query job 181fc354-8be6-4f99-9c6c-2ab25b051759 is DONE. 0 Bytes processed. <a target=\"_blank\" href=\"https://console.cloud.google.com/bigquery?project=bigframes-dev&j=bq:US:181fc354-8be6-4f99-9c6c-2ab25b051759&page=queryresults\">Open Job</a>"
      ],
      "text/plain": [
       "<IPython.core.display.HTML object>"
      ]
     },
     "metadata": {},
     "output_type": "display_data"
    }
   ],
   "source": [
    "df[\"question\"] = [\"what are the animals in the image?\", \"How many cats are there in the image?\", \"How does the cat feel?\"]"
   ]
  },
  {
   "cell_type": "code",
   "execution_count": 10,
   "metadata": {},
   "outputs": [
    {
     "data": {
      "text/html": [
       "Query job 481653ae-e631-4a94-8c59-18957c121314 is DONE. 348 Bytes processed. <a target=\"_blank\" href=\"https://console.cloud.google.com/bigquery?project=bigframes-dev&j=bq:US:481653ae-e631-4a94-8c59-18957c121314&page=queryresults\">Open Job</a>"
      ],
      "text/plain": [
       "<IPython.core.display.HTML object>"
      ]
     },
     "metadata": {},
     "output_type": "display_data"
    },
    {
     "data": {
      "text/html": [
       "Query job 4e2826a9-4a8b-45c4-86fa-c592f7ebe7b5 is DONE. 192 Bytes processed. <a target=\"_blank\" href=\"https://console.cloud.google.com/bigquery?project=bigframes-dev&j=bq:US:4e2826a9-4a8b-45c4-86fa-c592f7ebe7b5&page=queryresults\">Open Job</a>"
      ],
      "text/plain": [
       "<IPython.core.display.HTML object>"
      ]
     },
     "metadata": {},
     "output_type": "display_data"
    },
    {
     "data": {
      "text/html": [
       "Query job f2805c7b-b43e-42fd-8433-e26fc8db35f6 is DONE. 348 Bytes processed. <a target=\"_blank\" href=\"https://console.cloud.google.com/bigquery?project=bigframes-dev&j=bq:US:f2805c7b-b43e-42fd-8433-e26fc8db35f6&page=queryresults\">Open Job</a>"
      ],
      "text/plain": [
       "<IPython.core.display.HTML object>"
      ]
     },
     "metadata": {},
     "output_type": "display_data"
    },
    {
     "data": {
      "text/html": [
       "Query job b9789b32-2143-48d9-a6a6-d805d2ce12c2 is DONE. 0 Bytes processed. <a target=\"_blank\" href=\"https://console.cloud.google.com/bigquery?project=bigframes-dev&j=bq:US:b9789b32-2143-48d9-a6a6-d805d2ce12c2&page=queryresults\">Open Job</a>"
      ],
      "text/plain": [
       "<IPython.core.display.HTML object>"
      ]
     },
     "metadata": {},
     "output_type": "display_data"
    },
    {
     "data": {
      "text/html": [
       "Query job ac0fd8c1-ec67-4df9-a88a-ed2e524b8cd7 is DONE. 626 Bytes processed. <a target=\"_blank\" href=\"https://console.cloud.google.com/bigquery?project=bigframes-dev&j=bq:US:ac0fd8c1-ec67-4df9-a88a-ed2e524b8cd7&page=queryresults\">Open Job</a>"
      ],
      "text/plain": [
       "<IPython.core.display.HTML object>"
      ]
     },
     "metadata": {},
     "output_type": "display_data"
    },
    {
     "data": {
      "text/html": [
       "<div>\n",
       "<style scoped>\n",
       "    .dataframe tbody tr th:only-of-type {\n",
       "        vertical-align: middle;\n",
       "    }\n",
       "\n",
       "    .dataframe tbody tr th {\n",
       "        vertical-align: top;\n",
       "    }\n",
       "\n",
       "    .dataframe thead th {\n",
       "        text-align: right;\n",
       "    }\n",
       "</style>\n",
       "<table border=\"1\" class=\"dataframe\">\n",
       "  <thead>\n",
       "    <tr style=\"text-align: right;\">\n",
       "      <th></th>\n",
       "      <th>uri</th>\n",
       "      <th>question</th>\n",
       "      <th>multimodal_result</th>\n",
       "    </tr>\n",
       "  </thead>\n",
       "  <tbody>\n",
       "    <tr>\n",
       "      <th>0</th>\n",
       "      <td>gs://garrettwu_bucket/images/images.jpeg</td>\n",
       "      <td>what are the animals in the image?</td>\n",
       "      <td>The animals in the image are kittens. They ar...</td>\n",
       "    </tr>\n",
       "    <tr>\n",
       "      <th>1</th>\n",
       "      <td>gs://garrettwu_bucket/images/images (1).jpeg</td>\n",
       "      <td>How many cats are there in the image?</td>\n",
       "      <td>There are 2 cats in the image.</td>\n",
       "    </tr>\n",
       "    <tr>\n",
       "      <th>2</th>\n",
       "      <td>gs://garrettwu_bucket/images/download.jpeg</td>\n",
       "      <td>How does the cat feel?</td>\n",
       "      <td>The cat is feeling playful and wants to inter...</td>\n",
       "    </tr>\n",
       "  </tbody>\n",
       "</table>\n",
       "<p>3 rows × 3 columns</p>\n",
       "</div>[3 rows x 3 columns in total]"
      ],
      "text/plain": [
       "                                            uri  \\\n",
       "0      gs://garrettwu_bucket/images/images.jpeg   \n",
       "1  gs://garrettwu_bucket/images/images (1).jpeg   \n",
       "2    gs://garrettwu_bucket/images/download.jpeg   \n",
       "\n",
       "                                question  \\\n",
       "0     what are the animals in the image?   \n",
       "1  How many cats are there in the image?   \n",
       "2                 How does the cat feel?   \n",
       "\n",
       "                                   multimodal_result  \n",
       "0   The animals in the image are kittens. They ar...  \n",
       "1                     There are 2 cats in the image.  \n",
       "2   The cat is feeling playful and wants to inter...  \n",
       "\n",
       "[3 rows x 3 columns]"
      ]
     },
     "execution_count": 10,
     "metadata": {},
     "output_type": "execute_result"
    }
   ],
   "source": [
    "multi_modal = vision.GeminiMultimodalTextGenerator()\n",
    "result_mm = multi_modal.predict(df)\n",
    "result_mm"
   ]
  },
  {
   "cell_type": "code",
   "execution_count": 11,
   "metadata": {},
   "outputs": [
    {
     "data": {
      "text/html": [
       "Query job 64ea1945-c1c8-4625-b9a9-09decb4672bc is DONE. 395 Bytes processed. <a target=\"_blank\" href=\"https://console.cloud.google.com/bigquery?project=bigframes-dev&j=bq:US:64ea1945-c1c8-4625-b9a9-09decb4672bc&page=queryresults\">Open Job</a>"
      ],
      "text/plain": [
       "<IPython.core.display.HTML object>"
      ]
     },
     "metadata": {},
     "output_type": "display_data"
    },
    {
     "data": {
      "text/plain": [
       "' The cat is feeling playful and wants to interact with the person taking the picture.'"
      ]
     },
     "execution_count": 11,
     "metadata": {},
     "output_type": "execute_result"
    }
   ],
   "source": [
    "result_mm[\"multimodal_result\"][2]"
   ]
  },
  {
   "cell_type": "code",
   "execution_count": null,
   "metadata": {},
   "outputs": [],
   "source": []
  }
 ],
 "metadata": {
  "kernelspec": {
   "display_name": "venv",
   "language": "python",
   "name": "python3"
  },
  "language_info": {
   "codemirror_mode": {
    "name": "ipython",
    "version": 3
   },
   "file_extension": ".py",
   "mimetype": "text/x-python",
   "name": "python",
   "nbconvert_exporter": "python",
   "pygments_lexer": "ipython3",
   "version": "3.10.9"
  }
 },
 "nbformat": 4,
 "nbformat_minor": 2
}
