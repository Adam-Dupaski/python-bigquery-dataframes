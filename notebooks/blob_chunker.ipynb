{
 "cells": [
  {
   "cell_type": "code",
   "execution_count": 1,
   "metadata": {},
   "outputs": [],
   "source": [
    "import bigframes.pandas as bpd"
   ]
  },
  {
   "cell_type": "code",
   "execution_count": 15,
   "metadata": {},
   "outputs": [],
   "source": [
    "# 64mb\n",
    "# df = bpd.DataFrame({\"uri\": [\"gs://garrettwu_bucket/pdfs/Oracle 11gr2 PLSQL Packages and Types (e40758).pdf\"]})\n",
    "\n",
    "# 10mb\n",
    "# df = bpd.DataFrame({\"uri\": [\"gs://garrettwu_bucket/pdfs/What's Wrong With Deep Learning (lecun-20150610-cvpr-keynote).pdf\"]})\n",
    "\n",
    "# 10mb\n",
    "# df = bpd.DataFrame({\"uri\": [\"gs://garrettwu_bucket/pdfs/Maximizing GPU Throughput Across Multiple Streams - Tips and Tricks - Slides (s7393-chuck-seberino-maximizing-gpu).pdf\"]})\n",
    "\n"
   ]
  },
  {
   "cell_type": "code",
   "execution_count": 10,
   "metadata": {},
   "outputs": [
    {
     "data": {
      "text/html": [
       "Query job f24637de-8621-4dbf-90e4-180a632dda9c is DONE. 0 Bytes processed. <a target=\"_blank\" href=\"https://console.cloud.google.com/bigquery?project=bigframes-dev&j=bq:US:f24637de-8621-4dbf-90e4-180a632dda9c&page=queryresults\">Open Job</a>"
      ],
      "text/plain": [
       "<IPython.core.display.HTML object>"
      ]
     },
     "metadata": {},
     "output_type": "display_data"
    },
    {
     "data": {
      "text/html": [
       "Query job 30626b62-b9ff-4e3c-89a2-67c924891fb8 is DONE. 0 Bytes processed. <a target=\"_blank\" href=\"https://console.cloud.google.com/bigquery?project=bigframes-dev&j=bq:US:30626b62-b9ff-4e3c-89a2-67c924891fb8&page=queryresults\">Open Job</a>"
      ],
      "text/plain": [
       "<IPython.core.display.HTML object>"
      ]
     },
     "metadata": {},
     "output_type": "display_data"
    },
    {
     "data": {
      "text/html": [
       "<div>\n",
       "<style scoped>\n",
       "    .dataframe tbody tr th:only-of-type {\n",
       "        vertical-align: middle;\n",
       "    }\n",
       "\n",
       "    .dataframe tbody tr th {\n",
       "        vertical-align: top;\n",
       "    }\n",
       "\n",
       "    .dataframe thead th {\n",
       "        text-align: right;\n",
       "    }\n",
       "</style>\n",
       "<table border=\"1\" class=\"dataframe\">\n",
       "  <thead>\n",
       "    <tr style=\"text-align: right;\">\n",
       "      <th></th>\n",
       "      <th>uri</th>\n",
       "    </tr>\n",
       "  </thead>\n",
       "  <tbody>\n",
       "    <tr>\n",
       "      <th>0</th>\n",
       "      <td>gs://garrettwu_bucket/pdfs/What's Wrong With D...</td>\n",
       "    </tr>\n",
       "  </tbody>\n",
       "</table>\n",
       "<p>1 rows × 1 columns</p>\n",
       "</div>[1 rows x 1 columns in total]"
      ],
      "text/plain": [
       "                                                 uri\n",
       "0  gs://garrettwu_bucket/pdfs/What's Wrong With D...\n",
       "\n",
       "[1 rows x 1 columns]"
      ]
     },
     "execution_count": 10,
     "metadata": {},
     "output_type": "execute_result"
    }
   ],
   "source": [
    "# df"
   ]
  },
  {
   "cell_type": "code",
   "execution_count": 2,
   "metadata": {},
   "outputs": [
    {
     "name": "stderr",
     "output_type": "stream",
     "text": [
      "/usr/local/google/home/garrettwu/src/bigframes/bigframes/session/__init__.py:2033: UserWarning: No explicit location is set, so using location US for the session.\n",
      "  return Session(context)\n"
     ]
    },
    {
     "data": {
      "text/html": [
       "Query job 1e8e1441-0e99-4c1f-aa0a-d2801cf0e6a8 is DONE. 0 Bytes processed. <a target=\"_blank\" href=\"https://console.cloud.google.com/bigquery?project=bigframes-dev&j=bq:US:1e8e1441-0e99-4c1f-aa0a-d2801cf0e6a8&page=queryresults\">Open Job</a>"
      ],
      "text/plain": [
       "<IPython.core.display.HTML object>"
      ]
     },
     "metadata": {},
     "output_type": "display_data"
    },
    {
     "data": {
      "text/html": [
       "Query job 1485992a-b88c-43c2-aeea-d05bc1d83e8f is DONE. 0 Bytes processed. <a target=\"_blank\" href=\"https://console.cloud.google.com/bigquery?project=bigframes-dev&j=bq:US:1485992a-b88c-43c2-aeea-d05bc1d83e8f&page=queryresults\">Open Job</a>"
      ],
      "text/plain": [
       "<IPython.core.display.HTML object>"
      ]
     },
     "metadata": {},
     "output_type": "display_data"
    }
   ],
   "source": [
    "df = bpd.from_glob_path(\"gs://garrettwu_bucket/pdfs/*\")"
   ]
  },
  {
   "cell_type": "code",
   "execution_count": 3,
   "metadata": {},
   "outputs": [
    {
     "data": {
      "text/html": [
       "Query job 7e3c4a1e-b94f-4ded-b669-0753ba6b2cb4 is DONE. 232.7 kB processed. <a target=\"_blank\" href=\"https://console.cloud.google.com/bigquery?project=bigframes-dev&j=bq:US:7e3c4a1e-b94f-4ded-b669-0753ba6b2cb4&page=queryresults\">Open Job</a>"
      ],
      "text/plain": [
       "<IPython.core.display.HTML object>"
      ]
     },
     "metadata": {},
     "output_type": "display_data"
    },
    {
     "data": {
      "text/html": [
       "Query job b57c971d-f03d-4e3b-897d-766a80602a58 is DONE. 0 Bytes processed. <a target=\"_blank\" href=\"https://console.cloud.google.com/bigquery?project=bigframes-dev&j=bq:US:b57c971d-f03d-4e3b-897d-766a80602a58&page=queryresults\">Open Job</a>"
      ],
      "text/plain": [
       "<IPython.core.display.HTML object>"
      ]
     },
     "metadata": {},
     "output_type": "display_data"
    },
    {
     "data": {
      "text/html": [
       "Query job 19fdd268-9f0f-4f5e-8886-6104e9b4f08a is DONE. 155.7 kB processed. <a target=\"_blank\" href=\"https://console.cloud.google.com/bigquery?project=bigframes-dev&j=bq:US:19fdd268-9f0f-4f5e-8886-6104e9b4f08a&page=queryresults\">Open Job</a>"
      ],
      "text/plain": [
       "<IPython.core.display.HTML object>"
      ]
     },
     "metadata": {},
     "output_type": "display_data"
    },
    {
     "data": {
      "text/html": [
       "<div>\n",
       "<style scoped>\n",
       "    .dataframe tbody tr th:only-of-type {\n",
       "        vertical-align: middle;\n",
       "    }\n",
       "\n",
       "    .dataframe tbody tr th {\n",
       "        vertical-align: top;\n",
       "    }\n",
       "\n",
       "    .dataframe thead th {\n",
       "        text-align: right;\n",
       "    }\n",
       "</style>\n",
       "<table border=\"1\" class=\"dataframe\">\n",
       "  <thead>\n",
       "    <tr style=\"text-align: right;\">\n",
       "      <th></th>\n",
       "      <th>uri</th>\n",
       "    </tr>\n",
       "  </thead>\n",
       "  <tbody>\n",
       "    <tr>\n",
       "      <th>0</th>\n",
       "      <td>gs://garrettwu_bucket/pdfs/Training of CC4 Neu...</td>\n",
       "    </tr>\n",
       "    <tr>\n",
       "      <th>1</th>\n",
       "      <td>gs://garrettwu_bucket/pdfs/MegaPipe - A New Pr...</td>\n",
       "    </tr>\n",
       "    <tr>\n",
       "      <th>2</th>\n",
       "      <td>gs://garrettwu_bucket/pdfs/The Cache Performan...</td>\n",
       "    </tr>\n",
       "    <tr>\n",
       "      <th>3</th>\n",
       "      <td>gs://garrettwu_bucket/pdfs/Battle of SKM and I...</td>\n",
       "    </tr>\n",
       "    <tr>\n",
       "      <th>4</th>\n",
       "      <td>gs://garrettwu_bucket/pdfs/Using CUDA in Pract...</td>\n",
       "    </tr>\n",
       "    <tr>\n",
       "      <th>5</th>\n",
       "      <td>gs://garrettwu_bucket/pdfs/Fast Packed String ...</td>\n",
       "    </tr>\n",
       "    <tr>\n",
       "      <th>6</th>\n",
       "      <td>gs://garrettwu_bucket/pdfs/NTFS System Crash -...</td>\n",
       "    </tr>\n",
       "    <tr>\n",
       "      <th>7</th>\n",
       "      <td>gs://garrettwu_bucket/pdfs/Using Memory Manage...</td>\n",
       "    </tr>\n",
       "    <tr>\n",
       "      <th>8</th>\n",
       "      <td>gs://garrettwu_bucket/pdfs/Random Number Gener...</td>\n",
       "    </tr>\n",
       "    <tr>\n",
       "      <th>9</th>\n",
       "      <td>gs://garrettwu_bucket/pdfs/Thermometer Encodin...</td>\n",
       "    </tr>\n",
       "    <tr>\n",
       "      <th>10</th>\n",
       "      <td>gs://garrettwu_bucket/pdfs/Asynchronous Teams ...</td>\n",
       "    </tr>\n",
       "    <tr>\n",
       "      <th>11</th>\n",
       "      <td>gs://garrettwu_bucket/pdfs/An Elegant Algorith...</td>\n",
       "    </tr>\n",
       "    <tr>\n",
       "      <th>12</th>\n",
       "      <td>gs://garrettwu_bucket/pdfs/Parallel Depth-Firs...</td>\n",
       "    </tr>\n",
       "    <tr>\n",
       "      <th>13</th>\n",
       "      <td>gs://garrettwu_bucket/pdfs/Writing a Simple Op...</td>\n",
       "    </tr>\n",
       "    <tr>\n",
       "      <th>14</th>\n",
       "      <td>gs://garrettwu_bucket/pdfs/Oral History of Dav...</td>\n",
       "    </tr>\n",
       "    <tr>\n",
       "      <th>15</th>\n",
       "      <td>gs://garrettwu_bucket/pdfs/Windows 8 Registere...</td>\n",
       "    </tr>\n",
       "    <tr>\n",
       "      <th>16</th>\n",
       "      <td>gs://garrettwu_bucket/pdfs/Hashcash - A Denial...</td>\n",
       "    </tr>\n",
       "    <tr>\n",
       "      <th>17</th>\n",
       "      <td>gs://garrettwu_bucket/pdfs/DEC - The Mistakes ...</td>\n",
       "    </tr>\n",
       "    <tr>\n",
       "      <th>18</th>\n",
       "      <td>gs://garrettwu_bucket/pdfs/Object-Oriented Pro...</td>\n",
       "    </tr>\n",
       "    <tr>\n",
       "      <th>19</th>\n",
       "      <td>gs://garrettwu_bucket/pdfs/Implementing Sortin...</td>\n",
       "    </tr>\n",
       "    <tr>\n",
       "      <th>20</th>\n",
       "      <td>gs://garrettwu_bucket/pdfs/Rich vs King - The ...</td>\n",
       "    </tr>\n",
       "    <tr>\n",
       "      <th>21</th>\n",
       "      <td>gs://garrettwu_bucket/pdfs/How to Write Fast C...</td>\n",
       "    </tr>\n",
       "    <tr>\n",
       "      <th>22</th>\n",
       "      <td>gs://garrettwu_bucket/pdfs/CASEVision - ClearC...</td>\n",
       "    </tr>\n",
       "    <tr>\n",
       "      <th>23</th>\n",
       "      <td>gs://garrettwu_bucket/pdfs/Database System Imp...</td>\n",
       "    </tr>\n",
       "    <tr>\n",
       "      <th>24</th>\n",
       "      <td>gs://garrettwu_bucket/pdfs/Convex Optimization...</td>\n",
       "    </tr>\n",
       "  </tbody>\n",
       "</table>\n",
       "<p>25 rows × 1 columns</p>\n",
       "</div>[1346 rows x 1 columns in total]"
      ],
      "text/plain": [
       "                                                  uri\n",
       "0   gs://garrettwu_bucket/pdfs/Training of CC4 Neu...\n",
       "1   gs://garrettwu_bucket/pdfs/MegaPipe - A New Pr...\n",
       "2   gs://garrettwu_bucket/pdfs/The Cache Performan...\n",
       "3   gs://garrettwu_bucket/pdfs/Battle of SKM and I...\n",
       "4   gs://garrettwu_bucket/pdfs/Using CUDA in Pract...\n",
       "5   gs://garrettwu_bucket/pdfs/Fast Packed String ...\n",
       "6   gs://garrettwu_bucket/pdfs/NTFS System Crash -...\n",
       "7   gs://garrettwu_bucket/pdfs/Using Memory Manage...\n",
       "8   gs://garrettwu_bucket/pdfs/Random Number Gener...\n",
       "9   gs://garrettwu_bucket/pdfs/Thermometer Encodin...\n",
       "10  gs://garrettwu_bucket/pdfs/Asynchronous Teams ...\n",
       "11  gs://garrettwu_bucket/pdfs/An Elegant Algorith...\n",
       "12  gs://garrettwu_bucket/pdfs/Parallel Depth-Firs...\n",
       "13  gs://garrettwu_bucket/pdfs/Writing a Simple Op...\n",
       "14  gs://garrettwu_bucket/pdfs/Oral History of Dav...\n",
       "15  gs://garrettwu_bucket/pdfs/Windows 8 Registere...\n",
       "16  gs://garrettwu_bucket/pdfs/Hashcash - A Denial...\n",
       "17  gs://garrettwu_bucket/pdfs/DEC - The Mistakes ...\n",
       "18  gs://garrettwu_bucket/pdfs/Object-Oriented Pro...\n",
       "19  gs://garrettwu_bucket/pdfs/Implementing Sortin...\n",
       "20  gs://garrettwu_bucket/pdfs/Rich vs King - The ...\n",
       "21  gs://garrettwu_bucket/pdfs/How to Write Fast C...\n",
       "22  gs://garrettwu_bucket/pdfs/CASEVision - ClearC...\n",
       "23  gs://garrettwu_bucket/pdfs/Database System Imp...\n",
       "24  gs://garrettwu_bucket/pdfs/Convex Optimization...\n",
       "...\n",
       "\n",
       "[1346 rows x 1 columns]"
      ]
     },
     "execution_count": 3,
     "metadata": {},
     "output_type": "execute_result"
    }
   ],
   "source": [
    "df"
   ]
  },
  {
   "cell_type": "code",
   "execution_count": 4,
   "metadata": {},
   "outputs": [
    {
     "data": {
      "text/html": [
       "Query job be3b53c8-1ea9-413d-b950-a17ececc2636 is DONE. 155.7 kB processed. <a target=\"_blank\" href=\"https://console.cloud.google.com/bigquery?project=bigframes-dev&j=bq:US:be3b53c8-1ea9-413d-b950-a17ececc2636&page=queryresults\">Open Job</a>"
      ],
      "text/plain": [
       "<IPython.core.display.HTML object>"
      ]
     },
     "metadata": {},
     "output_type": "display_data"
    },
    {
     "data": {
      "text/html": [
       "Query job 44382ab0-77a3-4165-9aa6-184c70fb0cdf is DONE. 168.4 MB processed. <a target=\"_blank\" href=\"https://console.cloud.google.com/bigquery?project=bigframes-dev&j=bq:US:44382ab0-77a3-4165-9aa6-184c70fb0cdf&page=queryresults\">Open Job</a>"
      ],
      "text/plain": [
       "<IPython.core.display.HTML object>"
      ]
     },
     "metadata": {},
     "output_type": "display_data"
    },
    {
     "data": {
      "text/html": [
       "Query job 35a93141-ecb7-442b-87a8-144af590a8e0 is DONE. 168.4 MB processed. <a target=\"_blank\" href=\"https://console.cloud.google.com/bigquery?project=bigframes-dev&j=bq:US:35a93141-ecb7-442b-87a8-144af590a8e0&page=queryresults\">Open Job</a>"
      ],
      "text/plain": [
       "<IPython.core.display.HTML object>"
      ]
     },
     "metadata": {},
     "output_type": "display_data"
    },
    {
     "data": {
      "text/html": [
       "Query job 31dbc64e-8e95-4a26-8569-c41afad08f58 is DONE. 10.8 kB processed. <a target=\"_blank\" href=\"https://console.cloud.google.com/bigquery?project=bigframes-dev&j=bq:US:31dbc64e-8e95-4a26-8569-c41afad08f58&page=queryresults\">Open Job</a>"
      ],
      "text/plain": [
       "<IPython.core.display.HTML object>"
      ]
     },
     "metadata": {},
     "output_type": "display_data"
    }
   ],
   "source": [
    "df[\"chunked\"] = df[\"uri\"].blob.llama_index_chunk()"
   ]
  },
  {
   "cell_type": "code",
   "execution_count": 6,
   "metadata": {},
   "outputs": [
    {
     "data": {
      "text/html": [
       "Query job f8b093d3-b77b-4346-91b9-bdda431d6725 is DONE. 8.5 MB processed. <a target=\"_blank\" href=\"https://console.cloud.google.com/bigquery?project=bigframes-dev&j=bq:US:f8b093d3-b77b-4346-91b9-bdda431d6725&page=queryresults\">Open Job</a>"
      ],
      "text/plain": [
       "<IPython.core.display.HTML object>"
      ]
     },
     "metadata": {},
     "output_type": "display_data"
    },
    {
     "data": {
      "text/html": [
       "Query job c8f74f79-3c91-49cb-976f-298f30eb1a0e is DONE. 0 Bytes processed. <a target=\"_blank\" href=\"https://console.cloud.google.com/bigquery?project=bigframes-dev&j=bq:US:c8f74f79-3c91-49cb-976f-298f30eb1a0e&page=queryresults\">Open Job</a>"
      ],
      "text/plain": [
       "<IPython.core.display.HTML object>"
      ]
     },
     "metadata": {},
     "output_type": "display_data"
    },
    {
     "data": {
      "text/html": [
       "Query job f18d1c83-564e-4b25-a592-43f5a83cd1e5 is DONE. 8.5 MB processed. <a target=\"_blank\" href=\"https://console.cloud.google.com/bigquery?project=bigframes-dev&j=bq:US:f18d1c83-564e-4b25-a592-43f5a83cd1e5&page=queryresults\">Open Job</a>"
      ],
      "text/plain": [
       "<IPython.core.display.HTML object>"
      ]
     },
     "metadata": {},
     "output_type": "display_data"
    },
    {
     "data": {
      "text/plain": [
       "0    ['\"Oracle® Database\\\\nPL/SQL Packages and Type...\n",
       "Name: chunked, dtype: list<item: string>[pyarrow]"
      ]
     },
     "execution_count": 6,
     "metadata": {},
     "output_type": "execute_result"
    }
   ],
   "source": [
    "df[\"chunked\"]"
   ]
  },
  {
   "cell_type": "code",
   "execution_count": 6,
   "metadata": {},
   "outputs": [
    {
     "data": {
      "text/html": [
       "Query job d6e1af54-9423-416c-ae1c-9a4a47d39603 is DONE. 21.5 kB processed. <a target=\"_blank\" href=\"https://console.cloud.google.com/bigquery?project=bigframes-dev&j=bq:US:d6e1af54-9423-416c-ae1c-9a4a47d39603&page=queryresults\">Open Job</a>"
      ],
      "text/plain": [
       "<IPython.core.display.HTML object>"
      ]
     },
     "metadata": {},
     "output_type": "display_data"
    },
    {
     "data": {
      "text/plain": [
       "(1346,)"
      ]
     },
     "execution_count": 6,
     "metadata": {},
     "output_type": "execute_result"
    }
   ],
   "source": [
    "df[\"chunked\"].shape"
   ]
  },
  {
   "cell_type": "code",
   "execution_count": 14,
   "metadata": {},
   "outputs": [
    {
     "data": {
      "text/html": [
       "Query job f6288990-8bf4-4a2a-b83e-f7832795a03c is DONE. 43.8 kB processed. <a target=\"_blank\" href=\"https://console.cloud.google.com/bigquery?project=bigframes-dev&j=bq:US:f6288990-8bf4-4a2a-b83e-f7832795a03c&page=queryresults\">Open Job</a>"
      ],
      "text/plain": [
       "<IPython.core.display.HTML object>"
      ]
     },
     "metadata": {},
     "output_type": "display_data"
    },
    {
     "data": {
      "text/html": [
       "Query job 01be967f-d52d-4261-ba2c-f5ef5e171733 is DONE. 0 Bytes processed. <a target=\"_blank\" href=\"https://console.cloud.google.com/bigquery?project=bigframes-dev&j=bq:US:01be967f-d52d-4261-ba2c-f5ef5e171733&page=queryresults\">Open Job</a>"
      ],
      "text/plain": [
       "<IPython.core.display.HTML object>"
      ]
     },
     "metadata": {},
     "output_type": "display_data"
    },
    {
     "data": {
      "text/html": [
       "Query job 16f57222-ef18-41c3-a0e8-ce2975035fac is DONE. 48.8 kB processed. <a target=\"_blank\" href=\"https://console.cloud.google.com/bigquery?project=bigframes-dev&j=bq:US:16f57222-ef18-41c3-a0e8-ce2975035fac&page=queryresults\">Open Job</a>"
      ],
      "text/plain": [
       "<IPython.core.display.HTML object>"
      ]
     },
     "metadata": {},
     "output_type": "display_data"
    },
    {
     "data": {
      "text/plain": [
       "0    \"Y LeCun\\nWhat's Wrong\\nWith\\nDeep Learning?\\n...\n",
       "0    \"Y LeCunPlan\\nThe motivation for ConvNets and ...\n",
       "0    \"Y LeCunDeep Learning = Learning Hierarchical ...\n",
       "0    \"Y LeCunEarly Hierarchical Feature Models for ...\n",
       "0    \"Y LeCunThe Mammalian Visual Cortex is Hierarc...\n",
       "0    \"Y LeCunDeep Learning = Learning Hierarchical ...\n",
       "0    \"Y LeCun\\nEarly Networks [LeCun 85, 86]\\nBinar...\n",
       "0    \"Y LeCun\\nFirst ConvNets (U Toronto)[LeCun 88,...\n",
       "0    \"Y LeCunFirst “Real” ConvNets at Bell Labs [Le...\n",
       "0    \"Y LeCunConvNet with separate pooling layer [L...\n",
       "0    \"Y LeCunConvolutional Network (vintage 1992) \\...\n",
       "0    \"Y LeCunLeNet1 Demo from 1993\\nRunning on a 48...\n",
       "0    \"Y LeCun\\nIntegrating Segmentation\\nMultiple C...\n",
       "0    \"Y LeCun\\nMultiple Character Recognition [Mata...\n",
       "0    \"Y LeCunMultiple Character Recognition. Integr...\n",
       "0    \"Y LeCunMultiple Character Recognition. Integr...\n",
       "0    \"Y LeCunWord-level training with weak supervis...\n",
       "0    \"Y LeCun“Deformable Part Model” on top of a Co...\n",
       "0    \"Y LeCunWord-level training with elastic word ...\n",
       "0    \"Y LeCunThe Oldest Example of Structured Predi...\n",
       "0    \"Y LeCunEnd-to-End Learning – Word-Level Discr...\n",
       "0    \"Y LeCun“Shallow” Structured Prediction\\nEnerg...\n",
       "0    \"Y LeCunDeep Structured Prediction\\nEnergy fun...\n",
       "0    \"Y LeCunGraph Transformer \\nNetworks\\nStructur...\n",
       "0    \"Y LeCunCheck Reader\\nGraph transformer networ...\n",
       "Name: chunked, dtype: string"
      ]
     },
     "execution_count": 14,
     "metadata": {},
     "output_type": "execute_result"
    }
   ],
   "source": [
    "df[\"chunked\"].explode()"
   ]
  },
  {
   "cell_type": "code",
   "execution_count": 5,
   "metadata": {},
   "outputs": [
    {
     "data": {
      "text/html": [
       "Query job 18a22004-4f1a-4544-9d52-322e08da9235 is DONE. 160.9 MB processed. <a target=\"_blank\" href=\"https://console.cloud.google.com/bigquery?project=bigframes-dev&j=bq:US:18a22004-4f1a-4544-9d52-322e08da9235&page=queryresults\">Open Job</a>"
      ],
      "text/plain": [
       "<IPython.core.display.HTML object>"
      ]
     },
     "metadata": {},
     "output_type": "display_data"
    },
    {
     "data": {
      "text/html": [
       "Query job 94a86005-6a97-40aa-8a56-cd597d23ade2 is DONE. 0 Bytes processed. <a target=\"_blank\" href=\"https://console.cloud.google.com/bigquery?project=bigframes-dev&j=bq:US:94a86005-6a97-40aa-8a56-cd597d23ade2&page=queryresults\">Open Job</a>"
      ],
      "text/plain": [
       "<IPython.core.display.HTML object>"
      ]
     },
     "metadata": {},
     "output_type": "display_data"
    },
    {
     "data": {
      "text/html": [
       "Query job 3e5e455c-6f33-4c5a-ba0a-fd361dbb50af is DONE. 43.1 kB processed. <a target=\"_blank\" href=\"https://console.cloud.google.com/bigquery?project=bigframes-dev&j=bq:US:3e5e455c-6f33-4c5a-ba0a-fd361dbb50af&page=queryresults\">Open Job</a>"
      ],
      "text/plain": [
       "<IPython.core.display.HTML object>"
      ]
     },
     "metadata": {},
     "output_type": "display_data"
    },
    {
     "data": {
      "text/plain": [
       "0      59\n",
       "1      62\n",
       "2      49\n",
       "3      65\n",
       "4      20\n",
       "5      45\n",
       "6      12\n",
       "7      54\n",
       "8      26\n",
       "9      48\n",
       "10     58\n",
       "11     43\n",
       "12      3\n",
       "13    152\n",
       "14    138\n",
       "15     50\n",
       "16     31\n",
       "17     34\n",
       "18     60\n",
       "19     97\n",
       "20     16\n",
       "21     37\n",
       "22    243\n",
       "23    350\n",
       "24    301\n",
       "Name: chunked, dtype: Int64"
      ]
     },
     "execution_count": 5,
     "metadata": {},
     "output_type": "execute_result"
    }
   ],
   "source": [
    "df[\"chunked\"].str.len()"
   ]
  },
  {
   "cell_type": "code",
   "execution_count": 7,
   "metadata": {},
   "outputs": [],
   "source": [
    "exp = df[\"chunked\"].explode()"
   ]
  },
  {
   "cell_type": "code",
   "execution_count": 17,
   "metadata": {},
   "outputs": [
    {
     "data": {
      "text/plain": [
       "bigframes.series.Series"
      ]
     },
     "execution_count": 17,
     "metadata": {},
     "output_type": "execute_result"
    }
   ],
   "source": [
    "type(exp)"
   ]
  },
  {
   "cell_type": "code",
   "execution_count": 8,
   "metadata": {},
   "outputs": [
    {
     "data": {
      "text/html": [
       "Query job c5c71ce9-c002-41f5-b95d-e4e79cc508c5 is DONE. 160.9 MB processed. <a target=\"_blank\" href=\"https://console.cloud.google.com/bigquery?project=bigframes-dev&j=bq:US:c5c71ce9-c002-41f5-b95d-e4e79cc508c5&page=queryresults\">Open Job</a>"
      ],
      "text/plain": [
       "<IPython.core.display.HTML object>"
      ]
     },
     "metadata": {},
     "output_type": "display_data"
    },
    {
     "data": {
      "text/plain": [
       "(128903,)"
      ]
     },
     "execution_count": 8,
     "metadata": {},
     "output_type": "execute_result"
    }
   ],
   "source": [
    "exp.shape"
   ]
  },
  {
   "cell_type": "code",
   "execution_count": 13,
   "metadata": {},
   "outputs": [
    {
     "data": {
      "text/html": [
       "Query job 83dc69eb-340b-4318-b8be-2ee985ec3d2c is DONE. 160.9 MB processed. <a target=\"_blank\" href=\"https://console.cloud.google.com/bigquery?project=bigframes-dev&j=bq:US:83dc69eb-340b-4318-b8be-2ee985ec3d2c&page=queryresults\">Open Job</a>"
      ],
      "text/plain": [
       "<IPython.core.display.HTML object>"
      ]
     },
     "metadata": {},
     "output_type": "display_data"
    },
    {
     "data": {
      "text/html": [
       "Query job eb529e29-a602-4566-ab29-c1b08c3995d4 is DONE. 0 Bytes processed. <a target=\"_blank\" href=\"https://console.cloud.google.com/bigquery?project=bigframes-dev&j=bq:US:eb529e29-a602-4566-ab29-c1b08c3995d4&page=queryresults\">Open Job</a>"
      ],
      "text/plain": [
       "<IPython.core.display.HTML object>"
      ]
     },
     "metadata": {},
     "output_type": "display_data"
    },
    {
     "data": {
      "text/html": [
       "Query job 37aa5cf2-d6bd-473c-8741-0ca89b19737b is DONE. 165.0 MB processed. <a target=\"_blank\" href=\"https://console.cloud.google.com/bigquery?project=bigframes-dev&j=bq:US:37aa5cf2-d6bd-473c-8741-0ca89b19737b&page=queryresults\">Open Job</a>"
      ],
      "text/plain": [
       "<IPython.core.display.HTML object>"
      ]
     },
     "metadata": {},
     "output_type": "display_data"
    },
    {
     "data": {
      "text/plain": [
       "0    \"TRAINING OF CC4 NEU RAL NET WORK USING \\nUNAR...\n",
       "0    \"ii \\n  \\n \\n \\n \\n \\n \\n \\nTRAINING OF CC4 NE...\n",
       "0    \"iii \\n  \\n \\n \\n \\n \\n \\n \\n \\n \\nACKNO WLEDG...\n",
       "0    \"iv \\n  \\n \\nName: PUSHPA SREE POTLURI    \\n \\...\n",
       "0    \"v \\n  \\n \\n \\n \\nLIST  OF CONT ENTS  \\n \\nCha...\n",
       "0    \"vi \\n VII. CONCLUSION...........................\n",
       "0    \"vii \\n  \\n \\n \\n \\n \\n \\nLIST OF FIGURES \\n \\...\n",
       "0    \"viii \\n  \\n \\n \\n \\n \\n \\n \\nLIST OF TABLES \\...\n",
       "0    \"1 \\n  \\n \\n \\n \\n  \\nCHAPTER I  \\n           ...\n",
       "0    \"2 \\n  \\n \\n  Figure 1: Biological Neuron (Cou...\n",
       "0    \"3 \\n  \\nNeural network s model the human brai...\n",
       "0    \"4 \\n  \\n \\nCHAPTER II  \\nCC4 APPROACH FOR NEU...\n",
       "0    \"5 \\n weights. These advantages are of signifi...\n",
       "0    \"6 \\n  \\n    Figure 2 : General network archit...\n",
       "0    \"7 \\n output of that  input vector. Consequent...\n",
       "0    \"8 \\n the input to the hidden neuron from the ...\n",
       "0    \"9 \\n the bias bit 1. Hence we get the weight ...\n",
       "0    \"10 \\n The standard  CC4 network uses unary co...\n",
       "0    \"11 \\n  \\n \\nCHAPTER III  \\n \\n               ...\n",
       "0    \"12 \\n     \\n    Figure 4 . Space representati...\n",
       "0    \"13 \\n training. Thus the network used for thi...\n",
       "0    \"14 \\n                        \\n(a). Original ...\n",
       "0    \"15 \\n The original  plane  pattern to s how t...\n",
       "0    \"16 \\n     \\n(a). Original Plane  Pattern     ...\n",
       "0    \"17 \\n                   \\n(a). Original Cross...\n",
       "Name: chunked, dtype: string"
      ]
     },
     "execution_count": 13,
     "metadata": {},
     "output_type": "execute_result"
    }
   ],
   "source": [
    "exp"
   ]
  },
  {
   "cell_type": "code",
   "execution_count": 19,
   "metadata": {},
   "outputs": [
    {
     "data": {
      "text/html": [
       "Query job c3a3f97e-71c6-4556-ab86-d254af4c9123 is DONE. 165.0 MB processed. <a target=\"_blank\" href=\"https://console.cloud.google.com/bigquery?project=bigframes-dev&j=bq:US:c3a3f97e-71c6-4556-ab86-d254af4c9123&page=queryresults\">Open Job</a>"
      ],
      "text/plain": [
       "<IPython.core.display.HTML object>"
      ]
     },
     "metadata": {},
     "output_type": "display_data"
    },
    {
     "data": {
      "text/html": [
       "Query job 4bb7a4b4-f30b-4b2d-9b4b-75bd491b0eb7 is DONE. 165.0 MB processed. <a target=\"_blank\" href=\"https://console.cloud.google.com/bigquery?project=bigframes-dev&j=bq:US:4bb7a4b4-f30b-4b2d-9b4b-75bd491b0eb7&page=queryresults\">Open Job</a>"
      ],
      "text/plain": [
       "<IPython.core.display.HTML object>"
      ]
     },
     "metadata": {},
     "output_type": "display_data"
    },
    {
     "data": {
      "text/html": [
       "Query job a164db42-c67a-4d5e-91f4-6995ab72e5a8 is DONE. 0 Bytes processed. <a target=\"_blank\" href=\"https://console.cloud.google.com/bigquery?project=bigframes-dev&j=bq:US:a164db42-c67a-4d5e-91f4-6995ab72e5a8&page=queryresults\">Open Job</a>"
      ],
      "text/plain": [
       "<IPython.core.display.HTML object>"
      ]
     },
     "metadata": {},
     "output_type": "display_data"
    },
    {
     "data": {
      "text/html": [
       "Query job 1f11244c-795c-4c21-a6cb-59d74e840aec is DONE. 111.3 kB processed. <a target=\"_blank\" href=\"https://console.cloud.google.com/bigquery?project=bigframes-dev&j=bq:US:1f11244c-795c-4c21-a6cb-59d74e840aec&page=queryresults\">Open Job</a>"
      ],
      "text/plain": [
       "<IPython.core.display.HTML object>"
      ]
     },
     "metadata": {},
     "output_type": "display_data"
    },
    {
     "data": {
      "text/plain": [
       "1    \"MegaPipe: A New Programming Interface for Sca...\n",
       "1    \"MegaPipe improves the perfor-\\nmance of a mod...\n",
       "1    \"In contrast, a clean-\\nslate redesign offers ...\n",
       "1    \"In\\nthis paper we present MegaPipe, a new API...\n",
       "1    \"System Call Batching : MegaPipe amortizes sys...\n",
       "1    \"In contrast, we show that message-oriented\\nn...\n",
       "1    \"On the other hand, the transmit-side processi...\n",
       "1    \"VFS (multi-core): In UNIX-like operating syst...\n",
       "1    \"0 0.3 0.6 0.9 1.2 1.5 1.8 \\n1 2 4 8 16 32 64 ...\n",
       "1    \"Rather, we quantify their compound performanc...\n",
       "1    \"We use a single\\nserver and three client mach...\n",
       "1    \"For workloads with\\nshort connections, the co...\n",
       "1    \"small-sized messages adversely affect the thr...\n",
       "1    \"Furthermore, it is clear from the growth tren...\n",
       "1    \"It is hard to achieve\\noptimal performance wi...\n",
       "1    \"We introduce three key design concepts of\\nMe...\n",
       "1    \"First, it allows\\ntransparent batching of I/O...\n",
       "1    \"Core 1 Kernel User … … Core N Channel instanc...\n",
       "1    \"Once the asynchronous I/O request is\\ndone, t...\n",
       "1    \"When an appli-\\ncation thread associates a li...\n",
       "1    \"However, ex-\\nplicit partitioning provides mo...\n",
       "1    \"descriptor . A ﬁle descriptor is an integer i...\n",
       "1    \"The layer\\nof indirection that ﬁle objects of...\n",
       "1    \"The lwsocket\\nis a common-case optimization f...\n",
       "1    \"The key obser-\\nvation here is that batching ...\n",
       "Name: chunked, dtype: string"
      ]
     },
     "execution_count": 19,
     "metadata": {},
     "output_type": "execute_result"
    }
   ],
   "source": [
    "exp[1]"
   ]
  },
  {
   "cell_type": "code",
   "execution_count": 20,
   "metadata": {},
   "outputs": [
    {
     "data": {
      "text/html": [
       "Query job 0a8cbf8c-c44f-4e3e-a16b-21285e29273b is DONE. 0 Bytes processed. <a target=\"_blank\" href=\"https://console.cloud.google.com/bigquery?project=bigframes-dev&j=bq:US:0a8cbf8c-c44f-4e3e-a16b-21285e29273b&page=queryresults\">Open Job</a>"
      ],
      "text/plain": [
       "<IPython.core.display.HTML object>"
      ]
     },
     "metadata": {},
     "output_type": "display_data"
    },
    {
     "name": "stdout",
     "output_type": "stream",
     "text": [
      "\"In a similar vein, only ex-\\npressions whose current repetition level is no less than selectLevel\\nare emitted (Lines 7-10). The algorithm ensures that expressions\\nat a higher-level of nesting, i.e., those having a smaller repetition\\nlevel, get evaluated and emitted only once for each deeper nested\\nexpression.\"\n"
     ]
    }
   ],
   "source": [
    "print(exp.iloc[-1])"
   ]
  },
  {
   "cell_type": "code",
   "execution_count": 5,
   "metadata": {},
   "outputs": [
    {
     "data": {
      "text/html": [
       "Query job 4ea3a4aa-5f2b-457d-bac1-55b2b751f96e is DONE. 0 Bytes processed. <a target=\"_blank\" href=\"https://console.cloud.google.com/bigquery?project=bigframes-dev&j=bq:US:4ea3a4aa-5f2b-457d-bac1-55b2b751f96e&page=queryresults\">Open Job</a>"
      ],
      "text/plain": [
       "<IPython.core.display.HTML object>"
      ]
     },
     "metadata": {},
     "output_type": "display_data"
    },
    {
     "data": {
      "text/html": [
       "Query job 8928806a-cb0f-4f8a-b38c-74948a5a88c1 is DONE. 38 Bytes processed. <a target=\"_blank\" href=\"https://console.cloud.google.com/bigquery?project=bigframes-dev&j=bq:US:8928806a-cb0f-4f8a-b38c-74948a5a88c1&page=queryresults\">Open Job</a>"
      ],
      "text/plain": [
       "<IPython.core.display.HTML object>"
      ]
     },
     "metadata": {},
     "output_type": "display_data"
    },
    {
     "data": {
      "text/html": [
       "<div>\n",
       "<style scoped>\n",
       "    .dataframe tbody tr th:only-of-type {\n",
       "        vertical-align: middle;\n",
       "    }\n",
       "\n",
       "    .dataframe tbody tr th {\n",
       "        vertical-align: top;\n",
       "    }\n",
       "\n",
       "    .dataframe thead th {\n",
       "        text-align: right;\n",
       "    }\n",
       "</style>\n",
       "<table border=\"1\" class=\"dataframe\">\n",
       "  <thead>\n",
       "    <tr style=\"text-align: right;\">\n",
       "      <th></th>\n",
       "      <th>json</th>\n",
       "      <th>json_array</th>\n",
       "    </tr>\n",
       "  </thead>\n",
       "  <tbody>\n",
       "    <tr>\n",
       "      <th>0</th>\n",
       "      <td>[\"a\",\"b\",\"c\"]</td>\n",
       "      <td>['\"a\"' '\"b\"' '\"c\"']</td>\n",
       "    </tr>\n",
       "  </tbody>\n",
       "</table>\n",
       "<p>1 rows × 2 columns</p>\n",
       "</div>[1 rows x 2 columns in total]"
      ],
      "text/plain": [
       "            json           json_array\n",
       "0  [\"a\",\"b\",\"c\"]  ['\"a\"' '\"b\"' '\"c\"']\n",
       "\n",
       "[1 rows x 2 columns]"
      ]
     },
     "execution_count": 5,
     "metadata": {},
     "output_type": "execute_result"
    }
   ],
   "source": [
    "df"
   ]
  },
  {
   "cell_type": "code",
   "execution_count": 6,
   "metadata": {},
   "outputs": [
    {
     "data": {
      "text/html": [
       "Query job 9c4fe6b3-4008-4f99-8e41-45bfe3410c9a is DONE. 23 Bytes processed. <a target=\"_blank\" href=\"https://console.cloud.google.com/bigquery?project=bigframes-dev&j=bq:US:9c4fe6b3-4008-4f99-8e41-45bfe3410c9a&page=queryresults\">Open Job</a>"
      ],
      "text/plain": [
       "<IPython.core.display.HTML object>"
      ]
     },
     "metadata": {},
     "output_type": "display_data"
    },
    {
     "data": {
      "text/html": [
       "Query job 50d89b8d-c5c5-48f2-b40b-e6cf736114b2 is DONE. 0 Bytes processed. <a target=\"_blank\" href=\"https://console.cloud.google.com/bigquery?project=bigframes-dev&j=bq:US:50d89b8d-c5c5-48f2-b40b-e6cf736114b2&page=queryresults\">Open Job</a>"
      ],
      "text/plain": [
       "<IPython.core.display.HTML object>"
      ]
     },
     "metadata": {},
     "output_type": "display_data"
    },
    {
     "data": {
      "text/html": [
       "Query job 069c2720-71e3-47bd-ac11-4700dca4ad76 is DONE. 31 Bytes processed. <a target=\"_blank\" href=\"https://console.cloud.google.com/bigquery?project=bigframes-dev&j=bq:US:069c2720-71e3-47bd-ac11-4700dca4ad76&page=queryresults\">Open Job</a>"
      ],
      "text/plain": [
       "<IPython.core.display.HTML object>"
      ]
     },
     "metadata": {},
     "output_type": "display_data"
    },
    {
     "data": {
      "text/plain": [
       "0    ['\"a\"' '\"b\"' '\"c\"']\n",
       "Name: json_array, dtype: list<item: string>[pyarrow]"
      ]
     },
     "execution_count": 6,
     "metadata": {},
     "output_type": "execute_result"
    }
   ],
   "source": [
    "df[\"json_array\"]"
   ]
  },
  {
   "cell_type": "code",
   "execution_count": 7,
   "metadata": {},
   "outputs": [
    {
     "data": {
      "text/html": [
       "Query job 7abff348-c28d-43db-87ce-0ec0b2e8fc81 is DONE. 23 Bytes processed. <a target=\"_blank\" href=\"https://console.cloud.google.com/bigquery?project=bigframes-dev&j=bq:US:7abff348-c28d-43db-87ce-0ec0b2e8fc81&page=queryresults\">Open Job</a>"
      ],
      "text/plain": [
       "<IPython.core.display.HTML object>"
      ]
     },
     "metadata": {},
     "output_type": "display_data"
    },
    {
     "data": {
      "text/html": [
       "Query job 6b4c3759-ec5c-4df2-8999-5189b510c991 is DONE. 0 Bytes processed. <a target=\"_blank\" href=\"https://console.cloud.google.com/bigquery?project=bigframes-dev&j=bq:US:6b4c3759-ec5c-4df2-8999-5189b510c991&page=queryresults\">Open Job</a>"
      ],
      "text/plain": [
       "<IPython.core.display.HTML object>"
      ]
     },
     "metadata": {},
     "output_type": "display_data"
    },
    {
     "data": {
      "text/html": [
       "Query job 23a45c93-f3c8-44c1-803e-a72ba32e4955 is DONE. 87 Bytes processed. <a target=\"_blank\" href=\"https://console.cloud.google.com/bigquery?project=bigframes-dev&j=bq:US:23a45c93-f3c8-44c1-803e-a72ba32e4955&page=queryresults\">Open Job</a>"
      ],
      "text/plain": [
       "<IPython.core.display.HTML object>"
      ]
     },
     "metadata": {},
     "output_type": "display_data"
    },
    {
     "data": {
      "text/plain": [
       "0    \"a\"\n",
       "0    \"b\"\n",
       "0    \"c\"\n",
       "Name: json_array, dtype: string"
      ]
     },
     "execution_count": 7,
     "metadata": {},
     "output_type": "execute_result"
    }
   ],
   "source": [
    "df[\"json_array\"].explode()"
   ]
  },
  {
   "cell_type": "code",
   "execution_count": 22,
   "metadata": {},
   "outputs": [
    {
     "data": {
      "text/html": [
       "Query job f4c6ad7f-ace7-4de6-9fbf-acd0a3e9e67c is DONE. 86.4 kB processed. <a target=\"_blank\" href=\"https://console.cloud.google.com/bigquery?project=bigframes-dev&j=bq:US:f4c6ad7f-ace7-4de6-9fbf-acd0a3e9e67c&page=queryresults\">Open Job</a>"
      ],
      "text/plain": [
       "<IPython.core.display.HTML object>"
      ]
     },
     "metadata": {},
     "output_type": "display_data"
    },
    {
     "data": {
      "text/html": [
       "Query job 039ccba4-78dd-4c9b-b616-5df62b09abbd is DONE. 0 Bytes processed. <a target=\"_blank\" href=\"https://console.cloud.google.com/bigquery?project=bigframes-dev&j=bq:US:039ccba4-78dd-4c9b-b616-5df62b09abbd&page=queryresults\">Open Job</a>"
      ],
      "text/plain": [
       "<IPython.core.display.HTML object>"
      ]
     },
     "metadata": {},
     "output_type": "display_data"
    },
    {
     "data": {
      "text/html": [
       "Query job 1481c1cd-45b7-4ca5-aea0-107a0d86bc9c is DONE. 86.5 kB processed. <a target=\"_blank\" href=\"https://console.cloud.google.com/bigquery?project=bigframes-dev&j=bq:US:1481c1cd-45b7-4ca5-aea0-107a0d86bc9c&page=queryresults\">Open Job</a>"
      ],
      "text/plain": [
       "<IPython.core.display.HTML object>"
      ]
     },
     "metadata": {},
     "output_type": "display_data"
    },
    {
     "data": {
      "text/plain": [
       "0    ['\"Dremel: Interactive Analysis of Web-Scale D...\n",
       "Name: chunked, dtype: list<item: string>[pyarrow]"
      ]
     },
     "execution_count": 22,
     "metadata": {},
     "output_type": "execute_result"
    }
   ],
   "source": [
    "df[\"chunked\"]"
   ]
  },
  {
   "cell_type": "code",
   "execution_count": 23,
   "metadata": {},
   "outputs": [
    {
     "data": {
      "text/html": [
       "Query job 53149b52-6cb8-4291-811e-06904ec411ab is DONE. 86.4 kB processed. <a target=\"_blank\" href=\"https://console.cloud.google.com/bigquery?project=bigframes-dev&j=bq:US:53149b52-6cb8-4291-811e-06904ec411ab&page=queryresults\">Open Job</a>"
      ],
      "text/plain": [
       "<IPython.core.display.HTML object>"
      ]
     },
     "metadata": {},
     "output_type": "display_data"
    },
    {
     "data": {
      "text/plain": [
       "'bigframes-dev.garrettwu.llama_chunked'"
      ]
     },
     "execution_count": 23,
     "metadata": {},
     "output_type": "execute_result"
    }
   ],
   "source": [
    "df.to_gbq(\"bigframes-dev.garrettwu.llama_chunked\")"
   ]
  },
  {
   "cell_type": "code",
   "execution_count": null,
   "metadata": {},
   "outputs": [],
   "source": []
  }
 ],
 "metadata": {
  "kernelspec": {
   "display_name": "venv",
   "language": "python",
   "name": "python3"
  },
  "language_info": {
   "codemirror_mode": {
    "name": "ipython",
    "version": 3
   },
   "file_extension": ".py",
   "mimetype": "text/x-python",
   "name": "python",
   "nbconvert_exporter": "python",
   "pygments_lexer": "ipython3",
   "version": "3.10.9"
  }
 },
 "nbformat": 4,
 "nbformat_minor": 2
}
