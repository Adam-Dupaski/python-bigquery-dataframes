{
 "cells": [
  {
   "cell_type": "code",
   "execution_count": 1,
   "metadata": {},
   "outputs": [],
   "source": [
    "import bigframes.pandas as bpd"
   ]
  },
  {
   "cell_type": "code",
   "execution_count": 15,
   "metadata": {},
   "outputs": [],
   "source": [
    "# 64mb\n",
    "# df = bpd.DataFrame({\"uri\": [\"gs://garrettwu_bucket/pdfs/Oracle 11gr2 PLSQL Packages and Types (e40758).pdf\"]})\n",
    "\n",
    "# 10mb\n",
    "# df = bpd.DataFrame({\"uri\": [\"gs://garrettwu_bucket/pdfs/What's Wrong With Deep Learning (lecun-20150610-cvpr-keynote).pdf\"]})\n",
    "\n",
    "# 10mb\n",
    "# df = bpd.DataFrame({\"uri\": [\"gs://garrettwu_bucket/pdfs/Maximizing GPU Throughput Across Multiple Streams - Tips and Tricks - Slides (s7393-chuck-seberino-maximizing-gpu).pdf\"]})\n",
    "\n"
   ]
  },
  {
   "cell_type": "code",
   "execution_count": 10,
   "metadata": {},
   "outputs": [
    {
     "data": {
      "text/html": [
       "Query job f24637de-8621-4dbf-90e4-180a632dda9c is DONE. 0 Bytes processed. <a target=\"_blank\" href=\"https://console.cloud.google.com/bigquery?project=bigframes-dev&j=bq:US:f24637de-8621-4dbf-90e4-180a632dda9c&page=queryresults\">Open Job</a>"
      ],
      "text/plain": [
       "<IPython.core.display.HTML object>"
      ]
     },
     "metadata": {},
     "output_type": "display_data"
    },
    {
     "data": {
      "text/html": [
       "Query job 30626b62-b9ff-4e3c-89a2-67c924891fb8 is DONE. 0 Bytes processed. <a target=\"_blank\" href=\"https://console.cloud.google.com/bigquery?project=bigframes-dev&j=bq:US:30626b62-b9ff-4e3c-89a2-67c924891fb8&page=queryresults\">Open Job</a>"
      ],
      "text/plain": [
       "<IPython.core.display.HTML object>"
      ]
     },
     "metadata": {},
     "output_type": "display_data"
    },
    {
     "data": {
      "text/html": [
       "<div>\n",
       "<style scoped>\n",
       "    .dataframe tbody tr th:only-of-type {\n",
       "        vertical-align: middle;\n",
       "    }\n",
       "\n",
       "    .dataframe tbody tr th {\n",
       "        vertical-align: top;\n",
       "    }\n",
       "\n",
       "    .dataframe thead th {\n",
       "        text-align: right;\n",
       "    }\n",
       "</style>\n",
       "<table border=\"1\" class=\"dataframe\">\n",
       "  <thead>\n",
       "    <tr style=\"text-align: right;\">\n",
       "      <th></th>\n",
       "      <th>uri</th>\n",
       "    </tr>\n",
       "  </thead>\n",
       "  <tbody>\n",
       "    <tr>\n",
       "      <th>0</th>\n",
       "      <td>gs://garrettwu_bucket/pdfs/What's Wrong With D...</td>\n",
       "    </tr>\n",
       "  </tbody>\n",
       "</table>\n",
       "<p>1 rows × 1 columns</p>\n",
       "</div>[1 rows x 1 columns in total]"
      ],
      "text/plain": [
       "                                                 uri\n",
       "0  gs://garrettwu_bucket/pdfs/What's Wrong With D...\n",
       "\n",
       "[1 rows x 1 columns]"
      ]
     },
     "execution_count": 10,
     "metadata": {},
     "output_type": "execute_result"
    }
   ],
   "source": [
    "# df"
   ]
  },
  {
   "cell_type": "code",
   "execution_count": 2,
   "metadata": {},
   "outputs": [
    {
     "name": "stderr",
     "output_type": "stream",
     "text": [
      "/usr/local/google/home/garrettwu/src/bigframes/bigframes/session/__init__.py:2044: UserWarning: No explicit location is set, so using location US for the session.\n",
      "  return Session(context)\n"
     ]
    },
    {
     "data": {
      "text/html": [
       "Query job 04a5260b-a429-49c5-b28c-3df663d7e253 is DONE. 0 Bytes processed. <a target=\"_blank\" href=\"https://console.cloud.google.com/bigquery?project=bigframes-dev&j=bq:US:04a5260b-a429-49c5-b28c-3df663d7e253&page=queryresults\">Open Job</a>"
      ],
      "text/plain": [
       "<IPython.core.display.HTML object>"
      ]
     },
     "metadata": {},
     "output_type": "display_data"
    },
    {
     "data": {
      "text/html": [
       "Query job feb83919-76fd-4a01-8102-8f207ec67f8c is DONE. 0 Bytes processed. <a target=\"_blank\" href=\"https://console.cloud.google.com/bigquery?project=bigframes-dev&j=bq:US:feb83919-76fd-4a01-8102-8f207ec67f8c&page=queryresults\">Open Job</a>"
      ],
      "text/plain": [
       "<IPython.core.display.HTML object>"
      ]
     },
     "metadata": {},
     "output_type": "display_data"
    }
   ],
   "source": [
    "df = bpd.from_glob_path(\"gs://garrettwu_bucket/pdfs/*\")"
   ]
  },
  {
   "cell_type": "code",
   "execution_count": 3,
   "metadata": {},
   "outputs": [
    {
     "data": {
      "text/html": [
       "Query job 5ec0f764-2e24-43f5-8de4-fe4e24b1b0ca is DONE. 232.7 kB processed. <a target=\"_blank\" href=\"https://console.cloud.google.com/bigquery?project=bigframes-dev&j=bq:US:5ec0f764-2e24-43f5-8de4-fe4e24b1b0ca&page=queryresults\">Open Job</a>"
      ],
      "text/plain": [
       "<IPython.core.display.HTML object>"
      ]
     },
     "metadata": {},
     "output_type": "display_data"
    },
    {
     "data": {
      "text/html": [
       "Query job 47b4e4b5-9d84-47de-b0c3-65ad60647f73 is DONE. 0 Bytes processed. <a target=\"_blank\" href=\"https://console.cloud.google.com/bigquery?project=bigframes-dev&j=bq:US:47b4e4b5-9d84-47de-b0c3-65ad60647f73&page=queryresults\">Open Job</a>"
      ],
      "text/plain": [
       "<IPython.core.display.HTML object>"
      ]
     },
     "metadata": {},
     "output_type": "display_data"
    },
    {
     "data": {
      "text/html": [
       "Query job 1eb1aa59-658d-44b1-b2e4-d0ca8a383dbe is DONE. 155.7 kB processed. <a target=\"_blank\" href=\"https://console.cloud.google.com/bigquery?project=bigframes-dev&j=bq:US:1eb1aa59-658d-44b1-b2e4-d0ca8a383dbe&page=queryresults\">Open Job</a>"
      ],
      "text/plain": [
       "<IPython.core.display.HTML object>"
      ]
     },
     "metadata": {},
     "output_type": "display_data"
    },
    {
     "data": {
      "text/html": [
       "<div>\n",
       "<style scoped>\n",
       "    .dataframe tbody tr th:only-of-type {\n",
       "        vertical-align: middle;\n",
       "    }\n",
       "\n",
       "    .dataframe tbody tr th {\n",
       "        vertical-align: top;\n",
       "    }\n",
       "\n",
       "    .dataframe thead th {\n",
       "        text-align: right;\n",
       "    }\n",
       "</style>\n",
       "<table border=\"1\" class=\"dataframe\">\n",
       "  <thead>\n",
       "    <tr style=\"text-align: right;\">\n",
       "      <th></th>\n",
       "      <th>uri</th>\n",
       "    </tr>\n",
       "  </thead>\n",
       "  <tbody>\n",
       "    <tr>\n",
       "      <th>0</th>\n",
       "      <td>gs://garrettwu_bucket/pdfs/Training of CC4 Neu...</td>\n",
       "    </tr>\n",
       "    <tr>\n",
       "      <th>1</th>\n",
       "      <td>gs://garrettwu_bucket/pdfs/MegaPipe - A New Pr...</td>\n",
       "    </tr>\n",
       "    <tr>\n",
       "      <th>2</th>\n",
       "      <td>gs://garrettwu_bucket/pdfs/The Cache Performan...</td>\n",
       "    </tr>\n",
       "    <tr>\n",
       "      <th>3</th>\n",
       "      <td>gs://garrettwu_bucket/pdfs/Battle of SKM and I...</td>\n",
       "    </tr>\n",
       "    <tr>\n",
       "      <th>4</th>\n",
       "      <td>gs://garrettwu_bucket/pdfs/Using CUDA in Pract...</td>\n",
       "    </tr>\n",
       "    <tr>\n",
       "      <th>5</th>\n",
       "      <td>gs://garrettwu_bucket/pdfs/Fast Packed String ...</td>\n",
       "    </tr>\n",
       "    <tr>\n",
       "      <th>6</th>\n",
       "      <td>gs://garrettwu_bucket/pdfs/NTFS System Crash -...</td>\n",
       "    </tr>\n",
       "    <tr>\n",
       "      <th>7</th>\n",
       "      <td>gs://garrettwu_bucket/pdfs/Using Memory Manage...</td>\n",
       "    </tr>\n",
       "    <tr>\n",
       "      <th>8</th>\n",
       "      <td>gs://garrettwu_bucket/pdfs/Random Number Gener...</td>\n",
       "    </tr>\n",
       "    <tr>\n",
       "      <th>9</th>\n",
       "      <td>gs://garrettwu_bucket/pdfs/Thermometer Encodin...</td>\n",
       "    </tr>\n",
       "    <tr>\n",
       "      <th>10</th>\n",
       "      <td>gs://garrettwu_bucket/pdfs/Asynchronous Teams ...</td>\n",
       "    </tr>\n",
       "    <tr>\n",
       "      <th>11</th>\n",
       "      <td>gs://garrettwu_bucket/pdfs/An Elegant Algorith...</td>\n",
       "    </tr>\n",
       "    <tr>\n",
       "      <th>12</th>\n",
       "      <td>gs://garrettwu_bucket/pdfs/Parallel Depth-Firs...</td>\n",
       "    </tr>\n",
       "    <tr>\n",
       "      <th>13</th>\n",
       "      <td>gs://garrettwu_bucket/pdfs/Writing a Simple Op...</td>\n",
       "    </tr>\n",
       "    <tr>\n",
       "      <th>14</th>\n",
       "      <td>gs://garrettwu_bucket/pdfs/Oral History of Dav...</td>\n",
       "    </tr>\n",
       "    <tr>\n",
       "      <th>15</th>\n",
       "      <td>gs://garrettwu_bucket/pdfs/Windows 8 Registere...</td>\n",
       "    </tr>\n",
       "    <tr>\n",
       "      <th>16</th>\n",
       "      <td>gs://garrettwu_bucket/pdfs/Hashcash - A Denial...</td>\n",
       "    </tr>\n",
       "    <tr>\n",
       "      <th>17</th>\n",
       "      <td>gs://garrettwu_bucket/pdfs/DEC - The Mistakes ...</td>\n",
       "    </tr>\n",
       "    <tr>\n",
       "      <th>18</th>\n",
       "      <td>gs://garrettwu_bucket/pdfs/Object-Oriented Pro...</td>\n",
       "    </tr>\n",
       "    <tr>\n",
       "      <th>19</th>\n",
       "      <td>gs://garrettwu_bucket/pdfs/Implementing Sortin...</td>\n",
       "    </tr>\n",
       "    <tr>\n",
       "      <th>20</th>\n",
       "      <td>gs://garrettwu_bucket/pdfs/Rich vs King - The ...</td>\n",
       "    </tr>\n",
       "    <tr>\n",
       "      <th>21</th>\n",
       "      <td>gs://garrettwu_bucket/pdfs/How to Write Fast C...</td>\n",
       "    </tr>\n",
       "    <tr>\n",
       "      <th>22</th>\n",
       "      <td>gs://garrettwu_bucket/pdfs/CASEVision - ClearC...</td>\n",
       "    </tr>\n",
       "    <tr>\n",
       "      <th>23</th>\n",
       "      <td>gs://garrettwu_bucket/pdfs/Database System Imp...</td>\n",
       "    </tr>\n",
       "    <tr>\n",
       "      <th>24</th>\n",
       "      <td>gs://garrettwu_bucket/pdfs/Convex Optimization...</td>\n",
       "    </tr>\n",
       "  </tbody>\n",
       "</table>\n",
       "<p>25 rows × 1 columns</p>\n",
       "</div>[1346 rows x 1 columns in total]"
      ],
      "text/plain": [
       "                                                  uri\n",
       "0   gs://garrettwu_bucket/pdfs/Training of CC4 Neu...\n",
       "1   gs://garrettwu_bucket/pdfs/MegaPipe - A New Pr...\n",
       "2   gs://garrettwu_bucket/pdfs/The Cache Performan...\n",
       "3   gs://garrettwu_bucket/pdfs/Battle of SKM and I...\n",
       "4   gs://garrettwu_bucket/pdfs/Using CUDA in Pract...\n",
       "5   gs://garrettwu_bucket/pdfs/Fast Packed String ...\n",
       "6   gs://garrettwu_bucket/pdfs/NTFS System Crash -...\n",
       "7   gs://garrettwu_bucket/pdfs/Using Memory Manage...\n",
       "8   gs://garrettwu_bucket/pdfs/Random Number Gener...\n",
       "9   gs://garrettwu_bucket/pdfs/Thermometer Encodin...\n",
       "10  gs://garrettwu_bucket/pdfs/Asynchronous Teams ...\n",
       "11  gs://garrettwu_bucket/pdfs/An Elegant Algorith...\n",
       "12  gs://garrettwu_bucket/pdfs/Parallel Depth-Firs...\n",
       "13  gs://garrettwu_bucket/pdfs/Writing a Simple Op...\n",
       "14  gs://garrettwu_bucket/pdfs/Oral History of Dav...\n",
       "15  gs://garrettwu_bucket/pdfs/Windows 8 Registere...\n",
       "16  gs://garrettwu_bucket/pdfs/Hashcash - A Denial...\n",
       "17  gs://garrettwu_bucket/pdfs/DEC - The Mistakes ...\n",
       "18  gs://garrettwu_bucket/pdfs/Object-Oriented Pro...\n",
       "19  gs://garrettwu_bucket/pdfs/Implementing Sortin...\n",
       "20  gs://garrettwu_bucket/pdfs/Rich vs King - The ...\n",
       "21  gs://garrettwu_bucket/pdfs/How to Write Fast C...\n",
       "22  gs://garrettwu_bucket/pdfs/CASEVision - ClearC...\n",
       "23  gs://garrettwu_bucket/pdfs/Database System Imp...\n",
       "24  gs://garrettwu_bucket/pdfs/Convex Optimization...\n",
       "...\n",
       "\n",
       "[1346 rows x 1 columns]"
      ]
     },
     "execution_count": 3,
     "metadata": {},
     "output_type": "execute_result"
    }
   ],
   "source": [
    "df"
   ]
  },
  {
   "cell_type": "code",
   "execution_count": 6,
   "metadata": {},
   "outputs": [
    {
     "data": {
      "text/html": [
       "Query job 1a89679e-7130-4b74-882b-fb48ab27280e is DONE. 645 Bytes processed. <a target=\"_blank\" href=\"https://console.cloud.google.com/bigquery?project=bigframes-dev&j=bq:US:1a89679e-7130-4b74-882b-fb48ab27280e&page=queryresults\">Open Job</a>"
      ],
      "text/plain": [
       "<IPython.core.display.HTML object>"
      ]
     },
     "metadata": {},
     "output_type": "display_data"
    },
    {
     "data": {
      "text/html": [
       "Query job 5c79922d-3083-4576-ad29-ec608750089d is DONE. 285.2 kB processed. <a target=\"_blank\" href=\"https://console.cloud.google.com/bigquery?project=bigframes-dev&j=bq:US:5c79922d-3083-4576-ad29-ec608750089d&page=queryresults\">Open Job</a>"
      ],
      "text/plain": [
       "<IPython.core.display.HTML object>"
      ]
     },
     "metadata": {},
     "output_type": "display_data"
    },
    {
     "data": {
      "text/html": [
       "Query job 8ae02d84-0c9d-46d2-b54c-5b06dd316716 is DONE. 285.1 kB processed. <a target=\"_blank\" href=\"https://console.cloud.google.com/bigquery?project=bigframes-dev&j=bq:US:8ae02d84-0c9d-46d2-b54c-5b06dd316716&page=queryresults\">Open Job</a>"
      ],
      "text/plain": [
       "<IPython.core.display.HTML object>"
      ]
     },
     "metadata": {},
     "output_type": "display_data"
    },
    {
     "data": {
      "text/html": [
       "Query job c8f22f65-f7d6-46be-9944-c44b2c1191a6 is DONE. 40 Bytes processed. <a target=\"_blank\" href=\"https://console.cloud.google.com/bigquery?project=bigframes-dev&j=bq:US:c8f22f65-f7d6-46be-9944-c44b2c1191a6&page=queryresults\">Open Job</a>"
      ],
      "text/plain": [
       "<IPython.core.display.HTML object>"
      ]
     },
     "metadata": {},
     "output_type": "display_data"
    }
   ],
   "source": [
    "df[\"chunked\"] = df[\"uri\"].blob.llama_index_chunk(mode=\"remote\")"
   ]
  },
  {
   "cell_type": "code",
   "execution_count": 4,
   "metadata": {},
   "outputs": [
    {
     "data": {
      "text/html": [
       "Query job 11c2550b-8c1f-483d-bfd5-73f2baf47e90 is DONE. 155.7 kB processed. <a target=\"_blank\" href=\"https://console.cloud.google.com/bigquery?project=bigframes-dev&j=bq:US:11c2550b-8c1f-483d-bfd5-73f2baf47e90&page=queryresults\">Open Job</a>"
      ],
      "text/plain": [
       "<IPython.core.display.HTML object>"
      ]
     },
     "metadata": {},
     "output_type": "display_data"
    },
    {
     "name": "stderr",
     "output_type": "stream",
     "text": [
      "Multiple definitions in dictionary at byte 0xe52cb for key /ToUnicode\n",
      "Multiple definitions in dictionary at byte 0xe4e8a for key /ToUnicode\n",
      "Multiple definitions in dictionary at byte 0x126c for key /ExtGState\n",
      "Multiple definitions in dictionary at byte 0x1702 for key /ExtGState\n",
      "Multiple definitions in dictionary at byte 0x2913 for key /ExtGState\n",
      "Multiple definitions in dictionary at byte 0x2da4 for key /ExtGState\n",
      "Multiple definitions in dictionary at byte 0x6be for key /ExtGState\n",
      "Multiple definitions in dictionary at byte 0x2866 for key /ExtGState\n",
      "Multiple definitions in dictionary at byte 0xd0f for key /ExtGState\n",
      "Multiple definitions in dictionary at byte 0x20bd for key /ExtGState\n",
      "Multiple definitions in dictionary at byte 0xa25 for key /ExtGState\n",
      "Multiple definitions in dictionary at byte 0x127f for key /ExtGState\n",
      "Multiple definitions in dictionary at byte 0xf5c for key /ExtGState\n",
      "Multiple definitions in dictionary at byte 0x19cc for key /ExtGState\n",
      "Multiple definitions in dictionary at byte 0x4ee for key /ExtGState\n",
      "/Kids or /Limits found in PageLabels. Please share this PDF with pypdf: https://github.com/py-pdf/pypdf/pull/1519\n",
      "/Kids or /Limits found in PageLabels. Please share this PDF with pypdf: https://github.com/py-pdf/pypdf/pull/1519\n",
      "/Kids or /Limits found in PageLabels. Please share this PDF with pypdf: https://github.com/py-pdf/pypdf/pull/1519\n",
      "/Kids or /Limits found in PageLabels. Please share this PDF with pypdf: https://github.com/py-pdf/pypdf/pull/1519\n",
      "/Kids or /Limits found in PageLabels. Please share this PDF with pypdf: https://github.com/py-pdf/pypdf/pull/1519\n",
      "/Kids or /Limits found in PageLabels. Please share this PDF with pypdf: https://github.com/py-pdf/pypdf/pull/1519\n",
      "/Kids or /Limits found in PageLabels. Please share this PDF with pypdf: https://github.com/py-pdf/pypdf/pull/1519\n",
      "/Kids or /Limits found in PageLabels. Please share this PDF with pypdf: https://github.com/py-pdf/pypdf/pull/1519\n",
      "/Kids or /Limits found in PageLabels. Please share this PDF with pypdf: https://github.com/py-pdf/pypdf/pull/1519\n",
      "/Kids or /Limits found in PageLabels. Please share this PDF with pypdf: https://github.com/py-pdf/pypdf/pull/1519\n",
      "/Kids or /Limits found in PageLabels. Please share this PDF with pypdf: https://github.com/py-pdf/pypdf/pull/1519\n",
      "/Kids or /Limits found in PageLabels. Please share this PDF with pypdf: https://github.com/py-pdf/pypdf/pull/1519\n",
      "/Kids or /Limits found in PageLabels. Please share this PDF with pypdf: https://github.com/py-pdf/pypdf/pull/1519\n",
      "/Kids or /Limits found in PageLabels. Please share this PDF with pypdf: https://github.com/py-pdf/pypdf/pull/1519\n",
      "/Kids or /Limits found in PageLabels. Please share this PDF with pypdf: https://github.com/py-pdf/pypdf/pull/1519\n",
      "/Kids or /Limits found in PageLabels. Please share this PDF with pypdf: https://github.com/py-pdf/pypdf/pull/1519\n",
      "/Kids or /Limits found in PageLabels. Please share this PDF with pypdf: https://github.com/py-pdf/pypdf/pull/1519\n",
      "/Kids or /Limits found in PageLabels. Please share this PDF with pypdf: https://github.com/py-pdf/pypdf/pull/1519\n",
      "/Kids or /Limits found in PageLabels. Please share this PDF with pypdf: https://github.com/py-pdf/pypdf/pull/1519\n",
      "/Kids or /Limits found in PageLabels. Please share this PDF with pypdf: https://github.com/py-pdf/pypdf/pull/1519\n",
      "/Kids or /Limits found in PageLabels. Please share this PDF with pypdf: https://github.com/py-pdf/pypdf/pull/1519\n",
      "/Kids or /Limits found in PageLabels. Please share this PDF with pypdf: https://github.com/py-pdf/pypdf/pull/1519\n",
      "/Kids or /Limits found in PageLabels. Please share this PDF with pypdf: https://github.com/py-pdf/pypdf/pull/1519\n",
      "/Kids or /Limits found in PageLabels. Please share this PDF with pypdf: https://github.com/py-pdf/pypdf/pull/1519\n",
      "/Kids or /Limits found in PageLabels. Please share this PDF with pypdf: https://github.com/py-pdf/pypdf/pull/1519\n",
      "/Kids or /Limits found in PageLabels. Please share this PDF with pypdf: https://github.com/py-pdf/pypdf/pull/1519\n",
      "/Kids or /Limits found in PageLabels. Please share this PDF with pypdf: https://github.com/py-pdf/pypdf/pull/1519\n",
      "/Kids or /Limits found in PageLabels. Please share this PDF with pypdf: https://github.com/py-pdf/pypdf/pull/1519\n",
      "/Kids or /Limits found in PageLabels. Please share this PDF with pypdf: https://github.com/py-pdf/pypdf/pull/1519\n",
      "/Kids or /Limits found in PageLabels. Please share this PDF with pypdf: https://github.com/py-pdf/pypdf/pull/1519\n",
      "/Kids or /Limits found in PageLabels. Please share this PDF with pypdf: https://github.com/py-pdf/pypdf/pull/1519\n",
      "/Kids or /Limits found in PageLabels. Please share this PDF with pypdf: https://github.com/py-pdf/pypdf/pull/1519\n",
      "/Kids or /Limits found in PageLabels. Please share this PDF with pypdf: https://github.com/py-pdf/pypdf/pull/1519\n",
      "/Kids or /Limits found in PageLabels. Please share this PDF with pypdf: https://github.com/py-pdf/pypdf/pull/1519\n",
      "/Kids or /Limits found in PageLabels. Please share this PDF with pypdf: https://github.com/py-pdf/pypdf/pull/1519\n",
      "/Kids or /Limits found in PageLabels. Please share this PDF with pypdf: https://github.com/py-pdf/pypdf/pull/1519\n",
      "/Kids or /Limits found in PageLabels. Please share this PDF with pypdf: https://github.com/py-pdf/pypdf/pull/1519\n",
      "/Kids or /Limits found in PageLabels. Please share this PDF with pypdf: https://github.com/py-pdf/pypdf/pull/1519\n",
      "/Kids or /Limits found in PageLabels. Please share this PDF with pypdf: https://github.com/py-pdf/pypdf/pull/1519\n",
      "/Kids or /Limits found in PageLabels. Please share this PDF with pypdf: https://github.com/py-pdf/pypdf/pull/1519\n",
      "/Kids or /Limits found in PageLabels. Please share this PDF with pypdf: https://github.com/py-pdf/pypdf/pull/1519\n",
      "/Kids or /Limits found in PageLabels. Please share this PDF with pypdf: https://github.com/py-pdf/pypdf/pull/1519\n",
      "/Kids or /Limits found in PageLabels. Please share this PDF with pypdf: https://github.com/py-pdf/pypdf/pull/1519\n",
      "/Kids or /Limits found in PageLabels. Please share this PDF with pypdf: https://github.com/py-pdf/pypdf/pull/1519\n",
      "/Kids or /Limits found in PageLabels. Please share this PDF with pypdf: https://github.com/py-pdf/pypdf/pull/1519\n",
      "/Kids or /Limits found in PageLabels. Please share this PDF with pypdf: https://github.com/py-pdf/pypdf/pull/1519\n",
      "/Kids or /Limits found in PageLabels. Please share this PDF with pypdf: https://github.com/py-pdf/pypdf/pull/1519\n",
      "/Kids or /Limits found in PageLabels. Please share this PDF with pypdf: https://github.com/py-pdf/pypdf/pull/1519\n",
      "/Kids or /Limits found in PageLabels. Please share this PDF with pypdf: https://github.com/py-pdf/pypdf/pull/1519\n",
      "/Kids or /Limits found in PageLabels. Please share this PDF with pypdf: https://github.com/py-pdf/pypdf/pull/1519\n",
      "/Kids or /Limits found in PageLabels. Please share this PDF with pypdf: https://github.com/py-pdf/pypdf/pull/1519\n",
      "/Kids or /Limits found in PageLabels. Please share this PDF with pypdf: https://github.com/py-pdf/pypdf/pull/1519\n",
      "/Kids or /Limits found in PageLabels. Please share this PDF with pypdf: https://github.com/py-pdf/pypdf/pull/1519\n",
      "/Kids or /Limits found in PageLabels. Please share this PDF with pypdf: https://github.com/py-pdf/pypdf/pull/1519\n",
      "/Kids or /Limits found in PageLabels. Please share this PDF with pypdf: https://github.com/py-pdf/pypdf/pull/1519\n",
      "/Kids or /Limits found in PageLabels. Please share this PDF with pypdf: https://github.com/py-pdf/pypdf/pull/1519\n",
      "/Kids or /Limits found in PageLabels. Please share this PDF with pypdf: https://github.com/py-pdf/pypdf/pull/1519\n",
      "/Kids or /Limits found in PageLabels. Please share this PDF with pypdf: https://github.com/py-pdf/pypdf/pull/1519\n",
      "/Kids or /Limits found in PageLabels. Please share this PDF with pypdf: https://github.com/py-pdf/pypdf/pull/1519\n",
      "/Kids or /Limits found in PageLabels. Please share this PDF with pypdf: https://github.com/py-pdf/pypdf/pull/1519\n",
      "/Kids or /Limits found in PageLabels. Please share this PDF with pypdf: https://github.com/py-pdf/pypdf/pull/1519\n",
      "/Kids or /Limits found in PageLabels. Please share this PDF with pypdf: https://github.com/py-pdf/pypdf/pull/1519\n",
      "/Kids or /Limits found in PageLabels. Please share this PDF with pypdf: https://github.com/py-pdf/pypdf/pull/1519\n",
      "/Kids or /Limits found in PageLabels. Please share this PDF with pypdf: https://github.com/py-pdf/pypdf/pull/1519\n",
      "/Kids or /Limits found in PageLabels. Please share this PDF with pypdf: https://github.com/py-pdf/pypdf/pull/1519\n",
      "/Kids or /Limits found in PageLabels. Please share this PDF with pypdf: https://github.com/py-pdf/pypdf/pull/1519\n",
      "/Kids or /Limits found in PageLabels. Please share this PDF with pypdf: https://github.com/py-pdf/pypdf/pull/1519\n",
      "/Kids or /Limits found in PageLabels. Please share this PDF with pypdf: https://github.com/py-pdf/pypdf/pull/1519\n",
      "/Kids or /Limits found in PageLabels. Please share this PDF with pypdf: https://github.com/py-pdf/pypdf/pull/1519\n",
      "/Kids or /Limits found in PageLabels. Please share this PDF with pypdf: https://github.com/py-pdf/pypdf/pull/1519\n",
      "/Kids or /Limits found in PageLabels. Please share this PDF with pypdf: https://github.com/py-pdf/pypdf/pull/1519\n",
      "/Kids or /Limits found in PageLabels. Please share this PDF with pypdf: https://github.com/py-pdf/pypdf/pull/1519\n",
      "/Kids or /Limits found in PageLabels. Please share this PDF with pypdf: https://github.com/py-pdf/pypdf/pull/1519\n",
      "/Kids or /Limits found in PageLabels. Please share this PDF with pypdf: https://github.com/py-pdf/pypdf/pull/1519\n",
      "/Kids or /Limits found in PageLabels. Please share this PDF with pypdf: https://github.com/py-pdf/pypdf/pull/1519\n",
      "/Kids or /Limits found in PageLabels. Please share this PDF with pypdf: https://github.com/py-pdf/pypdf/pull/1519\n",
      "/Kids or /Limits found in PageLabels. Please share this PDF with pypdf: https://github.com/py-pdf/pypdf/pull/1519\n",
      "/Kids or /Limits found in PageLabels. Please share this PDF with pypdf: https://github.com/py-pdf/pypdf/pull/1519\n",
      "/Kids or /Limits found in PageLabels. Please share this PDF with pypdf: https://github.com/py-pdf/pypdf/pull/1519\n",
      "/Kids or /Limits found in PageLabels. Please share this PDF with pypdf: https://github.com/py-pdf/pypdf/pull/1519\n",
      "/Kids or /Limits found in PageLabels. Please share this PDF with pypdf: https://github.com/py-pdf/pypdf/pull/1519\n",
      "/Kids or /Limits found in PageLabels. Please share this PDF with pypdf: https://github.com/py-pdf/pypdf/pull/1519\n",
      "/Kids or /Limits found in PageLabels. Please share this PDF with pypdf: https://github.com/py-pdf/pypdf/pull/1519\n",
      "/Kids or /Limits found in PageLabels. Please share this PDF with pypdf: https://github.com/py-pdf/pypdf/pull/1519\n",
      "/Kids or /Limits found in PageLabels. Please share this PDF with pypdf: https://github.com/py-pdf/pypdf/pull/1519\n",
      "/Kids or /Limits found in PageLabels. Please share this PDF with pypdf: https://github.com/py-pdf/pypdf/pull/1519\n",
      "/Kids or /Limits found in PageLabels. Please share this PDF with pypdf: https://github.com/py-pdf/pypdf/pull/1519\n",
      "/Kids or /Limits found in PageLabels. Please share this PDF with pypdf: https://github.com/py-pdf/pypdf/pull/1519\n",
      "/Kids or /Limits found in PageLabels. Please share this PDF with pypdf: https://github.com/py-pdf/pypdf/pull/1519\n",
      "/Kids or /Limits found in PageLabels. Please share this PDF with pypdf: https://github.com/py-pdf/pypdf/pull/1519\n",
      "/Kids or /Limits found in PageLabels. Please share this PDF with pypdf: https://github.com/py-pdf/pypdf/pull/1519\n",
      "/Kids or /Limits found in PageLabels. Please share this PDF with pypdf: https://github.com/py-pdf/pypdf/pull/1519\n",
      "/Kids or /Limits found in PageLabels. Please share this PDF with pypdf: https://github.com/py-pdf/pypdf/pull/1519\n",
      "/Kids or /Limits found in PageLabels. Please share this PDF with pypdf: https://github.com/py-pdf/pypdf/pull/1519\n",
      "/Kids or /Limits found in PageLabels. Please share this PDF with pypdf: https://github.com/py-pdf/pypdf/pull/1519\n",
      "/Kids or /Limits found in PageLabels. Please share this PDF with pypdf: https://github.com/py-pdf/pypdf/pull/1519\n",
      "/Kids or /Limits found in PageLabels. Please share this PDF with pypdf: https://github.com/py-pdf/pypdf/pull/1519\n",
      "/Kids or /Limits found in PageLabels. Please share this PDF with pypdf: https://github.com/py-pdf/pypdf/pull/1519\n",
      "/Kids or /Limits found in PageLabels. Please share this PDF with pypdf: https://github.com/py-pdf/pypdf/pull/1519\n",
      "/Kids or /Limits found in PageLabels. Please share this PDF with pypdf: https://github.com/py-pdf/pypdf/pull/1519\n",
      "/Kids or /Limits found in PageLabels. Please share this PDF with pypdf: https://github.com/py-pdf/pypdf/pull/1519\n",
      "/Kids or /Limits found in PageLabels. Please share this PDF with pypdf: https://github.com/py-pdf/pypdf/pull/1519\n",
      "/Kids or /Limits found in PageLabels. Please share this PDF with pypdf: https://github.com/py-pdf/pypdf/pull/1519\n",
      "/Kids or /Limits found in PageLabels. Please share this PDF with pypdf: https://github.com/py-pdf/pypdf/pull/1519\n",
      "/Kids or /Limits found in PageLabels. Please share this PDF with pypdf: https://github.com/py-pdf/pypdf/pull/1519\n",
      "/Kids or /Limits found in PageLabels. Please share this PDF with pypdf: https://github.com/py-pdf/pypdf/pull/1519\n",
      "/Kids or /Limits found in PageLabels. Please share this PDF with pypdf: https://github.com/py-pdf/pypdf/pull/1519\n",
      "/Kids or /Limits found in PageLabels. Please share this PDF with pypdf: https://github.com/py-pdf/pypdf/pull/1519\n",
      "/Kids or /Limits found in PageLabels. Please share this PDF with pypdf: https://github.com/py-pdf/pypdf/pull/1519\n",
      "/Kids or /Limits found in PageLabels. Please share this PDF with pypdf: https://github.com/py-pdf/pypdf/pull/1519\n",
      "/Kids or /Limits found in PageLabels. Please share this PDF with pypdf: https://github.com/py-pdf/pypdf/pull/1519\n",
      "/Kids or /Limits found in PageLabels. Please share this PDF with pypdf: https://github.com/py-pdf/pypdf/pull/1519\n",
      "/Kids or /Limits found in PageLabels. Please share this PDF with pypdf: https://github.com/py-pdf/pypdf/pull/1519\n",
      "/Kids or /Limits found in PageLabels. Please share this PDF with pypdf: https://github.com/py-pdf/pypdf/pull/1519\n",
      "/Kids or /Limits found in PageLabels. Please share this PDF with pypdf: https://github.com/py-pdf/pypdf/pull/1519\n",
      "/Kids or /Limits found in PageLabels. Please share this PDF with pypdf: https://github.com/py-pdf/pypdf/pull/1519\n",
      "/Kids or /Limits found in PageLabels. Please share this PDF with pypdf: https://github.com/py-pdf/pypdf/pull/1519\n",
      "/Kids or /Limits found in PageLabels. Please share this PDF with pypdf: https://github.com/py-pdf/pypdf/pull/1519\n",
      "/Kids or /Limits found in PageLabels. Please share this PDF with pypdf: https://github.com/py-pdf/pypdf/pull/1519\n",
      "/Kids or /Limits found in PageLabels. Please share this PDF with pypdf: https://github.com/py-pdf/pypdf/pull/1519\n",
      "/Kids or /Limits found in PageLabels. Please share this PDF with pypdf: https://github.com/py-pdf/pypdf/pull/1519\n",
      "/Kids or /Limits found in PageLabels. Please share this PDF with pypdf: https://github.com/py-pdf/pypdf/pull/1519\n",
      "/Kids or /Limits found in PageLabels. Please share this PDF with pypdf: https://github.com/py-pdf/pypdf/pull/1519\n",
      "/Kids or /Limits found in PageLabels. Please share this PDF with pypdf: https://github.com/py-pdf/pypdf/pull/1519\n",
      "/Kids or /Limits found in PageLabels. Please share this PDF with pypdf: https://github.com/py-pdf/pypdf/pull/1519\n",
      "/Kids or /Limits found in PageLabels. Please share this PDF with pypdf: https://github.com/py-pdf/pypdf/pull/1519\n",
      "/Kids or /Limits found in PageLabels. Please share this PDF with pypdf: https://github.com/py-pdf/pypdf/pull/1519\n",
      "/Kids or /Limits found in PageLabels. Please share this PDF with pypdf: https://github.com/py-pdf/pypdf/pull/1519\n",
      "/Kids or /Limits found in PageLabels. Please share this PDF with pypdf: https://github.com/py-pdf/pypdf/pull/1519\n",
      "/Kids or /Limits found in PageLabels. Please share this PDF with pypdf: https://github.com/py-pdf/pypdf/pull/1519\n",
      "/Kids or /Limits found in PageLabels. Please share this PDF with pypdf: https://github.com/py-pdf/pypdf/pull/1519\n",
      "/Kids or /Limits found in PageLabels. Please share this PDF with pypdf: https://github.com/py-pdf/pypdf/pull/1519\n",
      "/Kids or /Limits found in PageLabels. Please share this PDF with pypdf: https://github.com/py-pdf/pypdf/pull/1519\n",
      "/Kids or /Limits found in PageLabels. Please share this PDF with pypdf: https://github.com/py-pdf/pypdf/pull/1519\n",
      "/Kids or /Limits found in PageLabels. Please share this PDF with pypdf: https://github.com/py-pdf/pypdf/pull/1519\n",
      "/Kids or /Limits found in PageLabels. Please share this PDF with pypdf: https://github.com/py-pdf/pypdf/pull/1519\n",
      "/Kids or /Limits found in PageLabels. Please share this PDF with pypdf: https://github.com/py-pdf/pypdf/pull/1519\n",
      "/Kids or /Limits found in PageLabels. Please share this PDF with pypdf: https://github.com/py-pdf/pypdf/pull/1519\n",
      "/Kids or /Limits found in PageLabels. Please share this PDF with pypdf: https://github.com/py-pdf/pypdf/pull/1519\n",
      "/Kids or /Limits found in PageLabels. Please share this PDF with pypdf: https://github.com/py-pdf/pypdf/pull/1519\n",
      "/Kids or /Limits found in PageLabels. Please share this PDF with pypdf: https://github.com/py-pdf/pypdf/pull/1519\n",
      "/Kids or /Limits found in PageLabels. Please share this PDF with pypdf: https://github.com/py-pdf/pypdf/pull/1519\n",
      "/Kids or /Limits found in PageLabels. Please share this PDF with pypdf: https://github.com/py-pdf/pypdf/pull/1519\n",
      "/Kids or /Limits found in PageLabels. Please share this PDF with pypdf: https://github.com/py-pdf/pypdf/pull/1519\n",
      "/Kids or /Limits found in PageLabels. Please share this PDF with pypdf: https://github.com/py-pdf/pypdf/pull/1519\n",
      "/Kids or /Limits found in PageLabels. Please share this PDF with pypdf: https://github.com/py-pdf/pypdf/pull/1519\n",
      "/Kids or /Limits found in PageLabels. Please share this PDF with pypdf: https://github.com/py-pdf/pypdf/pull/1519\n",
      "/Kids or /Limits found in PageLabels. Please share this PDF with pypdf: https://github.com/py-pdf/pypdf/pull/1519\n",
      "/Kids or /Limits found in PageLabels. Please share this PDF with pypdf: https://github.com/py-pdf/pypdf/pull/1519\n",
      "/Kids or /Limits found in PageLabels. Please share this PDF with pypdf: https://github.com/py-pdf/pypdf/pull/1519\n",
      "/Kids or /Limits found in PageLabels. Please share this PDF with pypdf: https://github.com/py-pdf/pypdf/pull/1519\n",
      "/Kids or /Limits found in PageLabels. Please share this PDF with pypdf: https://github.com/py-pdf/pypdf/pull/1519\n",
      "/Kids or /Limits found in PageLabels. Please share this PDF with pypdf: https://github.com/py-pdf/pypdf/pull/1519\n",
      "/Kids or /Limits found in PageLabels. Please share this PDF with pypdf: https://github.com/py-pdf/pypdf/pull/1519\n",
      "/Kids or /Limits found in PageLabels. Please share this PDF with pypdf: https://github.com/py-pdf/pypdf/pull/1519\n",
      "/Kids or /Limits found in PageLabels. Please share this PDF with pypdf: https://github.com/py-pdf/pypdf/pull/1519\n",
      "/Kids or /Limits found in PageLabels. Please share this PDF with pypdf: https://github.com/py-pdf/pypdf/pull/1519\n",
      "/Kids or /Limits found in PageLabels. Please share this PDF with pypdf: https://github.com/py-pdf/pypdf/pull/1519\n",
      "/Kids or /Limits found in PageLabels. Please share this PDF with pypdf: https://github.com/py-pdf/pypdf/pull/1519\n",
      "/Kids or /Limits found in PageLabels. Please share this PDF with pypdf: https://github.com/py-pdf/pypdf/pull/1519\n",
      "/Kids or /Limits found in PageLabels. Please share this PDF with pypdf: https://github.com/py-pdf/pypdf/pull/1519\n",
      "/Kids or /Limits found in PageLabels. Please share this PDF with pypdf: https://github.com/py-pdf/pypdf/pull/1519\n",
      "/Kids or /Limits found in PageLabels. Please share this PDF with pypdf: https://github.com/py-pdf/pypdf/pull/1519\n",
      "/Kids or /Limits found in PageLabels. Please share this PDF with pypdf: https://github.com/py-pdf/pypdf/pull/1519\n",
      "/Kids or /Limits found in PageLabels. Please share this PDF with pypdf: https://github.com/py-pdf/pypdf/pull/1519\n",
      "/Kids or /Limits found in PageLabels. Please share this PDF with pypdf: https://github.com/py-pdf/pypdf/pull/1519\n",
      "/Kids or /Limits found in PageLabels. Please share this PDF with pypdf: https://github.com/py-pdf/pypdf/pull/1519\n",
      "/Kids or /Limits found in PageLabels. Please share this PDF with pypdf: https://github.com/py-pdf/pypdf/pull/1519\n",
      "/Kids or /Limits found in PageLabels. Please share this PDF with pypdf: https://github.com/py-pdf/pypdf/pull/1519\n",
      "/Kids or /Limits found in PageLabels. Please share this PDF with pypdf: https://github.com/py-pdf/pypdf/pull/1519\n",
      "/Kids or /Limits found in PageLabels. Please share this PDF with pypdf: https://github.com/py-pdf/pypdf/pull/1519\n",
      "/Kids or /Limits found in PageLabels. Please share this PDF with pypdf: https://github.com/py-pdf/pypdf/pull/1519\n",
      "/Kids or /Limits found in PageLabels. Please share this PDF with pypdf: https://github.com/py-pdf/pypdf/pull/1519\n",
      "/Kids or /Limits found in PageLabels. Please share this PDF with pypdf: https://github.com/py-pdf/pypdf/pull/1519\n",
      "/Kids or /Limits found in PageLabels. Please share this PDF with pypdf: https://github.com/py-pdf/pypdf/pull/1519\n",
      "/Kids or /Limits found in PageLabels. Please share this PDF with pypdf: https://github.com/py-pdf/pypdf/pull/1519\n",
      "/Kids or /Limits found in PageLabels. Please share this PDF with pypdf: https://github.com/py-pdf/pypdf/pull/1519\n",
      "/Kids or /Limits found in PageLabels. Please share this PDF with pypdf: https://github.com/py-pdf/pypdf/pull/1519\n",
      "/Kids or /Limits found in PageLabels. Please share this PDF with pypdf: https://github.com/py-pdf/pypdf/pull/1519\n",
      "/Kids or /Limits found in PageLabels. Please share this PDF with pypdf: https://github.com/py-pdf/pypdf/pull/1519\n",
      "/Kids or /Limits found in PageLabels. Please share this PDF with pypdf: https://github.com/py-pdf/pypdf/pull/1519\n",
      "/Kids or /Limits found in PageLabels. Please share this PDF with pypdf: https://github.com/py-pdf/pypdf/pull/1519\n",
      "/Kids or /Limits found in PageLabels. Please share this PDF with pypdf: https://github.com/py-pdf/pypdf/pull/1519\n",
      "/Kids or /Limits found in PageLabels. Please share this PDF with pypdf: https://github.com/py-pdf/pypdf/pull/1519\n",
      "/Kids or /Limits found in PageLabels. Please share this PDF with pypdf: https://github.com/py-pdf/pypdf/pull/1519\n",
      "/Kids or /Limits found in PageLabels. Please share this PDF with pypdf: https://github.com/py-pdf/pypdf/pull/1519\n",
      "/Kids or /Limits found in PageLabels. Please share this PDF with pypdf: https://github.com/py-pdf/pypdf/pull/1519\n",
      "/Kids or /Limits found in PageLabels. Please share this PDF with pypdf: https://github.com/py-pdf/pypdf/pull/1519\n",
      "/Kids or /Limits found in PageLabels. Please share this PDF with pypdf: https://github.com/py-pdf/pypdf/pull/1519\n",
      "/Kids or /Limits found in PageLabels. Please share this PDF with pypdf: https://github.com/py-pdf/pypdf/pull/1519\n",
      "/Kids or /Limits found in PageLabels. Please share this PDF with pypdf: https://github.com/py-pdf/pypdf/pull/1519\n",
      "/Kids or /Limits found in PageLabels. Please share this PDF with pypdf: https://github.com/py-pdf/pypdf/pull/1519\n",
      "/Kids or /Limits found in PageLabels. Please share this PDF with pypdf: https://github.com/py-pdf/pypdf/pull/1519\n",
      "/Kids or /Limits found in PageLabels. Please share this PDF with pypdf: https://github.com/py-pdf/pypdf/pull/1519\n",
      "/Kids or /Limits found in PageLabels. Please share this PDF with pypdf: https://github.com/py-pdf/pypdf/pull/1519\n",
      "/Kids or /Limits found in PageLabels. Please share this PDF with pypdf: https://github.com/py-pdf/pypdf/pull/1519\n",
      "/Kids or /Limits found in PageLabels. Please share this PDF with pypdf: https://github.com/py-pdf/pypdf/pull/1519\n",
      "/Kids or /Limits found in PageLabels. Please share this PDF with pypdf: https://github.com/py-pdf/pypdf/pull/1519\n",
      "/Kids or /Limits found in PageLabels. Please share this PDF with pypdf: https://github.com/py-pdf/pypdf/pull/1519\n",
      "/Kids or /Limits found in PageLabels. Please share this PDF with pypdf: https://github.com/py-pdf/pypdf/pull/1519\n",
      "/Kids or /Limits found in PageLabels. Please share this PDF with pypdf: https://github.com/py-pdf/pypdf/pull/1519\n",
      "/Kids or /Limits found in PageLabels. Please share this PDF with pypdf: https://github.com/py-pdf/pypdf/pull/1519\n",
      "/Kids or /Limits found in PageLabels. Please share this PDF with pypdf: https://github.com/py-pdf/pypdf/pull/1519\n",
      "/Kids or /Limits found in PageLabels. Please share this PDF with pypdf: https://github.com/py-pdf/pypdf/pull/1519\n",
      "/Kids or /Limits found in PageLabels. Please share this PDF with pypdf: https://github.com/py-pdf/pypdf/pull/1519\n",
      "/Kids or /Limits found in PageLabels. Please share this PDF with pypdf: https://github.com/py-pdf/pypdf/pull/1519\n",
      "/Kids or /Limits found in PageLabels. Please share this PDF with pypdf: https://github.com/py-pdf/pypdf/pull/1519\n",
      "/Kids or /Limits found in PageLabels. Please share this PDF with pypdf: https://github.com/py-pdf/pypdf/pull/1519\n",
      "/Kids or /Limits found in PageLabels. Please share this PDF with pypdf: https://github.com/py-pdf/pypdf/pull/1519\n",
      "/Kids or /Limits found in PageLabels. Please share this PDF with pypdf: https://github.com/py-pdf/pypdf/pull/1519\n",
      "/Kids or /Limits found in PageLabels. Please share this PDF with pypdf: https://github.com/py-pdf/pypdf/pull/1519\n",
      "/Kids or /Limits found in PageLabels. Please share this PDF with pypdf: https://github.com/py-pdf/pypdf/pull/1519\n",
      "/Kids or /Limits found in PageLabels. Please share this PDF with pypdf: https://github.com/py-pdf/pypdf/pull/1519\n",
      "/Kids or /Limits found in PageLabels. Please share this PDF with pypdf: https://github.com/py-pdf/pypdf/pull/1519\n",
      "/Kids or /Limits found in PageLabels. Please share this PDF with pypdf: https://github.com/py-pdf/pypdf/pull/1519\n",
      "/Kids or /Limits found in PageLabels. Please share this PDF with pypdf: https://github.com/py-pdf/pypdf/pull/1519\n",
      "/Kids or /Limits found in PageLabels. Please share this PDF with pypdf: https://github.com/py-pdf/pypdf/pull/1519\n",
      "/Kids or /Limits found in PageLabels. Please share this PDF with pypdf: https://github.com/py-pdf/pypdf/pull/1519\n",
      "/Kids or /Limits found in PageLabels. Please share this PDF with pypdf: https://github.com/py-pdf/pypdf/pull/1519\n",
      "/Kids or /Limits found in PageLabels. Please share this PDF with pypdf: https://github.com/py-pdf/pypdf/pull/1519\n",
      "/Kids or /Limits found in PageLabels. Please share this PDF with pypdf: https://github.com/py-pdf/pypdf/pull/1519\n",
      "/Kids or /Limits found in PageLabels. Please share this PDF with pypdf: https://github.com/py-pdf/pypdf/pull/1519\n",
      "/Kids or /Limits found in PageLabels. Please share this PDF with pypdf: https://github.com/py-pdf/pypdf/pull/1519\n",
      "/Kids or /Limits found in PageLabels. Please share this PDF with pypdf: https://github.com/py-pdf/pypdf/pull/1519\n",
      "/Kids or /Limits found in PageLabels. Please share this PDF with pypdf: https://github.com/py-pdf/pypdf/pull/1519\n",
      "/Kids or /Limits found in PageLabels. Please share this PDF with pypdf: https://github.com/py-pdf/pypdf/pull/1519\n",
      "/Kids or /Limits found in PageLabels. Please share this PDF with pypdf: https://github.com/py-pdf/pypdf/pull/1519\n",
      "/Kids or /Limits found in PageLabels. Please share this PDF with pypdf: https://github.com/py-pdf/pypdf/pull/1519\n",
      "/Kids or /Limits found in PageLabels. Please share this PDF with pypdf: https://github.com/py-pdf/pypdf/pull/1519\n",
      "/Kids or /Limits found in PageLabels. Please share this PDF with pypdf: https://github.com/py-pdf/pypdf/pull/1519\n",
      "/Kids or /Limits found in PageLabels. Please share this PDF with pypdf: https://github.com/py-pdf/pypdf/pull/1519\n",
      "/Kids or /Limits found in PageLabels. Please share this PDF with pypdf: https://github.com/py-pdf/pypdf/pull/1519\n",
      "/Kids or /Limits found in PageLabels. Please share this PDF with pypdf: https://github.com/py-pdf/pypdf/pull/1519\n",
      "/Kids or /Limits found in PageLabels. Please share this PDF with pypdf: https://github.com/py-pdf/pypdf/pull/1519\n",
      "/Kids or /Limits found in PageLabels. Please share this PDF with pypdf: https://github.com/py-pdf/pypdf/pull/1519\n",
      "/Kids or /Limits found in PageLabels. Please share this PDF with pypdf: https://github.com/py-pdf/pypdf/pull/1519\n",
      "/Kids or /Limits found in PageLabels. Please share this PDF with pypdf: https://github.com/py-pdf/pypdf/pull/1519\n",
      "/Kids or /Limits found in PageLabels. Please share this PDF with pypdf: https://github.com/py-pdf/pypdf/pull/1519\n",
      "/Kids or /Limits found in PageLabels. Please share this PDF with pypdf: https://github.com/py-pdf/pypdf/pull/1519\n",
      "/Kids or /Limits found in PageLabels. Please share this PDF with pypdf: https://github.com/py-pdf/pypdf/pull/1519\n",
      "/Kids or /Limits found in PageLabels. Please share this PDF with pypdf: https://github.com/py-pdf/pypdf/pull/1519\n",
      "/Kids or /Limits found in PageLabels. Please share this PDF with pypdf: https://github.com/py-pdf/pypdf/pull/1519\n",
      "/Kids or /Limits found in PageLabels. Please share this PDF with pypdf: https://github.com/py-pdf/pypdf/pull/1519\n",
      "/Kids or /Limits found in PageLabels. Please share this PDF with pypdf: https://github.com/py-pdf/pypdf/pull/1519\n",
      "/Kids or /Limits found in PageLabels. Please share this PDF with pypdf: https://github.com/py-pdf/pypdf/pull/1519\n",
      "/Kids or /Limits found in PageLabels. Please share this PDF with pypdf: https://github.com/py-pdf/pypdf/pull/1519\n",
      "/Kids or /Limits found in PageLabels. Please share this PDF with pypdf: https://github.com/py-pdf/pypdf/pull/1519\n",
      "/Kids or /Limits found in PageLabels. Please share this PDF with pypdf: https://github.com/py-pdf/pypdf/pull/1519\n",
      "/Kids or /Limits found in PageLabels. Please share this PDF with pypdf: https://github.com/py-pdf/pypdf/pull/1519\n",
      "/Kids or /Limits found in PageLabels. Please share this PDF with pypdf: https://github.com/py-pdf/pypdf/pull/1519\n",
      "/Kids or /Limits found in PageLabels. Please share this PDF with pypdf: https://github.com/py-pdf/pypdf/pull/1519\n",
      "/Kids or /Limits found in PageLabels. Please share this PDF with pypdf: https://github.com/py-pdf/pypdf/pull/1519\n",
      "/Kids or /Limits found in PageLabels. Please share this PDF with pypdf: https://github.com/py-pdf/pypdf/pull/1519\n",
      "/Kids or /Limits found in PageLabels. Please share this PDF with pypdf: https://github.com/py-pdf/pypdf/pull/1519\n",
      "/Kids or /Limits found in PageLabels. Please share this PDF with pypdf: https://github.com/py-pdf/pypdf/pull/1519\n",
      "/Kids or /Limits found in PageLabels. Please share this PDF with pypdf: https://github.com/py-pdf/pypdf/pull/1519\n",
      "/Kids or /Limits found in PageLabels. Please share this PDF with pypdf: https://github.com/py-pdf/pypdf/pull/1519\n",
      "/Kids or /Limits found in PageLabels. Please share this PDF with pypdf: https://github.com/py-pdf/pypdf/pull/1519\n",
      "/Kids or /Limits found in PageLabels. Please share this PDF with pypdf: https://github.com/py-pdf/pypdf/pull/1519\n",
      "/Kids or /Limits found in PageLabels. Please share this PDF with pypdf: https://github.com/py-pdf/pypdf/pull/1519\n",
      "/Kids or /Limits found in PageLabels. Please share this PDF with pypdf: https://github.com/py-pdf/pypdf/pull/1519\n",
      "/Kids or /Limits found in PageLabels. Please share this PDF with pypdf: https://github.com/py-pdf/pypdf/pull/1519\n",
      "/Kids or /Limits found in PageLabels. Please share this PDF with pypdf: https://github.com/py-pdf/pypdf/pull/1519\n",
      "/Kids or /Limits found in PageLabels. Please share this PDF with pypdf: https://github.com/py-pdf/pypdf/pull/1519\n",
      "/Kids or /Limits found in PageLabels. Please share this PDF with pypdf: https://github.com/py-pdf/pypdf/pull/1519\n",
      "/Kids or /Limits found in PageLabels. Please share this PDF with pypdf: https://github.com/py-pdf/pypdf/pull/1519\n",
      "/Kids or /Limits found in PageLabels. Please share this PDF with pypdf: https://github.com/py-pdf/pypdf/pull/1519\n",
      "/Kids or /Limits found in PageLabels. Please share this PDF with pypdf: https://github.com/py-pdf/pypdf/pull/1519\n",
      "/Kids or /Limits found in PageLabels. Please share this PDF with pypdf: https://github.com/py-pdf/pypdf/pull/1519\n",
      "/Kids or /Limits found in PageLabels. Please share this PDF with pypdf: https://github.com/py-pdf/pypdf/pull/1519\n",
      "/Kids or /Limits found in PageLabels. Please share this PDF with pypdf: https://github.com/py-pdf/pypdf/pull/1519\n",
      "/Kids or /Limits found in PageLabels. Please share this PDF with pypdf: https://github.com/py-pdf/pypdf/pull/1519\n",
      "/Kids or /Limits found in PageLabels. Please share this PDF with pypdf: https://github.com/py-pdf/pypdf/pull/1519\n",
      "/Kids or /Limits found in PageLabels. Please share this PDF with pypdf: https://github.com/py-pdf/pypdf/pull/1519\n",
      "/Kids or /Limits found in PageLabels. Please share this PDF with pypdf: https://github.com/py-pdf/pypdf/pull/1519\n",
      "/Kids or /Limits found in PageLabels. Please share this PDF with pypdf: https://github.com/py-pdf/pypdf/pull/1519\n",
      "/Kids or /Limits found in PageLabels. Please share this PDF with pypdf: https://github.com/py-pdf/pypdf/pull/1519\n",
      "/Kids or /Limits found in PageLabels. Please share this PDF with pypdf: https://github.com/py-pdf/pypdf/pull/1519\n",
      "/Kids or /Limits found in PageLabels. Please share this PDF with pypdf: https://github.com/py-pdf/pypdf/pull/1519\n",
      "/Kids or /Limits found in PageLabels. Please share this PDF with pypdf: https://github.com/py-pdf/pypdf/pull/1519\n",
      "/Kids or /Limits found in PageLabels. Please share this PDF with pypdf: https://github.com/py-pdf/pypdf/pull/1519\n",
      "/Kids or /Limits found in PageLabels. Please share this PDF with pypdf: https://github.com/py-pdf/pypdf/pull/1519\n",
      "/Kids or /Limits found in PageLabels. Please share this PDF with pypdf: https://github.com/py-pdf/pypdf/pull/1519\n",
      "/Kids or /Limits found in PageLabels. Please share this PDF with pypdf: https://github.com/py-pdf/pypdf/pull/1519\n",
      "/Kids or /Limits found in PageLabels. Please share this PDF with pypdf: https://github.com/py-pdf/pypdf/pull/1519\n",
      "/Kids or /Limits found in PageLabels. Please share this PDF with pypdf: https://github.com/py-pdf/pypdf/pull/1519\n",
      "/Kids or /Limits found in PageLabels. Please share this PDF with pypdf: https://github.com/py-pdf/pypdf/pull/1519\n",
      "/Kids or /Limits found in PageLabels. Please share this PDF with pypdf: https://github.com/py-pdf/pypdf/pull/1519\n",
      "/Kids or /Limits found in PageLabels. Please share this PDF with pypdf: https://github.com/py-pdf/pypdf/pull/1519\n",
      "/Kids or /Limits found in PageLabels. Please share this PDF with pypdf: https://github.com/py-pdf/pypdf/pull/1519\n",
      "/Kids or /Limits found in PageLabels. Please share this PDF with pypdf: https://github.com/py-pdf/pypdf/pull/1519\n",
      "/Kids or /Limits found in PageLabels. Please share this PDF with pypdf: https://github.com/py-pdf/pypdf/pull/1519\n",
      "/Kids or /Limits found in PageLabels. Please share this PDF with pypdf: https://github.com/py-pdf/pypdf/pull/1519\n",
      "/Kids or /Limits found in PageLabels. Please share this PDF with pypdf: https://github.com/py-pdf/pypdf/pull/1519\n",
      "/Kids or /Limits found in PageLabels. Please share this PDF with pypdf: https://github.com/py-pdf/pypdf/pull/1519\n",
      "/Kids or /Limits found in PageLabels. Please share this PDF with pypdf: https://github.com/py-pdf/pypdf/pull/1519\n",
      "/Kids or /Limits found in PageLabels. Please share this PDF with pypdf: https://github.com/py-pdf/pypdf/pull/1519\n",
      "/Kids or /Limits found in PageLabels. Please share this PDF with pypdf: https://github.com/py-pdf/pypdf/pull/1519\n",
      "/Kids or /Limits found in PageLabels. Please share this PDF with pypdf: https://github.com/py-pdf/pypdf/pull/1519\n",
      "/Kids or /Limits found in PageLabels. Please share this PDF with pypdf: https://github.com/py-pdf/pypdf/pull/1519\n",
      "/Kids or /Limits found in PageLabels. Please share this PDF with pypdf: https://github.com/py-pdf/pypdf/pull/1519\n",
      "/Kids or /Limits found in PageLabels. Please share this PDF with pypdf: https://github.com/py-pdf/pypdf/pull/1519\n",
      "/Kids or /Limits found in PageLabels. Please share this PDF with pypdf: https://github.com/py-pdf/pypdf/pull/1519\n",
      "/Kids or /Limits found in PageLabels. Please share this PDF with pypdf: https://github.com/py-pdf/pypdf/pull/1519\n",
      "/Kids or /Limits found in PageLabels. Please share this PDF with pypdf: https://github.com/py-pdf/pypdf/pull/1519\n",
      "/Kids or /Limits found in PageLabels. Please share this PDF with pypdf: https://github.com/py-pdf/pypdf/pull/1519\n",
      "/Kids or /Limits found in PageLabels. Please share this PDF with pypdf: https://github.com/py-pdf/pypdf/pull/1519\n",
      "/Kids or /Limits found in PageLabels. Please share this PDF with pypdf: https://github.com/py-pdf/pypdf/pull/1519\n",
      "/Kids or /Limits found in PageLabels. Please share this PDF with pypdf: https://github.com/py-pdf/pypdf/pull/1519\n",
      "/Kids or /Limits found in PageLabels. Please share this PDF with pypdf: https://github.com/py-pdf/pypdf/pull/1519\n",
      "/Kids or /Limits found in PageLabels. Please share this PDF with pypdf: https://github.com/py-pdf/pypdf/pull/1519\n",
      "/Kids or /Limits found in PageLabels. Please share this PDF with pypdf: https://github.com/py-pdf/pypdf/pull/1519\n",
      "/Kids or /Limits found in PageLabels. Please share this PDF with pypdf: https://github.com/py-pdf/pypdf/pull/1519\n",
      "/Kids or /Limits found in PageLabels. Please share this PDF with pypdf: https://github.com/py-pdf/pypdf/pull/1519\n",
      "/Kids or /Limits found in PageLabels. Please share this PDF with pypdf: https://github.com/py-pdf/pypdf/pull/1519\n",
      "/Kids or /Limits found in PageLabels. Please share this PDF with pypdf: https://github.com/py-pdf/pypdf/pull/1519\n",
      "/Kids or /Limits found in PageLabels. Please share this PDF with pypdf: https://github.com/py-pdf/pypdf/pull/1519\n",
      "/Kids or /Limits found in PageLabels. Please share this PDF with pypdf: https://github.com/py-pdf/pypdf/pull/1519\n",
      "/Kids or /Limits found in PageLabels. Please share this PDF with pypdf: https://github.com/py-pdf/pypdf/pull/1519\n",
      "/Kids or /Limits found in PageLabels. Please share this PDF with pypdf: https://github.com/py-pdf/pypdf/pull/1519\n",
      "/Kids or /Limits found in PageLabels. Please share this PDF with pypdf: https://github.com/py-pdf/pypdf/pull/1519\n",
      "/Kids or /Limits found in PageLabels. Please share this PDF with pypdf: https://github.com/py-pdf/pypdf/pull/1519\n",
      "/Kids or /Limits found in PageLabels. Please share this PDF with pypdf: https://github.com/py-pdf/pypdf/pull/1519\n",
      "/Kids or /Limits found in PageLabels. Please share this PDF with pypdf: https://github.com/py-pdf/pypdf/pull/1519\n",
      " impossible to decode XFormObject /Pol6\n",
      " impossible to decode XFormObject /Pol14\n",
      " impossible to decode XFormObject /Pol21\n",
      " impossible to decode XFormObject /Pol28\n",
      " impossible to decode XFormObject /Pol35\n",
      " impossible to decode XFormObject /Pol54\n",
      " impossible to decode XFormObject /Pol61\n",
      " impossible to decode XFormObject /Pol68\n",
      " impossible to decode XFormObject /Pol75\n",
      " impossible to decode XFormObject /Pol82\n",
      " impossible to decode XFormObject /Pol89\n",
      " impossible to decode XFormObject /Pol96\n",
      " impossible to decode XFormObject /Pol107\n",
      " impossible to decode XFormObject /Pol114\n",
      " impossible to decode XFormObject /Pol121\n",
      " impossible to decode XFormObject /Pol128\n",
      " impossible to decode XFormObject /Pol135\n",
      " impossible to decode XFormObject /Pol142\n",
      " impossible to decode XFormObject /Pol153\n",
      " impossible to decode XFormObject /Pol160\n",
      " impossible to decode XFormObject /Pol167\n",
      " impossible to decode XFormObject /Pol174\n",
      " impossible to decode XFormObject /Pol181\n",
      "Multiple definitions in dictionary at byte 0x4caf for key /ToUnicode\n",
      "Multiple definitions in dictionary at byte 0x4812 for key /ToUnicode\n",
      "Multiple definitions in dictionary at byte 0x497f for key /ToUnicode\n",
      "Multiple definitions in dictionary at byte 0x476f for key /ToUnicode\n",
      "Multiple definitions in dictionary at byte 0x48c8 for key /ToUnicode\n",
      "Multiple definitions in dictionary at byte 0x4629 for key /ToUnicode\n",
      "Multiple definitions in dictionary at byte 0x4a36 for key /ToUnicode\n",
      "Multiple definitions in dictionary at byte 0x46cc for key /ToUnicode\n",
      "Multiple definitions in dictionary at byte 0x4589 for key /ToUnicode\n",
      "invalid pdf header: b'\\x00\\x00\\x00\\x00\\x00'\n"
     ]
    },
    {
     "name": "stdout",
     "output_type": "stream",
     "text": [
      "Failed to load file /tmp/Just-in-Time Static Type Checking for Dynamic Languages (1604.03641v1).pdf with error: Invalid Elementary Object starting with b'\\x88' @16459: b'**\\x13\\xee\\xa8q;\\x1a\\xdb\\t\\x02O\\x9b\\xfc\\x87\\xc6\\r?I?\\x88Z\\x84\\xd3\\x10$_\\x96&\\x92\\x1e\\xef\\x10\\xa4\\xc0\\xd4\\xdd~4/\\xea\\xef;\\xb7H\\xaf\\x86Y\\xc7\\xcd\\xcbO`\\x81%;M\\xf7\\xc1\\x02\\xe7\\x0fu\\x11\\x0b,\\xcb\\x86\\xfe\\x0f\\x03\\xab\\x06\\x1cib\\x89\\xbf\\xec\\x87'. Skipping...\n"
     ]
    },
    {
     "name": "stderr",
     "output_type": "stream",
     "text": [
      "Multiple definitions in dictionary at byte 0x3e9e for key /ToUnicode\n",
      "Multiple definitions in dictionary at byte 0x3f67 for key /ToUnicode\n",
      "Multiple definitions in dictionary at byte 0x2cf for key /F24\n",
      "Multiple definitions in dictionary at byte 0x2da for key /F24\n",
      "Multiple definitions in dictionary at byte 0x74b for key /F31\n",
      "Multiple definitions in dictionary at byte 0x60a3 for key /F31\n",
      "Multiple definitions in dictionary at byte 0x60ae for key /F24\n",
      "Multiple definitions in dictionary at byte 0x60c5 for key /F24\n",
      "Multiple definitions in dictionary at byte 0x60dd for key /F24\n",
      "Multiple definitions in dictionary at byte 0x60e9 for key /F40\n",
      "Multiple definitions in dictionary at byte 0x6de0 for key /F24\n",
      "Multiple definitions in dictionary at byte 0x9494 for key /F31\n",
      "Multiple definitions in dictionary at byte 0x9e99 for key /F24\n",
      "Multiple definitions in dictionary at byte 0x9ec8 for key /F24\n",
      "Multiple definitions in dictionary at byte 0xadf6 for key /F40\n",
      "Multiple definitions in dictionary at byte 0xae01 for key /F24\n",
      "Multiple definitions in dictionary at byte 0xe868 for key /F24\n",
      "Multiple definitions in dictionary at byte 0xfce8 for key /F24\n",
      "Multiple definitions in dictionary at byte 0x10883 for key /F24\n",
      "Multiple definitions in dictionary at byte 0x11649 for key /F31\n",
      "Multiple definitions in dictionary at byte 0x12cba for key /F31\n",
      "Multiple definitions in dictionary at byte 0x132a0 for key /F31\n",
      "Multiple definitions in dictionary at byte 0x34d3 for key /ToUnicode\n",
      "Multiple definitions in dictionary at byte 0x3415 for key /ToUnicode\n",
      "Multiple definitions in dictionary at byte 0x2671 for key /ToUnicode\n",
      "Multiple definitions in dictionary at byte 0x25ac for key /ToUnicode\n",
      "Multiple definitions in dictionary at byte 0x1001 for key /TRP1\n",
      "Multiple definitions in dictionary at byte 0x157d for key /TRP1\n",
      "Multiple definitions in dictionary at byte 0x2243 for key /TRP1\n",
      "Multiple definitions in dictionary at byte 0x2799 for key /TRP1\n",
      "Multiple definitions in dictionary at byte 0x491 for key /TRP1\n",
      "Multiple definitions in dictionary at byte 0x16f1 for key /TRP1\n",
      "Multiple definitions in dictionary at byte 0x3032 for key /TRP1\n",
      "Multiple definitions in dictionary at byte 0x289 for key /TRP1\n"
     ]
    },
    {
     "name": "stdout",
     "output_type": "stream",
     "text": [
      "Failed to load file /tmp/Intel IO Acceleration Technology Overview.pdf with error: [Errno 22] Invalid argument. Skipping...\n"
     ]
    },
    {
     "data": {
      "text/html": [
       "Load job e31dce71-2aa1-4ecd-910a-b3ccfe3e3348 is DONE. <a target=\"_blank\" href=\"https://console.cloud.google.com/bigquery?project=bigframes-dev&j=bq:US:e31dce71-2aa1-4ecd-910a-b3ccfe3e3348&page=queryresults\">Open Job</a>"
      ],
      "text/plain": [
       "<IPython.core.display.HTML object>"
      ]
     },
     "metadata": {},
     "output_type": "display_data"
    },
    {
     "data": {
      "text/html": [
       "Query job d55a598b-a8d4-4ec7-9407-d8bdfa270f66 is DONE. 178.5 MB processed. <a target=\"_blank\" href=\"https://console.cloud.google.com/bigquery?project=bigframes-dev&j=bq:US:d55a598b-a8d4-4ec7-9407-d8bdfa270f66&page=queryresults\">Open Job</a>"
      ],
      "text/plain": [
       "<IPython.core.display.HTML object>"
      ]
     },
     "metadata": {},
     "output_type": "display_data"
    },
    {
     "data": {
      "text/html": [
       "Query job 8fd4c180-d527-4b65-9598-92b6b81df69b is DONE. 178.5 MB processed. <a target=\"_blank\" href=\"https://console.cloud.google.com/bigquery?project=bigframes-dev&j=bq:US:8fd4c180-d527-4b65-9598-92b6b81df69b&page=queryresults\">Open Job</a>"
      ],
      "text/plain": [
       "<IPython.core.display.HTML object>"
      ]
     },
     "metadata": {},
     "output_type": "display_data"
    },
    {
     "data": {
      "text/html": [
       "Query job b45eab15-1f97-4e29-a755-b392aa8a61dd is DONE. 10.8 kB processed. <a target=\"_blank\" href=\"https://console.cloud.google.com/bigquery?project=bigframes-dev&j=bq:US:b45eab15-1f97-4e29-a755-b392aa8a61dd&page=queryresults\">Open Job</a>"
      ],
      "text/plain": [
       "<IPython.core.display.HTML object>"
      ]
     },
     "metadata": {},
     "output_type": "display_data"
    }
   ],
   "source": [
    "df[\"chunked_local\"] = df[\"uri\"].blob.llama_index_chunk(mode=\"local\")"
   ]
  },
  {
   "cell_type": "markdown",
   "metadata": {},
   "source": []
  },
  {
   "cell_type": "code",
   "execution_count": 7,
   "metadata": {},
   "outputs": [
    {
     "data": {
      "text/html": [
       "Query job 4a742514-263b-4e9b-9b06-ac0466eeb49e is DONE. 279.8 kB processed. <a target=\"_blank\" href=\"https://console.cloud.google.com/bigquery?project=bigframes-dev&j=bq:US:4a742514-263b-4e9b-9b06-ac0466eeb49e&page=queryresults\">Open Job</a>"
      ],
      "text/plain": [
       "<IPython.core.display.HTML object>"
      ]
     },
     "metadata": {},
     "output_type": "display_data"
    },
    {
     "data": {
      "text/html": [
       "Query job 21d7e973-a619-4811-9a24-f5d867724e86 is DONE. 0 Bytes processed. <a target=\"_blank\" href=\"https://console.cloud.google.com/bigquery?project=bigframes-dev&j=bq:US:21d7e973-a619-4811-9a24-f5d867724e86&page=queryresults\">Open Job</a>"
      ],
      "text/plain": [
       "<IPython.core.display.HTML object>"
      ]
     },
     "metadata": {},
     "output_type": "display_data"
    },
    {
     "data": {
      "text/html": [
       "Query job 888bf4aa-a1d6-45d4-8c15-eec3c3513a42 is DONE. 279.8 kB processed. <a target=\"_blank\" href=\"https://console.cloud.google.com/bigquery?project=bigframes-dev&j=bq:US:888bf4aa-a1d6-45d4-8c15-eec3c3513a42&page=queryresults\">Open Job</a>"
      ],
      "text/plain": [
       "<IPython.core.display.HTML object>"
      ]
     },
     "metadata": {},
     "output_type": "display_data"
    },
    {
     "data": {
      "text/plain": [
       "0    ['\"TRAINING OF CC4 NEU RAL NET WORK USING \\\\nU...\n",
       "1    ['\"MegaPipe: A New Programming Interface for S...\n",
       "2    ['\"TheCachePerformance andOptimization\\\\nofBlo...\n",
       "3    ['\"BATTLE OF SKM AND IUM\\\\nHOW WINDOWS 10 REWR...\n",
       "4    ['\"CSE 591: GPU Programming  \\\\n \\\\n Using CUD...\n",
       "Name: chunked, dtype: list<item: string>[pyarrow]"
      ]
     },
     "execution_count": 7,
     "metadata": {},
     "output_type": "execute_result"
    }
   ],
   "source": [
    "df[\"chunked\"]"
   ]
  },
  {
   "cell_type": "code",
   "execution_count": 6,
   "metadata": {},
   "outputs": [
    {
     "data": {
      "text/html": [
       "Query job d6e1af54-9423-416c-ae1c-9a4a47d39603 is DONE. 21.5 kB processed. <a target=\"_blank\" href=\"https://console.cloud.google.com/bigquery?project=bigframes-dev&j=bq:US:d6e1af54-9423-416c-ae1c-9a4a47d39603&page=queryresults\">Open Job</a>"
      ],
      "text/plain": [
       "<IPython.core.display.HTML object>"
      ]
     },
     "metadata": {},
     "output_type": "display_data"
    },
    {
     "data": {
      "text/plain": [
       "(1346,)"
      ]
     },
     "execution_count": 6,
     "metadata": {},
     "output_type": "execute_result"
    }
   ],
   "source": [
    "df[\"chunked\"].shape"
   ]
  },
  {
   "cell_type": "code",
   "execution_count": 14,
   "metadata": {},
   "outputs": [
    {
     "data": {
      "text/html": [
       "Query job f6288990-8bf4-4a2a-b83e-f7832795a03c is DONE. 43.8 kB processed. <a target=\"_blank\" href=\"https://console.cloud.google.com/bigquery?project=bigframes-dev&j=bq:US:f6288990-8bf4-4a2a-b83e-f7832795a03c&page=queryresults\">Open Job</a>"
      ],
      "text/plain": [
       "<IPython.core.display.HTML object>"
      ]
     },
     "metadata": {},
     "output_type": "display_data"
    },
    {
     "data": {
      "text/html": [
       "Query job 01be967f-d52d-4261-ba2c-f5ef5e171733 is DONE. 0 Bytes processed. <a target=\"_blank\" href=\"https://console.cloud.google.com/bigquery?project=bigframes-dev&j=bq:US:01be967f-d52d-4261-ba2c-f5ef5e171733&page=queryresults\">Open Job</a>"
      ],
      "text/plain": [
       "<IPython.core.display.HTML object>"
      ]
     },
     "metadata": {},
     "output_type": "display_data"
    },
    {
     "data": {
      "text/html": [
       "Query job 16f57222-ef18-41c3-a0e8-ce2975035fac is DONE. 48.8 kB processed. <a target=\"_blank\" href=\"https://console.cloud.google.com/bigquery?project=bigframes-dev&j=bq:US:16f57222-ef18-41c3-a0e8-ce2975035fac&page=queryresults\">Open Job</a>"
      ],
      "text/plain": [
       "<IPython.core.display.HTML object>"
      ]
     },
     "metadata": {},
     "output_type": "display_data"
    },
    {
     "data": {
      "text/plain": [
       "0    \"Y LeCun\\nWhat's Wrong\\nWith\\nDeep Learning?\\n...\n",
       "0    \"Y LeCunPlan\\nThe motivation for ConvNets and ...\n",
       "0    \"Y LeCunDeep Learning = Learning Hierarchical ...\n",
       "0    \"Y LeCunEarly Hierarchical Feature Models for ...\n",
       "0    \"Y LeCunThe Mammalian Visual Cortex is Hierarc...\n",
       "0    \"Y LeCunDeep Learning = Learning Hierarchical ...\n",
       "0    \"Y LeCun\\nEarly Networks [LeCun 85, 86]\\nBinar...\n",
       "0    \"Y LeCun\\nFirst ConvNets (U Toronto)[LeCun 88,...\n",
       "0    \"Y LeCunFirst “Real” ConvNets at Bell Labs [Le...\n",
       "0    \"Y LeCunConvNet with separate pooling layer [L...\n",
       "0    \"Y LeCunConvolutional Network (vintage 1992) \\...\n",
       "0    \"Y LeCunLeNet1 Demo from 1993\\nRunning on a 48...\n",
       "0    \"Y LeCun\\nIntegrating Segmentation\\nMultiple C...\n",
       "0    \"Y LeCun\\nMultiple Character Recognition [Mata...\n",
       "0    \"Y LeCunMultiple Character Recognition. Integr...\n",
       "0    \"Y LeCunMultiple Character Recognition. Integr...\n",
       "0    \"Y LeCunWord-level training with weak supervis...\n",
       "0    \"Y LeCun“Deformable Part Model” on top of a Co...\n",
       "0    \"Y LeCunWord-level training with elastic word ...\n",
       "0    \"Y LeCunThe Oldest Example of Structured Predi...\n",
       "0    \"Y LeCunEnd-to-End Learning – Word-Level Discr...\n",
       "0    \"Y LeCun“Shallow” Structured Prediction\\nEnerg...\n",
       "0    \"Y LeCunDeep Structured Prediction\\nEnergy fun...\n",
       "0    \"Y LeCunGraph Transformer \\nNetworks\\nStructur...\n",
       "0    \"Y LeCunCheck Reader\\nGraph transformer networ...\n",
       "Name: chunked, dtype: string"
      ]
     },
     "execution_count": 14,
     "metadata": {},
     "output_type": "execute_result"
    }
   ],
   "source": [
    "df[\"chunked\"].explode()"
   ]
  },
  {
   "cell_type": "code",
   "execution_count": 5,
   "metadata": {},
   "outputs": [
    {
     "data": {
      "text/html": [
       "Query job 18a22004-4f1a-4544-9d52-322e08da9235 is DONE. 160.9 MB processed. <a target=\"_blank\" href=\"https://console.cloud.google.com/bigquery?project=bigframes-dev&j=bq:US:18a22004-4f1a-4544-9d52-322e08da9235&page=queryresults\">Open Job</a>"
      ],
      "text/plain": [
       "<IPython.core.display.HTML object>"
      ]
     },
     "metadata": {},
     "output_type": "display_data"
    },
    {
     "data": {
      "text/html": [
       "Query job 94a86005-6a97-40aa-8a56-cd597d23ade2 is DONE. 0 Bytes processed. <a target=\"_blank\" href=\"https://console.cloud.google.com/bigquery?project=bigframes-dev&j=bq:US:94a86005-6a97-40aa-8a56-cd597d23ade2&page=queryresults\">Open Job</a>"
      ],
      "text/plain": [
       "<IPython.core.display.HTML object>"
      ]
     },
     "metadata": {},
     "output_type": "display_data"
    },
    {
     "data": {
      "text/html": [
       "Query job 3e5e455c-6f33-4c5a-ba0a-fd361dbb50af is DONE. 43.1 kB processed. <a target=\"_blank\" href=\"https://console.cloud.google.com/bigquery?project=bigframes-dev&j=bq:US:3e5e455c-6f33-4c5a-ba0a-fd361dbb50af&page=queryresults\">Open Job</a>"
      ],
      "text/plain": [
       "<IPython.core.display.HTML object>"
      ]
     },
     "metadata": {},
     "output_type": "display_data"
    },
    {
     "data": {
      "text/plain": [
       "0      59\n",
       "1      62\n",
       "2      49\n",
       "3      65\n",
       "4      20\n",
       "5      45\n",
       "6      12\n",
       "7      54\n",
       "8      26\n",
       "9      48\n",
       "10     58\n",
       "11     43\n",
       "12      3\n",
       "13    152\n",
       "14    138\n",
       "15     50\n",
       "16     31\n",
       "17     34\n",
       "18     60\n",
       "19     97\n",
       "20     16\n",
       "21     37\n",
       "22    243\n",
       "23    350\n",
       "24    301\n",
       "Name: chunked, dtype: Int64"
      ]
     },
     "execution_count": 5,
     "metadata": {},
     "output_type": "execute_result"
    }
   ],
   "source": [
    "df[\"chunked\"].str.len()"
   ]
  },
  {
   "cell_type": "code",
   "execution_count": 7,
   "metadata": {},
   "outputs": [],
   "source": [
    "exp = df[\"chunked\"].explode()"
   ]
  },
  {
   "cell_type": "code",
   "execution_count": 17,
   "metadata": {},
   "outputs": [
    {
     "data": {
      "text/plain": [
       "bigframes.series.Series"
      ]
     },
     "execution_count": 17,
     "metadata": {},
     "output_type": "execute_result"
    }
   ],
   "source": [
    "type(exp)"
   ]
  },
  {
   "cell_type": "code",
   "execution_count": 8,
   "metadata": {},
   "outputs": [
    {
     "data": {
      "text/html": [
       "Query job c5c71ce9-c002-41f5-b95d-e4e79cc508c5 is DONE. 160.9 MB processed. <a target=\"_blank\" href=\"https://console.cloud.google.com/bigquery?project=bigframes-dev&j=bq:US:c5c71ce9-c002-41f5-b95d-e4e79cc508c5&page=queryresults\">Open Job</a>"
      ],
      "text/plain": [
       "<IPython.core.display.HTML object>"
      ]
     },
     "metadata": {},
     "output_type": "display_data"
    },
    {
     "data": {
      "text/plain": [
       "(128903,)"
      ]
     },
     "execution_count": 8,
     "metadata": {},
     "output_type": "execute_result"
    }
   ],
   "source": [
    "exp.shape"
   ]
  },
  {
   "cell_type": "code",
   "execution_count": 13,
   "metadata": {},
   "outputs": [
    {
     "data": {
      "text/html": [
       "Query job 83dc69eb-340b-4318-b8be-2ee985ec3d2c is DONE. 160.9 MB processed. <a target=\"_blank\" href=\"https://console.cloud.google.com/bigquery?project=bigframes-dev&j=bq:US:83dc69eb-340b-4318-b8be-2ee985ec3d2c&page=queryresults\">Open Job</a>"
      ],
      "text/plain": [
       "<IPython.core.display.HTML object>"
      ]
     },
     "metadata": {},
     "output_type": "display_data"
    },
    {
     "data": {
      "text/html": [
       "Query job eb529e29-a602-4566-ab29-c1b08c3995d4 is DONE. 0 Bytes processed. <a target=\"_blank\" href=\"https://console.cloud.google.com/bigquery?project=bigframes-dev&j=bq:US:eb529e29-a602-4566-ab29-c1b08c3995d4&page=queryresults\">Open Job</a>"
      ],
      "text/plain": [
       "<IPython.core.display.HTML object>"
      ]
     },
     "metadata": {},
     "output_type": "display_data"
    },
    {
     "data": {
      "text/html": [
       "Query job 37aa5cf2-d6bd-473c-8741-0ca89b19737b is DONE. 165.0 MB processed. <a target=\"_blank\" href=\"https://console.cloud.google.com/bigquery?project=bigframes-dev&j=bq:US:37aa5cf2-d6bd-473c-8741-0ca89b19737b&page=queryresults\">Open Job</a>"
      ],
      "text/plain": [
       "<IPython.core.display.HTML object>"
      ]
     },
     "metadata": {},
     "output_type": "display_data"
    },
    {
     "data": {
      "text/plain": [
       "0    \"TRAINING OF CC4 NEU RAL NET WORK USING \\nUNAR...\n",
       "0    \"ii \\n  \\n \\n \\n \\n \\n \\n \\nTRAINING OF CC4 NE...\n",
       "0    \"iii \\n  \\n \\n \\n \\n \\n \\n \\n \\n \\nACKNO WLEDG...\n",
       "0    \"iv \\n  \\n \\nName: PUSHPA SREE POTLURI    \\n \\...\n",
       "0    \"v \\n  \\n \\n \\n \\nLIST  OF CONT ENTS  \\n \\nCha...\n",
       "0    \"vi \\n VII. CONCLUSION...........................\n",
       "0    \"vii \\n  \\n \\n \\n \\n \\n \\nLIST OF FIGURES \\n \\...\n",
       "0    \"viii \\n  \\n \\n \\n \\n \\n \\n \\nLIST OF TABLES \\...\n",
       "0    \"1 \\n  \\n \\n \\n \\n  \\nCHAPTER I  \\n           ...\n",
       "0    \"2 \\n  \\n \\n  Figure 1: Biological Neuron (Cou...\n",
       "0    \"3 \\n  \\nNeural network s model the human brai...\n",
       "0    \"4 \\n  \\n \\nCHAPTER II  \\nCC4 APPROACH FOR NEU...\n",
       "0    \"5 \\n weights. These advantages are of signifi...\n",
       "0    \"6 \\n  \\n    Figure 2 : General network archit...\n",
       "0    \"7 \\n output of that  input vector. Consequent...\n",
       "0    \"8 \\n the input to the hidden neuron from the ...\n",
       "0    \"9 \\n the bias bit 1. Hence we get the weight ...\n",
       "0    \"10 \\n The standard  CC4 network uses unary co...\n",
       "0    \"11 \\n  \\n \\nCHAPTER III  \\n \\n               ...\n",
       "0    \"12 \\n     \\n    Figure 4 . Space representati...\n",
       "0    \"13 \\n training. Thus the network used for thi...\n",
       "0    \"14 \\n                        \\n(a). Original ...\n",
       "0    \"15 \\n The original  plane  pattern to s how t...\n",
       "0    \"16 \\n     \\n(a). Original Plane  Pattern     ...\n",
       "0    \"17 \\n                   \\n(a). Original Cross...\n",
       "Name: chunked, dtype: string"
      ]
     },
     "execution_count": 13,
     "metadata": {},
     "output_type": "execute_result"
    }
   ],
   "source": [
    "exp"
   ]
  },
  {
   "cell_type": "code",
   "execution_count": 19,
   "metadata": {},
   "outputs": [
    {
     "data": {
      "text/html": [
       "Query job c3a3f97e-71c6-4556-ab86-d254af4c9123 is DONE. 165.0 MB processed. <a target=\"_blank\" href=\"https://console.cloud.google.com/bigquery?project=bigframes-dev&j=bq:US:c3a3f97e-71c6-4556-ab86-d254af4c9123&page=queryresults\">Open Job</a>"
      ],
      "text/plain": [
       "<IPython.core.display.HTML object>"
      ]
     },
     "metadata": {},
     "output_type": "display_data"
    },
    {
     "data": {
      "text/html": [
       "Query job 4bb7a4b4-f30b-4b2d-9b4b-75bd491b0eb7 is DONE. 165.0 MB processed. <a target=\"_blank\" href=\"https://console.cloud.google.com/bigquery?project=bigframes-dev&j=bq:US:4bb7a4b4-f30b-4b2d-9b4b-75bd491b0eb7&page=queryresults\">Open Job</a>"
      ],
      "text/plain": [
       "<IPython.core.display.HTML object>"
      ]
     },
     "metadata": {},
     "output_type": "display_data"
    },
    {
     "data": {
      "text/html": [
       "Query job a164db42-c67a-4d5e-91f4-6995ab72e5a8 is DONE. 0 Bytes processed. <a target=\"_blank\" href=\"https://console.cloud.google.com/bigquery?project=bigframes-dev&j=bq:US:a164db42-c67a-4d5e-91f4-6995ab72e5a8&page=queryresults\">Open Job</a>"
      ],
      "text/plain": [
       "<IPython.core.display.HTML object>"
      ]
     },
     "metadata": {},
     "output_type": "display_data"
    },
    {
     "data": {
      "text/html": [
       "Query job 1f11244c-795c-4c21-a6cb-59d74e840aec is DONE. 111.3 kB processed. <a target=\"_blank\" href=\"https://console.cloud.google.com/bigquery?project=bigframes-dev&j=bq:US:1f11244c-795c-4c21-a6cb-59d74e840aec&page=queryresults\">Open Job</a>"
      ],
      "text/plain": [
       "<IPython.core.display.HTML object>"
      ]
     },
     "metadata": {},
     "output_type": "display_data"
    },
    {
     "data": {
      "text/plain": [
       "1    \"MegaPipe: A New Programming Interface for Sca...\n",
       "1    \"MegaPipe improves the perfor-\\nmance of a mod...\n",
       "1    \"In contrast, a clean-\\nslate redesign offers ...\n",
       "1    \"In\\nthis paper we present MegaPipe, a new API...\n",
       "1    \"System Call Batching : MegaPipe amortizes sys...\n",
       "1    \"In contrast, we show that message-oriented\\nn...\n",
       "1    \"On the other hand, the transmit-side processi...\n",
       "1    \"VFS (multi-core): In UNIX-like operating syst...\n",
       "1    \"0 0.3 0.6 0.9 1.2 1.5 1.8 \\n1 2 4 8 16 32 64 ...\n",
       "1    \"Rather, we quantify their compound performanc...\n",
       "1    \"We use a single\\nserver and three client mach...\n",
       "1    \"For workloads with\\nshort connections, the co...\n",
       "1    \"small-sized messages adversely affect the thr...\n",
       "1    \"Furthermore, it is clear from the growth tren...\n",
       "1    \"It is hard to achieve\\noptimal performance wi...\n",
       "1    \"We introduce three key design concepts of\\nMe...\n",
       "1    \"First, it allows\\ntransparent batching of I/O...\n",
       "1    \"Core 1 Kernel User … … Core N Channel instanc...\n",
       "1    \"Once the asynchronous I/O request is\\ndone, t...\n",
       "1    \"When an appli-\\ncation thread associates a li...\n",
       "1    \"However, ex-\\nplicit partitioning provides mo...\n",
       "1    \"descriptor . A ﬁle descriptor is an integer i...\n",
       "1    \"The layer\\nof indirection that ﬁle objects of...\n",
       "1    \"The lwsocket\\nis a common-case optimization f...\n",
       "1    \"The key obser-\\nvation here is that batching ...\n",
       "Name: chunked, dtype: string"
      ]
     },
     "execution_count": 19,
     "metadata": {},
     "output_type": "execute_result"
    }
   ],
   "source": [
    "exp[1]"
   ]
  },
  {
   "cell_type": "code",
   "execution_count": 20,
   "metadata": {},
   "outputs": [
    {
     "data": {
      "text/html": [
       "Query job 0a8cbf8c-c44f-4e3e-a16b-21285e29273b is DONE. 0 Bytes processed. <a target=\"_blank\" href=\"https://console.cloud.google.com/bigquery?project=bigframes-dev&j=bq:US:0a8cbf8c-c44f-4e3e-a16b-21285e29273b&page=queryresults\">Open Job</a>"
      ],
      "text/plain": [
       "<IPython.core.display.HTML object>"
      ]
     },
     "metadata": {},
     "output_type": "display_data"
    },
    {
     "name": "stdout",
     "output_type": "stream",
     "text": [
      "\"In a similar vein, only ex-\\npressions whose current repetition level is no less than selectLevel\\nare emitted (Lines 7-10). The algorithm ensures that expressions\\nat a higher-level of nesting, i.e., those having a smaller repetition\\nlevel, get evaluated and emitted only once for each deeper nested\\nexpression.\"\n"
     ]
    }
   ],
   "source": [
    "print(exp.iloc[-1])"
   ]
  },
  {
   "cell_type": "code",
   "execution_count": 5,
   "metadata": {},
   "outputs": [
    {
     "data": {
      "text/html": [
       "Query job 4ea3a4aa-5f2b-457d-bac1-55b2b751f96e is DONE. 0 Bytes processed. <a target=\"_blank\" href=\"https://console.cloud.google.com/bigquery?project=bigframes-dev&j=bq:US:4ea3a4aa-5f2b-457d-bac1-55b2b751f96e&page=queryresults\">Open Job</a>"
      ],
      "text/plain": [
       "<IPython.core.display.HTML object>"
      ]
     },
     "metadata": {},
     "output_type": "display_data"
    },
    {
     "data": {
      "text/html": [
       "Query job 8928806a-cb0f-4f8a-b38c-74948a5a88c1 is DONE. 38 Bytes processed. <a target=\"_blank\" href=\"https://console.cloud.google.com/bigquery?project=bigframes-dev&j=bq:US:8928806a-cb0f-4f8a-b38c-74948a5a88c1&page=queryresults\">Open Job</a>"
      ],
      "text/plain": [
       "<IPython.core.display.HTML object>"
      ]
     },
     "metadata": {},
     "output_type": "display_data"
    },
    {
     "data": {
      "text/html": [
       "<div>\n",
       "<style scoped>\n",
       "    .dataframe tbody tr th:only-of-type {\n",
       "        vertical-align: middle;\n",
       "    }\n",
       "\n",
       "    .dataframe tbody tr th {\n",
       "        vertical-align: top;\n",
       "    }\n",
       "\n",
       "    .dataframe thead th {\n",
       "        text-align: right;\n",
       "    }\n",
       "</style>\n",
       "<table border=\"1\" class=\"dataframe\">\n",
       "  <thead>\n",
       "    <tr style=\"text-align: right;\">\n",
       "      <th></th>\n",
       "      <th>json</th>\n",
       "      <th>json_array</th>\n",
       "    </tr>\n",
       "  </thead>\n",
       "  <tbody>\n",
       "    <tr>\n",
       "      <th>0</th>\n",
       "      <td>[\"a\",\"b\",\"c\"]</td>\n",
       "      <td>['\"a\"' '\"b\"' '\"c\"']</td>\n",
       "    </tr>\n",
       "  </tbody>\n",
       "</table>\n",
       "<p>1 rows × 2 columns</p>\n",
       "</div>[1 rows x 2 columns in total]"
      ],
      "text/plain": [
       "            json           json_array\n",
       "0  [\"a\",\"b\",\"c\"]  ['\"a\"' '\"b\"' '\"c\"']\n",
       "\n",
       "[1 rows x 2 columns]"
      ]
     },
     "execution_count": 5,
     "metadata": {},
     "output_type": "execute_result"
    }
   ],
   "source": [
    "df"
   ]
  },
  {
   "cell_type": "code",
   "execution_count": 6,
   "metadata": {},
   "outputs": [
    {
     "data": {
      "text/html": [
       "Query job 9c4fe6b3-4008-4f99-8e41-45bfe3410c9a is DONE. 23 Bytes processed. <a target=\"_blank\" href=\"https://console.cloud.google.com/bigquery?project=bigframes-dev&j=bq:US:9c4fe6b3-4008-4f99-8e41-45bfe3410c9a&page=queryresults\">Open Job</a>"
      ],
      "text/plain": [
       "<IPython.core.display.HTML object>"
      ]
     },
     "metadata": {},
     "output_type": "display_data"
    },
    {
     "data": {
      "text/html": [
       "Query job 50d89b8d-c5c5-48f2-b40b-e6cf736114b2 is DONE. 0 Bytes processed. <a target=\"_blank\" href=\"https://console.cloud.google.com/bigquery?project=bigframes-dev&j=bq:US:50d89b8d-c5c5-48f2-b40b-e6cf736114b2&page=queryresults\">Open Job</a>"
      ],
      "text/plain": [
       "<IPython.core.display.HTML object>"
      ]
     },
     "metadata": {},
     "output_type": "display_data"
    },
    {
     "data": {
      "text/html": [
       "Query job 069c2720-71e3-47bd-ac11-4700dca4ad76 is DONE. 31 Bytes processed. <a target=\"_blank\" href=\"https://console.cloud.google.com/bigquery?project=bigframes-dev&j=bq:US:069c2720-71e3-47bd-ac11-4700dca4ad76&page=queryresults\">Open Job</a>"
      ],
      "text/plain": [
       "<IPython.core.display.HTML object>"
      ]
     },
     "metadata": {},
     "output_type": "display_data"
    },
    {
     "data": {
      "text/plain": [
       "0    ['\"a\"' '\"b\"' '\"c\"']\n",
       "Name: json_array, dtype: list<item: string>[pyarrow]"
      ]
     },
     "execution_count": 6,
     "metadata": {},
     "output_type": "execute_result"
    }
   ],
   "source": [
    "df[\"json_array\"]"
   ]
  },
  {
   "cell_type": "code",
   "execution_count": 7,
   "metadata": {},
   "outputs": [
    {
     "data": {
      "text/html": [
       "Query job 7abff348-c28d-43db-87ce-0ec0b2e8fc81 is DONE. 23 Bytes processed. <a target=\"_blank\" href=\"https://console.cloud.google.com/bigquery?project=bigframes-dev&j=bq:US:7abff348-c28d-43db-87ce-0ec0b2e8fc81&page=queryresults\">Open Job</a>"
      ],
      "text/plain": [
       "<IPython.core.display.HTML object>"
      ]
     },
     "metadata": {},
     "output_type": "display_data"
    },
    {
     "data": {
      "text/html": [
       "Query job 6b4c3759-ec5c-4df2-8999-5189b510c991 is DONE. 0 Bytes processed. <a target=\"_blank\" href=\"https://console.cloud.google.com/bigquery?project=bigframes-dev&j=bq:US:6b4c3759-ec5c-4df2-8999-5189b510c991&page=queryresults\">Open Job</a>"
      ],
      "text/plain": [
       "<IPython.core.display.HTML object>"
      ]
     },
     "metadata": {},
     "output_type": "display_data"
    },
    {
     "data": {
      "text/html": [
       "Query job 23a45c93-f3c8-44c1-803e-a72ba32e4955 is DONE. 87 Bytes processed. <a target=\"_blank\" href=\"https://console.cloud.google.com/bigquery?project=bigframes-dev&j=bq:US:23a45c93-f3c8-44c1-803e-a72ba32e4955&page=queryresults\">Open Job</a>"
      ],
      "text/plain": [
       "<IPython.core.display.HTML object>"
      ]
     },
     "metadata": {},
     "output_type": "display_data"
    },
    {
     "data": {
      "text/plain": [
       "0    \"a\"\n",
       "0    \"b\"\n",
       "0    \"c\"\n",
       "Name: json_array, dtype: string"
      ]
     },
     "execution_count": 7,
     "metadata": {},
     "output_type": "execute_result"
    }
   ],
   "source": [
    "df[\"json_array\"].explode()"
   ]
  },
  {
   "cell_type": "code",
   "execution_count": 22,
   "metadata": {},
   "outputs": [
    {
     "data": {
      "text/html": [
       "Query job f4c6ad7f-ace7-4de6-9fbf-acd0a3e9e67c is DONE. 86.4 kB processed. <a target=\"_blank\" href=\"https://console.cloud.google.com/bigquery?project=bigframes-dev&j=bq:US:f4c6ad7f-ace7-4de6-9fbf-acd0a3e9e67c&page=queryresults\">Open Job</a>"
      ],
      "text/plain": [
       "<IPython.core.display.HTML object>"
      ]
     },
     "metadata": {},
     "output_type": "display_data"
    },
    {
     "data": {
      "text/html": [
       "Query job 039ccba4-78dd-4c9b-b616-5df62b09abbd is DONE. 0 Bytes processed. <a target=\"_blank\" href=\"https://console.cloud.google.com/bigquery?project=bigframes-dev&j=bq:US:039ccba4-78dd-4c9b-b616-5df62b09abbd&page=queryresults\">Open Job</a>"
      ],
      "text/plain": [
       "<IPython.core.display.HTML object>"
      ]
     },
     "metadata": {},
     "output_type": "display_data"
    },
    {
     "data": {
      "text/html": [
       "Query job 1481c1cd-45b7-4ca5-aea0-107a0d86bc9c is DONE. 86.5 kB processed. <a target=\"_blank\" href=\"https://console.cloud.google.com/bigquery?project=bigframes-dev&j=bq:US:1481c1cd-45b7-4ca5-aea0-107a0d86bc9c&page=queryresults\">Open Job</a>"
      ],
      "text/plain": [
       "<IPython.core.display.HTML object>"
      ]
     },
     "metadata": {},
     "output_type": "display_data"
    },
    {
     "data": {
      "text/plain": [
       "0    ['\"Dremel: Interactive Analysis of Web-Scale D...\n",
       "Name: chunked, dtype: list<item: string>[pyarrow]"
      ]
     },
     "execution_count": 22,
     "metadata": {},
     "output_type": "execute_result"
    }
   ],
   "source": [
    "df[\"chunked\"]"
   ]
  },
  {
   "cell_type": "code",
   "execution_count": 23,
   "metadata": {},
   "outputs": [
    {
     "data": {
      "text/html": [
       "Query job 53149b52-6cb8-4291-811e-06904ec411ab is DONE. 86.4 kB processed. <a target=\"_blank\" href=\"https://console.cloud.google.com/bigquery?project=bigframes-dev&j=bq:US:53149b52-6cb8-4291-811e-06904ec411ab&page=queryresults\">Open Job</a>"
      ],
      "text/plain": [
       "<IPython.core.display.HTML object>"
      ]
     },
     "metadata": {},
     "output_type": "display_data"
    },
    {
     "data": {
      "text/plain": [
       "'bigframes-dev.garrettwu.llama_chunked'"
      ]
     },
     "execution_count": 23,
     "metadata": {},
     "output_type": "execute_result"
    }
   ],
   "source": [
    "df.to_gbq(\"bigframes-dev.garrettwu.llama_chunked\")"
   ]
  },
  {
   "cell_type": "code",
   "execution_count": null,
   "metadata": {},
   "outputs": [],
   "source": []
  }
 ],
 "metadata": {
  "kernelspec": {
   "display_name": "venv",
   "language": "python",
   "name": "python3"
  },
  "language_info": {
   "codemirror_mode": {
    "name": "ipython",
    "version": 3
   },
   "file_extension": ".py",
   "mimetype": "text/x-python",
   "name": "python",
   "nbconvert_exporter": "python",
   "pygments_lexer": "ipython3",
   "version": "3.10.9"
  }
 },
 "nbformat": 4,
 "nbformat_minor": 2
}
